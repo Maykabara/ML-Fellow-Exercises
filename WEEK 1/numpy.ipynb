{
 "cells": [
  {
   "cell_type": "markdown",
   "id": "9ddb305f",
   "metadata": {},
   "source": [
    "# NumPy Exercises - 100 NumPy exercises\n",
    "\n",
    "This notebook contains practice exercises for learning NumPy fundamentals."
   ]
  },
  {
   "cell_type": "markdown",
   "id": "9ea7a381",
   "metadata": {},
   "source": [
    "## 1. Import the numpy package under the name np (★☆☆)"
   ]
  },
  {
   "cell_type": "code",
   "execution_count": 1,
   "id": "baca8daa",
   "metadata": {},
   "outputs": [],
   "source": [
    "import numpy as np"
   ]
  },
  {
   "cell_type": "markdown",
   "id": "79074081",
   "metadata": {},
   "source": [
    "## 2. Print the numpy version and the configuration (★☆☆)"
   ]
  },
  {
   "cell_type": "code",
   "execution_count": 2,
   "id": "14453eac",
   "metadata": {},
   "outputs": [
    {
     "name": "stdout",
     "output_type": "stream",
     "text": [
      "NumPy version: 1.26.4\n",
      "Build Dependencies:\n",
      "  blas:\n",
      "    detection method: pkgconfig\n",
      "    found: true\n",
      "    include directory: /c/opt/64/include\n",
      "    lib directory: /c/opt/64/lib\n",
      "    name: openblas64\n",
      "    openblas configuration: USE_64BITINT=1 DYNAMIC_ARCH=1 DYNAMIC_OLDER= NO_CBLAS=\n",
      "      NO_LAPACK= NO_LAPACKE= NO_AFFINITY=1 USE_OPENMP= SKYLAKEX MAX_THREADS=2\n",
      "    pc file directory: C:/opt/64/lib/pkgconfig\n",
      "    version: 0.3.23.dev\n",
      "  lapack:\n",
      "    detection method: internal\n",
      "    found: true\n",
      "    include directory: unknown\n",
      "    lib directory: unknown\n",
      "    name: dep3179274605568\n",
      "    openblas configuration: unknown\n",
      "    pc file directory: unknown\n",
      "    version: 1.26.4\n",
      "Compilers:\n",
      "  c:\n",
      "    commands: cl\n",
      "    linker: link\n",
      "    name: msvc\n",
      "    version: 19.29.30153\n",
      "  c++:\n",
      "    commands: cl\n",
      "    linker: link\n",
      "    name: msvc\n",
      "    version: 19.29.30153\n",
      "  cython:\n",
      "    commands: cython\n",
      "    linker: cython\n",
      "    name: cython\n",
      "    version: 3.0.8\n",
      "Machine Information:\n",
      "  build:\n",
      "    cpu: x86_64\n",
      "    endian: little\n",
      "    family: x86_64\n",
      "    system: windows\n",
      "  host:\n",
      "    cpu: x86_64\n",
      "    endian: little\n",
      "    family: x86_64\n",
      "    system: windows\n",
      "Python Information:\n",
      "  path: C:\\Users\\runneradmin\\AppData\\Local\\Temp\\cibw-run-g7slqwov\\cp312-win_amd64\\build\\venv\\Scripts\\python.exe\n",
      "  version: '3.12'\n",
      "SIMD Extensions:\n",
      "  baseline:\n",
      "  - SSE\n",
      "  - SSE2\n",
      "  - SSE3\n",
      "  found:\n",
      "  - SSSE3\n",
      "  - SSE41\n",
      "  - POPCNT\n",
      "  - SSE42\n",
      "  - AVX\n",
      "  - F16C\n",
      "  - FMA3\n",
      "  - AVX2\n",
      "  not found:\n",
      "  - AVX512F\n",
      "  - AVX512CD\n",
      "  - AVX512_SKX\n",
      "  - AVX512_CLX\n",
      "  - AVX512_CNL\n",
      "  - AVX512_ICL\n",
      "\n",
      "Build Dependencies:\n",
      "  blas:\n",
      "    detection method: pkgconfig\n",
      "    found: true\n",
      "    include directory: /c/opt/64/include\n",
      "    lib directory: /c/opt/64/lib\n",
      "    name: openblas64\n",
      "    openblas configuration: USE_64BITINT=1 DYNAMIC_ARCH=1 DYNAMIC_OLDER= NO_CBLAS=\n",
      "      NO_LAPACK= NO_LAPACKE= NO_AFFINITY=1 USE_OPENMP= SKYLAKEX MAX_THREADS=2\n",
      "    pc file directory: C:/opt/64/lib/pkgconfig\n",
      "    version: 0.3.23.dev\n",
      "  lapack:\n",
      "    detection method: internal\n",
      "    found: true\n",
      "    include directory: unknown\n",
      "    lib directory: unknown\n",
      "    name: dep3179274605568\n",
      "    openblas configuration: unknown\n",
      "    pc file directory: unknown\n",
      "    version: 1.26.4\n",
      "Compilers:\n",
      "  c:\n",
      "    commands: cl\n",
      "    linker: link\n",
      "    name: msvc\n",
      "    version: 19.29.30153\n",
      "  c++:\n",
      "    commands: cl\n",
      "    linker: link\n",
      "    name: msvc\n",
      "    version: 19.29.30153\n",
      "  cython:\n",
      "    commands: cython\n",
      "    linker: cython\n",
      "    name: cython\n",
      "    version: 3.0.8\n",
      "Machine Information:\n",
      "  build:\n",
      "    cpu: x86_64\n",
      "    endian: little\n",
      "    family: x86_64\n",
      "    system: windows\n",
      "  host:\n",
      "    cpu: x86_64\n",
      "    endian: little\n",
      "    family: x86_64\n",
      "    system: windows\n",
      "Python Information:\n",
      "  path: C:\\Users\\runneradmin\\AppData\\Local\\Temp\\cibw-run-g7slqwov\\cp312-win_amd64\\build\\venv\\Scripts\\python.exe\n",
      "  version: '3.12'\n",
      "SIMD Extensions:\n",
      "  baseline:\n",
      "  - SSE\n",
      "  - SSE2\n",
      "  - SSE3\n",
      "  found:\n",
      "  - SSSE3\n",
      "  - SSE41\n",
      "  - POPCNT\n",
      "  - SSE42\n",
      "  - AVX\n",
      "  - F16C\n",
      "  - FMA3\n",
      "  - AVX2\n",
      "  not found:\n",
      "  - AVX512F\n",
      "  - AVX512CD\n",
      "  - AVX512_SKX\n",
      "  - AVX512_CLX\n",
      "  - AVX512_CNL\n",
      "  - AVX512_ICL\n",
      "\n"
     ]
    }
   ],
   "source": [
    "print(\"NumPy version:\", np.__version__)\n",
    "\n",
    "np.show_config()\n",
    "np.show_config()"
   ]
  },
  {
   "cell_type": "markdown",
   "id": "49ec0d3b",
   "metadata": {},
   "source": [
    "## 3. Create a null vector of size 10 (★☆☆)"
   ]
  },
  {
   "cell_type": "code",
   "execution_count": 3,
   "id": "6635bc6d",
   "metadata": {},
   "outputs": [],
   "source": [
    "Z = np.zeros(10)"
   ]
  },
  {
   "cell_type": "markdown",
   "id": "cddf0384",
   "metadata": {},
   "source": [
    "## 4. How to find the memory size of any array (★☆☆)"
   ]
  },
  {
   "cell_type": "code",
   "execution_count": 4,
   "id": "9f5f468f",
   "metadata": {},
   "outputs": [],
   "source": [
    "Z = np.zeros((10,10))\n",
    "size_bytes = Z.size * Z.itemsize\n",
    "nbytes = Z.nbytes"
   ]
  },
  {
   "cell_type": "markdown",
   "id": "2d4edf14",
   "metadata": {},
   "source": [
    "## 5. How to get the documentation of the numpy add function from the command line? (★☆☆)"
   ]
  },
  {
   "cell_type": "code",
   "execution_count": 5,
   "id": "12606c8e",
   "metadata": {},
   "outputs": [],
   "source": [
    "# help(np.add)  # Not run to avoid blocking output"
   ]
  },
  {
   "cell_type": "markdown",
   "id": "102aa661",
   "metadata": {},
   "source": [
    "## 6. Create a null vector of size 10 but the fifth value which is 1 (★☆☆)"
   ]
  },
  {
   "cell_type": "code",
   "execution_count": 6,
   "id": "922d1b44",
   "metadata": {},
   "outputs": [],
   "source": [
    "Z = np.zeros(10)\n",
    "Z[4] = 1"
   ]
  },
  {
   "cell_type": "markdown",
   "id": "451cbfad",
   "metadata": {},
   "source": [
    "## 7. Create a vector with values ranging from 10 to 49 (★☆☆)"
   ]
  },
  {
   "cell_type": "code",
   "execution_count": 7,
   "id": "7dd629ec",
   "metadata": {},
   "outputs": [],
   "source": [
    "Z = np.arange(10, 50)"
   ]
  },
  {
   "cell_type": "markdown",
   "id": "0cbc5aed",
   "metadata": {},
   "source": [
    "## 8. Reverse a vector (first element becomes last) (★☆☆)"
   ]
  },
  {
   "cell_type": "code",
   "execution_count": 8,
   "id": "8240abd6",
   "metadata": {},
   "outputs": [],
   "source": [
    "Z = np.arange(50)[::-1]"
   ]
  },
  {
   "cell_type": "markdown",
   "id": "44f8e72c",
   "metadata": {},
   "source": [
    "## 9. Create a 3x3 matrix with values ranging from 0 to 8 (★☆☆)"
   ]
  },
  {
   "cell_type": "code",
   "execution_count": 9,
   "id": "6b6f4fce",
   "metadata": {},
   "outputs": [],
   "source": [
    "Z = np.arange(9).reshape(3, 3)"
   ]
  },
  {
   "cell_type": "markdown",
   "id": "61e6031d",
   "metadata": {},
   "source": [
    "## 10. Find indices of non-zero elements from [1,2,0,0,4,0] (★☆☆)"
   ]
  },
  {
   "cell_type": "code",
   "execution_count": 10,
   "id": "99368652",
   "metadata": {},
   "outputs": [],
   "source": [
    "nz = np.nonzero([1,2,0,0,4,0])"
   ]
  },
  {
   "cell_type": "markdown",
   "id": "a5efef59",
   "metadata": {},
   "source": [
    "## 11. Create a 3x3 identity matrix (★☆☆)"
   ]
  },
  {
   "cell_type": "code",
   "execution_count": 11,
   "id": "52eff95c",
   "metadata": {},
   "outputs": [],
   "source": [
    "Z = np.eye(3)"
   ]
  },
  {
   "cell_type": "markdown",
   "id": "76329d56",
   "metadata": {},
   "source": [
    "## 12. Create a 3x3x3 array with random values (★☆☆)"
   ]
  },
  {
   "cell_type": "code",
   "execution_count": 12,
   "id": "ee45806f",
   "metadata": {},
   "outputs": [],
   "source": [
    "Z = np.random.random((3,3,3))"
   ]
  },
  {
   "cell_type": "markdown",
   "id": "f1f81e49",
   "metadata": {},
   "source": [
    "## 13. Create a 10x10 array with random values and find the minimum and maximum values (★☆☆)"
   ]
  },
  {
   "cell_type": "code",
   "execution_count": 13,
   "id": "175a135c",
   "metadata": {},
   "outputs": [],
   "source": [
    "Z = np.random.random((10,10))\n",
    "Zmin, Zmax = Z.min(), Z.max()"
   ]
  },
  {
   "cell_type": "markdown",
   "id": "9b1db0ed",
   "metadata": {},
   "source": [
    "## 14. Create a random vector of size 30 and find the mean value (★☆☆)"
   ]
  },
  {
   "cell_type": "code",
   "execution_count": 14,
   "id": "60f33947",
   "metadata": {},
   "outputs": [],
   "source": [
    "Z = np.random.random(30)\n",
    "mean = Z.mean()"
   ]
  },
  {
   "cell_type": "markdown",
   "id": "2bbc732b",
   "metadata": {},
   "source": [
    "## 15. Create a 2d array with 1 on the border and 0 inside (★☆☆)"
   ]
  },
  {
   "cell_type": "code",
   "execution_count": 15,
   "id": "4754d9aa",
   "metadata": {},
   "outputs": [],
   "source": [
    "Z = np.ones((5,5))\n",
    "Z[1:-1,1:-1] = 0"
   ]
  },
  {
   "cell_type": "markdown",
   "id": "3076e922",
   "metadata": {},
   "source": [
    "## 16. How to add a border (filled with 0's) around an existing array? (★☆☆)"
   ]
  },
  {
   "cell_type": "code",
   "execution_count": 16,
   "id": "f19754cc",
   "metadata": {},
   "outputs": [],
   "source": [
    "Z = np.ones((3,3))\n",
    "Z = np.pad(Z, pad_width=1, mode='constant', constant_values=0)"
   ]
  },
  {
   "cell_type": "markdown",
   "id": "28be6fe5",
   "metadata": {},
   "source": [
    "## 17. What is the result of the following expression? (★☆☆)\n",
    "```python\n",
    "0 * np.nan\n",
    "np.nan == np.nan\n",
    "np.inf > np.nan\n",
    "np.nan - np.nan\n",
    "0.3 == 3 * 0.1\n",
    "```"
   ]
  },
  {
   "cell_type": "code",
   "execution_count": 17,
   "id": "dc278935",
   "metadata": {},
   "outputs": [],
   "source": [
    "result1 = 0 * np.nan\n",
    "result2 = np.nan == np.nan\n",
    "result3 = np.inf > np.nan\n",
    "result4 = np.nan - np.nan\n",
    "result5 = 0.3 == 3 * 0.1"
   ]
  },
  {
   "cell_type": "markdown",
   "id": "2f5a9962",
   "metadata": {},
   "source": [
    "## 18. Create a 5x5 matrix with values 1,2,3,4 just below the diagonal (★☆☆)"
   ]
  },
  {
   "cell_type": "code",
   "execution_count": 18,
   "id": "109f0821",
   "metadata": {},
   "outputs": [],
   "source": [
    "Z = np.diag(np.arange(1, 5), k=-1)"
   ]
  },
  {
   "cell_type": "markdown",
   "id": "889c33b8",
   "metadata": {},
   "source": [
    "## 19. Create a 8x8 matrix and fill it with a checkerboard pattern (★☆☆)"
   ]
  },
  {
   "cell_type": "code",
   "execution_count": 19,
   "id": "85a36e3b",
   "metadata": {},
   "outputs": [],
   "source": [
    "Z = np.zeros((8,8), dtype=int)\n",
    "Z[1::2, ::2] = 1\n",
    "Z[::2, 1::2] = 1"
   ]
  },
  {
   "cell_type": "markdown",
   "id": "0f32763c",
   "metadata": {},
   "source": [
    "## 20. Consider a (6,7,8) shape array, what is the index (x,y,z) of the 100th element? (★☆☆)"
   ]
  },
  {
   "cell_type": "code",
   "execution_count": 20,
   "id": "030f7e44",
   "metadata": {},
   "outputs": [],
   "source": [
    "idx = np.unravel_index(100, (6,7,8))"
   ]
  },
  {
   "cell_type": "markdown",
   "id": "6f10ec69",
   "metadata": {},
   "source": [
    "## 21. Create a checkerboard 8x8 matrix using the tile function (★☆☆)"
   ]
  },
  {
   "cell_type": "code",
   "execution_count": 21,
   "id": "e54e5353",
   "metadata": {},
   "outputs": [],
   "source": [
    "Z = np.tile([[0,1],[1,0]], (4,4))"
   ]
  },
  {
   "cell_type": "markdown",
   "id": "8a9a75f0",
   "metadata": {},
   "source": [
    "## 22. Normalize a 5x5 random matrix (★☆☆)"
   ]
  },
  {
   "cell_type": "code",
   "execution_count": 22,
   "id": "37830c7c",
   "metadata": {},
   "outputs": [],
   "source": [
    "Z = np.random.random((5,5))\n",
    "Z = (Z - np.min(Z)) / (np.max(Z) - np.min(Z))"
   ]
  },
  {
   "cell_type": "markdown",
   "id": "7215e38a",
   "metadata": {},
   "source": [
    "## 23. Create a custom dtype that describes a color as four unsigned bytes (RGBA) (★☆☆)"
   ]
  },
  {
   "cell_type": "code",
   "execution_count": 23,
   "id": "d299e17b",
   "metadata": {},
   "outputs": [],
   "source": [
    "color = np.dtype([('r', np.ubyte), ('g', np.ubyte), ('b', np.ubyte), ('a', np.ubyte)])"
   ]
  },
  {
   "cell_type": "markdown",
   "id": "1ebd6661",
   "metadata": {},
   "source": [
    "## 24. Multiply a 5x3 matrix by a 3x2 matrix (real matrix product) (★☆☆)"
   ]
  },
  {
   "cell_type": "code",
   "execution_count": 24,
   "id": "98ccc7a4",
   "metadata": {},
   "outputs": [
    {
     "name": "stdout",
     "output_type": "stream",
     "text": [
      "[[3. 3.]\n",
      " [3. 3.]\n",
      " [3. 3.]\n",
      " [3. 3.]\n",
      " [3. 3.]]\n"
     ]
    }
   ],
   "source": [
    "Z = np.dot(np.ones((5,3)), np.ones((3,2)))\n",
    "print(Z)"
   ]
  },
  {
   "cell_type": "markdown",
   "id": "1b7a7cc6",
   "metadata": {},
   "source": [
    "## 25. Given a 1D array, negate all elements which are between 3 and 8, in place. (★☆☆)"
   ]
  },
  {
   "cell_type": "code",
   "execution_count": 25,
   "id": "372ed83a",
   "metadata": {},
   "outputs": [
    {
     "name": "stdout",
     "output_type": "stream",
     "text": [
      "[ 0  1  2  3 -4 -5 -6 -7  8  9 10]\n"
     ]
    }
   ],
   "source": [
    "Z = np.arange(11)\n",
    "Z[(3 < Z) & (Z < 8)] *= -1\n",
    "print(Z)"
   ]
  },
  {
   "cell_type": "markdown",
   "id": "919ecdda",
   "metadata": {},
   "source": [
    "## 26. What is the output of the following script? (★☆☆)\n",
    "\n",
    "```bash\n",
    "print(sum(range(5),-1))\n",
    "from numpy import *\n",
    "print(sum(range(5),-1))"
   ]
  },
  {
   "cell_type": "code",
   "execution_count": 26,
   "id": "96658014",
   "metadata": {},
   "outputs": [
    {
     "name": "stdout",
     "output_type": "stream",
     "text": [
      "9\n",
      "10\n"
     ]
    }
   ],
   "source": [
    "print(sum(range(5),-1))\n",
    "from numpy import *\n",
    "print(sum(range(5),-1))"
   ]
  },
  {
   "cell_type": "markdown",
   "id": "450b0b91",
   "metadata": {},
   "source": [
    "## 27. Consider an integer vector Z, which of these expressions are legal? (★☆☆)\n",
    "Z*Z\n",
    "2 << Z >> 2\n",
    "Z <- Z\n",
    "1jZ\n",
    "Z/1/1\n",
    "Z<Z>Z"
   ]
  },
  {
   "cell_type": "code",
   "execution_count": 27,
   "id": "a7bc0c25",
   "metadata": {},
   "outputs": [],
   "source": [
    "Z = np.arange(3)\n",
    "legal1 = Z*Z\n",
    "legal2 = 2 << Z >> 2\n",
    "legal3 = 1j*Z\n",
    "legal4 = Z/1/1"
   ]
  },
  {
   "cell_type": "markdown",
   "id": "a843258a",
   "metadata": {},
   "source": [
    "## 28. What are the result of the following expressions? (★☆☆)\n",
    "np.array(0) / np.array(0)\n",
    "np.array(0) // np.array(0)\n",
    "np.array([np.nan]).astype(int).astype(float)"
   ]
  },
  {
   "cell_type": "code",
   "execution_count": 28,
   "id": "aed051a5",
   "metadata": {},
   "outputs": [
    {
     "name": "stderr",
     "output_type": "stream",
     "text": [
      "C:\\Users\\Dell\\AppData\\Local\\Temp\\ipykernel_2460\\2260463556.py:1: RuntimeWarning: invalid value encountered in divide\n",
      "  res1 = np.array(0) / np.array(0)\n",
      "C:\\Users\\Dell\\AppData\\Local\\Temp\\ipykernel_2460\\2260463556.py:2: RuntimeWarning: divide by zero encountered in floor_divide\n",
      "  res2 = np.array(0) // np.array(0)\n",
      "C:\\Users\\Dell\\AppData\\Local\\Temp\\ipykernel_2460\\2260463556.py:3: RuntimeWarning: invalid value encountered in cast\n",
      "  res3 = np.array([np.nan]).astype(int).astype(float)\n"
     ]
    }
   ],
   "source": [
    "res1 = np.array(0) / np.array(0)\n",
    "res2 = np.array(0) // np.array(0)\n",
    "res3 = np.array([np.nan]).astype(int).astype(float)"
   ]
  },
  {
   "cell_type": "markdown",
   "id": "e3e2e327",
   "metadata": {},
   "source": [
    "## 29. How to round away from zero a float array ? (★☆☆)"
   ]
  },
  {
   "cell_type": "code",
   "execution_count": 29,
   "id": "b4c169de",
   "metadata": {},
   "outputs": [],
   "source": [
    "Z = np.random.uniform(-10, +10, 10)\n",
    "rounded = np.copysign(np.ceil(np.abs(Z)), Z)"
   ]
  },
  {
   "cell_type": "markdown",
   "id": "e50a5bb8",
   "metadata": {},
   "source": [
    "## 30. How to find common values between two arrays? (★☆☆)\n",
    "```bash\n",
    "A = np.random.randint(0, 10, 10)\n",
    "B = np.random.randint(0, 10, 10)\n",
    "print(np.intersect1d(A, B))\n",
    "```"
   ]
  },
  {
   "cell_type": "code",
   "execution_count": 30,
   "id": "1b993465",
   "metadata": {},
   "outputs": [],
   "source": [
    "A = np.random.randint(0, 10, 10)\n",
    "B = np.random.randint(0, 10, 10)\n",
    "common = np.intersect1d(A, B)"
   ]
  },
  {
   "cell_type": "markdown",
   "id": "31994da3",
   "metadata": {},
   "source": [
    "## 31. How to ignore all numpy warnings (not recommended)? (★☆☆)\n"
   ]
  },
  {
   "cell_type": "code",
   "execution_count": 31,
   "id": "b2653627",
   "metadata": {},
   "outputs": [],
   "source": [
    "import warnings\n",
    "warnings.filterwarnings('ignore')"
   ]
  },
  {
   "cell_type": "markdown",
   "id": "85b6c68a",
   "metadata": {},
   "source": [
    "## 32. Is the following expressions true? (★☆☆)\n"
   ]
  },
  {
   "cell_type": "code",
   "execution_count": 32,
   "id": "2eb36f58",
   "metadata": {},
   "outputs": [],
   "source": [
    "comparison = (np.sqrt(-1) == np.emath.sqrt(-1))"
   ]
  },
  {
   "cell_type": "markdown",
   "id": "8529f5c1",
   "metadata": {},
   "source": [
    "## 33. How to get the dates of yesterday, today and tomorrow? (★☆☆)\n"
   ]
  },
  {
   "cell_type": "code",
   "execution_count": 33,
   "id": "fda68e72",
   "metadata": {},
   "outputs": [],
   "source": [
    "yesterday = np.datetime64('today', 'D') - np.timedelta64(1, 'D')\n",
    "today = np.datetime64('today', 'D')\n",
    "tomorrow = np.datetime64('today', 'D') + np.timedelta64(1, 'D')"
   ]
  },
  {
   "cell_type": "markdown",
   "id": "cd4c3867",
   "metadata": {},
   "source": [
    "## 34. How to get all the dates corresponding to the month of July 2016? (★★☆)\n",
    "```bash\n",
    "dates = np.arange('2016-07', '2016-08', dtype='datetime64[D]')\n",
    "print(dates)\n",
    "```"
   ]
  },
  {
   "cell_type": "code",
   "execution_count": 34,
   "id": "c53ec288",
   "metadata": {},
   "outputs": [],
   "source": [
    "dates = np.arange('2016-07', '2016-08', dtype='datetime64[D]')"
   ]
  },
  {
   "cell_type": "markdown",
   "id": "7f6f95f4",
   "metadata": {},
   "source": [
    "## 35. How to compute ((A+B)*(-A/2)) in place (without copy)? (★★☆)\n",
    "\n"
   ]
  },
  {
   "cell_type": "code",
   "execution_count": 35,
   "id": "5f574b9c",
   "metadata": {},
   "outputs": [
    {
     "name": "stdout",
     "output_type": "stream",
     "text": [
      "[-4.5 -4.5 -4.5]\n"
     ]
    }
   ],
   "source": [
    "A = np.ones(3)\n",
    "B = np.ones(3) * 2\n",
    "A += B\n",
    "A *= -A/2\n",
    "print(A)"
   ]
  },
  {
   "cell_type": "markdown",
   "id": "d18be69b",
   "metadata": {},
   "source": [
    "## 36. Extract the integer part of a random array of positive numbers using 4 different methods (★★☆)\n",
    "```bash\n"
   ]
  },
  {
   "cell_type": "code",
   "execution_count": 36,
   "id": "4bf1110f",
   "metadata": {},
   "outputs": [
    {
     "name": "stdout",
     "output_type": "stream",
     "text": [
      "[9 9 9 7 5 7 8 2 6 7]\n",
      "[9. 9. 9. 7. 5. 7. 8. 2. 6. 7.]\n",
      "[9. 9. 9. 7. 5. 7. 8. 2. 6. 7.]\n",
      "[9. 9. 9. 7. 5. 7. 8. 2. 6. 7.]\n"
     ]
    }
   ],
   "source": [
    "Z = np.random.uniform(0, 10, 10)\n",
    "print(Z.astype(int))\n",
    "print(np.floor(Z))\n",
    "print(np.ceil(Z)-1)\n",
    "print(np.trunc(Z))"
   ]
  },
  {
   "cell_type": "markdown",
   "id": "18eda988",
   "metadata": {},
   "source": [
    "## 37. Create a 5x5 matrix with row values ranging from 0 to 4 (★★☆)\n"
   ]
  },
  {
   "cell_type": "code",
   "execution_count": 37,
   "id": "0ce358f9",
   "metadata": {},
   "outputs": [
    {
     "name": "stdout",
     "output_type": "stream",
     "text": [
      "[[0. 1. 2. 3. 4.]\n",
      " [0. 1. 2. 3. 4.]\n",
      " [0. 1. 2. 3. 4.]\n",
      " [0. 1. 2. 3. 4.]\n",
      " [0. 1. 2. 3. 4.]]\n"
     ]
    }
   ],
   "source": [
    "Z = np.zeros((5,5))\n",
    "Z += np.arange(5)\n",
    "print(Z)"
   ]
  },
  {
   "cell_type": "markdown",
   "id": "1f7e3b9b",
   "metadata": {},
   "source": [
    "## 38. Consider a generator function that generates 10 integers and use it to build an array (★☆☆)\n"
   ]
  },
  {
   "cell_type": "code",
   "execution_count": 38,
   "id": "971efc1f",
   "metadata": {},
   "outputs": [
    {
     "name": "stdout",
     "output_type": "stream",
     "text": [
      "[0 1 2 3 4 5 6 7 8 9]\n"
     ]
    }
   ],
   "source": [
    "def generate():\n",
    "    for x in range(10):\n",
    "        yield x\n",
    "Z = np.fromiter(generate(), dtype=int, count=10)\n",
    "print(Z)"
   ]
  },
  {
   "cell_type": "markdown",
   "id": "bb44f0c6",
   "metadata": {},
   "source": [
    "## 39. Create a vector of size 10 with values ranging from 0 to 1, both excluded (★★☆)\n",
    "```bash\n"
   ]
  },
  {
   "cell_type": "code",
   "execution_count": 39,
   "id": "9c2defc5",
   "metadata": {},
   "outputs": [
    {
     "name": "stdout",
     "output_type": "stream",
     "text": [
      "[0.09090909 0.18181818 0.27272727 0.36363636 0.45454545 0.54545455\n",
      " 0.63636364 0.72727273 0.81818182 0.90909091]\n",
      "\n"
     ]
    }
   ],
   "source": [
    "Z = np.linspace(0, 1, 12)[1:-1]\n",
    "print(Z)"
   ]
  },
  {
   "cell_type": "markdown",
   "id": "8dad9872",
   "metadata": {},
   "source": [
    "## 40. Create a random vector of size 10 and sort it (★★☆)\n"
   ]
  },
  {
   "cell_type": "code",
   "execution_count": 40,
   "id": "463e72c1",
   "metadata": {},
   "outputs": [
    {
     "name": "stdout",
     "output_type": "stream",
     "text": [
      "[0.19605524 0.33631068 0.36752439 0.42758185 0.56328745 0.75295642\n",
      " 0.83785748 0.86246554 0.99231372 0.99442494]\n",
      "\n"
     ]
    }
   ],
   "source": [
    "Z = np.random.random(10)\n",
    "Z.sort()\n",
    "print(Z)"
   ]
  },
  {
   "cell_type": "markdown",
   "id": "93d7c1e5",
   "metadata": {},
   "source": [
    "## 41. How to sum a small array faster than np.sum? (★★☆)\n"
   ]
  },
  {
   "cell_type": "code",
   "execution_count": 41,
   "id": "f92fa5be",
   "metadata": {},
   "outputs": [
    {
     "name": "stdout",
     "output_type": "stream",
     "text": [
      "45\n"
     ]
    }
   ],
   "source": [
    "Z = np.arange(10)\n",
    "print(np.add.reduce(Z))"
   ]
  },
  {
   "cell_type": "markdown",
   "id": "bf0f97a9",
   "metadata": {},
   "source": [
    "## 42. Consider two random array A and B, check if they are equal (★★☆)\n"
   ]
  },
  {
   "cell_type": "code",
   "execution_count": 42,
   "id": "7af4a8f2",
   "metadata": {},
   "outputs": [
    {
     "name": "stdout",
     "output_type": "stream",
     "text": [
      "False\n"
     ]
    }
   ],
   "source": [
    "A = np.random.randint(0,2,5)\n",
    "B = np.random.randint(0,2,5)\n",
    "equal = np.allclose(A, B)\n",
    "print(equal)"
   ]
  },
  {
   "cell_type": "markdown",
   "id": "75554545",
   "metadata": {},
   "source": [
    "## 43. Make an array immutable (read-only) (★★☆)\n"
   ]
  },
  {
   "cell_type": "code",
   "execution_count": 43,
   "id": "0141a68b",
   "metadata": {},
   "outputs": [],
   "source": [
    "\n",
    "Z = np.zeros(10)\n",
    "Z[0] = 1\n",
    "Z.flags.writeable = False\n"
   ]
  },
  {
   "cell_type": "markdown",
   "id": "5141e75c",
   "metadata": {},
   "source": [
    "## 44. Consider a random 10x2 matrix representing cartesian coordinates, convert them to polar coordinates (★★☆)\n"
   ]
  },
  {
   "cell_type": "code",
   "execution_count": 44,
   "id": "b97d4410",
   "metadata": {},
   "outputs": [],
   "source": [
    "\n",
    "Z = np.random.random((10,2))\n",
    "X,Y = Z[:,0], Z[:,1]\n",
    "R = np.sqrt(X**2+Y**2)\n",
    "T = np.arctan2(Y,X)\n"
   ]
  },
  {
   "cell_type": "markdown",
   "id": "adbedd9f",
   "metadata": {},
   "source": [
    "## 45. Create random vector of size 10 and replace the maximum value by 0 (★★☆)\n"
   ]
  },
  {
   "cell_type": "code",
   "execution_count": 45,
   "id": "a7e27a58",
   "metadata": {},
   "outputs": [],
   "source": [
    "\n",
    "Z = np.random.random(10)\n",
    "Z[Z.argmax()] = 0\n"
   ]
  },
  {
   "cell_type": "markdown",
   "id": "9842e177",
   "metadata": {},
   "source": [
    "## 46. Create a structured array with `x` and `y` coordinates covering the [0,1]x[0,1] area (★★☆)\n"
   ]
  },
  {
   "cell_type": "code",
   "execution_count": 46,
   "id": "acce7e0d",
   "metadata": {},
   "outputs": [],
   "source": [
    "Z = np.zeros((5,5), [('x',float),('y',float)])\n",
    "Z['x'], Z['y'] = np.meshgrid(np.linspace(0,1,5), np.linspace(0,1,5))\n"
   ]
  },
  {
   "cell_type": "markdown",
   "id": "eac58a70",
   "metadata": {},
   "source": [
    "## 47. Given two arrays, X and Y, construct the Cauchy matrix C (C_{i,j} =1/(x_i - y_j)) (★★☆)\n",
    "\n"
   ]
  },
  {
   "cell_type": "code",
   "execution_count": 47,
   "id": "810cfcc2",
   "metadata": {},
   "outputs": [],
   "source": [
    "\n",
    "X = np.arange(8)\n",
    "Y = X + 0.5\n",
    "C = 1.0 / (X[:,None] - Y[None,:])"
   ]
  },
  {
   "cell_type": "markdown",
   "id": "e1b39ffb",
   "metadata": {},
   "source": [
    "## 48. Print the minimum and maximum representable value for each numpy scalar type (★★☆)\n"
   ]
  },
  {
   "cell_type": "code",
   "execution_count": 48,
   "id": "f05f26c8",
   "metadata": {},
   "outputs": [
    {
     "name": "stdout",
     "output_type": "stream",
     "text": [
      "-128\n",
      "127\n",
      "-2147483648\n",
      "2147483647\n",
      "-9223372036854775808\n",
      "9223372036854775807\n",
      "-3.4028235e+38\n",
      "3.4028235e+38\n",
      "-1.7976931348623157e+308\n",
      "1.7976931348623157e+308\n"
     ]
    }
   ],
   "source": [
    "\n",
    "for dtype in [np.int8, np.int32, np.int64]:\n",
    "    print(np.iinfo(dtype).min)\n",
    "    print(np.iinfo(dtype).max)\n",
    "for dtype in [np.float32, np.float64]:\n",
    "    print(np.finfo(dtype).min)\n",
    "    print(np.finfo(dtype).max)"
   ]
  },
  {
   "cell_type": "markdown",
   "id": "ec8ed0e0",
   "metadata": {},
   "source": [
    "## 49. How to print all the values of an array? (★★☆)\n"
   ]
  },
  {
   "cell_type": "code",
   "execution_count": 49,
   "id": "dbfd0169",
   "metadata": {},
   "outputs": [
    {
     "name": "stdout",
     "output_type": "stream",
     "text": [
      "[[0. 0. 0. 0. 0. 0. 0. 0. 0. 0. 0. 0. 0. 0. 0. 0.]\n",
      " [0. 0. 0. 0. 0. 0. 0. 0. 0. 0. 0. 0. 0. 0. 0. 0.]\n",
      " [0. 0. 0. 0. 0. 0. 0. 0. 0. 0. 0. 0. 0. 0. 0. 0.]\n",
      " [0. 0. 0. 0. 0. 0. 0. 0. 0. 0. 0. 0. 0. 0. 0. 0.]\n",
      " [0. 0. 0. 0. 0. 0. 0. 0. 0. 0. 0. 0. 0. 0. 0. 0.]\n",
      " [0. 0. 0. 0. 0. 0. 0. 0. 0. 0. 0. 0. 0. 0. 0. 0.]\n",
      " [0. 0. 0. 0. 0. 0. 0. 0. 0. 0. 0. 0. 0. 0. 0. 0.]\n",
      " [0. 0. 0. 0. 0. 0. 0. 0. 0. 0. 0. 0. 0. 0. 0. 0.]\n",
      " [0. 0. 0. 0. 0. 0. 0. 0. 0. 0. 0. 0. 0. 0. 0. 0.]\n",
      " [0. 0. 0. 0. 0. 0. 0. 0. 0. 0. 0. 0. 0. 0. 0. 0.]\n",
      " [0. 0. 0. 0. 0. 0. 0. 0. 0. 0. 0. 0. 0. 0. 0. 0.]\n",
      " [0. 0. 0. 0. 0. 0. 0. 0. 0. 0. 0. 0. 0. 0. 0. 0.]\n",
      " [0. 0. 0. 0. 0. 0. 0. 0. 0. 0. 0. 0. 0. 0. 0. 0.]\n",
      " [0. 0. 0. 0. 0. 0. 0. 0. 0. 0. 0. 0. 0. 0. 0. 0.]\n",
      " [0. 0. 0. 0. 0. 0. 0. 0. 0. 0. 0. 0. 0. 0. 0. 0.]\n",
      " [0. 0. 0. 0. 0. 0. 0. 0. 0. 0. 0. 0. 0. 0. 0. 0.]]\n"
     ]
    }
   ],
   "source": [
    "np.set_printoptions(threshold=np.inf)\n",
    "Z = np.zeros((16,16))\n",
    "print(Z)"
   ]
  },
  {
   "cell_type": "markdown",
   "id": "45f4f2bd",
   "metadata": {},
   "source": [
    "## 50. How to find the closest value (to a given scalar) in a vector? (★★☆)\n"
   ]
  },
  {
   "cell_type": "code",
   "execution_count": 50,
   "id": "d5248c44",
   "metadata": {},
   "outputs": [
    {
     "name": "stdout",
     "output_type": "stream",
     "text": [
      "42\n"
     ]
    }
   ],
   "source": [
    "\n",
    "Z = np.arange(100)\n",
    "v = 42\n",
    "print(Z[(np.abs(Z-v)).argmin()])\n"
   ]
  },
  {
   "cell_type": "markdown",
   "id": "b1b0cd43",
   "metadata": {},
   "source": [
    "## 51. Create a structured array representing a position (x,y) and a color (r,g,b) (★★☆)\n"
   ]
  },
  {
   "cell_type": "code",
   "execution_count": 51,
   "id": "fcdd1081",
   "metadata": {},
   "outputs": [],
   "source": [
    "\n",
    "Z = np.zeros(10, [('position', [('x', float), ('y', float)]),\n",
    "                  ('color',    [('r', float), ('g', float), ('b', float)])])\n"
   ]
  },
  {
   "cell_type": "markdown",
   "id": "97c98763",
   "metadata": {},
   "source": [
    "## 52. Consider a random vector with shape (100,2) representing coordinates, find point by point distances (★★☆)\n"
   ]
  },
  {
   "cell_type": "code",
   "execution_count": 52,
   "id": "792910b4",
   "metadata": {},
   "outputs": [],
   "source": [
    "\n",
    "Z = np.random.random((100,2))\n",
    "X, Y = np.atleast_2d(Z[:,0]), np.atleast_2d(Z[:,1])\n",
    "distances = np.sqrt((X - X.T)**2 + (Y - Y.T)**2)\n"
   ]
  },
  {
   "cell_type": "markdown",
   "id": "4628bd91",
   "metadata": {},
   "source": [
    "## 53. How to convert a float (32 bits) array into an integer (32 bits) in place?\n"
   ]
  },
  {
   "cell_type": "code",
   "execution_count": 53,
   "id": "3275c93a",
   "metadata": {},
   "outputs": [],
   "source": [
    "\n",
    "Z = np.arange(10, dtype=np.float32)\n",
    "Z = Z.astype(np.int32, copy=False)\n"
   ]
  },
  {
   "cell_type": "markdown",
   "id": "8ca339b4",
   "metadata": {},
   "source": [
    "## 54. How to read the following file? (★★☆)\n",
    "```bash\n",
    "1, 2, 3, 4, 5\n",
    "6,  ,  , 7, 8\n",
    " ,  , 9,10,11\n"
   ]
  },
  {
   "cell_type": "code",
   "execution_count": 54,
   "id": "52907a9c",
   "metadata": {},
   "outputs": [],
   "source": [
    "\n",
    "from io import StringIO\n",
    "s = StringIO(\"1, 2, 3, 4, 5\\n6,  ,  , 7, 8\\n ,  , 9,10,11\")\n",
    "Z = np.genfromtxt(s, delimiter=\",\", dtype=np.int32)\n"
   ]
  },
  {
   "cell_type": "markdown",
   "id": "85797caf",
   "metadata": {},
   "source": [
    "## 55. What is the equivalent of enumerate for numpy arrays? (★★☆)\n"
   ]
  },
  {
   "cell_type": "code",
   "execution_count": 55,
   "id": "653e10d3",
   "metadata": {},
   "outputs": [
    {
     "name": "stdout",
     "output_type": "stream",
     "text": [
      "(0, 0) 0\n",
      "(0, 1) 1\n",
      "(0, 2) 2\n",
      "(1, 0) 3\n",
      "(1, 1) 4\n",
      "(1, 2) 5\n",
      "(2, 0) 6\n",
      "(2, 1) 7\n",
      "(2, 2) 8\n"
     ]
    }
   ],
   "source": [
    "\n",
    "Z = np.arange(9).reshape(3,3)\n",
    "for index, value in np.ndenumerate(Z):\n",
    "    print(index, value)\n"
   ]
  },
  {
   "cell_type": "markdown",
   "id": "7d47cecf",
   "metadata": {},
   "source": [
    "## 56. Generate a generic 2D Gaussian-like array (★★☆)\n"
   ]
  },
  {
   "cell_type": "code",
   "execution_count": 56,
   "id": "c3619dee",
   "metadata": {},
   "outputs": [],
   "source": [
    "\n",
    "X, Y = np.meshgrid(np.linspace(-1,1,10), np.linspace(-1,1,10))\n",
    "D = np.sqrt(X*X+Y*Y)\n",
    "sigma, mu = 1.0, 0.0\n",
    "G = np.exp(-( (D-mu)**2 / ( 2.0 * sigma**2 ) ))\n"
   ]
  },
  {
   "cell_type": "markdown",
   "id": "a81ee423",
   "metadata": {},
   "source": [
    "## 57. How to randomly place p elements in a 2D array? (★★☆)\n"
   ]
  },
  {
   "cell_type": "code",
   "execution_count": 57,
   "id": "1d00857c",
   "metadata": {},
   "outputs": [],
   "source": [
    "\n",
    "n = 10\n",
    "p = 3\n",
    "Z = np.zeros((n,n))\n",
    "np.put(Z, np.random.choice(range(n*n), p, replace=False), 1)\n"
   ]
  },
  {
   "cell_type": "markdown",
   "id": "1d3e1e7b",
   "metadata": {},
   "source": [
    "## 58. Subtract the mean of each row of a matrix (★★☆)\n"
   ]
  },
  {
   "cell_type": "code",
   "execution_count": 58,
   "id": "eaf6510c",
   "metadata": {},
   "outputs": [],
   "source": [
    "\n",
    "X = np.random.rand(5, 10)\n",
    "Y = X - X.mean(axis=1, keepdims=True)\n"
   ]
  },
  {
   "cell_type": "markdown",
   "id": "b88e96e1",
   "metadata": {},
   "source": [
    "## 59. How to sort an array by the nth column? (★★☆)\n"
   ]
  },
  {
   "cell_type": "code",
   "execution_count": 59,
   "id": "3fdac937",
   "metadata": {},
   "outputs": [
    {
     "name": "stdout",
     "output_type": "stream",
     "text": [
      "[[7 2 4]\n",
      " [9 2 5]\n",
      " [1 5 1]]\n",
      "[[7 2 4]\n",
      " [9 2 5]\n",
      " [1 5 1]]\n"
     ]
    }
   ],
   "source": [
    "\n",
    "Z = np.random.randint(0,10,(3,3))\n",
    "print(Z)\n",
    "print(Z[Z[:,1].argsort()])\n"
   ]
  },
  {
   "cell_type": "markdown",
   "id": "9ac46560",
   "metadata": {},
   "source": [
    "## 60. How to tell if a given 2D array has null columns? (★★☆)\n"
   ]
  },
  {
   "cell_type": "code",
   "execution_count": 60,
   "id": "95a1ed03",
   "metadata": {},
   "outputs": [
    {
     "name": "stdout",
     "output_type": "stream",
     "text": [
      "True\n"
     ]
    }
   ],
   "source": [
    "\n",
    "Z = np.random.randint(0,3,(3,10))\n",
    "print((~Z.any(axis=0)).any())\n"
   ]
  },
  {
   "cell_type": "markdown",
   "id": "869679f9",
   "metadata": {},
   "source": [
    "## 61. Find the nearest value from a given value in an array (★★☆)\n"
   ]
  },
  {
   "cell_type": "code",
   "execution_count": 61,
   "id": "20ad3f79",
   "metadata": {},
   "outputs": [],
   "source": [
    "\n",
    "Z = np.random.uniform(0,1,10)\n",
    "z = 0.5\n",
    "m = Z.flat[np.abs(Z - z).argmin()]\n"
   ]
  },
  {
   "cell_type": "markdown",
   "id": "214b3c44",
   "metadata": {},
   "source": [
    "## 62. Considering two arrays with shape (1,3) and (3,1), how to compute their sum using an iterator? (★★☆)\n"
   ]
  },
  {
   "cell_type": "code",
   "execution_count": 62,
   "id": "cb4a6301",
   "metadata": {},
   "outputs": [
    {
     "name": "stdout",
     "output_type": "stream",
     "text": [
      "0 0 0\n",
      "1 0 1\n",
      "2 0 2\n",
      "0 1 1\n",
      "1 1 2\n",
      "2 1 3\n",
      "0 2 2\n",
      "1 2 3\n",
      "2 2 4\n"
     ]
    }
   ],
   "source": [
    "\n",
    "A = np.arange(3).reshape(1,3)\n",
    "B = np.arange(3).reshape(3,1)\n",
    "for x, y in np.nditer([A, B]):\n",
    "    print(x, y, x + y)\n"
   ]
  },
  {
   "cell_type": "markdown",
   "id": "c10f6c41",
   "metadata": {},
   "source": [
    "## 63. Create an array class that has a name attribute (★★☆)\n"
   ]
  },
  {
   "cell_type": "code",
   "execution_count": 63,
   "id": "7ac1ebfe",
   "metadata": {},
   "outputs": [],
   "source": [
    "\n",
    "class NamedArray(np.ndarray):\n",
    "    def __new__(cls, *args, name=\"no name\", **kwargs):\n",
    "        obj = super(NamedArray, cls).__new__(cls, *args, **kwargs)\n",
    "        obj.name = name\n",
    "        return obj\n",
    "Z = NamedArray(shape=(3,3), name=\"example\")\n"
   ]
  },
  {
   "cell_type": "markdown",
   "id": "a1889170",
   "metadata": {},
   "source": [
    "## 64. Consider a given vector, how to add 1 to each element indexed by a second vector (be careful with repeated indices)? (★★★)\n"
   ]
  },
  {
   "cell_type": "code",
   "execution_count": 64,
   "id": "dac17dbb",
   "metadata": {},
   "outputs": [],
   "source": [
    "\n",
    "Z = np.zeros(10)\n",
    "I = np.random.randint(0, len(Z), 20)\n",
    "Z += np.bincount(I, minlength=len(Z))\n"
   ]
  },
  {
   "cell_type": "markdown",
   "id": "072732d7",
   "metadata": {},
   "source": [
    "## 65. How to accumulate elements of a vector (X) to an array (F) based on an index list (I)? (★★★)\n"
   ]
  },
  {
   "cell_type": "code",
   "execution_count": 65,
   "id": "6af965fa",
   "metadata": {},
   "outputs": [],
   "source": [
    "\n",
    "X = [1,2,3,4,5,6]\n",
    "I = [1,3,9,3,4,1]\n",
    "F = np.bincount(I, X)\n"
   ]
  },
  {
   "cell_type": "markdown",
   "id": "45501442",
   "metadata": {},
   "source": [
    "## 66. Considering a (w,h,3) image of (dtype=ubyte), compute the number of unique colors (★★☆)\n"
   ]
  },
  {
   "cell_type": "code",
   "execution_count": 66,
   "id": "265e98f8",
   "metadata": {},
   "outputs": [],
   "source": [
    "\n",
    "w, h = 16, 16\n",
    "I = np.random.randint(0, 2, (w, h, 3)).astype(np.ubyte)\n",
    "colors = np.unique(I.reshape(-1, 3), axis=0)\n",
    "n_unique = len(colors)\n"
   ]
  },
  {
   "cell_type": "markdown",
   "id": "e5967e4c",
   "metadata": {},
   "source": [
    "## 67. Considering a four dimensions array, how to get sum over the last two axis at once? (★★★)\n"
   ]
  },
  {
   "cell_type": "code",
   "execution_count": 67,
   "id": "6c9e0ea0",
   "metadata": {},
   "outputs": [],
   "source": [
    "\n",
    "A = np.random.random((3,4,3,4))\n",
    "result = A.sum(axis=(-2,-1))\n"
   ]
  },
  {
   "cell_type": "markdown",
   "id": "ba1c7a68",
   "metadata": {},
   "source": [
    "## 68. Considering a one-dimensional vector D, how to compute means of subsets of D using a vector S of same size describing subset indices? (★★★)\n"
   ]
  },
  {
   "cell_type": "code",
   "execution_count": 68,
   "id": "31493b0d",
   "metadata": {},
   "outputs": [],
   "source": [
    "\n",
    "D = np.random.uniform(0, 10, 100)\n",
    "S = np.random.randint(0, 10, 100)\n",
    "means = [D[S == i].mean() for i in np.unique(S)]\n"
   ]
  },
  {
   "cell_type": "markdown",
   "id": "877aa5f9",
   "metadata": {},
   "source": [
    "## 69. How to get the diagonal of a dot product? (★★★)\n"
   ]
  },
  {
   "cell_type": "code",
   "execution_count": 69,
   "id": "fa712366",
   "metadata": {},
   "outputs": [],
   "source": [
    "\n",
    "A = np.random.uniform(0,1,(3,3))\n",
    "B = np.random.uniform(0,1,(3,3))\n",
    "diag = np.einsum('ij,ji->i', A, B)\n"
   ]
  },
  {
   "cell_type": "markdown",
   "id": "c46e0229",
   "metadata": {},
   "source": [
    "## 70. Consider the vector [1, 2, 3, 4, 5], how to build a new vector with 3 consecutive zeros interleaved between each value? (★★★)\n"
   ]
  },
  {
   "cell_type": "code",
   "execution_count": 70,
   "id": "dd8e6206",
   "metadata": {},
   "outputs": [],
   "source": [
    "\n",
    "Z = np.array([1,2,3,4,5])\n",
    "Z0 = np.zeros(4 * len(Z) - 3)\n",
    "Z0[::4] = Z\n"
   ]
  },
  {
   "cell_type": "markdown",
   "id": "708cc445",
   "metadata": {},
   "source": [
    "## 71. Consider an array of dimension (5,5,3), how to mulitply it by an array with dimensions (5,5)? (★★★)\n"
   ]
  },
  {
   "cell_type": "code",
   "execution_count": 71,
   "id": "a5a3b641",
   "metadata": {},
   "outputs": [],
   "source": [
    "A = np.ones((5,5,3))\n",
    "B = np.ones((5,5))\n",
    "C = A * B[...,None]\n"
   ]
  },
  {
   "cell_type": "markdown",
   "id": "370ed00a",
   "metadata": {},
   "source": [
    "## 72. How to swap two rows of an array? (★★★)\n"
   ]
  },
  {
   "cell_type": "code",
   "execution_count": 72,
   "id": "87c46bce",
   "metadata": {},
   "outputs": [],
   "source": [
    "A = np.arange(25).reshape(5,5)\n",
    "A[[0,1]] = A[[1,0]]\n"
   ]
  },
  {
   "cell_type": "markdown",
   "id": "ece82d23",
   "metadata": {},
   "source": [
    "## 73. Consider a set of 10 triplets describing 10 triangles (with shared vertices), find the set of unique line segments composing all the triangles (★★★)\n"
   ]
  },
  {
   "cell_type": "code",
   "execution_count": 73,
   "id": "eab440f1",
   "metadata": {},
   "outputs": [],
   "source": [
    "faces = np.random.randint(0, 20, (10, 3))\n",
    "F = np.roll(faces, -1, axis=1)\n",
    "segments = np.sort(np.concatenate([faces, F]), axis=1)\n",
    "unique_segments = np.unique(segments, axis=0)\n"
   ]
  },
  {
   "cell_type": "markdown",
   "id": "a8cd942c",
   "metadata": {},
   "source": [
    "## 74. Given a sorted array C that corresponds to a bincount, how to produce an array A such that np.bincount(A) == C? (★★★)\n"
   ]
  },
  {
   "cell_type": "code",
   "execution_count": 74,
   "id": "80d18dec",
   "metadata": {},
   "outputs": [],
   "source": [
    "C = np.bincount(np.random.randint(0, 4, 10))\n",
    "A = np.repeat(np.arange(len(C)), C)\n"
   ]
  },
  {
   "cell_type": "markdown",
   "id": "9070f275",
   "metadata": {},
   "source": [
    "## 75. How to compute averages using a sliding window over an array? (★★★)\n"
   ]
  },
  {
   "cell_type": "code",
   "execution_count": 75,
   "id": "81babf1f",
   "metadata": {},
   "outputs": [],
   "source": [
    "Z = np.arange(20)\n",
    "window = 4\n",
    "averages = np.convolve(Z, np.ones(window)/window, mode='valid')\n"
   ]
  },
  {
   "cell_type": "markdown",
   "id": "7e4aa30d",
   "metadata": {},
   "source": [
    "## 76. Consider a one-dimensional array Z, build a two-dimensional array whose first row is (Z[0],Z[1],Z[2]) and each subsequent row is shifted by 1 (last row should be (Z[-3],Z[-2],Z[-1]) (★★★)\n"
   ]
  },
  {
   "cell_type": "code",
   "execution_count": 76,
   "id": "468a6f35",
   "metadata": {},
   "outputs": [],
   "source": [
    "Z = np.arange(1, 8)\n",
    "rows = 3\n",
    "result = np.lib.stride_tricks.sliding_window_view(Z, rows)\n"
   ]
  },
  {
   "cell_type": "markdown",
   "id": "78ceb03b",
   "metadata": {},
   "source": [
    "## 77. How to negate a boolean, or to change the sign of a float inplace? (★★★)\n"
   ]
  },
  {
   "cell_type": "code",
   "execution_count": 77,
   "id": "fee4b264",
   "metadata": {},
   "outputs": [
    {
     "data": {
      "text/plain": [
       "array([ 0.70068361,  0.29166105, -0.47392845,  0.75511829,  0.99190468,\n",
       "       -0.82639816, -0.83591535,  0.77606252,  0.38014297,  0.06404448])"
      ]
     },
     "execution_count": 77,
     "metadata": {},
     "output_type": "execute_result"
    }
   ],
   "source": [
    "Z_bool = np.array([True, False, True])\n",
    "np.logical_not(Z_bool, out=Z_bool)\n",
    "Z_float = np.random.uniform(-1.0, 1.0, 10)\n",
    "np.negative(Z_float, out=Z_float)\n"
   ]
  },
  {
   "cell_type": "markdown",
   "id": "5c575e8c",
   "metadata": {},
   "source": [
    "## 78. Consider 2 sets of points P0,P1 describing lines (2d) and a point p, how to compute distance from p to each line i (P0[i],P1[i])? (★★★)\n"
   ]
  },
  {
   "cell_type": "code",
   "execution_count": 78,
   "id": "3b2f4d16",
   "metadata": {},
   "outputs": [],
   "source": [
    "P0 = np.random.uniform(0,1,(10,2))\n",
    "P1 = np.random.uniform(0,1,(10,2))\n",
    "p = np.random.uniform(0,1,(2))\n",
    "d = np.abs(np.cross(P1-P0, P0-p))/np.linalg.norm(P1-P0, axis=1)\n"
   ]
  },
  {
   "cell_type": "markdown",
   "id": "ce3944c1",
   "metadata": {},
   "source": [
    "## 79. Consider 2 sets of points P0,P1 describing lines (2d) and a set of points P, how to compute distance from each point j (P[j]) to each line i (P0[i],P1[i])? (★★★)\n"
   ]
  },
  {
   "cell_type": "code",
   "execution_count": 79,
   "id": "3fbf3bc4",
   "metadata": {},
   "outputs": [],
   "source": [
    "P0 = np.random.uniform(0,1,(10,2))\n",
    "P1 = np.random.uniform(0,1,(10,2))\n",
    "P = np.random.uniform(0,1,(10,2))\n",
    "d = np.abs(np.cross(P1-P0, P0-P[:,None]))/np.linalg.norm(P1-P0, axis=1)\n"
   ]
  },
  {
   "cell_type": "markdown",
   "id": "fb9fafd3",
   "metadata": {},
   "source": [
    "## 80. Consider an arbitrary array, write a function that extract a subpart with a fixed shape and centered on a given element (pad with a fill value when necessary) (★★★)\n"
   ]
  },
  {
   "cell_type": "code",
   "execution_count": 80,
   "id": "3b9e1b83",
   "metadata": {},
   "outputs": [],
   "source": [
    "def extract_subpart(A, center, shape, fill=0):\n",
    "    output = np.full(shape, fill, dtype=A.dtype)\n",
    "    slices = []\n",
    "    for i in range(len(shape)):\n",
    "        start = max(center[i] - shape[i]//2, 0)\n",
    "        end = min(center[i] + shape[i]//2 + shape[i]%2, A.shape[i])\n",
    "        out_start = max(0, shape[i]//2 - center[i])\n",
    "        out_end = out_start + (end - start)\n",
    "        slices.append(slice(start, end))\n",
    "        output[(slice(None),)*i + (slice(out_start, out_end),)] = A[slices[i]]\n",
    "    return output"
   ]
  },
  {
   "cell_type": "markdown",
   "id": "aebc85b6",
   "metadata": {},
   "source": [
    "## 81. Consider an array Z = [1,2,3,4,5,6,7,8,9,10,11,12,13,14], how to generate an array R = [[1,2,3,4], [2,3,4,5], [3,4,5,6], ..., [11,12,13,14]]? (★★★)\n"
   ]
  },
  {
   "cell_type": "code",
   "execution_count": 81,
   "id": "6135195c",
   "metadata": {},
   "outputs": [
    {
     "name": "stdout",
     "output_type": "stream",
     "text": [
      "[[ 1  2  3  4]\n",
      " [ 2  3  4  5]\n",
      " [ 3  4  5  6]\n",
      " [ 4  5  6  7]\n",
      " [ 5  6  7  8]\n",
      " [ 6  7  8  9]\n",
      " [ 7  8  9 10]\n",
      " [ 8  9 10 11]\n",
      " [ 9 10 11 12]\n",
      " [10 11 12 13]\n",
      " [11 12 13 14]]\n"
     ]
    }
   ],
   "source": [
    "Z = np.arange(1,15)\n",
    "R = np.lib.stride_tricks.sliding_window_view(Z, 4)\n",
    "print(R)\n"
   ]
  },
  {
   "cell_type": "markdown",
   "id": "904fc1a9",
   "metadata": {},
   "source": [
    "## 82. Compute a matrix rank (★★★)\n"
   ]
  },
  {
   "cell_type": "code",
   "execution_count": 82,
   "id": "73629535",
   "metadata": {},
   "outputs": [
    {
     "name": "stdout",
     "output_type": "stream",
     "text": [
      "10\n"
     ]
    }
   ],
   "source": [
    "Z = np.random.uniform(0, 1, (10, 10))\n",
    "rank = np.linalg.matrix_rank(Z)\n",
    "print(rank)\n"
   ]
  },
  {
   "cell_type": "markdown",
   "id": "3c35fec5",
   "metadata": {},
   "source": [
    "## 83. How to find the most frequent value in an array? (★★★)\n"
   ]
  },
  {
   "cell_type": "code",
   "execution_count": 83,
   "id": "a5629936",
   "metadata": {},
   "outputs": [
    {
     "name": "stdout",
     "output_type": "stream",
     "text": [
      "0\n"
     ]
    }
   ],
   "source": [
    "Z = np.random.randint(0, 10, 50)\n",
    "most_frequent = np.bincount(Z).argmax()\n",
    "print(most_frequent)"
   ]
  },
  {
   "cell_type": "markdown",
   "id": "4ff85cd8",
   "metadata": {},
   "source": [
    "## 84. Extract all the contiguous 3x3 blocks from a random 10x10 matrix (★★★)\n"
   ]
  },
  {
   "cell_type": "code",
   "execution_count": 84,
   "id": "65d6d9f3",
   "metadata": {},
   "outputs": [
    {
     "name": "stdout",
     "output_type": "stream",
     "text": [
      "[[[[0.94014611 0.83106355 0.33624203]\n",
      "   [0.74258725 0.67973326 0.69056588]\n",
      "   [0.83867553 0.75978614 0.35171207]]\n",
      "\n",
      "  [[0.83106355 0.33624203 0.03473892]\n",
      "   [0.67973326 0.69056588 0.7143443 ]\n",
      "   [0.75978614 0.35171207 0.17538489]]\n",
      "\n",
      "  [[0.33624203 0.03473892 0.14611354]\n",
      "   [0.69056588 0.7143443  0.47261675]\n",
      "   [0.35171207 0.17538489 0.54190281]]\n",
      "\n",
      "  [[0.03473892 0.14611354 0.82025758]\n",
      "   [0.7143443  0.47261675 0.82453259]\n",
      "   [0.17538489 0.54190281 0.92723077]]\n",
      "\n",
      "  [[0.14611354 0.82025758 0.87907031]\n",
      "   [0.47261675 0.82453259 0.03082687]\n",
      "   [0.54190281 0.92723077 0.78378672]]\n",
      "\n",
      "  [[0.82025758 0.87907031 0.45414076]\n",
      "   [0.82453259 0.03082687 0.54553146]\n",
      "   [0.92723077 0.78378672 0.77935098]]\n",
      "\n",
      "  [[0.87907031 0.45414076 0.67193145]\n",
      "   [0.03082687 0.54553146 0.76170787]\n",
      "   [0.78378672 0.77935098 0.02341267]]\n",
      "\n",
      "  [[0.45414076 0.67193145 0.98067876]\n",
      "   [0.54553146 0.76170787 0.71970831]\n",
      "   [0.77935098 0.02341267 0.72602232]]]\n",
      "\n",
      "\n",
      " [[[0.74258725 0.67973326 0.69056588]\n",
      "   [0.83867553 0.75978614 0.35171207]\n",
      "   [0.37796725 0.05246437 0.73831425]]\n",
      "\n",
      "  [[0.67973326 0.69056588 0.7143443 ]\n",
      "   [0.75978614 0.35171207 0.17538489]\n",
      "   [0.05246437 0.73831425 0.02710372]]\n",
      "\n",
      "  [[0.69056588 0.7143443  0.47261675]\n",
      "   [0.35171207 0.17538489 0.54190281]\n",
      "   [0.73831425 0.02710372 0.38689503]]\n",
      "\n",
      "  [[0.7143443  0.47261675 0.82453259]\n",
      "   [0.17538489 0.54190281 0.92723077]\n",
      "   [0.02710372 0.38689503 0.25515483]]\n",
      "\n",
      "  [[0.47261675 0.82453259 0.03082687]\n",
      "   [0.54190281 0.92723077 0.78378672]\n",
      "   [0.38689503 0.25515483 0.41134211]]\n",
      "\n",
      "  [[0.82453259 0.03082687 0.54553146]\n",
      "   [0.92723077 0.78378672 0.77935098]\n",
      "   [0.25515483 0.41134211 0.1669521 ]]\n",
      "\n",
      "  [[0.03082687 0.54553146 0.76170787]\n",
      "   [0.78378672 0.77935098 0.02341267]\n",
      "   [0.41134211 0.1669521  0.86384762]]\n",
      "\n",
      "  [[0.54553146 0.76170787 0.71970831]\n",
      "   [0.77935098 0.02341267 0.72602232]\n",
      "   [0.1669521  0.86384762 0.65590746]]]\n",
      "\n",
      "\n",
      " [[[0.83867553 0.75978614 0.35171207]\n",
      "   [0.37796725 0.05246437 0.73831425]\n",
      "   [0.18143318 0.30476585 0.41185775]]\n",
      "\n",
      "  [[0.75978614 0.35171207 0.17538489]\n",
      "   [0.05246437 0.73831425 0.02710372]\n",
      "   [0.30476585 0.41185775 0.58350838]]\n",
      "\n",
      "  [[0.35171207 0.17538489 0.54190281]\n",
      "   [0.73831425 0.02710372 0.38689503]\n",
      "   [0.41185775 0.58350838 0.40338868]]\n",
      "\n",
      "  [[0.17538489 0.54190281 0.92723077]\n",
      "   [0.02710372 0.38689503 0.25515483]\n",
      "   [0.58350838 0.40338868 0.37664922]]\n",
      "\n",
      "  [[0.54190281 0.92723077 0.78378672]\n",
      "   [0.38689503 0.25515483 0.41134211]\n",
      "   [0.40338868 0.37664922 0.24310578]]\n",
      "\n",
      "  [[0.92723077 0.78378672 0.77935098]\n",
      "   [0.25515483 0.41134211 0.1669521 ]\n",
      "   [0.37664922 0.24310578 0.14087589]]\n",
      "\n",
      "  [[0.78378672 0.77935098 0.02341267]\n",
      "   [0.41134211 0.1669521  0.86384762]\n",
      "   [0.24310578 0.14087589 0.35511488]]\n",
      "\n",
      "  [[0.77935098 0.02341267 0.72602232]\n",
      "   [0.1669521  0.86384762 0.65590746]\n",
      "   [0.14087589 0.35511488 0.73063226]]]\n",
      "\n",
      "\n",
      " [[[0.37796725 0.05246437 0.73831425]\n",
      "   [0.18143318 0.30476585 0.41185775]\n",
      "   [0.00941685 0.32658641 0.25862118]]\n",
      "\n",
      "  [[0.05246437 0.73831425 0.02710372]\n",
      "   [0.30476585 0.41185775 0.58350838]\n",
      "   [0.32658641 0.25862118 0.54956912]]\n",
      "\n",
      "  [[0.73831425 0.02710372 0.38689503]\n",
      "   [0.41185775 0.58350838 0.40338868]\n",
      "   [0.25862118 0.54956912 0.33860941]]\n",
      "\n",
      "  [[0.02710372 0.38689503 0.25515483]\n",
      "   [0.58350838 0.40338868 0.37664922]\n",
      "   [0.54956912 0.33860941 0.82722534]]\n",
      "\n",
      "  [[0.38689503 0.25515483 0.41134211]\n",
      "   [0.40338868 0.37664922 0.24310578]\n",
      "   [0.33860941 0.82722534 0.17081025]]\n",
      "\n",
      "  [[0.25515483 0.41134211 0.1669521 ]\n",
      "   [0.37664922 0.24310578 0.14087589]\n",
      "   [0.82722534 0.17081025 0.95168561]]\n",
      "\n",
      "  [[0.41134211 0.1669521  0.86384762]\n",
      "   [0.24310578 0.14087589 0.35511488]\n",
      "   [0.17081025 0.95168561 0.06288807]]\n",
      "\n",
      "  [[0.1669521  0.86384762 0.65590746]\n",
      "   [0.14087589 0.35511488 0.73063226]\n",
      "   [0.95168561 0.06288807 0.07910149]]]\n",
      "\n",
      "\n",
      " [[[0.18143318 0.30476585 0.41185775]\n",
      "   [0.00941685 0.32658641 0.25862118]\n",
      "   [0.68875205 0.66977047 0.68802286]]\n",
      "\n",
      "  [[0.30476585 0.41185775 0.58350838]\n",
      "   [0.32658641 0.25862118 0.54956912]\n",
      "   [0.66977047 0.68802286 0.08423213]]\n",
      "\n",
      "  [[0.41185775 0.58350838 0.40338868]\n",
      "   [0.25862118 0.54956912 0.33860941]\n",
      "   [0.68802286 0.08423213 0.41404798]]\n",
      "\n",
      "  [[0.58350838 0.40338868 0.37664922]\n",
      "   [0.54956912 0.33860941 0.82722534]\n",
      "   [0.08423213 0.41404798 0.9062195 ]]\n",
      "\n",
      "  [[0.40338868 0.37664922 0.24310578]\n",
      "   [0.33860941 0.82722534 0.17081025]\n",
      "   [0.41404798 0.9062195  0.29270762]]\n",
      "\n",
      "  [[0.37664922 0.24310578 0.14087589]\n",
      "   [0.82722534 0.17081025 0.95168561]\n",
      "   [0.9062195  0.29270762 0.11796997]]\n",
      "\n",
      "  [[0.24310578 0.14087589 0.35511488]\n",
      "   [0.17081025 0.95168561 0.06288807]\n",
      "   [0.29270762 0.11796997 0.42789929]]\n",
      "\n",
      "  [[0.14087589 0.35511488 0.73063226]\n",
      "   [0.95168561 0.06288807 0.07910149]\n",
      "   [0.11796997 0.42789929 0.71709625]]]\n",
      "\n",
      "\n",
      " [[[0.00941685 0.32658641 0.25862118]\n",
      "   [0.68875205 0.66977047 0.68802286]\n",
      "   [0.46485361 0.48035051 0.25597416]]\n",
      "\n",
      "  [[0.32658641 0.25862118 0.54956912]\n",
      "   [0.66977047 0.68802286 0.08423213]\n",
      "   [0.48035051 0.25597416 0.98263196]]\n",
      "\n",
      "  [[0.25862118 0.54956912 0.33860941]\n",
      "   [0.68802286 0.08423213 0.41404798]\n",
      "   [0.25597416 0.98263196 0.65524021]]\n",
      "\n",
      "  [[0.54956912 0.33860941 0.82722534]\n",
      "   [0.08423213 0.41404798 0.9062195 ]\n",
      "   [0.98263196 0.65524021 0.45389044]]\n",
      "\n",
      "  [[0.33860941 0.82722534 0.17081025]\n",
      "   [0.41404798 0.9062195  0.29270762]\n",
      "   [0.65524021 0.45389044 0.13707465]]\n",
      "\n",
      "  [[0.82722534 0.17081025 0.95168561]\n",
      "   [0.9062195  0.29270762 0.11796997]\n",
      "   [0.45389044 0.13707465 0.04775701]]\n",
      "\n",
      "  [[0.17081025 0.95168561 0.06288807]\n",
      "   [0.29270762 0.11796997 0.42789929]\n",
      "   [0.13707465 0.04775701 0.43791166]]\n",
      "\n",
      "  [[0.95168561 0.06288807 0.07910149]\n",
      "   [0.11796997 0.42789929 0.71709625]\n",
      "   [0.04775701 0.43791166 0.70021142]]]\n",
      "\n",
      "\n",
      " [[[0.68875205 0.66977047 0.68802286]\n",
      "   [0.46485361 0.48035051 0.25597416]\n",
      "   [0.57369175 0.89780617 0.99027014]]\n",
      "\n",
      "  [[0.66977047 0.68802286 0.08423213]\n",
      "   [0.48035051 0.25597416 0.98263196]\n",
      "   [0.89780617 0.99027014 0.32195986]]\n",
      "\n",
      "  [[0.68802286 0.08423213 0.41404798]\n",
      "   [0.25597416 0.98263196 0.65524021]\n",
      "   [0.99027014 0.32195986 0.49918023]]\n",
      "\n",
      "  [[0.08423213 0.41404798 0.9062195 ]\n",
      "   [0.98263196 0.65524021 0.45389044]\n",
      "   [0.32195986 0.49918023 0.7435391 ]]\n",
      "\n",
      "  [[0.41404798 0.9062195  0.29270762]\n",
      "   [0.65524021 0.45389044 0.13707465]\n",
      "   [0.49918023 0.7435391  0.59217333]]\n",
      "\n",
      "  [[0.9062195  0.29270762 0.11796997]\n",
      "   [0.45389044 0.13707465 0.04775701]\n",
      "   [0.7435391  0.59217333 0.1774622 ]]\n",
      "\n",
      "  [[0.29270762 0.11796997 0.42789929]\n",
      "   [0.13707465 0.04775701 0.43791166]\n",
      "   [0.59217333 0.1774622  0.90152246]]\n",
      "\n",
      "  [[0.11796997 0.42789929 0.71709625]\n",
      "   [0.04775701 0.43791166 0.70021142]\n",
      "   [0.1774622  0.90152246 0.5314451 ]]]\n",
      "\n",
      "\n",
      " [[[0.46485361 0.48035051 0.25597416]\n",
      "   [0.57369175 0.89780617 0.99027014]\n",
      "   [0.70071035 0.04756374 0.3733403 ]]\n",
      "\n",
      "  [[0.48035051 0.25597416 0.98263196]\n",
      "   [0.89780617 0.99027014 0.32195986]\n",
      "   [0.04756374 0.3733403  0.43404529]]\n",
      "\n",
      "  [[0.25597416 0.98263196 0.65524021]\n",
      "   [0.99027014 0.32195986 0.49918023]\n",
      "   [0.3733403  0.43404529 0.12251562]]\n",
      "\n",
      "  [[0.98263196 0.65524021 0.45389044]\n",
      "   [0.32195986 0.49918023 0.7435391 ]\n",
      "   [0.43404529 0.12251562 0.28897938]]\n",
      "\n",
      "  [[0.65524021 0.45389044 0.13707465]\n",
      "   [0.49918023 0.7435391  0.59217333]\n",
      "   [0.12251562 0.28897938 0.85394551]]\n",
      "\n",
      "  [[0.45389044 0.13707465 0.04775701]\n",
      "   [0.7435391  0.59217333 0.1774622 ]\n",
      "   [0.28897938 0.85394551 0.06102684]]\n",
      "\n",
      "  [[0.13707465 0.04775701 0.43791166]\n",
      "   [0.59217333 0.1774622  0.90152246]\n",
      "   [0.85394551 0.06102684 0.68665097]]\n",
      "\n",
      "  [[0.04775701 0.43791166 0.70021142]\n",
      "   [0.1774622  0.90152246 0.5314451 ]\n",
      "   [0.06102684 0.68665097 0.26763465]]]]\n"
     ]
    }
   ],
   "source": [
    "Z = np.random.random((10,10))\n",
    "blocks = np.lib.stride_tricks.sliding_window_view(Z, (3,3))\n",
    "print(blocks)\n",
    "\n"
   ]
  },
  {
   "cell_type": "code",
   "execution_count": 85,
   "id": "fcbcf380",
   "metadata": {},
   "outputs": [],
   "source": [
    "## 85. Create a 2D array subclass such that Z[i,j] == Z[j,i] (★★★)\n"
   ]
  },
  {
   "cell_type": "code",
   "execution_count": 86,
   "id": "b0599bdf",
   "metadata": {},
   "outputs": [
    {
     "name": "stdout",
     "output_type": "stream",
     "text": [
      "[[0. 0. 0. 0. 0.]\n",
      " [0. 0. 0. 0. 0.]\n",
      " [0. 0. 0. 1. 0.]\n",
      " [0. 0. 1. 0. 0.]\n",
      " [0. 0. 0. 0. 0.]]\n"
     ]
    }
   ],
   "source": [
    "class Symetric(np.ndarray):\n",
    "    def __setitem__(self, index, value):\n",
    "        i, j = index\n",
    "        super(Symetric, self).__setitem__((i, j), value)\n",
    "        super(Symetric, self).__setitem__((j, i), value)\n",
    "Z = np.zeros((5,5)).view(Symetric)\n",
    "Z[2,3] = 1\n",
    "print(Z)\n"
   ]
  },
  {
   "cell_type": "markdown",
   "id": "9656bc9b",
   "metadata": {},
   "source": [
    "## 86. Consider a set of p matrices of shape (n,n) and a set of p vectors of shape (n,1). How to compute the sum of the p matrix products at once? (★★★)\n"
   ]
  },
  {
   "cell_type": "code",
   "execution_count": 87,
   "id": "2bb06cfe",
   "metadata": {},
   "outputs": [
    {
     "name": "stdout",
     "output_type": "stream",
     "text": [
      "[400. 400. 400. 400. 400. 400. 400. 400. 400. 400.]\n"
     ]
    }
   ],
   "source": [
    "p, n = 10, 20\n",
    "M = np.ones((p, n, n))\n",
    "V = np.ones((p, n, 1))\n",
    "sums = np.einsum('ijk,ikl->i', M, V)\n",
    "print(sums)"
   ]
  },
  {
   "cell_type": "markdown",
   "id": "e521e6bb",
   "metadata": {},
   "source": [
    "\n",
    "## 87. Let A be a 1D array and B a 2D array, how to compute the sum of A and each row of B? (★★★)\n"
   ]
  },
  {
   "cell_type": "code",
   "execution_count": 88,
   "id": "729bf1be",
   "metadata": {},
   "outputs": [
    {
     "name": "stdout",
     "output_type": "stream",
     "text": [
      "[[0 2 4]\n",
      " [3 5 7]]\n"
     ]
    }
   ],
   "source": [
    "A = np.arange(3)\n",
    "B = np.arange(6).reshape(2,3)\n",
    "sum_rows = A + B\n",
    "print(sum_rows)\n"
   ]
  },
  {
   "cell_type": "markdown",
   "id": "49bc38e6",
   "metadata": {},
   "source": [
    "## 88. Consider a generator function that generates 10 integers and use it to build an array (★★★)\n"
   ]
  },
  {
   "cell_type": "code",
   "execution_count": 89,
   "id": "ac80b462",
   "metadata": {},
   "outputs": [
    {
     "name": "stdout",
     "output_type": "stream",
     "text": [
      "[0 1 2 3 4 5 6 7 8 9]\n"
     ]
    }
   ],
   "source": [
    "def generate():\n",
    "    for x in range(10):\n",
    "        yield x\n",
    "Z = np.fromiter(generate(), dtype=int, count=10)\n",
    "print(Z)\n"
   ]
  },
  {
   "cell_type": "markdown",
   "id": "72b8432e",
   "metadata": {},
   "source": [
    "## 89. How to negate a boolean, or to change the sign of a float inplace? (★★★)\n"
   ]
  },
  {
   "cell_type": "code",
   "execution_count": 90,
   "id": "6435c9ef",
   "metadata": {},
   "outputs": [
    {
     "name": "stdout",
     "output_type": "stream",
     "text": [
      "[False  True False]\n",
      "[ 0.69627204  0.61889556  0.70167048  0.27038156 -0.29540859 -0.44576889\n",
      "  0.04800061  0.41670237 -0.65578673 -0.19710998]\n"
     ]
    }
   ],
   "source": [
    "Z_bool = np.array([True, False, True])\n",
    "np.logical_not(Z_bool, out=Z_bool)\n",
    "print(Z_bool)\n",
    "Z_float = np.random.uniform(-1.0, 1.0, 10)\n",
    "np.negative(Z_float, out=Z_float)\n",
    "print(Z_float)\n"
   ]
  },
  {
   "cell_type": "markdown",
   "id": "4d630622",
   "metadata": {},
   "source": [
    "## 90. Consider a one-dimensional array Z, build a two-dimensional array whose first row is (Z[0],Z[1],Z[2]) and each subsequent row is shifted by 1 (last row should be (Z[-3],Z[-2],Z[-1]) (★★★)\n"
   ]
  },
  {
   "cell_type": "code",
   "execution_count": 91,
   "id": "88bf5d55",
   "metadata": {},
   "outputs": [
    {
     "name": "stdout",
     "output_type": "stream",
     "text": [
      "[[1 2 3]\n",
      " [2 3 4]\n",
      " [3 4 5]\n",
      " [4 5 6]\n",
      " [5 6 7]]\n"
     ]
    }
   ],
   "source": [
    "Z = np.arange(1, 8)\n",
    "rows = 3\n",
    "result = np.lib.stride_tricks.sliding_window_view(Z, rows)\n",
    "print(result)"
   ]
  },
  {
   "cell_type": "markdown",
   "id": "7fdd627d",
   "metadata": {},
   "source": [
    "## 91. Consider two arrays A and B of shape (8,3) and (2,2). How to find rows of A that contain elements of each row of B regardless of the order? (★★★)\n"
   ]
  },
  {
   "cell_type": "code",
   "execution_count": 96,
   "id": "734aa544",
   "metadata": {},
   "outputs": [
    {
     "name": "stdout",
     "output_type": "stream",
     "text": [
      "A:\n",
      " [[2 3 3]\n",
      " [1 1 2]\n",
      " [2 1 0]\n",
      " [2 0 3]\n",
      " [1 2 3]\n",
      " [2 3 1]\n",
      " [1 3 1]\n",
      " [1 3 2]]\n",
      "B:\n",
      " [[1 0]\n",
      " [1 2]]\n",
      "Rows of A containing all elements of each row of B (regardless of order):\n",
      "B[0]:\n",
      "[[2 3 3]\n",
      " [1 1 2]\n",
      " [2 1 0]\n",
      " [2 0 3]\n",
      " [1 2 3]\n",
      " [2 3 1]\n",
      " [1 3 1]\n",
      " [1 3 2]]\n",
      "B[1]:\n",
      "[[2 3 3]\n",
      " [1 1 2]\n",
      " [2 1 0]\n",
      " [2 0 3]\n",
      " [1 2 3]\n",
      " [2 3 1]\n",
      " [1 3 1]\n",
      " [1 3 2]]\n"
     ]
    }
   ],
   "source": [
    "A = np.random.randint(0, 5, (8, 3))\n",
    "B = np.random.randint(0, 5, (2, 2))\n",
    "result = []\n",
    "for b in B:\n",
    "    mask = np.array([all(x in row for x in b) for row in A], dtype=bool)\n",
    "    result.append(A[mask])\n",
    "print(\"A:\\n\", A)\n",
    "print(\"B:\\n\", B)\n",
    "print(\"Rows of A containing all elements of each row of B (regardless of order):\")\n",
    "for i, rows in enumerate(result):\n",
    "    print(f\"B[{i}]:\\n{rows}\")"
   ]
  },
  {
   "cell_type": "markdown",
   "id": "75706f33",
   "metadata": {},
   "source": [
    "## 92. Considering a 10x3 matrix, extract rows with unequal values (e.g., [2,2,3]) (★★★)\n"
   ]
  },
  {
   "cell_type": "code",
   "execution_count": 97,
   "id": "e8ad6205",
   "metadata": {},
   "outputs": [
    {
     "name": "stdout",
     "output_type": "stream",
     "text": [
      "[[1 2 1]\n",
      " [4 0 3]\n",
      " [2 4 2]\n",
      " [1 3 3]\n",
      " [4 3 1]\n",
      " [2 1 3]\n",
      " [0 0 2]\n",
      " [1 4 2]\n",
      " [3 1 4]\n",
      " [4 1 0]]\n"
     ]
    }
   ],
   "source": [
    "Z = np.random.randint(0,5,(10,3))\n",
    "rows = Z[~(Z[:,0] == Z[:,1]) | ~(Z[:,1] == Z[:,2])]\n",
    "print(rows)\n",
    "\n"
   ]
  },
  {
   "cell_type": "code",
   "execution_count": 98,
   "id": "2408732c",
   "metadata": {},
   "outputs": [],
   "source": [
    "## 93. Convert a vector of ints into a matrix binary representation (★★★)\n"
   ]
  },
  {
   "cell_type": "code",
   "execution_count": 99,
   "id": "3bad5819",
   "metadata": {},
   "outputs": [
    {
     "name": "stdout",
     "output_type": "stream",
     "text": [
      "[[0 0 0 0 0 0 0 0]\n",
      " [1 0 0 0 0 0 0 0]\n",
      " [0 1 0 0 0 0 0 0]\n",
      " [1 1 0 0 0 0 0 0]\n",
      " [1 1 1 1 0 0 0 0]\n",
      " [0 0 0 0 1 0 0 0]\n",
      " [0 0 0 0 0 1 0 0]\n",
      " [0 0 0 0 0 0 1 0]\n",
      " [0 0 0 0 0 0 0 1]]\n"
     ]
    }
   ],
   "source": [
    "I = np.array([0, 1, 2, 3, 15, 16, 32, 64, 128])\n",
    "B = ((I[:,None] & (1 << np.arange(8))) > 0).astype(int)\n",
    "print(B)\n"
   ]
  },
  {
   "cell_type": "markdown",
   "id": "1b73d648",
   "metadata": {},
   "source": [
    "## 94. Given a two dimensional array, how to extract unique rows? (★★★)\n"
   ]
  },
  {
   "cell_type": "code",
   "execution_count": 100,
   "id": "b1864c7a",
   "metadata": {},
   "outputs": [
    {
     "name": "stdout",
     "output_type": "stream",
     "text": [
      "[[0 0 0]\n",
      " [0 0 1]\n",
      " [0 1 1]\n",
      " [1 1 0]]\n"
     ]
    }
   ],
   "source": [
    "\n",
    "Z = np.random.randint(0,2,(6,3))\n",
    "unique_rows = np.unique(Z, axis=0)\n",
    "print(unique_rows)\n",
    "\n"
   ]
  },
  {
   "cell_type": "markdown",
   "id": "54d12f49",
   "metadata": {},
   "source": [
    "## 95. Considering 2 vectors A & B, write the einsum equivalent of inner, outer, sum, and mul (★★★)\n"
   ]
  },
  {
   "cell_type": "code",
   "execution_count": 101,
   "id": "ae3de85b",
   "metadata": {},
   "outputs": [
    {
     "name": "stdout",
     "output_type": "stream",
     "text": [
      "3.375918400586144 [[0.30099093 0.02353855 0.5576635  0.42532688 0.27403817 0.1591115\n",
      "  0.54164037 0.50528127 0.17140894 0.36550477]\n",
      " [0.50105768 0.03918448 0.92833887 0.70803894 0.45618959 0.2648719\n",
      "  0.90166527 0.84113851 0.28534337 0.60845345]\n",
      " [0.07937505 0.00620741 0.1470628  0.11216399 0.07226727 0.04195968\n",
      "  0.1428373  0.13324896 0.04520267 0.09638815]\n",
      " [0.31951184 0.02498695 0.59197827 0.45149856 0.29090059 0.16890213\n",
      "  0.57496919 0.5363728  0.18195627 0.38799541]\n",
      " [0.38021233 0.02973395 0.70444162 0.53727374 0.34616555 0.20098996\n",
      "  0.68420117 0.63827229 0.21652411 0.46170633]\n",
      " [0.43380429 0.03392503 0.80373459 0.61300394 0.39495853 0.22932005\n",
      "  0.78064119 0.72823851 0.24704377 0.5267851 ]\n",
      " [0.36473421 0.0285235  0.67576441 0.51540179 0.33207345 0.19280783\n",
      "  0.65634794 0.61228878 0.2077096  0.44291067]\n",
      " [0.37892753 0.02963347 0.70206119 0.5354582  0.3449958  0.20031078\n",
      "  0.68188914 0.63611546 0.21579244 0.46014615]\n",
      " [0.49153823 0.03844002 0.91070164 0.69458712 0.44752259 0.25983968\n",
      "  0.8845348  0.82515797 0.27992222 0.59689363]\n",
      " [0.23824535 0.01863163 0.4414111  0.33666181 0.21691126 0.12594259\n",
      "  0.4287282  0.39994864 0.13567646 0.28931042]] 6.832200184519758 3.3759184005861433\n"
     ]
    }
   ],
   "source": [
    "A = np.random.uniform(0,1,10)\n",
    "B = np.random.uniform(0,1,10)\n",
    "inner = np.einsum('i,i->', A, B)\n",
    "outer = np.einsum('i,j->ij', A, B)\n",
    "sum_ = np.einsum('i->', A)\n",
    "mul = np.einsum('i->', A*B)\n",
    "print(inner, outer, sum_, mul)\n"
   ]
  },
  {
   "cell_type": "markdown",
   "id": "04783a45",
   "metadata": {},
   "source": [
    "## 96. Considering a path described by two vectors (X,Y), how to interpolate it with equidistant samples? (★★★)\n"
   ]
  },
  {
   "cell_type": "code",
   "execution_count": 102,
   "id": "665428fc",
   "metadata": {},
   "outputs": [
    {
     "name": "stdout",
     "output_type": "stream",
     "text": [
      "[ 1.          0.94631662  0.79349697  0.55741971  0.26236558 -0.06066636\n",
      " -0.37704904 -0.65399577 -0.86185543 -0.97797081 -0.99146425 -0.90093718\n",
      " -0.7145183  -0.45259276 -0.14330303  0.18130114  0.48659197  0.7403574\n",
      "  0.91643661  0.9965421 ] [ 0.          0.32023024  0.60652416  0.82923013  0.96471037  0.99707609\n",
      "  0.92487749  0.75561961  0.50622543  0.20309642 -0.12113512 -0.43286389\n",
      " -0.69866663 -0.89035058 -0.98858757 -0.9831743  -0.8726784  -0.67035805\n",
      " -0.3977518  -0.0830894 ]\n"
     ]
    }
   ],
   "source": [
    "phi = np.arange(0, 2*np.pi, 0.1)\n",
    "a, b = 1, 1\n",
    "x = a*np.cos(phi)\n",
    "y = b*np.sin(phi)\n",
    "d = np.cumsum(np.sqrt(np.diff(x)**2 + np.diff(y)**2))\n",
    "d = np.insert(d, 0, 0)\n",
    "equidistant = np.linspace(0, d.max(), 20)\n",
    "x_interp = np.interp(equidistant, d, x)\n",
    "y_interp = np.interp(equidistant, d, y)\n",
    "print(x_interp, y_interp)\n"
   ]
  },
  {
   "cell_type": "markdown",
   "id": "1793fde7",
   "metadata": {},
   "source": [
    "## 97. Given an integer n and a 2D array X, select rows that can be interpreted as draws from a multinomial distribution with n degrees (i.e., rows for which np.sum(row) == n) (★★★)\n"
   ]
  },
  {
   "cell_type": "code",
   "execution_count": 103,
   "id": "46dccf99",
   "metadata": {},
   "outputs": [
    {
     "name": "stdout",
     "output_type": "stream",
     "text": [
      "[[4 3 3]\n",
      " [4 2 4]]\n"
     ]
    }
   ],
   "source": [
    "n = 10\n",
    "X = np.random.randint(0, 5, (10, 3))\n",
    "rows = X[np.sum(X, axis=1) == n]\n",
    "print(rows)\n",
    "\n"
   ]
  },
  {
   "cell_type": "markdown",
   "id": "5660ea5b",
   "metadata": {},
   "source": [
    "## 98. Compute bootstrapped 95% confidence intervals for the mean of a 1D array X (★★★)\n"
   ]
  },
  {
   "cell_type": "code",
   "execution_count": 104,
   "id": "927504d0",
   "metadata": {},
   "outputs": [
    {
     "name": "stdout",
     "output_type": "stream",
     "text": [
      "[0.00261693 0.35842989]\n"
     ]
    }
   ],
   "source": [
    "X = np.random.randn(100)\n",
    "means = [np.mean(np.random.choice(X, size=X.shape[0], replace=True)) for _ in range(1000)]\n",
    "conf_int = np.percentile(means, [2.5, 97.5])\n",
    "print(conf_int)\n",
    "\n"
   ]
  },
  {
   "cell_type": "markdown",
   "id": "9b1152ab",
   "metadata": {},
   "source": [
    "## 99. How to create a record array from a regular array? (★★★)\n"
   ]
  },
  {
   "cell_type": "code",
   "execution_count": 105,
   "id": "ac22ea2a",
   "metadata": {},
   "outputs": [
    {
     "name": "stdout",
     "output_type": "stream",
     "text": [
      "[('Hello', 2.5, 3) ('World', 3.6, 2)]\n"
     ]
    }
   ],
   "source": [
    "Z = np.array([(\"Hello\", 2.5, 3), (\"World\", 3.6, 2)])\n",
    "r = np.core.records.fromarrays(Z.T, names='col1, col2, col3', formats = 'U8, f8, i8')\n",
    "print(r)\n",
    "\n"
   ]
  },
  {
   "cell_type": "markdown",
   "id": "22b1f08d",
   "metadata": {},
   "source": [
    "## 100. Consider a large vector Z, compute Z to the power of 3 using three different methods (★★★)\n"
   ]
  },
  {
   "cell_type": "code",
   "execution_count": 110,
   "id": "beb13165",
   "metadata": {},
   "outputs": [],
   "source": [
    "Z = np.random.rand(10000)\n"
   ]
  },
  {
   "cell_type": "code",
   "execution_count": 112,
   "id": "571e3b0f",
   "metadata": {},
   "outputs": [],
   "source": [
    "Z_cubed1 = Z ** 3\n"
   ]
  },
  {
   "cell_type": "code",
   "execution_count": 113,
   "id": "b22e0cd7",
   "metadata": {},
   "outputs": [],
   "source": [
    "Z_cubed2 = np.power(Z, 3)\n"
   ]
  },
  {
   "cell_type": "code",
   "execution_count": 114,
   "id": "4d609ff6",
   "metadata": {},
   "outputs": [],
   "source": [
    "Z_cubed3 = Z * Z * Z\n"
   ]
  },
  {
   "cell_type": "code",
   "execution_count": null,
   "id": "d05cb3e0",
   "metadata": {},
   "outputs": [],
   "source": []
  }
 ],
 "metadata": {
  "kernelspec": {
   "display_name": "base",
   "language": "python",
   "name": "python3"
  },
  "language_info": {
   "codemirror_mode": {
    "name": "ipython",
    "version": 3
   },
   "file_extension": ".py",
   "mimetype": "text/x-python",
   "name": "python",
   "nbconvert_exporter": "python",
   "pygments_lexer": "ipython3",
   "version": "3.12.4"
  }
 },
 "nbformat": 4,
 "nbformat_minor": 5
}
