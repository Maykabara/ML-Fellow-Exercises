{
 "cells": [
  {
   "cell_type": "markdown",
   "metadata": {},
   "source": [
    "# Ex - "
   ]
  },
  {
   "cell_type": "markdown",
   "metadata": {},
   "source": [
    "### Introduction:\n",
    "\n",
    "This time you will create a data \n",
    "\n",
    "Special thanks to: https://github.com/justmarkham for sharing the dataset and materials.\n",
    "\n",
    "### Step 1. Import the necessary libraries"
   ]
  },
  {
   "cell_type": "code",
   "execution_count": 1,
   "metadata": {
    "collapsed": false
   },
   "outputs": [],
   "source": [
    "import pandas as pd"
   ]
  },
  {
   "cell_type": "markdown",
   "metadata": {},
   "source": [
    "### Step 2. Import the dataset from this [address](https://raw.githubusercontent.com/justmarkham/DAT8/master/data/chipotle.tsv). "
   ]
  },
  {
   "cell_type": "markdown",
   "metadata": {},
   "source": [
    "### Step 3. Assign it to a variable called "
   ]
  },
  {
   "cell_type": "code",
   "execution_count": 2,
   "metadata": {
    "collapsed": false
   },
   "outputs": [
    {
     "data": {
      "application/vnd.microsoft.datawrangler.viewer.v0+json": {
       "columns": [
        {
         "name": "index",
         "rawType": "int64",
         "type": "integer"
        },
        {
         "name": "order_id",
         "rawType": "int64",
         "type": "integer"
        },
        {
         "name": "quantity",
         "rawType": "int64",
         "type": "integer"
        },
        {
         "name": "item_name",
         "rawType": "object",
         "type": "string"
        },
        {
         "name": "choice_description",
         "rawType": "object",
         "type": "unknown"
        },
        {
         "name": "item_price",
         "rawType": "object",
         "type": "string"
        }
       ],
       "ref": "33827c75-01ff-4e3d-b953-e40b6fc891d1",
       "rows": [
        [
         "0",
         "1",
         "1",
         "Chips and Fresh Tomato Salsa",
         null,
         "$2.39 "
        ],
        [
         "1",
         "1",
         "1",
         "Izze",
         "[Clementine]",
         "$3.39 "
        ],
        [
         "2",
         "1",
         "1",
         "Nantucket Nectar",
         "[Apple]",
         "$3.39 "
        ],
        [
         "3",
         "1",
         "1",
         "Chips and Tomatillo-Green Chili Salsa",
         null,
         "$2.39 "
        ],
        [
         "4",
         "2",
         "2",
         "Chicken Bowl",
         "[Tomatillo-Red Chili Salsa (Hot), [Black Beans, Rice, Cheese, Sour Cream]]",
         "$16.98 "
        ],
        [
         "5",
         "3",
         "1",
         "Chicken Bowl",
         "[Fresh Tomato Salsa (Mild), [Rice, Cheese, Sour Cream, Guacamole, Lettuce]]",
         "$10.98 "
        ],
        [
         "6",
         "3",
         "1",
         "Side of Chips",
         null,
         "$1.69 "
        ],
        [
         "7",
         "4",
         "1",
         "Steak Burrito",
         "[Tomatillo Red Chili Salsa, [Fajita Vegetables, Black Beans, Pinto Beans, Cheese, Sour Cream, Guacamole, Lettuce]]",
         "$11.75 "
        ],
        [
         "8",
         "4",
         "1",
         "Steak Soft Tacos",
         "[Tomatillo Green Chili Salsa, [Pinto Beans, Cheese, Sour Cream, Lettuce]]",
         "$9.25 "
        ],
        [
         "9",
         "5",
         "1",
         "Steak Burrito",
         "[Fresh Tomato Salsa, [Rice, Black Beans, Pinto Beans, Cheese, Sour Cream, Lettuce]]",
         "$9.25 "
        ],
        [
         "10",
         "5",
         "1",
         "Chips and Guacamole",
         null,
         "$4.45 "
        ],
        [
         "11",
         "6",
         "1",
         "Chicken Crispy Tacos",
         "[Roasted Chili Corn Salsa, [Fajita Vegetables, Rice, Black Beans, Cheese, Sour Cream]]",
         "$8.75 "
        ],
        [
         "12",
         "6",
         "1",
         "Chicken Soft Tacos",
         "[Roasted Chili Corn Salsa, [Rice, Black Beans, Cheese, Sour Cream]]",
         "$8.75 "
        ],
        [
         "13",
         "7",
         "1",
         "Chicken Bowl",
         "[Fresh Tomato Salsa, [Fajita Vegetables, Rice, Cheese, Sour Cream, Guacamole]]",
         "$11.25 "
        ],
        [
         "14",
         "7",
         "1",
         "Chips and Guacamole",
         null,
         "$4.45 "
        ],
        [
         "15",
         "8",
         "1",
         "Chips and Tomatillo-Green Chili Salsa",
         null,
         "$2.39 "
        ],
        [
         "16",
         "8",
         "1",
         "Chicken Burrito",
         "[Tomatillo-Green Chili Salsa (Medium), [Pinto Beans, Cheese, Sour Cream]]",
         "$8.49 "
        ],
        [
         "17",
         "9",
         "1",
         "Chicken Burrito",
         "[Fresh Tomato Salsa (Mild), [Black Beans, Rice, Cheese, Sour Cream, Lettuce]]",
         "$8.49 "
        ],
        [
         "18",
         "9",
         "2",
         "Canned Soda",
         "[Sprite]",
         "$2.18 "
        ],
        [
         "19",
         "10",
         "1",
         "Chicken Bowl",
         "[Tomatillo Red Chili Salsa, [Fajita Vegetables, Black Beans, Sour Cream, Cheese, Lettuce]]",
         "$8.75 "
        ],
        [
         "20",
         "10",
         "1",
         "Chips and Guacamole",
         null,
         "$4.45 "
        ],
        [
         "21",
         "11",
         "1",
         "Barbacoa Burrito",
         "[[Fresh Tomato Salsa (Mild), Tomatillo-Green Chili Salsa (Medium), Tomatillo-Red Chili Salsa (Hot)], [Rice, Cheese, Sour Cream, Lettuce]]",
         "$8.99 "
        ],
        [
         "22",
         "11",
         "1",
         "Nantucket Nectar",
         "[Pomegranate Cherry]",
         "$3.39 "
        ],
        [
         "23",
         "12",
         "1",
         "Chicken Burrito",
         "[[Tomatillo-Green Chili Salsa (Medium), Tomatillo-Red Chili Salsa (Hot)], [Pinto Beans, Rice, Cheese, Sour Cream, Guacamole, Lettuce]]",
         "$10.98 "
        ],
        [
         "24",
         "12",
         "1",
         "Izze",
         "[Grapefruit]",
         "$3.39 "
        ],
        [
         "25",
         "13",
         "1",
         "Chips and Fresh Tomato Salsa",
         null,
         "$2.39 "
        ],
        [
         "26",
         "13",
         "1",
         "Chicken Bowl",
         "[Roasted Chili Corn Salsa (Medium), [Pinto Beans, Rice, Fajita Veggies, Cheese, Sour Cream, Lettuce]]",
         "$8.49 "
        ],
        [
         "27",
         "14",
         "1",
         "Carnitas Burrito",
         "[[Tomatillo-Green Chili Salsa (Medium), Roasted Chili Corn Salsa (Medium)], [Black Beans, Rice, Sour Cream, Lettuce]]",
         "$8.99 "
        ],
        [
         "28",
         "14",
         "1",
         "Canned Soda",
         "[Dr. Pepper]",
         "$1.09 "
        ],
        [
         "29",
         "15",
         "1",
         "Chicken Burrito",
         "[Tomatillo-Green Chili Salsa (Medium), [Pinto Beans, Rice, Cheese, Sour Cream]]",
         "$8.49 "
        ],
        [
         "30",
         "15",
         "1",
         "Chips and Tomatillo-Green Chili Salsa",
         null,
         "$2.39 "
        ],
        [
         "31",
         "16",
         "1",
         "Steak Burrito",
         "[[Roasted Chili Corn Salsa (Medium), Fresh Tomato Salsa (Mild)], [Rice, Black Beans, Sour Cream]]",
         "$8.99 "
        ],
        [
         "32",
         "16",
         "1",
         "Side of Chips",
         null,
         "$1.69 "
        ],
        [
         "33",
         "17",
         "1",
         "Carnitas Bowl",
         "[Tomatillo-Red Chili Salsa (Hot), [Black Beans, Rice, Fajita Veggies, Cheese, Sour Cream, Lettuce]]",
         "$8.99 "
        ],
        [
         "34",
         "17",
         "1",
         "Bottled Water",
         null,
         "$1.09 "
        ],
        [
         "35",
         "18",
         "1",
         "Chicken Soft Tacos",
         "[Roasted Chili Corn Salsa, Rice]",
         "$8.75 "
        ],
        [
         "36",
         "18",
         "1",
         "Chicken Soft Tacos",
         "[Roasted Chili Corn Salsa, [Cheese, Lettuce]]",
         "$8.75 "
        ],
        [
         "37",
         "18",
         "1",
         "Chips and Guacamole",
         null,
         "$4.45 "
        ],
        [
         "38",
         "18",
         "1",
         "Chips and Tomatillo Green Chili Salsa",
         null,
         "$2.95 "
        ],
        [
         "39",
         "19",
         "1",
         "Barbacoa Bowl",
         "[Roasted Chili Corn Salsa, [Fajita Vegetables, Rice, Black Beans, Cheese, Sour Cream, Guacamole, Lettuce]]",
         "$11.75 "
        ],
        [
         "40",
         "19",
         "1",
         "Chips",
         null,
         "$2.15 "
        ],
        [
         "41",
         "20",
         "1",
         "Chips and Guacamole",
         null,
         "$4.45 "
        ],
        [
         "42",
         "20",
         "1",
         "Chicken Bowl",
         "[Roasted Chili Corn Salsa, [Rice, Black Beans, Cheese, Sour Cream, Guacamole, Lettuce]]",
         "$11.25 "
        ],
        [
         "43",
         "20",
         "1",
         "Steak Burrito",
         "[Fresh Tomato Salsa, [Rice, Pinto Beans, Cheese, Sour Cream, Guacamole, Lettuce]]",
         "$11.75 "
        ],
        [
         "44",
         "20",
         "1",
         "Chicken Salad Bowl",
         "[Fresh Tomato Salsa, [Fajita Vegetables, Pinto Beans, Lettuce]]",
         "$8.75 "
        ],
        [
         "45",
         "21",
         "1",
         "Chicken Burrito",
         "[Tomatillo-Red Chili Salsa (Hot), [Black Beans, Fajita Veggies, Cheese, Sour Cream, Guacamole, Lettuce]]",
         "$10.98 "
        ],
        [
         "46",
         "21",
         "1",
         "Steak Burrito",
         "[Tomatillo-Red Chili Salsa (Hot), [Rice, Fajita Veggies, Cheese]]",
         "$8.99 "
        ],
        [
         "47",
         "21",
         "1",
         "Izze",
         "[Blackberry]",
         "$3.39 "
        ],
        [
         "48",
         "22",
         "1",
         "Steak Burrito",
         "[[Fresh Tomato Salsa (Mild), Roasted Chili Corn Salsa (Medium), Tomatillo-Red Chili Salsa (Hot)], [Black Beans, Rice, Sour Cream]]",
         "$8.99 "
        ],
        [
         "49",
         "22",
         "1",
         "Chips and Guacamole",
         null,
         "$3.99 "
        ]
       ],
       "shape": {
        "columns": 5,
        "rows": 4622
       }
      },
      "text/html": [
       "<div>\n",
       "<style scoped>\n",
       "    .dataframe tbody tr th:only-of-type {\n",
       "        vertical-align: middle;\n",
       "    }\n",
       "\n",
       "    .dataframe tbody tr th {\n",
       "        vertical-align: top;\n",
       "    }\n",
       "\n",
       "    .dataframe thead th {\n",
       "        text-align: right;\n",
       "    }\n",
       "</style>\n",
       "<table border=\"1\" class=\"dataframe\">\n",
       "  <thead>\n",
       "    <tr style=\"text-align: right;\">\n",
       "      <th></th>\n",
       "      <th>order_id</th>\n",
       "      <th>quantity</th>\n",
       "      <th>item_name</th>\n",
       "      <th>choice_description</th>\n",
       "      <th>item_price</th>\n",
       "    </tr>\n",
       "  </thead>\n",
       "  <tbody>\n",
       "    <tr>\n",
       "      <th>0</th>\n",
       "      <td>1</td>\n",
       "      <td>1</td>\n",
       "      <td>Chips and Fresh Tomato Salsa</td>\n",
       "      <td>NaN</td>\n",
       "      <td>$2.39</td>\n",
       "    </tr>\n",
       "    <tr>\n",
       "      <th>1</th>\n",
       "      <td>1</td>\n",
       "      <td>1</td>\n",
       "      <td>Izze</td>\n",
       "      <td>[Clementine]</td>\n",
       "      <td>$3.39</td>\n",
       "    </tr>\n",
       "    <tr>\n",
       "      <th>2</th>\n",
       "      <td>1</td>\n",
       "      <td>1</td>\n",
       "      <td>Nantucket Nectar</td>\n",
       "      <td>[Apple]</td>\n",
       "      <td>$3.39</td>\n",
       "    </tr>\n",
       "    <tr>\n",
       "      <th>3</th>\n",
       "      <td>1</td>\n",
       "      <td>1</td>\n",
       "      <td>Chips and Tomatillo-Green Chili Salsa</td>\n",
       "      <td>NaN</td>\n",
       "      <td>$2.39</td>\n",
       "    </tr>\n",
       "    <tr>\n",
       "      <th>4</th>\n",
       "      <td>2</td>\n",
       "      <td>2</td>\n",
       "      <td>Chicken Bowl</td>\n",
       "      <td>[Tomatillo-Red Chili Salsa (Hot), [Black Beans...</td>\n",
       "      <td>$16.98</td>\n",
       "    </tr>\n",
       "    <tr>\n",
       "      <th>...</th>\n",
       "      <td>...</td>\n",
       "      <td>...</td>\n",
       "      <td>...</td>\n",
       "      <td>...</td>\n",
       "      <td>...</td>\n",
       "    </tr>\n",
       "    <tr>\n",
       "      <th>4617</th>\n",
       "      <td>1833</td>\n",
       "      <td>1</td>\n",
       "      <td>Steak Burrito</td>\n",
       "      <td>[Fresh Tomato Salsa, [Rice, Black Beans, Sour ...</td>\n",
       "      <td>$11.75</td>\n",
       "    </tr>\n",
       "    <tr>\n",
       "      <th>4618</th>\n",
       "      <td>1833</td>\n",
       "      <td>1</td>\n",
       "      <td>Steak Burrito</td>\n",
       "      <td>[Fresh Tomato Salsa, [Rice, Sour Cream, Cheese...</td>\n",
       "      <td>$11.75</td>\n",
       "    </tr>\n",
       "    <tr>\n",
       "      <th>4619</th>\n",
       "      <td>1834</td>\n",
       "      <td>1</td>\n",
       "      <td>Chicken Salad Bowl</td>\n",
       "      <td>[Fresh Tomato Salsa, [Fajita Vegetables, Pinto...</td>\n",
       "      <td>$11.25</td>\n",
       "    </tr>\n",
       "    <tr>\n",
       "      <th>4620</th>\n",
       "      <td>1834</td>\n",
       "      <td>1</td>\n",
       "      <td>Chicken Salad Bowl</td>\n",
       "      <td>[Fresh Tomato Salsa, [Fajita Vegetables, Lettu...</td>\n",
       "      <td>$8.75</td>\n",
       "    </tr>\n",
       "    <tr>\n",
       "      <th>4621</th>\n",
       "      <td>1834</td>\n",
       "      <td>1</td>\n",
       "      <td>Chicken Salad Bowl</td>\n",
       "      <td>[Fresh Tomato Salsa, [Fajita Vegetables, Pinto...</td>\n",
       "      <td>$8.75</td>\n",
       "    </tr>\n",
       "  </tbody>\n",
       "</table>\n",
       "<p>4622 rows × 5 columns</p>\n",
       "</div>"
      ],
      "text/plain": [
       "      order_id  quantity                              item_name  \\\n",
       "0            1         1           Chips and Fresh Tomato Salsa   \n",
       "1            1         1                                   Izze   \n",
       "2            1         1                       Nantucket Nectar   \n",
       "3            1         1  Chips and Tomatillo-Green Chili Salsa   \n",
       "4            2         2                           Chicken Bowl   \n",
       "...        ...       ...                                    ...   \n",
       "4617      1833         1                          Steak Burrito   \n",
       "4618      1833         1                          Steak Burrito   \n",
       "4619      1834         1                     Chicken Salad Bowl   \n",
       "4620      1834         1                     Chicken Salad Bowl   \n",
       "4621      1834         1                     Chicken Salad Bowl   \n",
       "\n",
       "                                     choice_description item_price  \n",
       "0                                                   NaN     $2.39   \n",
       "1                                          [Clementine]     $3.39   \n",
       "2                                               [Apple]     $3.39   \n",
       "3                                                   NaN     $2.39   \n",
       "4     [Tomatillo-Red Chili Salsa (Hot), [Black Beans...    $16.98   \n",
       "...                                                 ...        ...  \n",
       "4617  [Fresh Tomato Salsa, [Rice, Black Beans, Sour ...    $11.75   \n",
       "4618  [Fresh Tomato Salsa, [Rice, Sour Cream, Cheese...    $11.75   \n",
       "4619  [Fresh Tomato Salsa, [Fajita Vegetables, Pinto...    $11.25   \n",
       "4620  [Fresh Tomato Salsa, [Fajita Vegetables, Lettu...     $8.75   \n",
       "4621  [Fresh Tomato Salsa, [Fajita Vegetables, Pinto...     $8.75   \n",
       "\n",
       "[4622 rows x 5 columns]"
      ]
     },
     "execution_count": 2,
     "metadata": {},
     "output_type": "execute_result"
    }
   ],
   "source": [
    "chipo = pd.read_csv('https://raw.githubusercontent.com/justmarkham/DAT8/master/data/chipotle.tsv', sep='\\t')\n",
    "chipo"
   ]
  },
  {
   "cell_type": "markdown",
   "metadata": {},
   "source": [
    "### Step 4. "
   ]
  },
  {
   "cell_type": "code",
   "execution_count": 3,
   "metadata": {
    "collapsed": false
   },
   "outputs": [
    {
     "data": {
      "application/vnd.microsoft.datawrangler.viewer.v0+json": {
       "columns": [
        {
         "name": "index",
         "rawType": "int64",
         "type": "integer"
        },
        {
         "name": "order_id",
         "rawType": "int64",
         "type": "integer"
        },
        {
         "name": "quantity",
         "rawType": "int64",
         "type": "integer"
        },
        {
         "name": "item_name",
         "rawType": "object",
         "type": "string"
        },
        {
         "name": "choice_description",
         "rawType": "object",
         "type": "unknown"
        },
        {
         "name": "item_price",
         "rawType": "object",
         "type": "string"
        }
       ],
       "ref": "33154644-13f0-4267-a132-3ce9a1947ff2",
       "rows": [
        [
         "0",
         "1",
         "1",
         "Chips and Fresh Tomato Salsa",
         null,
         "$2.39 "
        ],
        [
         "1",
         "1",
         "1",
         "Izze",
         "[Clementine]",
         "$3.39 "
        ],
        [
         "2",
         "1",
         "1",
         "Nantucket Nectar",
         "[Apple]",
         "$3.39 "
        ],
        [
         "3",
         "1",
         "1",
         "Chips and Tomatillo-Green Chili Salsa",
         null,
         "$2.39 "
        ],
        [
         "4",
         "2",
         "2",
         "Chicken Bowl",
         "[Tomatillo-Red Chili Salsa (Hot), [Black Beans, Rice, Cheese, Sour Cream]]",
         "$16.98 "
        ],
        [
         "5",
         "3",
         "1",
         "Chicken Bowl",
         "[Fresh Tomato Salsa (Mild), [Rice, Cheese, Sour Cream, Guacamole, Lettuce]]",
         "$10.98 "
        ],
        [
         "6",
         "3",
         "1",
         "Side of Chips",
         null,
         "$1.69 "
        ],
        [
         "7",
         "4",
         "1",
         "Steak Burrito",
         "[Tomatillo Red Chili Salsa, [Fajita Vegetables, Black Beans, Pinto Beans, Cheese, Sour Cream, Guacamole, Lettuce]]",
         "$11.75 "
        ],
        [
         "8",
         "4",
         "1",
         "Steak Soft Tacos",
         "[Tomatillo Green Chili Salsa, [Pinto Beans, Cheese, Sour Cream, Lettuce]]",
         "$9.25 "
        ],
        [
         "9",
         "5",
         "1",
         "Steak Burrito",
         "[Fresh Tomato Salsa, [Rice, Black Beans, Pinto Beans, Cheese, Sour Cream, Lettuce]]",
         "$9.25 "
        ]
       ],
       "shape": {
        "columns": 5,
        "rows": 10
       }
      },
      "text/html": [
       "<div>\n",
       "<style scoped>\n",
       "    .dataframe tbody tr th:only-of-type {\n",
       "        vertical-align: middle;\n",
       "    }\n",
       "\n",
       "    .dataframe tbody tr th {\n",
       "        vertical-align: top;\n",
       "    }\n",
       "\n",
       "    .dataframe thead th {\n",
       "        text-align: right;\n",
       "    }\n",
       "</style>\n",
       "<table border=\"1\" class=\"dataframe\">\n",
       "  <thead>\n",
       "    <tr style=\"text-align: right;\">\n",
       "      <th></th>\n",
       "      <th>order_id</th>\n",
       "      <th>quantity</th>\n",
       "      <th>item_name</th>\n",
       "      <th>choice_description</th>\n",
       "      <th>item_price</th>\n",
       "    </tr>\n",
       "  </thead>\n",
       "  <tbody>\n",
       "    <tr>\n",
       "      <th>0</th>\n",
       "      <td>1</td>\n",
       "      <td>1</td>\n",
       "      <td>Chips and Fresh Tomato Salsa</td>\n",
       "      <td>NaN</td>\n",
       "      <td>$2.39</td>\n",
       "    </tr>\n",
       "    <tr>\n",
       "      <th>1</th>\n",
       "      <td>1</td>\n",
       "      <td>1</td>\n",
       "      <td>Izze</td>\n",
       "      <td>[Clementine]</td>\n",
       "      <td>$3.39</td>\n",
       "    </tr>\n",
       "    <tr>\n",
       "      <th>2</th>\n",
       "      <td>1</td>\n",
       "      <td>1</td>\n",
       "      <td>Nantucket Nectar</td>\n",
       "      <td>[Apple]</td>\n",
       "      <td>$3.39</td>\n",
       "    </tr>\n",
       "    <tr>\n",
       "      <th>3</th>\n",
       "      <td>1</td>\n",
       "      <td>1</td>\n",
       "      <td>Chips and Tomatillo-Green Chili Salsa</td>\n",
       "      <td>NaN</td>\n",
       "      <td>$2.39</td>\n",
       "    </tr>\n",
       "    <tr>\n",
       "      <th>4</th>\n",
       "      <td>2</td>\n",
       "      <td>2</td>\n",
       "      <td>Chicken Bowl</td>\n",
       "      <td>[Tomatillo-Red Chili Salsa (Hot), [Black Beans...</td>\n",
       "      <td>$16.98</td>\n",
       "    </tr>\n",
       "    <tr>\n",
       "      <th>5</th>\n",
       "      <td>3</td>\n",
       "      <td>1</td>\n",
       "      <td>Chicken Bowl</td>\n",
       "      <td>[Fresh Tomato Salsa (Mild), [Rice, Cheese, Sou...</td>\n",
       "      <td>$10.98</td>\n",
       "    </tr>\n",
       "    <tr>\n",
       "      <th>6</th>\n",
       "      <td>3</td>\n",
       "      <td>1</td>\n",
       "      <td>Side of Chips</td>\n",
       "      <td>NaN</td>\n",
       "      <td>$1.69</td>\n",
       "    </tr>\n",
       "    <tr>\n",
       "      <th>7</th>\n",
       "      <td>4</td>\n",
       "      <td>1</td>\n",
       "      <td>Steak Burrito</td>\n",
       "      <td>[Tomatillo Red Chili Salsa, [Fajita Vegetables...</td>\n",
       "      <td>$11.75</td>\n",
       "    </tr>\n",
       "    <tr>\n",
       "      <th>8</th>\n",
       "      <td>4</td>\n",
       "      <td>1</td>\n",
       "      <td>Steak Soft Tacos</td>\n",
       "      <td>[Tomatillo Green Chili Salsa, [Pinto Beans, Ch...</td>\n",
       "      <td>$9.25</td>\n",
       "    </tr>\n",
       "    <tr>\n",
       "      <th>9</th>\n",
       "      <td>5</td>\n",
       "      <td>1</td>\n",
       "      <td>Steak Burrito</td>\n",
       "      <td>[Fresh Tomato Salsa, [Rice, Black Beans, Pinto...</td>\n",
       "      <td>$9.25</td>\n",
       "    </tr>\n",
       "  </tbody>\n",
       "</table>\n",
       "</div>"
      ],
      "text/plain": [
       "   order_id  quantity                              item_name  \\\n",
       "0         1         1           Chips and Fresh Tomato Salsa   \n",
       "1         1         1                                   Izze   \n",
       "2         1         1                       Nantucket Nectar   \n",
       "3         1         1  Chips and Tomatillo-Green Chili Salsa   \n",
       "4         2         2                           Chicken Bowl   \n",
       "5         3         1                           Chicken Bowl   \n",
       "6         3         1                          Side of Chips   \n",
       "7         4         1                          Steak Burrito   \n",
       "8         4         1                       Steak Soft Tacos   \n",
       "9         5         1                          Steak Burrito   \n",
       "\n",
       "                                  choice_description item_price  \n",
       "0                                                NaN     $2.39   \n",
       "1                                       [Clementine]     $3.39   \n",
       "2                                            [Apple]     $3.39   \n",
       "3                                                NaN     $2.39   \n",
       "4  [Tomatillo-Red Chili Salsa (Hot), [Black Beans...    $16.98   \n",
       "5  [Fresh Tomato Salsa (Mild), [Rice, Cheese, Sou...    $10.98   \n",
       "6                                                NaN     $1.69   \n",
       "7  [Tomatillo Red Chili Salsa, [Fajita Vegetables...    $11.75   \n",
       "8  [Tomatillo Green Chili Salsa, [Pinto Beans, Ch...     $9.25   \n",
       "9  [Fresh Tomato Salsa, [Rice, Black Beans, Pinto...     $9.25   "
      ]
     },
     "execution_count": 3,
     "metadata": {},
     "output_type": "execute_result"
    }
   ],
   "source": [
    "chipo.head(10)"
   ]
  },
  {
   "cell_type": "markdown",
   "metadata": {},
   "source": [
    "### Step 5. "
   ]
  },
  {
   "cell_type": "code",
   "execution_count": 4,
   "metadata": {
    "collapsed": false
   },
   "outputs": [
    {
     "data": {
      "application/vnd.microsoft.datawrangler.viewer.v0+json": {
       "columns": [
        {
         "name": "order_id",
         "rawType": "int64",
         "type": "integer"
        },
        {
         "name": "quantity",
         "rawType": "int64",
         "type": "integer"
        },
        {
         "name": "item_name",
         "rawType": "object",
         "type": "string"
        },
        {
         "name": "choice_description",
         "rawType": "object",
         "type": "unknown"
        },
        {
         "name": "item_price",
         "rawType": "object",
         "type": "string"
        }
       ],
       "ref": "935c68eb-2c54-4a71-a493-8714189f6786",
       "rows": [
        [
         "1",
         "1",
         "Chips and Fresh Tomato Salsa",
         null,
         "$2.39 "
        ],
        [
         "1",
         "1",
         "Izze",
         "[Clementine]",
         "$3.39 "
        ],
        [
         "1",
         "1",
         "Nantucket Nectar",
         "[Apple]",
         "$3.39 "
        ],
        [
         "1",
         "1",
         "Chips and Tomatillo-Green Chili Salsa",
         null,
         "$2.39 "
        ],
        [
         "2",
         "2",
         "Chicken Bowl",
         "[Tomatillo-Red Chili Salsa (Hot), [Black Beans, Rice, Cheese, Sour Cream]]",
         "$16.98 "
        ],
        [
         "3",
         "1",
         "Chicken Bowl",
         "[Fresh Tomato Salsa (Mild), [Rice, Cheese, Sour Cream, Guacamole, Lettuce]]",
         "$10.98 "
        ],
        [
         "3",
         "1",
         "Side of Chips",
         null,
         "$1.69 "
        ],
        [
         "4",
         "1",
         "Steak Burrito",
         "[Tomatillo Red Chili Salsa, [Fajita Vegetables, Black Beans, Pinto Beans, Cheese, Sour Cream, Guacamole, Lettuce]]",
         "$11.75 "
        ],
        [
         "4",
         "1",
         "Steak Soft Tacos",
         "[Tomatillo Green Chili Salsa, [Pinto Beans, Cheese, Sour Cream, Lettuce]]",
         "$9.25 "
        ],
        [
         "5",
         "1",
         "Steak Burrito",
         "[Fresh Tomato Salsa, [Rice, Black Beans, Pinto Beans, Cheese, Sour Cream, Lettuce]]",
         "$9.25 "
        ],
        [
         "5",
         "1",
         "Chips and Guacamole",
         null,
         "$4.45 "
        ],
        [
         "6",
         "1",
         "Chicken Crispy Tacos",
         "[Roasted Chili Corn Salsa, [Fajita Vegetables, Rice, Black Beans, Cheese, Sour Cream]]",
         "$8.75 "
        ],
        [
         "6",
         "1",
         "Chicken Soft Tacos",
         "[Roasted Chili Corn Salsa, [Rice, Black Beans, Cheese, Sour Cream]]",
         "$8.75 "
        ],
        [
         "7",
         "1",
         "Chicken Bowl",
         "[Fresh Tomato Salsa, [Fajita Vegetables, Rice, Cheese, Sour Cream, Guacamole]]",
         "$11.25 "
        ],
        [
         "7",
         "1",
         "Chips and Guacamole",
         null,
         "$4.45 "
        ],
        [
         "8",
         "1",
         "Chips and Tomatillo-Green Chili Salsa",
         null,
         "$2.39 "
        ],
        [
         "8",
         "1",
         "Chicken Burrito",
         "[Tomatillo-Green Chili Salsa (Medium), [Pinto Beans, Cheese, Sour Cream]]",
         "$8.49 "
        ],
        [
         "9",
         "1",
         "Chicken Burrito",
         "[Fresh Tomato Salsa (Mild), [Black Beans, Rice, Cheese, Sour Cream, Lettuce]]",
         "$8.49 "
        ],
        [
         "9",
         "2",
         "Canned Soda",
         "[Sprite]",
         "$2.18 "
        ],
        [
         "10",
         "1",
         "Chicken Bowl",
         "[Tomatillo Red Chili Salsa, [Fajita Vegetables, Black Beans, Sour Cream, Cheese, Lettuce]]",
         "$8.75 "
        ],
        [
         "10",
         "1",
         "Chips and Guacamole",
         null,
         "$4.45 "
        ],
        [
         "11",
         "1",
         "Barbacoa Burrito",
         "[[Fresh Tomato Salsa (Mild), Tomatillo-Green Chili Salsa (Medium), Tomatillo-Red Chili Salsa (Hot)], [Rice, Cheese, Sour Cream, Lettuce]]",
         "$8.99 "
        ],
        [
         "11",
         "1",
         "Nantucket Nectar",
         "[Pomegranate Cherry]",
         "$3.39 "
        ],
        [
         "12",
         "1",
         "Chicken Burrito",
         "[[Tomatillo-Green Chili Salsa (Medium), Tomatillo-Red Chili Salsa (Hot)], [Pinto Beans, Rice, Cheese, Sour Cream, Guacamole, Lettuce]]",
         "$10.98 "
        ],
        [
         "12",
         "1",
         "Izze",
         "[Grapefruit]",
         "$3.39 "
        ],
        [
         "13",
         "1",
         "Chips and Fresh Tomato Salsa",
         null,
         "$2.39 "
        ],
        [
         "13",
         "1",
         "Chicken Bowl",
         "[Roasted Chili Corn Salsa (Medium), [Pinto Beans, Rice, Fajita Veggies, Cheese, Sour Cream, Lettuce]]",
         "$8.49 "
        ],
        [
         "14",
         "1",
         "Carnitas Burrito",
         "[[Tomatillo-Green Chili Salsa (Medium), Roasted Chili Corn Salsa (Medium)], [Black Beans, Rice, Sour Cream, Lettuce]]",
         "$8.99 "
        ],
        [
         "14",
         "1",
         "Canned Soda",
         "[Dr. Pepper]",
         "$1.09 "
        ],
        [
         "15",
         "1",
         "Chicken Burrito",
         "[Tomatillo-Green Chili Salsa (Medium), [Pinto Beans, Rice, Cheese, Sour Cream]]",
         "$8.49 "
        ],
        [
         "15",
         "1",
         "Chips and Tomatillo-Green Chili Salsa",
         null,
         "$2.39 "
        ],
        [
         "16",
         "1",
         "Steak Burrito",
         "[[Roasted Chili Corn Salsa (Medium), Fresh Tomato Salsa (Mild)], [Rice, Black Beans, Sour Cream]]",
         "$8.99 "
        ],
        [
         "16",
         "1",
         "Side of Chips",
         null,
         "$1.69 "
        ],
        [
         "17",
         "1",
         "Carnitas Bowl",
         "[Tomatillo-Red Chili Salsa (Hot), [Black Beans, Rice, Fajita Veggies, Cheese, Sour Cream, Lettuce]]",
         "$8.99 "
        ],
        [
         "17",
         "1",
         "Bottled Water",
         null,
         "$1.09 "
        ],
        [
         "18",
         "1",
         "Chicken Soft Tacos",
         "[Roasted Chili Corn Salsa, Rice]",
         "$8.75 "
        ],
        [
         "18",
         "1",
         "Chicken Soft Tacos",
         "[Roasted Chili Corn Salsa, [Cheese, Lettuce]]",
         "$8.75 "
        ],
        [
         "18",
         "1",
         "Chips and Guacamole",
         null,
         "$4.45 "
        ],
        [
         "18",
         "1",
         "Chips and Tomatillo Green Chili Salsa",
         null,
         "$2.95 "
        ],
        [
         "19",
         "1",
         "Barbacoa Bowl",
         "[Roasted Chili Corn Salsa, [Fajita Vegetables, Rice, Black Beans, Cheese, Sour Cream, Guacamole, Lettuce]]",
         "$11.75 "
        ],
        [
         "19",
         "1",
         "Chips",
         null,
         "$2.15 "
        ],
        [
         "20",
         "1",
         "Chips and Guacamole",
         null,
         "$4.45 "
        ],
        [
         "20",
         "1",
         "Chicken Bowl",
         "[Roasted Chili Corn Salsa, [Rice, Black Beans, Cheese, Sour Cream, Guacamole, Lettuce]]",
         "$11.25 "
        ],
        [
         "20",
         "1",
         "Steak Burrito",
         "[Fresh Tomato Salsa, [Rice, Pinto Beans, Cheese, Sour Cream, Guacamole, Lettuce]]",
         "$11.75 "
        ],
        [
         "20",
         "1",
         "Chicken Salad Bowl",
         "[Fresh Tomato Salsa, [Fajita Vegetables, Pinto Beans, Lettuce]]",
         "$8.75 "
        ],
        [
         "21",
         "1",
         "Chicken Burrito",
         "[Tomatillo-Red Chili Salsa (Hot), [Black Beans, Fajita Veggies, Cheese, Sour Cream, Guacamole, Lettuce]]",
         "$10.98 "
        ],
        [
         "21",
         "1",
         "Steak Burrito",
         "[Tomatillo-Red Chili Salsa (Hot), [Rice, Fajita Veggies, Cheese]]",
         "$8.99 "
        ],
        [
         "21",
         "1",
         "Izze",
         "[Blackberry]",
         "$3.39 "
        ],
        [
         "22",
         "1",
         "Steak Burrito",
         "[[Fresh Tomato Salsa (Mild), Roasted Chili Corn Salsa (Medium), Tomatillo-Red Chili Salsa (Hot)], [Black Beans, Rice, Sour Cream]]",
         "$8.99 "
        ],
        [
         "22",
         "1",
         "Chips and Guacamole",
         null,
         "$3.99 "
        ]
       ],
       "shape": {
        "columns": 4,
        "rows": 4622
       }
      },
      "text/html": [
       "<div>\n",
       "<style scoped>\n",
       "    .dataframe tbody tr th:only-of-type {\n",
       "        vertical-align: middle;\n",
       "    }\n",
       "\n",
       "    .dataframe tbody tr th {\n",
       "        vertical-align: top;\n",
       "    }\n",
       "\n",
       "    .dataframe thead th {\n",
       "        text-align: right;\n",
       "    }\n",
       "</style>\n",
       "<table border=\"1\" class=\"dataframe\">\n",
       "  <thead>\n",
       "    <tr style=\"text-align: right;\">\n",
       "      <th></th>\n",
       "      <th>quantity</th>\n",
       "      <th>item_name</th>\n",
       "      <th>choice_description</th>\n",
       "      <th>item_price</th>\n",
       "    </tr>\n",
       "    <tr>\n",
       "      <th>order_id</th>\n",
       "      <th></th>\n",
       "      <th></th>\n",
       "      <th></th>\n",
       "      <th></th>\n",
       "    </tr>\n",
       "  </thead>\n",
       "  <tbody>\n",
       "    <tr>\n",
       "      <th>1</th>\n",
       "      <td>1</td>\n",
       "      <td>Chips and Fresh Tomato Salsa</td>\n",
       "      <td>NaN</td>\n",
       "      <td>$2.39</td>\n",
       "    </tr>\n",
       "    <tr>\n",
       "      <th>1</th>\n",
       "      <td>1</td>\n",
       "      <td>Izze</td>\n",
       "      <td>[Clementine]</td>\n",
       "      <td>$3.39</td>\n",
       "    </tr>\n",
       "    <tr>\n",
       "      <th>1</th>\n",
       "      <td>1</td>\n",
       "      <td>Nantucket Nectar</td>\n",
       "      <td>[Apple]</td>\n",
       "      <td>$3.39</td>\n",
       "    </tr>\n",
       "    <tr>\n",
       "      <th>1</th>\n",
       "      <td>1</td>\n",
       "      <td>Chips and Tomatillo-Green Chili Salsa</td>\n",
       "      <td>NaN</td>\n",
       "      <td>$2.39</td>\n",
       "    </tr>\n",
       "    <tr>\n",
       "      <th>2</th>\n",
       "      <td>2</td>\n",
       "      <td>Chicken Bowl</td>\n",
       "      <td>[Tomatillo-Red Chili Salsa (Hot), [Black Beans...</td>\n",
       "      <td>$16.98</td>\n",
       "    </tr>\n",
       "    <tr>\n",
       "      <th>...</th>\n",
       "      <td>...</td>\n",
       "      <td>...</td>\n",
       "      <td>...</td>\n",
       "      <td>...</td>\n",
       "    </tr>\n",
       "    <tr>\n",
       "      <th>1833</th>\n",
       "      <td>1</td>\n",
       "      <td>Steak Burrito</td>\n",
       "      <td>[Fresh Tomato Salsa, [Rice, Black Beans, Sour ...</td>\n",
       "      <td>$11.75</td>\n",
       "    </tr>\n",
       "    <tr>\n",
       "      <th>1833</th>\n",
       "      <td>1</td>\n",
       "      <td>Steak Burrito</td>\n",
       "      <td>[Fresh Tomato Salsa, [Rice, Sour Cream, Cheese...</td>\n",
       "      <td>$11.75</td>\n",
       "    </tr>\n",
       "    <tr>\n",
       "      <th>1834</th>\n",
       "      <td>1</td>\n",
       "      <td>Chicken Salad Bowl</td>\n",
       "      <td>[Fresh Tomato Salsa, [Fajita Vegetables, Pinto...</td>\n",
       "      <td>$11.25</td>\n",
       "    </tr>\n",
       "    <tr>\n",
       "      <th>1834</th>\n",
       "      <td>1</td>\n",
       "      <td>Chicken Salad Bowl</td>\n",
       "      <td>[Fresh Tomato Salsa, [Fajita Vegetables, Lettu...</td>\n",
       "      <td>$8.75</td>\n",
       "    </tr>\n",
       "    <tr>\n",
       "      <th>1834</th>\n",
       "      <td>1</td>\n",
       "      <td>Chicken Salad Bowl</td>\n",
       "      <td>[Fresh Tomato Salsa, [Fajita Vegetables, Pinto...</td>\n",
       "      <td>$8.75</td>\n",
       "    </tr>\n",
       "  </tbody>\n",
       "</table>\n",
       "<p>4622 rows × 4 columns</p>\n",
       "</div>"
      ],
      "text/plain": [
       "          quantity                              item_name  \\\n",
       "order_id                                                    \n",
       "1                1           Chips and Fresh Tomato Salsa   \n",
       "1                1                                   Izze   \n",
       "1                1                       Nantucket Nectar   \n",
       "1                1  Chips and Tomatillo-Green Chili Salsa   \n",
       "2                2                           Chicken Bowl   \n",
       "...            ...                                    ...   \n",
       "1833             1                          Steak Burrito   \n",
       "1833             1                          Steak Burrito   \n",
       "1834             1                     Chicken Salad Bowl   \n",
       "1834             1                     Chicken Salad Bowl   \n",
       "1834             1                     Chicken Salad Bowl   \n",
       "\n",
       "                                         choice_description item_price  \n",
       "order_id                                                                \n",
       "1                                                       NaN     $2.39   \n",
       "1                                              [Clementine]     $3.39   \n",
       "1                                                   [Apple]     $3.39   \n",
       "1                                                       NaN     $2.39   \n",
       "2         [Tomatillo-Red Chili Salsa (Hot), [Black Beans...    $16.98   \n",
       "...                                                     ...        ...  \n",
       "1833      [Fresh Tomato Salsa, [Rice, Black Beans, Sour ...    $11.75   \n",
       "1833      [Fresh Tomato Salsa, [Rice, Sour Cream, Cheese...    $11.75   \n",
       "1834      [Fresh Tomato Salsa, [Fajita Vegetables, Pinto...    $11.25   \n",
       "1834      [Fresh Tomato Salsa, [Fajita Vegetables, Lettu...     $8.75   \n",
       "1834      [Fresh Tomato Salsa, [Fajita Vegetables, Pinto...     $8.75   \n",
       "\n",
       "[4622 rows x 4 columns]"
      ]
     },
     "execution_count": 4,
     "metadata": {},
     "output_type": "execute_result"
    }
   ],
   "source": [
    "chipo.set_index('order_id', inplace=True)\n",
    "chipo"
   ]
  },
  {
   "cell_type": "markdown",
   "metadata": {},
   "source": [
    "### Step 6. "
   ]
  },
  {
   "cell_type": "code",
   "execution_count": 5,
   "metadata": {
    "collapsed": true
   },
   "outputs": [
    {
     "data": {
      "application/vnd.microsoft.datawrangler.viewer.v0+json": {
       "columns": [
        {
         "name": "order_id",
         "rawType": "int64",
         "type": "integer"
        },
        {
         "name": "quantity",
         "rawType": "int64",
         "type": "integer"
        },
        {
         "name": "item_name",
         "rawType": "object",
         "type": "string"
        },
        {
         "name": "choice_description",
         "rawType": "object",
         "type": "unknown"
        },
        {
         "name": "item_price",
         "rawType": "object",
         "type": "string"
        }
       ],
       "ref": "316346fd-d97f-4b8f-826d-742a877215aa",
       "rows": [
        [
         "1",
         "1",
         "Chips and Fresh Tomato Salsa",
         null,
         "$2.39 "
        ],
        [
         "1",
         "1",
         "Izze",
         "[Clementine]",
         "$3.39 "
        ],
        [
         "1",
         "1",
         "Nantucket Nectar",
         "[Apple]",
         "$3.39 "
        ],
        [
         "1",
         "1",
         "Chips and Tomatillo-Green Chili Salsa",
         null,
         "$2.39 "
        ],
        [
         "2",
         "2",
         "Chicken Bowl",
         "[Tomatillo-Red Chili Salsa (Hot), [Black Beans, Rice, Cheese, Sour Cream]]",
         "$16.98 "
        ],
        [
         "3",
         "1",
         "Chicken Bowl",
         "[Fresh Tomato Salsa (Mild), [Rice, Cheese, Sour Cream, Guacamole, Lettuce]]",
         "$10.98 "
        ],
        [
         "3",
         "1",
         "Side of Chips",
         null,
         "$1.69 "
        ],
        [
         "4",
         "1",
         "Steak Burrito",
         "[Tomatillo Red Chili Salsa, [Fajita Vegetables, Black Beans, Pinto Beans, Cheese, Sour Cream, Guacamole, Lettuce]]",
         "$11.75 "
        ],
        [
         "4",
         "1",
         "Steak Soft Tacos",
         "[Tomatillo Green Chili Salsa, [Pinto Beans, Cheese, Sour Cream, Lettuce]]",
         "$9.25 "
        ],
        [
         "5",
         "1",
         "Steak Burrito",
         "[Fresh Tomato Salsa, [Rice, Black Beans, Pinto Beans, Cheese, Sour Cream, Lettuce]]",
         "$9.25 "
        ],
        [
         "5",
         "1",
         "Chips and Guacamole",
         null,
         "$4.45 "
        ],
        [
         "6",
         "1",
         "Chicken Crispy Tacos",
         "[Roasted Chili Corn Salsa, [Fajita Vegetables, Rice, Black Beans, Cheese, Sour Cream]]",
         "$8.75 "
        ],
        [
         "6",
         "1",
         "Chicken Soft Tacos",
         "[Roasted Chili Corn Salsa, [Rice, Black Beans, Cheese, Sour Cream]]",
         "$8.75 "
        ],
        [
         "7",
         "1",
         "Chicken Bowl",
         "[Fresh Tomato Salsa, [Fajita Vegetables, Rice, Cheese, Sour Cream, Guacamole]]",
         "$11.25 "
        ],
        [
         "7",
         "1",
         "Chips and Guacamole",
         null,
         "$4.45 "
        ],
        [
         "8",
         "1",
         "Chips and Tomatillo-Green Chili Salsa",
         null,
         "$2.39 "
        ],
        [
         "8",
         "1",
         "Chicken Burrito",
         "[Tomatillo-Green Chili Salsa (Medium), [Pinto Beans, Cheese, Sour Cream]]",
         "$8.49 "
        ],
        [
         "9",
         "1",
         "Chicken Burrito",
         "[Fresh Tomato Salsa (Mild), [Black Beans, Rice, Cheese, Sour Cream, Lettuce]]",
         "$8.49 "
        ],
        [
         "9",
         "2",
         "Canned Soda",
         "[Sprite]",
         "$2.18 "
        ],
        [
         "10",
         "1",
         "Chicken Bowl",
         "[Tomatillo Red Chili Salsa, [Fajita Vegetables, Black Beans, Sour Cream, Cheese, Lettuce]]",
         "$8.75 "
        ],
        [
         "10",
         "1",
         "Chips and Guacamole",
         null,
         "$4.45 "
        ],
        [
         "11",
         "1",
         "Barbacoa Burrito",
         "[[Fresh Tomato Salsa (Mild), Tomatillo-Green Chili Salsa (Medium), Tomatillo-Red Chili Salsa (Hot)], [Rice, Cheese, Sour Cream, Lettuce]]",
         "$8.99 "
        ],
        [
         "11",
         "1",
         "Nantucket Nectar",
         "[Pomegranate Cherry]",
         "$3.39 "
        ],
        [
         "12",
         "1",
         "Chicken Burrito",
         "[[Tomatillo-Green Chili Salsa (Medium), Tomatillo-Red Chili Salsa (Hot)], [Pinto Beans, Rice, Cheese, Sour Cream, Guacamole, Lettuce]]",
         "$10.98 "
        ],
        [
         "12",
         "1",
         "Izze",
         "[Grapefruit]",
         "$3.39 "
        ],
        [
         "13",
         "1",
         "Chips and Fresh Tomato Salsa",
         null,
         "$2.39 "
        ],
        [
         "13",
         "1",
         "Chicken Bowl",
         "[Roasted Chili Corn Salsa (Medium), [Pinto Beans, Rice, Fajita Veggies, Cheese, Sour Cream, Lettuce]]",
         "$8.49 "
        ],
        [
         "14",
         "1",
         "Carnitas Burrito",
         "[[Tomatillo-Green Chili Salsa (Medium), Roasted Chili Corn Salsa (Medium)], [Black Beans, Rice, Sour Cream, Lettuce]]",
         "$8.99 "
        ],
        [
         "14",
         "1",
         "Canned Soda",
         "[Dr. Pepper]",
         "$1.09 "
        ],
        [
         "15",
         "1",
         "Chicken Burrito",
         "[Tomatillo-Green Chili Salsa (Medium), [Pinto Beans, Rice, Cheese, Sour Cream]]",
         "$8.49 "
        ],
        [
         "15",
         "1",
         "Chips and Tomatillo-Green Chili Salsa",
         null,
         "$2.39 "
        ],
        [
         "16",
         "1",
         "Steak Burrito",
         "[[Roasted Chili Corn Salsa (Medium), Fresh Tomato Salsa (Mild)], [Rice, Black Beans, Sour Cream]]",
         "$8.99 "
        ],
        [
         "16",
         "1",
         "Side of Chips",
         null,
         "$1.69 "
        ],
        [
         "17",
         "1",
         "Carnitas Bowl",
         "[Tomatillo-Red Chili Salsa (Hot), [Black Beans, Rice, Fajita Veggies, Cheese, Sour Cream, Lettuce]]",
         "$8.99 "
        ],
        [
         "17",
         "1",
         "Bottled Water",
         null,
         "$1.09 "
        ],
        [
         "18",
         "1",
         "Chicken Soft Tacos",
         "[Roasted Chili Corn Salsa, Rice]",
         "$8.75 "
        ],
        [
         "18",
         "1",
         "Chicken Soft Tacos",
         "[Roasted Chili Corn Salsa, [Cheese, Lettuce]]",
         "$8.75 "
        ],
        [
         "18",
         "1",
         "Chips and Guacamole",
         null,
         "$4.45 "
        ],
        [
         "18",
         "1",
         "Chips and Tomatillo Green Chili Salsa",
         null,
         "$2.95 "
        ],
        [
         "19",
         "1",
         "Barbacoa Bowl",
         "[Roasted Chili Corn Salsa, [Fajita Vegetables, Rice, Black Beans, Cheese, Sour Cream, Guacamole, Lettuce]]",
         "$11.75 "
        ],
        [
         "19",
         "1",
         "Chips",
         null,
         "$2.15 "
        ],
        [
         "20",
         "1",
         "Chips and Guacamole",
         null,
         "$4.45 "
        ],
        [
         "20",
         "1",
         "Chicken Bowl",
         "[Roasted Chili Corn Salsa, [Rice, Black Beans, Cheese, Sour Cream, Guacamole, Lettuce]]",
         "$11.25 "
        ],
        [
         "20",
         "1",
         "Steak Burrito",
         "[Fresh Tomato Salsa, [Rice, Pinto Beans, Cheese, Sour Cream, Guacamole, Lettuce]]",
         "$11.75 "
        ],
        [
         "20",
         "1",
         "Chicken Salad Bowl",
         "[Fresh Tomato Salsa, [Fajita Vegetables, Pinto Beans, Lettuce]]",
         "$8.75 "
        ],
        [
         "21",
         "1",
         "Chicken Burrito",
         "[Tomatillo-Red Chili Salsa (Hot), [Black Beans, Fajita Veggies, Cheese, Sour Cream, Guacamole, Lettuce]]",
         "$10.98 "
        ],
        [
         "21",
         "1",
         "Steak Burrito",
         "[Tomatillo-Red Chili Salsa (Hot), [Rice, Fajita Veggies, Cheese]]",
         "$8.99 "
        ],
        [
         "21",
         "1",
         "Izze",
         "[Blackberry]",
         "$3.39 "
        ],
        [
         "22",
         "1",
         "Steak Burrito",
         "[[Fresh Tomato Salsa (Mild), Roasted Chili Corn Salsa (Medium), Tomatillo-Red Chili Salsa (Hot)], [Black Beans, Rice, Sour Cream]]",
         "$8.99 "
        ],
        [
         "22",
         "1",
         "Chips and Guacamole",
         null,
         "$3.99 "
        ]
       ],
       "shape": {
        "columns": 4,
        "rows": 4622
       }
      },
      "text/html": [
       "<div>\n",
       "<style scoped>\n",
       "    .dataframe tbody tr th:only-of-type {\n",
       "        vertical-align: middle;\n",
       "    }\n",
       "\n",
       "    .dataframe tbody tr th {\n",
       "        vertical-align: top;\n",
       "    }\n",
       "\n",
       "    .dataframe thead th {\n",
       "        text-align: right;\n",
       "    }\n",
       "</style>\n",
       "<table border=\"1\" class=\"dataframe\">\n",
       "  <thead>\n",
       "    <tr style=\"text-align: right;\">\n",
       "      <th></th>\n",
       "      <th>quantity</th>\n",
       "      <th>item_name</th>\n",
       "      <th>choice_description</th>\n",
       "      <th>item_price</th>\n",
       "    </tr>\n",
       "    <tr>\n",
       "      <th>order_id</th>\n",
       "      <th></th>\n",
       "      <th></th>\n",
       "      <th></th>\n",
       "      <th></th>\n",
       "    </tr>\n",
       "  </thead>\n",
       "  <tbody>\n",
       "    <tr>\n",
       "      <th>1</th>\n",
       "      <td>1</td>\n",
       "      <td>Chips and Fresh Tomato Salsa</td>\n",
       "      <td>NaN</td>\n",
       "      <td>$2.39</td>\n",
       "    </tr>\n",
       "    <tr>\n",
       "      <th>1</th>\n",
       "      <td>1</td>\n",
       "      <td>Izze</td>\n",
       "      <td>[Clementine]</td>\n",
       "      <td>$3.39</td>\n",
       "    </tr>\n",
       "    <tr>\n",
       "      <th>1</th>\n",
       "      <td>1</td>\n",
       "      <td>Nantucket Nectar</td>\n",
       "      <td>[Apple]</td>\n",
       "      <td>$3.39</td>\n",
       "    </tr>\n",
       "    <tr>\n",
       "      <th>1</th>\n",
       "      <td>1</td>\n",
       "      <td>Chips and Tomatillo-Green Chili Salsa</td>\n",
       "      <td>NaN</td>\n",
       "      <td>$2.39</td>\n",
       "    </tr>\n",
       "    <tr>\n",
       "      <th>2</th>\n",
       "      <td>2</td>\n",
       "      <td>Chicken Bowl</td>\n",
       "      <td>[Tomatillo-Red Chili Salsa (Hot), [Black Beans...</td>\n",
       "      <td>$16.98</td>\n",
       "    </tr>\n",
       "    <tr>\n",
       "      <th>...</th>\n",
       "      <td>...</td>\n",
       "      <td>...</td>\n",
       "      <td>...</td>\n",
       "      <td>...</td>\n",
       "    </tr>\n",
       "    <tr>\n",
       "      <th>1833</th>\n",
       "      <td>1</td>\n",
       "      <td>Steak Burrito</td>\n",
       "      <td>[Fresh Tomato Salsa, [Rice, Black Beans, Sour ...</td>\n",
       "      <td>$11.75</td>\n",
       "    </tr>\n",
       "    <tr>\n",
       "      <th>1833</th>\n",
       "      <td>1</td>\n",
       "      <td>Steak Burrito</td>\n",
       "      <td>[Fresh Tomato Salsa, [Rice, Sour Cream, Cheese...</td>\n",
       "      <td>$11.75</td>\n",
       "    </tr>\n",
       "    <tr>\n",
       "      <th>1834</th>\n",
       "      <td>1</td>\n",
       "      <td>Chicken Salad Bowl</td>\n",
       "      <td>[Fresh Tomato Salsa, [Fajita Vegetables, Pinto...</td>\n",
       "      <td>$11.25</td>\n",
       "    </tr>\n",
       "    <tr>\n",
       "      <th>1834</th>\n",
       "      <td>1</td>\n",
       "      <td>Chicken Salad Bowl</td>\n",
       "      <td>[Fresh Tomato Salsa, [Fajita Vegetables, Lettu...</td>\n",
       "      <td>$8.75</td>\n",
       "    </tr>\n",
       "    <tr>\n",
       "      <th>1834</th>\n",
       "      <td>1</td>\n",
       "      <td>Chicken Salad Bowl</td>\n",
       "      <td>[Fresh Tomato Salsa, [Fajita Vegetables, Pinto...</td>\n",
       "      <td>$8.75</td>\n",
       "    </tr>\n",
       "  </tbody>\n",
       "</table>\n",
       "<p>4622 rows × 4 columns</p>\n",
       "</div>"
      ],
      "text/plain": [
       "          quantity                              item_name  \\\n",
       "order_id                                                    \n",
       "1                1           Chips and Fresh Tomato Salsa   \n",
       "1                1                                   Izze   \n",
       "1                1                       Nantucket Nectar   \n",
       "1                1  Chips and Tomatillo-Green Chili Salsa   \n",
       "2                2                           Chicken Bowl   \n",
       "...            ...                                    ...   \n",
       "1833             1                          Steak Burrito   \n",
       "1833             1                          Steak Burrito   \n",
       "1834             1                     Chicken Salad Bowl   \n",
       "1834             1                     Chicken Salad Bowl   \n",
       "1834             1                     Chicken Salad Bowl   \n",
       "\n",
       "                                         choice_description item_price  \n",
       "order_id                                                                \n",
       "1                                                       NaN     $2.39   \n",
       "1                                              [Clementine]     $3.39   \n",
       "1                                                   [Apple]     $3.39   \n",
       "1                                                       NaN     $2.39   \n",
       "2         [Tomatillo-Red Chili Salsa (Hot), [Black Beans...    $16.98   \n",
       "...                                                     ...        ...  \n",
       "1833      [Fresh Tomato Salsa, [Rice, Black Beans, Sour ...    $11.75   \n",
       "1833      [Fresh Tomato Salsa, [Rice, Sour Cream, Cheese...    $11.75   \n",
       "1834      [Fresh Tomato Salsa, [Fajita Vegetables, Pinto...    $11.25   \n",
       "1834      [Fresh Tomato Salsa, [Fajita Vegetables, Lettu...     $8.75   \n",
       "1834      [Fresh Tomato Salsa, [Fajita Vegetables, Pinto...     $8.75   \n",
       "\n",
       "[4622 rows x 4 columns]"
      ]
     },
     "execution_count": 5,
     "metadata": {},
     "output_type": "execute_result"
    }
   ],
   "source": [
    "chipo.sort_index(inplace=True)\n",
    "chipo"
   ]
  },
  {
   "cell_type": "markdown",
   "metadata": {},
   "source": [
    "### Step 7. "
   ]
  },
  {
   "cell_type": "code",
   "execution_count": 6,
   "metadata": {
    "collapsed": false
   },
   "outputs": [
    {
     "data": {
      "application/vnd.microsoft.datawrangler.viewer.v0+json": {
       "columns": [
        {
         "name": "index",
         "rawType": "int64",
         "type": "integer"
        },
        {
         "name": "order_id",
         "rawType": "int64",
         "type": "integer"
        },
        {
         "name": "quantity",
         "rawType": "int64",
         "type": "integer"
        },
        {
         "name": "item_name",
         "rawType": "object",
         "type": "string"
        },
        {
         "name": "choice_description",
         "rawType": "object",
         "type": "unknown"
        },
        {
         "name": "item_price",
         "rawType": "object",
         "type": "string"
        }
       ],
       "ref": "764a845b-b359-43e0-ad12-82bb36de123d",
       "rows": [
        [
         "0",
         "1",
         "1",
         "Chips and Fresh Tomato Salsa",
         null,
         "$2.39 "
        ],
        [
         "1",
         "1",
         "1",
         "Izze",
         "[Clementine]",
         "$3.39 "
        ],
        [
         "2",
         "1",
         "1",
         "Nantucket Nectar",
         "[Apple]",
         "$3.39 "
        ],
        [
         "3",
         "1",
         "1",
         "Chips and Tomatillo-Green Chili Salsa",
         null,
         "$2.39 "
        ],
        [
         "4",
         "2",
         "2",
         "Chicken Bowl",
         "[Tomatillo-Red Chili Salsa (Hot), [Black Beans, Rice, Cheese, Sour Cream]]",
         "$16.98 "
        ],
        [
         "5",
         "3",
         "1",
         "Chicken Bowl",
         "[Fresh Tomato Salsa (Mild), [Rice, Cheese, Sour Cream, Guacamole, Lettuce]]",
         "$10.98 "
        ],
        [
         "6",
         "3",
         "1",
         "Side of Chips",
         null,
         "$1.69 "
        ],
        [
         "7",
         "4",
         "1",
         "Steak Burrito",
         "[Tomatillo Red Chili Salsa, [Fajita Vegetables, Black Beans, Pinto Beans, Cheese, Sour Cream, Guacamole, Lettuce]]",
         "$11.75 "
        ],
        [
         "8",
         "4",
         "1",
         "Steak Soft Tacos",
         "[Tomatillo Green Chili Salsa, [Pinto Beans, Cheese, Sour Cream, Lettuce]]",
         "$9.25 "
        ],
        [
         "9",
         "5",
         "1",
         "Steak Burrito",
         "[Fresh Tomato Salsa, [Rice, Black Beans, Pinto Beans, Cheese, Sour Cream, Lettuce]]",
         "$9.25 "
        ],
        [
         "10",
         "5",
         "1",
         "Chips and Guacamole",
         null,
         "$4.45 "
        ],
        [
         "11",
         "6",
         "1",
         "Chicken Crispy Tacos",
         "[Roasted Chili Corn Salsa, [Fajita Vegetables, Rice, Black Beans, Cheese, Sour Cream]]",
         "$8.75 "
        ],
        [
         "12",
         "6",
         "1",
         "Chicken Soft Tacos",
         "[Roasted Chili Corn Salsa, [Rice, Black Beans, Cheese, Sour Cream]]",
         "$8.75 "
        ],
        [
         "13",
         "7",
         "1",
         "Chicken Bowl",
         "[Fresh Tomato Salsa, [Fajita Vegetables, Rice, Cheese, Sour Cream, Guacamole]]",
         "$11.25 "
        ],
        [
         "14",
         "7",
         "1",
         "Chips and Guacamole",
         null,
         "$4.45 "
        ],
        [
         "15",
         "8",
         "1",
         "Chips and Tomatillo-Green Chili Salsa",
         null,
         "$2.39 "
        ],
        [
         "16",
         "8",
         "1",
         "Chicken Burrito",
         "[Tomatillo-Green Chili Salsa (Medium), [Pinto Beans, Cheese, Sour Cream]]",
         "$8.49 "
        ],
        [
         "17",
         "9",
         "1",
         "Chicken Burrito",
         "[Fresh Tomato Salsa (Mild), [Black Beans, Rice, Cheese, Sour Cream, Lettuce]]",
         "$8.49 "
        ],
        [
         "18",
         "9",
         "2",
         "Canned Soda",
         "[Sprite]",
         "$2.18 "
        ],
        [
         "19",
         "10",
         "1",
         "Chicken Bowl",
         "[Tomatillo Red Chili Salsa, [Fajita Vegetables, Black Beans, Sour Cream, Cheese, Lettuce]]",
         "$8.75 "
        ],
        [
         "20",
         "10",
         "1",
         "Chips and Guacamole",
         null,
         "$4.45 "
        ],
        [
         "21",
         "11",
         "1",
         "Barbacoa Burrito",
         "[[Fresh Tomato Salsa (Mild), Tomatillo-Green Chili Salsa (Medium), Tomatillo-Red Chili Salsa (Hot)], [Rice, Cheese, Sour Cream, Lettuce]]",
         "$8.99 "
        ],
        [
         "22",
         "11",
         "1",
         "Nantucket Nectar",
         "[Pomegranate Cherry]",
         "$3.39 "
        ],
        [
         "23",
         "12",
         "1",
         "Chicken Burrito",
         "[[Tomatillo-Green Chili Salsa (Medium), Tomatillo-Red Chili Salsa (Hot)], [Pinto Beans, Rice, Cheese, Sour Cream, Guacamole, Lettuce]]",
         "$10.98 "
        ],
        [
         "24",
         "12",
         "1",
         "Izze",
         "[Grapefruit]",
         "$3.39 "
        ],
        [
         "25",
         "13",
         "1",
         "Chips and Fresh Tomato Salsa",
         null,
         "$2.39 "
        ],
        [
         "26",
         "13",
         "1",
         "Chicken Bowl",
         "[Roasted Chili Corn Salsa (Medium), [Pinto Beans, Rice, Fajita Veggies, Cheese, Sour Cream, Lettuce]]",
         "$8.49 "
        ],
        [
         "27",
         "14",
         "1",
         "Carnitas Burrito",
         "[[Tomatillo-Green Chili Salsa (Medium), Roasted Chili Corn Salsa (Medium)], [Black Beans, Rice, Sour Cream, Lettuce]]",
         "$8.99 "
        ],
        [
         "28",
         "14",
         "1",
         "Canned Soda",
         "[Dr. Pepper]",
         "$1.09 "
        ],
        [
         "29",
         "15",
         "1",
         "Chicken Burrito",
         "[Tomatillo-Green Chili Salsa (Medium), [Pinto Beans, Rice, Cheese, Sour Cream]]",
         "$8.49 "
        ],
        [
         "30",
         "15",
         "1",
         "Chips and Tomatillo-Green Chili Salsa",
         null,
         "$2.39 "
        ],
        [
         "31",
         "16",
         "1",
         "Steak Burrito",
         "[[Roasted Chili Corn Salsa (Medium), Fresh Tomato Salsa (Mild)], [Rice, Black Beans, Sour Cream]]",
         "$8.99 "
        ],
        [
         "32",
         "16",
         "1",
         "Side of Chips",
         null,
         "$1.69 "
        ],
        [
         "33",
         "17",
         "1",
         "Carnitas Bowl",
         "[Tomatillo-Red Chili Salsa (Hot), [Black Beans, Rice, Fajita Veggies, Cheese, Sour Cream, Lettuce]]",
         "$8.99 "
        ],
        [
         "34",
         "17",
         "1",
         "Bottled Water",
         null,
         "$1.09 "
        ],
        [
         "35",
         "18",
         "1",
         "Chicken Soft Tacos",
         "[Roasted Chili Corn Salsa, Rice]",
         "$8.75 "
        ],
        [
         "36",
         "18",
         "1",
         "Chicken Soft Tacos",
         "[Roasted Chili Corn Salsa, [Cheese, Lettuce]]",
         "$8.75 "
        ],
        [
         "37",
         "18",
         "1",
         "Chips and Guacamole",
         null,
         "$4.45 "
        ],
        [
         "38",
         "18",
         "1",
         "Chips and Tomatillo Green Chili Salsa",
         null,
         "$2.95 "
        ],
        [
         "39",
         "19",
         "1",
         "Barbacoa Bowl",
         "[Roasted Chili Corn Salsa, [Fajita Vegetables, Rice, Black Beans, Cheese, Sour Cream, Guacamole, Lettuce]]",
         "$11.75 "
        ],
        [
         "40",
         "19",
         "1",
         "Chips",
         null,
         "$2.15 "
        ],
        [
         "41",
         "20",
         "1",
         "Chips and Guacamole",
         null,
         "$4.45 "
        ],
        [
         "42",
         "20",
         "1",
         "Chicken Bowl",
         "[Roasted Chili Corn Salsa, [Rice, Black Beans, Cheese, Sour Cream, Guacamole, Lettuce]]",
         "$11.25 "
        ],
        [
         "43",
         "20",
         "1",
         "Steak Burrito",
         "[Fresh Tomato Salsa, [Rice, Pinto Beans, Cheese, Sour Cream, Guacamole, Lettuce]]",
         "$11.75 "
        ],
        [
         "44",
         "20",
         "1",
         "Chicken Salad Bowl",
         "[Fresh Tomato Salsa, [Fajita Vegetables, Pinto Beans, Lettuce]]",
         "$8.75 "
        ],
        [
         "45",
         "21",
         "1",
         "Chicken Burrito",
         "[Tomatillo-Red Chili Salsa (Hot), [Black Beans, Fajita Veggies, Cheese, Sour Cream, Guacamole, Lettuce]]",
         "$10.98 "
        ],
        [
         "46",
         "21",
         "1",
         "Steak Burrito",
         "[Tomatillo-Red Chili Salsa (Hot), [Rice, Fajita Veggies, Cheese]]",
         "$8.99 "
        ],
        [
         "47",
         "21",
         "1",
         "Izze",
         "[Blackberry]",
         "$3.39 "
        ],
        [
         "48",
         "22",
         "1",
         "Steak Burrito",
         "[[Fresh Tomato Salsa (Mild), Roasted Chili Corn Salsa (Medium), Tomatillo-Red Chili Salsa (Hot)], [Black Beans, Rice, Sour Cream]]",
         "$8.99 "
        ],
        [
         "49",
         "22",
         "1",
         "Chips and Guacamole",
         null,
         "$3.99 "
        ]
       ],
       "shape": {
        "columns": 5,
        "rows": 4622
       }
      },
      "text/html": [
       "<div>\n",
       "<style scoped>\n",
       "    .dataframe tbody tr th:only-of-type {\n",
       "        vertical-align: middle;\n",
       "    }\n",
       "\n",
       "    .dataframe tbody tr th {\n",
       "        vertical-align: top;\n",
       "    }\n",
       "\n",
       "    .dataframe thead th {\n",
       "        text-align: right;\n",
       "    }\n",
       "</style>\n",
       "<table border=\"1\" class=\"dataframe\">\n",
       "  <thead>\n",
       "    <tr style=\"text-align: right;\">\n",
       "      <th></th>\n",
       "      <th>order_id</th>\n",
       "      <th>quantity</th>\n",
       "      <th>item_name</th>\n",
       "      <th>choice_description</th>\n",
       "      <th>item_price</th>\n",
       "    </tr>\n",
       "  </thead>\n",
       "  <tbody>\n",
       "    <tr>\n",
       "      <th>0</th>\n",
       "      <td>1</td>\n",
       "      <td>1</td>\n",
       "      <td>Chips and Fresh Tomato Salsa</td>\n",
       "      <td>NaN</td>\n",
       "      <td>$2.39</td>\n",
       "    </tr>\n",
       "    <tr>\n",
       "      <th>1</th>\n",
       "      <td>1</td>\n",
       "      <td>1</td>\n",
       "      <td>Izze</td>\n",
       "      <td>[Clementine]</td>\n",
       "      <td>$3.39</td>\n",
       "    </tr>\n",
       "    <tr>\n",
       "      <th>2</th>\n",
       "      <td>1</td>\n",
       "      <td>1</td>\n",
       "      <td>Nantucket Nectar</td>\n",
       "      <td>[Apple]</td>\n",
       "      <td>$3.39</td>\n",
       "    </tr>\n",
       "    <tr>\n",
       "      <th>3</th>\n",
       "      <td>1</td>\n",
       "      <td>1</td>\n",
       "      <td>Chips and Tomatillo-Green Chili Salsa</td>\n",
       "      <td>NaN</td>\n",
       "      <td>$2.39</td>\n",
       "    </tr>\n",
       "    <tr>\n",
       "      <th>4</th>\n",
       "      <td>2</td>\n",
       "      <td>2</td>\n",
       "      <td>Chicken Bowl</td>\n",
       "      <td>[Tomatillo-Red Chili Salsa (Hot), [Black Beans...</td>\n",
       "      <td>$16.98</td>\n",
       "    </tr>\n",
       "    <tr>\n",
       "      <th>...</th>\n",
       "      <td>...</td>\n",
       "      <td>...</td>\n",
       "      <td>...</td>\n",
       "      <td>...</td>\n",
       "      <td>...</td>\n",
       "    </tr>\n",
       "    <tr>\n",
       "      <th>4617</th>\n",
       "      <td>1833</td>\n",
       "      <td>1</td>\n",
       "      <td>Steak Burrito</td>\n",
       "      <td>[Fresh Tomato Salsa, [Rice, Black Beans, Sour ...</td>\n",
       "      <td>$11.75</td>\n",
       "    </tr>\n",
       "    <tr>\n",
       "      <th>4618</th>\n",
       "      <td>1833</td>\n",
       "      <td>1</td>\n",
       "      <td>Steak Burrito</td>\n",
       "      <td>[Fresh Tomato Salsa, [Rice, Sour Cream, Cheese...</td>\n",
       "      <td>$11.75</td>\n",
       "    </tr>\n",
       "    <tr>\n",
       "      <th>4619</th>\n",
       "      <td>1834</td>\n",
       "      <td>1</td>\n",
       "      <td>Chicken Salad Bowl</td>\n",
       "      <td>[Fresh Tomato Salsa, [Fajita Vegetables, Pinto...</td>\n",
       "      <td>$11.25</td>\n",
       "    </tr>\n",
       "    <tr>\n",
       "      <th>4620</th>\n",
       "      <td>1834</td>\n",
       "      <td>1</td>\n",
       "      <td>Chicken Salad Bowl</td>\n",
       "      <td>[Fresh Tomato Salsa, [Fajita Vegetables, Lettu...</td>\n",
       "      <td>$8.75</td>\n",
       "    </tr>\n",
       "    <tr>\n",
       "      <th>4621</th>\n",
       "      <td>1834</td>\n",
       "      <td>1</td>\n",
       "      <td>Chicken Salad Bowl</td>\n",
       "      <td>[Fresh Tomato Salsa, [Fajita Vegetables, Pinto...</td>\n",
       "      <td>$8.75</td>\n",
       "    </tr>\n",
       "  </tbody>\n",
       "</table>\n",
       "<p>4622 rows × 5 columns</p>\n",
       "</div>"
      ],
      "text/plain": [
       "      order_id  quantity                              item_name  \\\n",
       "0            1         1           Chips and Fresh Tomato Salsa   \n",
       "1            1         1                                   Izze   \n",
       "2            1         1                       Nantucket Nectar   \n",
       "3            1         1  Chips and Tomatillo-Green Chili Salsa   \n",
       "4            2         2                           Chicken Bowl   \n",
       "...        ...       ...                                    ...   \n",
       "4617      1833         1                          Steak Burrito   \n",
       "4618      1833         1                          Steak Burrito   \n",
       "4619      1834         1                     Chicken Salad Bowl   \n",
       "4620      1834         1                     Chicken Salad Bowl   \n",
       "4621      1834         1                     Chicken Salad Bowl   \n",
       "\n",
       "                                     choice_description item_price  \n",
       "0                                                   NaN     $2.39   \n",
       "1                                          [Clementine]     $3.39   \n",
       "2                                               [Apple]     $3.39   \n",
       "3                                                   NaN     $2.39   \n",
       "4     [Tomatillo-Red Chili Salsa (Hot), [Black Beans...    $16.98   \n",
       "...                                                 ...        ...  \n",
       "4617  [Fresh Tomato Salsa, [Rice, Black Beans, Sour ...    $11.75   \n",
       "4618  [Fresh Tomato Salsa, [Rice, Sour Cream, Cheese...    $11.75   \n",
       "4619  [Fresh Tomato Salsa, [Fajita Vegetables, Pinto...    $11.25   \n",
       "4620  [Fresh Tomato Salsa, [Fajita Vegetables, Lettu...     $8.75   \n",
       "4621  [Fresh Tomato Salsa, [Fajita Vegetables, Pinto...     $8.75   \n",
       "\n",
       "[4622 rows x 5 columns]"
      ]
     },
     "execution_count": 6,
     "metadata": {},
     "output_type": "execute_result"
    }
   ],
   "source": [
    "chipo.reset_index(inplace=True)\n",
    "chipo"
   ]
  },
  {
   "cell_type": "markdown",
   "metadata": {},
   "source": [
    "### Step 8. "
   ]
  },
  {
   "cell_type": "code",
   "execution_count": 7,
   "metadata": {
    "collapsed": false
   },
   "outputs": [
    {
     "data": {
      "application/vnd.microsoft.datawrangler.viewer.v0+json": {
       "columns": [
        {
         "name": "item_name",
         "rawType": "object",
         "type": "string"
        },
        {
         "name": "order_id",
         "rawType": "int64",
         "type": "integer"
        },
        {
         "name": "quantity",
         "rawType": "int64",
         "type": "integer"
        },
        {
         "name": "choice_description",
         "rawType": "object",
         "type": "unknown"
        },
        {
         "name": "item_price",
         "rawType": "object",
         "type": "string"
        }
       ],
       "ref": "c9ef0756-5893-462b-a693-c35dc4c7df57",
       "rows": [
        [
         "Chips and Fresh Tomato Salsa",
         "1",
         "1",
         null,
         "$2.39 "
        ],
        [
         "Izze",
         "1",
         "1",
         "[Clementine]",
         "$3.39 "
        ],
        [
         "Nantucket Nectar",
         "1",
         "1",
         "[Apple]",
         "$3.39 "
        ],
        [
         "Chips and Tomatillo-Green Chili Salsa",
         "1",
         "1",
         null,
         "$2.39 "
        ],
        [
         "Chicken Bowl",
         "2",
         "2",
         "[Tomatillo-Red Chili Salsa (Hot), [Black Beans, Rice, Cheese, Sour Cream]]",
         "$16.98 "
        ],
        [
         "Chicken Bowl",
         "3",
         "1",
         "[Fresh Tomato Salsa (Mild), [Rice, Cheese, Sour Cream, Guacamole, Lettuce]]",
         "$10.98 "
        ],
        [
         "Side of Chips",
         "3",
         "1",
         null,
         "$1.69 "
        ],
        [
         "Steak Burrito",
         "4",
         "1",
         "[Tomatillo Red Chili Salsa, [Fajita Vegetables, Black Beans, Pinto Beans, Cheese, Sour Cream, Guacamole, Lettuce]]",
         "$11.75 "
        ],
        [
         "Steak Soft Tacos",
         "4",
         "1",
         "[Tomatillo Green Chili Salsa, [Pinto Beans, Cheese, Sour Cream, Lettuce]]",
         "$9.25 "
        ],
        [
         "Steak Burrito",
         "5",
         "1",
         "[Fresh Tomato Salsa, [Rice, Black Beans, Pinto Beans, Cheese, Sour Cream, Lettuce]]",
         "$9.25 "
        ],
        [
         "Chips and Guacamole",
         "5",
         "1",
         null,
         "$4.45 "
        ],
        [
         "Chicken Crispy Tacos",
         "6",
         "1",
         "[Roasted Chili Corn Salsa, [Fajita Vegetables, Rice, Black Beans, Cheese, Sour Cream]]",
         "$8.75 "
        ],
        [
         "Chicken Soft Tacos",
         "6",
         "1",
         "[Roasted Chili Corn Salsa, [Rice, Black Beans, Cheese, Sour Cream]]",
         "$8.75 "
        ],
        [
         "Chicken Bowl",
         "7",
         "1",
         "[Fresh Tomato Salsa, [Fajita Vegetables, Rice, Cheese, Sour Cream, Guacamole]]",
         "$11.25 "
        ],
        [
         "Chips and Guacamole",
         "7",
         "1",
         null,
         "$4.45 "
        ],
        [
         "Chips and Tomatillo-Green Chili Salsa",
         "8",
         "1",
         null,
         "$2.39 "
        ],
        [
         "Chicken Burrito",
         "8",
         "1",
         "[Tomatillo-Green Chili Salsa (Medium), [Pinto Beans, Cheese, Sour Cream]]",
         "$8.49 "
        ],
        [
         "Chicken Burrito",
         "9",
         "1",
         "[Fresh Tomato Salsa (Mild), [Black Beans, Rice, Cheese, Sour Cream, Lettuce]]",
         "$8.49 "
        ],
        [
         "Canned Soda",
         "9",
         "2",
         "[Sprite]",
         "$2.18 "
        ],
        [
         "Chicken Bowl",
         "10",
         "1",
         "[Tomatillo Red Chili Salsa, [Fajita Vegetables, Black Beans, Sour Cream, Cheese, Lettuce]]",
         "$8.75 "
        ],
        [
         "Chips and Guacamole",
         "10",
         "1",
         null,
         "$4.45 "
        ],
        [
         "Barbacoa Burrito",
         "11",
         "1",
         "[[Fresh Tomato Salsa (Mild), Tomatillo-Green Chili Salsa (Medium), Tomatillo-Red Chili Salsa (Hot)], [Rice, Cheese, Sour Cream, Lettuce]]",
         "$8.99 "
        ],
        [
         "Nantucket Nectar",
         "11",
         "1",
         "[Pomegranate Cherry]",
         "$3.39 "
        ],
        [
         "Chicken Burrito",
         "12",
         "1",
         "[[Tomatillo-Green Chili Salsa (Medium), Tomatillo-Red Chili Salsa (Hot)], [Pinto Beans, Rice, Cheese, Sour Cream, Guacamole, Lettuce]]",
         "$10.98 "
        ],
        [
         "Izze",
         "12",
         "1",
         "[Grapefruit]",
         "$3.39 "
        ],
        [
         "Chips and Fresh Tomato Salsa",
         "13",
         "1",
         null,
         "$2.39 "
        ],
        [
         "Chicken Bowl",
         "13",
         "1",
         "[Roasted Chili Corn Salsa (Medium), [Pinto Beans, Rice, Fajita Veggies, Cheese, Sour Cream, Lettuce]]",
         "$8.49 "
        ],
        [
         "Carnitas Burrito",
         "14",
         "1",
         "[[Tomatillo-Green Chili Salsa (Medium), Roasted Chili Corn Salsa (Medium)], [Black Beans, Rice, Sour Cream, Lettuce]]",
         "$8.99 "
        ],
        [
         "Canned Soda",
         "14",
         "1",
         "[Dr. Pepper]",
         "$1.09 "
        ],
        [
         "Chicken Burrito",
         "15",
         "1",
         "[Tomatillo-Green Chili Salsa (Medium), [Pinto Beans, Rice, Cheese, Sour Cream]]",
         "$8.49 "
        ],
        [
         "Chips and Tomatillo-Green Chili Salsa",
         "15",
         "1",
         null,
         "$2.39 "
        ],
        [
         "Steak Burrito",
         "16",
         "1",
         "[[Roasted Chili Corn Salsa (Medium), Fresh Tomato Salsa (Mild)], [Rice, Black Beans, Sour Cream]]",
         "$8.99 "
        ],
        [
         "Side of Chips",
         "16",
         "1",
         null,
         "$1.69 "
        ],
        [
         "Carnitas Bowl",
         "17",
         "1",
         "[Tomatillo-Red Chili Salsa (Hot), [Black Beans, Rice, Fajita Veggies, Cheese, Sour Cream, Lettuce]]",
         "$8.99 "
        ],
        [
         "Bottled Water",
         "17",
         "1",
         null,
         "$1.09 "
        ],
        [
         "Chicken Soft Tacos",
         "18",
         "1",
         "[Roasted Chili Corn Salsa, Rice]",
         "$8.75 "
        ],
        [
         "Chicken Soft Tacos",
         "18",
         "1",
         "[Roasted Chili Corn Salsa, [Cheese, Lettuce]]",
         "$8.75 "
        ],
        [
         "Chips and Guacamole",
         "18",
         "1",
         null,
         "$4.45 "
        ],
        [
         "Chips and Tomatillo Green Chili Salsa",
         "18",
         "1",
         null,
         "$2.95 "
        ],
        [
         "Barbacoa Bowl",
         "19",
         "1",
         "[Roasted Chili Corn Salsa, [Fajita Vegetables, Rice, Black Beans, Cheese, Sour Cream, Guacamole, Lettuce]]",
         "$11.75 "
        ],
        [
         "Chips",
         "19",
         "1",
         null,
         "$2.15 "
        ],
        [
         "Chips and Guacamole",
         "20",
         "1",
         null,
         "$4.45 "
        ],
        [
         "Chicken Bowl",
         "20",
         "1",
         "[Roasted Chili Corn Salsa, [Rice, Black Beans, Cheese, Sour Cream, Guacamole, Lettuce]]",
         "$11.25 "
        ],
        [
         "Steak Burrito",
         "20",
         "1",
         "[Fresh Tomato Salsa, [Rice, Pinto Beans, Cheese, Sour Cream, Guacamole, Lettuce]]",
         "$11.75 "
        ],
        [
         "Chicken Salad Bowl",
         "20",
         "1",
         "[Fresh Tomato Salsa, [Fajita Vegetables, Pinto Beans, Lettuce]]",
         "$8.75 "
        ],
        [
         "Chicken Burrito",
         "21",
         "1",
         "[Tomatillo-Red Chili Salsa (Hot), [Black Beans, Fajita Veggies, Cheese, Sour Cream, Guacamole, Lettuce]]",
         "$10.98 "
        ],
        [
         "Steak Burrito",
         "21",
         "1",
         "[Tomatillo-Red Chili Salsa (Hot), [Rice, Fajita Veggies, Cheese]]",
         "$8.99 "
        ],
        [
         "Izze",
         "21",
         "1",
         "[Blackberry]",
         "$3.39 "
        ],
        [
         "Steak Burrito",
         "22",
         "1",
         "[[Fresh Tomato Salsa (Mild), Roasted Chili Corn Salsa (Medium), Tomatillo-Red Chili Salsa (Hot)], [Black Beans, Rice, Sour Cream]]",
         "$8.99 "
        ],
        [
         "Chips and Guacamole",
         "22",
         "1",
         null,
         "$3.99 "
        ]
       ],
       "shape": {
        "columns": 4,
        "rows": 4622
       }
      },
      "text/html": [
       "<div>\n",
       "<style scoped>\n",
       "    .dataframe tbody tr th:only-of-type {\n",
       "        vertical-align: middle;\n",
       "    }\n",
       "\n",
       "    .dataframe tbody tr th {\n",
       "        vertical-align: top;\n",
       "    }\n",
       "\n",
       "    .dataframe thead th {\n",
       "        text-align: right;\n",
       "    }\n",
       "</style>\n",
       "<table border=\"1\" class=\"dataframe\">\n",
       "  <thead>\n",
       "    <tr style=\"text-align: right;\">\n",
       "      <th></th>\n",
       "      <th>order_id</th>\n",
       "      <th>quantity</th>\n",
       "      <th>choice_description</th>\n",
       "      <th>item_price</th>\n",
       "    </tr>\n",
       "    <tr>\n",
       "      <th>item_name</th>\n",
       "      <th></th>\n",
       "      <th></th>\n",
       "      <th></th>\n",
       "      <th></th>\n",
       "    </tr>\n",
       "  </thead>\n",
       "  <tbody>\n",
       "    <tr>\n",
       "      <th>Chips and Fresh Tomato Salsa</th>\n",
       "      <td>1</td>\n",
       "      <td>1</td>\n",
       "      <td>NaN</td>\n",
       "      <td>$2.39</td>\n",
       "    </tr>\n",
       "    <tr>\n",
       "      <th>Izze</th>\n",
       "      <td>1</td>\n",
       "      <td>1</td>\n",
       "      <td>[Clementine]</td>\n",
       "      <td>$3.39</td>\n",
       "    </tr>\n",
       "    <tr>\n",
       "      <th>Nantucket Nectar</th>\n",
       "      <td>1</td>\n",
       "      <td>1</td>\n",
       "      <td>[Apple]</td>\n",
       "      <td>$3.39</td>\n",
       "    </tr>\n",
       "    <tr>\n",
       "      <th>Chips and Tomatillo-Green Chili Salsa</th>\n",
       "      <td>1</td>\n",
       "      <td>1</td>\n",
       "      <td>NaN</td>\n",
       "      <td>$2.39</td>\n",
       "    </tr>\n",
       "    <tr>\n",
       "      <th>Chicken Bowl</th>\n",
       "      <td>2</td>\n",
       "      <td>2</td>\n",
       "      <td>[Tomatillo-Red Chili Salsa (Hot), [Black Beans...</td>\n",
       "      <td>$16.98</td>\n",
       "    </tr>\n",
       "    <tr>\n",
       "      <th>...</th>\n",
       "      <td>...</td>\n",
       "      <td>...</td>\n",
       "      <td>...</td>\n",
       "      <td>...</td>\n",
       "    </tr>\n",
       "    <tr>\n",
       "      <th>Steak Burrito</th>\n",
       "      <td>1833</td>\n",
       "      <td>1</td>\n",
       "      <td>[Fresh Tomato Salsa, [Rice, Black Beans, Sour ...</td>\n",
       "      <td>$11.75</td>\n",
       "    </tr>\n",
       "    <tr>\n",
       "      <th>Steak Burrito</th>\n",
       "      <td>1833</td>\n",
       "      <td>1</td>\n",
       "      <td>[Fresh Tomato Salsa, [Rice, Sour Cream, Cheese...</td>\n",
       "      <td>$11.75</td>\n",
       "    </tr>\n",
       "    <tr>\n",
       "      <th>Chicken Salad Bowl</th>\n",
       "      <td>1834</td>\n",
       "      <td>1</td>\n",
       "      <td>[Fresh Tomato Salsa, [Fajita Vegetables, Pinto...</td>\n",
       "      <td>$11.25</td>\n",
       "    </tr>\n",
       "    <tr>\n",
       "      <th>Chicken Salad Bowl</th>\n",
       "      <td>1834</td>\n",
       "      <td>1</td>\n",
       "      <td>[Fresh Tomato Salsa, [Fajita Vegetables, Lettu...</td>\n",
       "      <td>$8.75</td>\n",
       "    </tr>\n",
       "    <tr>\n",
       "      <th>Chicken Salad Bowl</th>\n",
       "      <td>1834</td>\n",
       "      <td>1</td>\n",
       "      <td>[Fresh Tomato Salsa, [Fajita Vegetables, Pinto...</td>\n",
       "      <td>$8.75</td>\n",
       "    </tr>\n",
       "  </tbody>\n",
       "</table>\n",
       "<p>4622 rows × 4 columns</p>\n",
       "</div>"
      ],
      "text/plain": [
       "                                       order_id  quantity  \\\n",
       "item_name                                                   \n",
       "Chips and Fresh Tomato Salsa                  1         1   \n",
       "Izze                                          1         1   \n",
       "Nantucket Nectar                              1         1   \n",
       "Chips and Tomatillo-Green Chili Salsa         1         1   \n",
       "Chicken Bowl                                  2         2   \n",
       "...                                         ...       ...   \n",
       "Steak Burrito                              1833         1   \n",
       "Steak Burrito                              1833         1   \n",
       "Chicken Salad Bowl                         1834         1   \n",
       "Chicken Salad Bowl                         1834         1   \n",
       "Chicken Salad Bowl                         1834         1   \n",
       "\n",
       "                                                                      choice_description  \\\n",
       "item_name                                                                                  \n",
       "Chips and Fresh Tomato Salsa                                                         NaN   \n",
       "Izze                                                                        [Clementine]   \n",
       "Nantucket Nectar                                                                 [Apple]   \n",
       "Chips and Tomatillo-Green Chili Salsa                                                NaN   \n",
       "Chicken Bowl                           [Tomatillo-Red Chili Salsa (Hot), [Black Beans...   \n",
       "...                                                                                  ...   \n",
       "Steak Burrito                          [Fresh Tomato Salsa, [Rice, Black Beans, Sour ...   \n",
       "Steak Burrito                          [Fresh Tomato Salsa, [Rice, Sour Cream, Cheese...   \n",
       "Chicken Salad Bowl                     [Fresh Tomato Salsa, [Fajita Vegetables, Pinto...   \n",
       "Chicken Salad Bowl                     [Fresh Tomato Salsa, [Fajita Vegetables, Lettu...   \n",
       "Chicken Salad Bowl                     [Fresh Tomato Salsa, [Fajita Vegetables, Pinto...   \n",
       "\n",
       "                                      item_price  \n",
       "item_name                                         \n",
       "Chips and Fresh Tomato Salsa              $2.39   \n",
       "Izze                                      $3.39   \n",
       "Nantucket Nectar                          $3.39   \n",
       "Chips and Tomatillo-Green Chili Salsa     $2.39   \n",
       "Chicken Bowl                             $16.98   \n",
       "...                                          ...  \n",
       "Steak Burrito                            $11.75   \n",
       "Steak Burrito                            $11.75   \n",
       "Chicken Salad Bowl                       $11.25   \n",
       "Chicken Salad Bowl                        $8.75   \n",
       "Chicken Salad Bowl                        $8.75   \n",
       "\n",
       "[4622 rows x 4 columns]"
      ]
     },
     "execution_count": 7,
     "metadata": {},
     "output_type": "execute_result"
    }
   ],
   "source": [
    "chipo.set_index('item_name', inplace=True)\n",
    "chipo"
   ]
  },
  {
   "cell_type": "markdown",
   "metadata": {},
   "source": [
    "### Step 9. "
   ]
  },
  {
   "cell_type": "code",
   "execution_count": 8,
   "metadata": {
    "collapsed": false
   },
   "outputs": [
    {
     "data": {
      "application/vnd.microsoft.datawrangler.viewer.v0+json": {
       "columns": [
        {
         "name": "item_name",
         "rawType": "object",
         "type": "string"
        },
        {
         "name": "order_id",
         "rawType": "int64",
         "type": "integer"
        },
        {
         "name": "quantity",
         "rawType": "int64",
         "type": "integer"
        },
        {
         "name": "choice_description",
         "rawType": "object",
         "type": "unknown"
        },
        {
         "name": "item_price",
         "rawType": "object",
         "type": "string"
        }
       ],
       "ref": "a21b088a-a04f-4537-8371-821b095064c9",
       "rows": [
        [
         "6 Pack Soft Drink",
         "1360",
         "2",
         "[Diet Coke]",
         "$12.98 "
        ],
        [
         "6 Pack Soft Drink",
         "148",
         "1",
         "[Diet Coke]",
         "$6.49 "
        ],
        [
         "6 Pack Soft Drink",
         "749",
         "1",
         "[Coke]",
         "$6.49 "
        ],
        [
         "6 Pack Soft Drink",
         "754",
         "1",
         "[Diet Coke]",
         "$6.49 "
        ],
        [
         "6 Pack Soft Drink",
         "1076",
         "1",
         "[Coke]",
         "$6.49 "
        ],
        [
         "6 Pack Soft Drink",
         "1373",
         "1",
         "[Coke]",
         "$6.49 "
        ],
        [
         "6 Pack Soft Drink",
         "230",
         "1",
         "[Diet Coke]",
         "$6.49 "
        ],
        [
         "6 Pack Soft Drink",
         "774",
         "1",
         "[Diet Coke]",
         "$6.49 "
        ],
        [
         "6 Pack Soft Drink",
         "776",
         "1",
         "[Coke]",
         "$6.49 "
        ],
        [
         "6 Pack Soft Drink",
         "784",
         "1",
         "[Diet Coke]",
         "$6.49 "
        ],
        [
         "6 Pack Soft Drink",
         "1537",
         "1",
         "[Coke]",
         "$6.49 "
        ],
        [
         "6 Pack Soft Drink",
         "129",
         "1",
         "[Sprite]",
         "$6.49 "
        ],
        [
         "6 Pack Soft Drink",
         "798",
         "1",
         "[Diet Coke]",
         "$6.49 "
        ],
        [
         "6 Pack Soft Drink",
         "481",
         "1",
         "[Coke]",
         "$6.49 "
        ],
        [
         "6 Pack Soft Drink",
         "1554",
         "1",
         "[Diet Coke]",
         "$6.49 "
        ],
        [
         "6 Pack Soft Drink",
         "465",
         "1",
         "[Coke]",
         "$6.49 "
        ],
        [
         "6 Pack Soft Drink",
         "1558",
         "1",
         "[Diet Coke]",
         "$6.49 "
        ],
        [
         "6 Pack Soft Drink",
         "849",
         "1",
         "[Coke]",
         "$6.49 "
        ],
        [
         "6 Pack Soft Drink",
         "1196",
         "1",
         "[Diet Coke]",
         "$6.49 "
        ],
        [
         "6 Pack Soft Drink",
         "1803",
         "1",
         "[Lemonade]",
         "$6.49 "
        ],
        [
         "6 Pack Soft Drink",
         "1664",
         "1",
         "[Diet Coke]",
         "$6.49 "
        ],
        [
         "6 Pack Soft Drink",
         "1666",
         "1",
         "[Coke]",
         "$6.49 "
        ],
        [
         "6 Pack Soft Drink",
         "1800",
         "1",
         "[Diet Coke]",
         "$6.49 "
        ],
        [
         "6 Pack Soft Drink",
         "1798",
         "1",
         "[Diet Coke]",
         "$6.49 "
        ],
        [
         "6 Pack Soft Drink",
         "1525",
         "1",
         "[Sprite]",
         "$6.49 "
        ],
        [
         "6 Pack Soft Drink",
         "949",
         "1",
         "[Coke]",
         "$6.49 "
        ],
        [
         "6 Pack Soft Drink",
         "1248",
         "1",
         "[Diet Coke]",
         "$6.49 "
        ],
        [
         "6 Pack Soft Drink",
         "1253",
         "1",
         "[Lemonade]",
         "$6.49 "
        ],
        [
         "6 Pack Soft Drink",
         "264",
         "1",
         "[Diet Coke]",
         "$6.49 "
        ],
        [
         "6 Pack Soft Drink",
         "422",
         "1",
         "[Sprite]",
         "$6.49 "
        ],
        [
         "6 Pack Soft Drink",
         "432",
         "1",
         "[Coke]",
         "$6.49 "
        ],
        [
         "6 Pack Soft Drink",
         "899",
         "1",
         "[Coke]",
         "$6.49 "
        ],
        [
         "6 Pack Soft Drink",
         "945",
         "1",
         "[Sprite]",
         "$6.49 "
        ],
        [
         "6 Pack Soft Drink",
         "511",
         "1",
         "[Coke]",
         "$6.49 "
        ],
        [
         "6 Pack Soft Drink",
         "363",
         "1",
         "[Coke]",
         "$6.49 "
        ],
        [
         "6 Pack Soft Drink",
         "1480",
         "1",
         "[Diet Coke]",
         "$6.49 "
        ],
        [
         "6 Pack Soft Drink",
         "1517",
         "1",
         "[Diet Coke]",
         "$6.49 "
        ],
        [
         "6 Pack Soft Drink",
         "1109",
         "1",
         "[Diet Coke]",
         "$6.49 "
        ],
        [
         "6 Pack Soft Drink",
         "1136",
         "1",
         "[Diet Coke]",
         "$6.49 "
        ],
        [
         "6 Pack Soft Drink",
         "566",
         "1",
         "[Diet Coke]",
         "$6.49 "
        ],
        [
         "6 Pack Soft Drink",
         "1443",
         "1",
         "[Coke]",
         "$6.49 "
        ],
        [
         "6 Pack Soft Drink",
         "1448",
         "1",
         "[Nestea]",
         "$6.49 "
        ],
        [
         "6 Pack Soft Drink",
         "1741",
         "1",
         "[Coke]",
         "$6.49 "
        ],
        [
         "6 Pack Soft Drink",
         "1742",
         "1",
         "[Diet Coke]",
         "$6.49 "
        ],
        [
         "6 Pack Soft Drink",
         "1454",
         "1",
         "[Coke]",
         "$6.49 "
        ],
        [
         "6 Pack Soft Drink",
         "168",
         "1",
         "[Diet Coke]",
         "$6.49 "
        ],
        [
         "6 Pack Soft Drink",
         "298",
         "1",
         "[Nestea]",
         "$6.49 "
        ],
        [
         "6 Pack Soft Drink",
         "182",
         "1",
         "[Diet Coke]",
         "$6.49 "
        ],
        [
         "6 Pack Soft Drink",
         "709",
         "1",
         "[Diet Coke]",
         "$6.49 "
        ],
        [
         "6 Pack Soft Drink",
         "1508",
         "1",
         "[Coke]",
         "$6.49 "
        ]
       ],
       "shape": {
        "columns": 4,
        "rows": 4622
       }
      },
      "text/html": [
       "<div>\n",
       "<style scoped>\n",
       "    .dataframe tbody tr th:only-of-type {\n",
       "        vertical-align: middle;\n",
       "    }\n",
       "\n",
       "    .dataframe tbody tr th {\n",
       "        vertical-align: top;\n",
       "    }\n",
       "\n",
       "    .dataframe thead th {\n",
       "        text-align: right;\n",
       "    }\n",
       "</style>\n",
       "<table border=\"1\" class=\"dataframe\">\n",
       "  <thead>\n",
       "    <tr style=\"text-align: right;\">\n",
       "      <th></th>\n",
       "      <th>order_id</th>\n",
       "      <th>quantity</th>\n",
       "      <th>choice_description</th>\n",
       "      <th>item_price</th>\n",
       "    </tr>\n",
       "    <tr>\n",
       "      <th>item_name</th>\n",
       "      <th></th>\n",
       "      <th></th>\n",
       "      <th></th>\n",
       "      <th></th>\n",
       "    </tr>\n",
       "  </thead>\n",
       "  <tbody>\n",
       "    <tr>\n",
       "      <th>6 Pack Soft Drink</th>\n",
       "      <td>1360</td>\n",
       "      <td>2</td>\n",
       "      <td>[Diet Coke]</td>\n",
       "      <td>$12.98</td>\n",
       "    </tr>\n",
       "    <tr>\n",
       "      <th>6 Pack Soft Drink</th>\n",
       "      <td>148</td>\n",
       "      <td>1</td>\n",
       "      <td>[Diet Coke]</td>\n",
       "      <td>$6.49</td>\n",
       "    </tr>\n",
       "    <tr>\n",
       "      <th>6 Pack Soft Drink</th>\n",
       "      <td>749</td>\n",
       "      <td>1</td>\n",
       "      <td>[Coke]</td>\n",
       "      <td>$6.49</td>\n",
       "    </tr>\n",
       "    <tr>\n",
       "      <th>6 Pack Soft Drink</th>\n",
       "      <td>754</td>\n",
       "      <td>1</td>\n",
       "      <td>[Diet Coke]</td>\n",
       "      <td>$6.49</td>\n",
       "    </tr>\n",
       "    <tr>\n",
       "      <th>6 Pack Soft Drink</th>\n",
       "      <td>1076</td>\n",
       "      <td>1</td>\n",
       "      <td>[Coke]</td>\n",
       "      <td>$6.49</td>\n",
       "    </tr>\n",
       "    <tr>\n",
       "      <th>...</th>\n",
       "      <td>...</td>\n",
       "      <td>...</td>\n",
       "      <td>...</td>\n",
       "      <td>...</td>\n",
       "    </tr>\n",
       "    <tr>\n",
       "      <th>Veggie Soft Tacos</th>\n",
       "      <td>948</td>\n",
       "      <td>1</td>\n",
       "      <td>[Roasted Chili Corn Salsa, [Fajita Vegetables,...</td>\n",
       "      <td>$8.75</td>\n",
       "    </tr>\n",
       "    <tr>\n",
       "      <th>Veggie Soft Tacos</th>\n",
       "      <td>322</td>\n",
       "      <td>1</td>\n",
       "      <td>[Fresh Tomato Salsa, [Black Beans, Cheese, Sou...</td>\n",
       "      <td>$8.75</td>\n",
       "    </tr>\n",
       "    <tr>\n",
       "      <th>Veggie Soft Tacos</th>\n",
       "      <td>1132</td>\n",
       "      <td>1</td>\n",
       "      <td>[Roasted Chili Corn Salsa (Medium), [Black Bea...</td>\n",
       "      <td>$8.49</td>\n",
       "    </tr>\n",
       "    <tr>\n",
       "      <th>Veggie Soft Tacos</th>\n",
       "      <td>688</td>\n",
       "      <td>1</td>\n",
       "      <td>[Fresh Tomato Salsa, [Fajita Vegetables, Rice,...</td>\n",
       "      <td>$11.25</td>\n",
       "    </tr>\n",
       "    <tr>\n",
       "      <th>Veggie Soft Tacos</th>\n",
       "      <td>567</td>\n",
       "      <td>1</td>\n",
       "      <td>[Fresh Tomato Salsa (Mild), [Pinto Beans, Rice...</td>\n",
       "      <td>$8.49</td>\n",
       "    </tr>\n",
       "  </tbody>\n",
       "</table>\n",
       "<p>4622 rows × 4 columns</p>\n",
       "</div>"
      ],
      "text/plain": [
       "                   order_id  quantity  \\\n",
       "item_name                               \n",
       "6 Pack Soft Drink      1360         2   \n",
       "6 Pack Soft Drink       148         1   \n",
       "6 Pack Soft Drink       749         1   \n",
       "6 Pack Soft Drink       754         1   \n",
       "6 Pack Soft Drink      1076         1   \n",
       "...                     ...       ...   \n",
       "Veggie Soft Tacos       948         1   \n",
       "Veggie Soft Tacos       322         1   \n",
       "Veggie Soft Tacos      1132         1   \n",
       "Veggie Soft Tacos       688         1   \n",
       "Veggie Soft Tacos       567         1   \n",
       "\n",
       "                                                  choice_description  \\\n",
       "item_name                                                              \n",
       "6 Pack Soft Drink                                        [Diet Coke]   \n",
       "6 Pack Soft Drink                                        [Diet Coke]   \n",
       "6 Pack Soft Drink                                             [Coke]   \n",
       "6 Pack Soft Drink                                        [Diet Coke]   \n",
       "6 Pack Soft Drink                                             [Coke]   \n",
       "...                                                              ...   \n",
       "Veggie Soft Tacos  [Roasted Chili Corn Salsa, [Fajita Vegetables,...   \n",
       "Veggie Soft Tacos  [Fresh Tomato Salsa, [Black Beans, Cheese, Sou...   \n",
       "Veggie Soft Tacos  [Roasted Chili Corn Salsa (Medium), [Black Bea...   \n",
       "Veggie Soft Tacos  [Fresh Tomato Salsa, [Fajita Vegetables, Rice,...   \n",
       "Veggie Soft Tacos  [Fresh Tomato Salsa (Mild), [Pinto Beans, Rice...   \n",
       "\n",
       "                  item_price  \n",
       "item_name                     \n",
       "6 Pack Soft Drink    $12.98   \n",
       "6 Pack Soft Drink     $6.49   \n",
       "6 Pack Soft Drink     $6.49   \n",
       "6 Pack Soft Drink     $6.49   \n",
       "6 Pack Soft Drink     $6.49   \n",
       "...                      ...  \n",
       "Veggie Soft Tacos     $8.75   \n",
       "Veggie Soft Tacos     $8.75   \n",
       "Veggie Soft Tacos     $8.49   \n",
       "Veggie Soft Tacos    $11.25   \n",
       "Veggie Soft Tacos     $8.49   \n",
       "\n",
       "[4622 rows x 4 columns]"
      ]
     },
     "execution_count": 8,
     "metadata": {},
     "output_type": "execute_result"
    }
   ],
   "source": [
    "chipo.sort_index(inplace=True)\n",
    "chipo"
   ]
  },
  {
   "cell_type": "markdown",
   "metadata": {},
   "source": [
    "### Step 10. "
   ]
  },
  {
   "cell_type": "code",
   "execution_count": 9,
   "metadata": {
    "collapsed": false
   },
   "outputs": [
    {
     "data": {
      "application/vnd.microsoft.datawrangler.viewer.v0+json": {
       "columns": [
        {
         "name": "index",
         "rawType": "int64",
         "type": "integer"
        },
        {
         "name": "item_name",
         "rawType": "object",
         "type": "string"
        },
        {
         "name": "order_id",
         "rawType": "int64",
         "type": "integer"
        },
        {
         "name": "quantity",
         "rawType": "int64",
         "type": "integer"
        },
        {
         "name": "choice_description",
         "rawType": "object",
         "type": "unknown"
        },
        {
         "name": "item_price",
         "rawType": "object",
         "type": "string"
        }
       ],
       "ref": "ff326955-1468-4289-b3c1-661b4e9c8a75",
       "rows": [
        [
         "0",
         "6 Pack Soft Drink",
         "1360",
         "2",
         "[Diet Coke]",
         "$12.98 "
        ],
        [
         "1",
         "6 Pack Soft Drink",
         "148",
         "1",
         "[Diet Coke]",
         "$6.49 "
        ],
        [
         "2",
         "6 Pack Soft Drink",
         "749",
         "1",
         "[Coke]",
         "$6.49 "
        ],
        [
         "3",
         "6 Pack Soft Drink",
         "754",
         "1",
         "[Diet Coke]",
         "$6.49 "
        ],
        [
         "4",
         "6 Pack Soft Drink",
         "1076",
         "1",
         "[Coke]",
         "$6.49 "
        ],
        [
         "5",
         "6 Pack Soft Drink",
         "1373",
         "1",
         "[Coke]",
         "$6.49 "
        ],
        [
         "6",
         "6 Pack Soft Drink",
         "230",
         "1",
         "[Diet Coke]",
         "$6.49 "
        ],
        [
         "7",
         "6 Pack Soft Drink",
         "774",
         "1",
         "[Diet Coke]",
         "$6.49 "
        ],
        [
         "8",
         "6 Pack Soft Drink",
         "776",
         "1",
         "[Coke]",
         "$6.49 "
        ],
        [
         "9",
         "6 Pack Soft Drink",
         "784",
         "1",
         "[Diet Coke]",
         "$6.49 "
        ],
        [
         "10",
         "6 Pack Soft Drink",
         "1537",
         "1",
         "[Coke]",
         "$6.49 "
        ],
        [
         "11",
         "6 Pack Soft Drink",
         "129",
         "1",
         "[Sprite]",
         "$6.49 "
        ],
        [
         "12",
         "6 Pack Soft Drink",
         "798",
         "1",
         "[Diet Coke]",
         "$6.49 "
        ],
        [
         "13",
         "6 Pack Soft Drink",
         "481",
         "1",
         "[Coke]",
         "$6.49 "
        ],
        [
         "14",
         "6 Pack Soft Drink",
         "1554",
         "1",
         "[Diet Coke]",
         "$6.49 "
        ],
        [
         "15",
         "6 Pack Soft Drink",
         "465",
         "1",
         "[Coke]",
         "$6.49 "
        ],
        [
         "16",
         "6 Pack Soft Drink",
         "1558",
         "1",
         "[Diet Coke]",
         "$6.49 "
        ],
        [
         "17",
         "6 Pack Soft Drink",
         "849",
         "1",
         "[Coke]",
         "$6.49 "
        ],
        [
         "18",
         "6 Pack Soft Drink",
         "1196",
         "1",
         "[Diet Coke]",
         "$6.49 "
        ],
        [
         "19",
         "6 Pack Soft Drink",
         "1803",
         "1",
         "[Lemonade]",
         "$6.49 "
        ],
        [
         "20",
         "6 Pack Soft Drink",
         "1664",
         "1",
         "[Diet Coke]",
         "$6.49 "
        ],
        [
         "21",
         "6 Pack Soft Drink",
         "1666",
         "1",
         "[Coke]",
         "$6.49 "
        ],
        [
         "22",
         "6 Pack Soft Drink",
         "1800",
         "1",
         "[Diet Coke]",
         "$6.49 "
        ],
        [
         "23",
         "6 Pack Soft Drink",
         "1798",
         "1",
         "[Diet Coke]",
         "$6.49 "
        ],
        [
         "24",
         "6 Pack Soft Drink",
         "1525",
         "1",
         "[Sprite]",
         "$6.49 "
        ],
        [
         "25",
         "6 Pack Soft Drink",
         "949",
         "1",
         "[Coke]",
         "$6.49 "
        ],
        [
         "26",
         "6 Pack Soft Drink",
         "1248",
         "1",
         "[Diet Coke]",
         "$6.49 "
        ],
        [
         "27",
         "6 Pack Soft Drink",
         "1253",
         "1",
         "[Lemonade]",
         "$6.49 "
        ],
        [
         "28",
         "6 Pack Soft Drink",
         "264",
         "1",
         "[Diet Coke]",
         "$6.49 "
        ],
        [
         "29",
         "6 Pack Soft Drink",
         "422",
         "1",
         "[Sprite]",
         "$6.49 "
        ],
        [
         "30",
         "6 Pack Soft Drink",
         "432",
         "1",
         "[Coke]",
         "$6.49 "
        ],
        [
         "31",
         "6 Pack Soft Drink",
         "899",
         "1",
         "[Coke]",
         "$6.49 "
        ],
        [
         "32",
         "6 Pack Soft Drink",
         "945",
         "1",
         "[Sprite]",
         "$6.49 "
        ],
        [
         "33",
         "6 Pack Soft Drink",
         "511",
         "1",
         "[Coke]",
         "$6.49 "
        ],
        [
         "34",
         "6 Pack Soft Drink",
         "363",
         "1",
         "[Coke]",
         "$6.49 "
        ],
        [
         "35",
         "6 Pack Soft Drink",
         "1480",
         "1",
         "[Diet Coke]",
         "$6.49 "
        ],
        [
         "36",
         "6 Pack Soft Drink",
         "1517",
         "1",
         "[Diet Coke]",
         "$6.49 "
        ],
        [
         "37",
         "6 Pack Soft Drink",
         "1109",
         "1",
         "[Diet Coke]",
         "$6.49 "
        ],
        [
         "38",
         "6 Pack Soft Drink",
         "1136",
         "1",
         "[Diet Coke]",
         "$6.49 "
        ],
        [
         "39",
         "6 Pack Soft Drink",
         "566",
         "1",
         "[Diet Coke]",
         "$6.49 "
        ],
        [
         "40",
         "6 Pack Soft Drink",
         "1443",
         "1",
         "[Coke]",
         "$6.49 "
        ],
        [
         "41",
         "6 Pack Soft Drink",
         "1448",
         "1",
         "[Nestea]",
         "$6.49 "
        ],
        [
         "42",
         "6 Pack Soft Drink",
         "1741",
         "1",
         "[Coke]",
         "$6.49 "
        ],
        [
         "43",
         "6 Pack Soft Drink",
         "1742",
         "1",
         "[Diet Coke]",
         "$6.49 "
        ],
        [
         "44",
         "6 Pack Soft Drink",
         "1454",
         "1",
         "[Coke]",
         "$6.49 "
        ],
        [
         "45",
         "6 Pack Soft Drink",
         "168",
         "1",
         "[Diet Coke]",
         "$6.49 "
        ],
        [
         "46",
         "6 Pack Soft Drink",
         "298",
         "1",
         "[Nestea]",
         "$6.49 "
        ],
        [
         "47",
         "6 Pack Soft Drink",
         "182",
         "1",
         "[Diet Coke]",
         "$6.49 "
        ],
        [
         "48",
         "6 Pack Soft Drink",
         "709",
         "1",
         "[Diet Coke]",
         "$6.49 "
        ],
        [
         "49",
         "6 Pack Soft Drink",
         "1508",
         "1",
         "[Coke]",
         "$6.49 "
        ]
       ],
       "shape": {
        "columns": 5,
        "rows": 4622
       }
      },
      "text/html": [
       "<div>\n",
       "<style scoped>\n",
       "    .dataframe tbody tr th:only-of-type {\n",
       "        vertical-align: middle;\n",
       "    }\n",
       "\n",
       "    .dataframe tbody tr th {\n",
       "        vertical-align: top;\n",
       "    }\n",
       "\n",
       "    .dataframe thead th {\n",
       "        text-align: right;\n",
       "    }\n",
       "</style>\n",
       "<table border=\"1\" class=\"dataframe\">\n",
       "  <thead>\n",
       "    <tr style=\"text-align: right;\">\n",
       "      <th></th>\n",
       "      <th>item_name</th>\n",
       "      <th>order_id</th>\n",
       "      <th>quantity</th>\n",
       "      <th>choice_description</th>\n",
       "      <th>item_price</th>\n",
       "    </tr>\n",
       "  </thead>\n",
       "  <tbody>\n",
       "    <tr>\n",
       "      <th>0</th>\n",
       "      <td>6 Pack Soft Drink</td>\n",
       "      <td>1360</td>\n",
       "      <td>2</td>\n",
       "      <td>[Diet Coke]</td>\n",
       "      <td>$12.98</td>\n",
       "    </tr>\n",
       "    <tr>\n",
       "      <th>1</th>\n",
       "      <td>6 Pack Soft Drink</td>\n",
       "      <td>148</td>\n",
       "      <td>1</td>\n",
       "      <td>[Diet Coke]</td>\n",
       "      <td>$6.49</td>\n",
       "    </tr>\n",
       "    <tr>\n",
       "      <th>2</th>\n",
       "      <td>6 Pack Soft Drink</td>\n",
       "      <td>749</td>\n",
       "      <td>1</td>\n",
       "      <td>[Coke]</td>\n",
       "      <td>$6.49</td>\n",
       "    </tr>\n",
       "    <tr>\n",
       "      <th>3</th>\n",
       "      <td>6 Pack Soft Drink</td>\n",
       "      <td>754</td>\n",
       "      <td>1</td>\n",
       "      <td>[Diet Coke]</td>\n",
       "      <td>$6.49</td>\n",
       "    </tr>\n",
       "    <tr>\n",
       "      <th>4</th>\n",
       "      <td>6 Pack Soft Drink</td>\n",
       "      <td>1076</td>\n",
       "      <td>1</td>\n",
       "      <td>[Coke]</td>\n",
       "      <td>$6.49</td>\n",
       "    </tr>\n",
       "    <tr>\n",
       "      <th>...</th>\n",
       "      <td>...</td>\n",
       "      <td>...</td>\n",
       "      <td>...</td>\n",
       "      <td>...</td>\n",
       "      <td>...</td>\n",
       "    </tr>\n",
       "    <tr>\n",
       "      <th>4617</th>\n",
       "      <td>Veggie Soft Tacos</td>\n",
       "      <td>948</td>\n",
       "      <td>1</td>\n",
       "      <td>[Roasted Chili Corn Salsa, [Fajita Vegetables,...</td>\n",
       "      <td>$8.75</td>\n",
       "    </tr>\n",
       "    <tr>\n",
       "      <th>4618</th>\n",
       "      <td>Veggie Soft Tacos</td>\n",
       "      <td>322</td>\n",
       "      <td>1</td>\n",
       "      <td>[Fresh Tomato Salsa, [Black Beans, Cheese, Sou...</td>\n",
       "      <td>$8.75</td>\n",
       "    </tr>\n",
       "    <tr>\n",
       "      <th>4619</th>\n",
       "      <td>Veggie Soft Tacos</td>\n",
       "      <td>1132</td>\n",
       "      <td>1</td>\n",
       "      <td>[Roasted Chili Corn Salsa (Medium), [Black Bea...</td>\n",
       "      <td>$8.49</td>\n",
       "    </tr>\n",
       "    <tr>\n",
       "      <th>4620</th>\n",
       "      <td>Veggie Soft Tacos</td>\n",
       "      <td>688</td>\n",
       "      <td>1</td>\n",
       "      <td>[Fresh Tomato Salsa, [Fajita Vegetables, Rice,...</td>\n",
       "      <td>$11.25</td>\n",
       "    </tr>\n",
       "    <tr>\n",
       "      <th>4621</th>\n",
       "      <td>Veggie Soft Tacos</td>\n",
       "      <td>567</td>\n",
       "      <td>1</td>\n",
       "      <td>[Fresh Tomato Salsa (Mild), [Pinto Beans, Rice...</td>\n",
       "      <td>$8.49</td>\n",
       "    </tr>\n",
       "  </tbody>\n",
       "</table>\n",
       "<p>4622 rows × 5 columns</p>\n",
       "</div>"
      ],
      "text/plain": [
       "              item_name  order_id  quantity  \\\n",
       "0     6 Pack Soft Drink      1360         2   \n",
       "1     6 Pack Soft Drink       148         1   \n",
       "2     6 Pack Soft Drink       749         1   \n",
       "3     6 Pack Soft Drink       754         1   \n",
       "4     6 Pack Soft Drink      1076         1   \n",
       "...                 ...       ...       ...   \n",
       "4617  Veggie Soft Tacos       948         1   \n",
       "4618  Veggie Soft Tacos       322         1   \n",
       "4619  Veggie Soft Tacos      1132         1   \n",
       "4620  Veggie Soft Tacos       688         1   \n",
       "4621  Veggie Soft Tacos       567         1   \n",
       "\n",
       "                                     choice_description item_price  \n",
       "0                                           [Diet Coke]    $12.98   \n",
       "1                                           [Diet Coke]     $6.49   \n",
       "2                                                [Coke]     $6.49   \n",
       "3                                           [Diet Coke]     $6.49   \n",
       "4                                                [Coke]     $6.49   \n",
       "...                                                 ...        ...  \n",
       "4617  [Roasted Chili Corn Salsa, [Fajita Vegetables,...     $8.75   \n",
       "4618  [Fresh Tomato Salsa, [Black Beans, Cheese, Sou...     $8.75   \n",
       "4619  [Roasted Chili Corn Salsa (Medium), [Black Bea...     $8.49   \n",
       "4620  [Fresh Tomato Salsa, [Fajita Vegetables, Rice,...    $11.25   \n",
       "4621  [Fresh Tomato Salsa (Mild), [Pinto Beans, Rice...     $8.49   \n",
       "\n",
       "[4622 rows x 5 columns]"
      ]
     },
     "execution_count": 9,
     "metadata": {},
     "output_type": "execute_result"
    }
   ],
   "source": [
    "chipo.reset_index(inplace=True)\n",
    "chipo"
   ]
  },
  {
   "cell_type": "markdown",
   "metadata": {},
   "source": [
    "### Step 11. "
   ]
  },
  {
   "cell_type": "code",
   "execution_count": 10,
   "metadata": {
    "collapsed": false
   },
   "outputs": [
    {
     "data": {
      "application/vnd.microsoft.datawrangler.viewer.v0+json": {
       "columns": [
        {
         "name": "choice_description",
         "rawType": "object",
         "type": "unknown"
        },
        {
         "name": "item_name",
         "rawType": "object",
         "type": "string"
        },
        {
         "name": "order_id",
         "rawType": "int64",
         "type": "integer"
        },
        {
         "name": "quantity",
         "rawType": "int64",
         "type": "integer"
        },
        {
         "name": "item_price",
         "rawType": "object",
         "type": "string"
        }
       ],
       "ref": "637a7662-32ad-440f-ab4e-fb220dbe1a79",
       "rows": [
        [
         "[Diet Coke]",
         "6 Pack Soft Drink",
         "1360",
         "2",
         "$12.98 "
        ],
        [
         "[Diet Coke]",
         "6 Pack Soft Drink",
         "148",
         "1",
         "$6.49 "
        ],
        [
         "[Coke]",
         "6 Pack Soft Drink",
         "749",
         "1",
         "$6.49 "
        ],
        [
         "[Diet Coke]",
         "6 Pack Soft Drink",
         "754",
         "1",
         "$6.49 "
        ],
        [
         "[Coke]",
         "6 Pack Soft Drink",
         "1076",
         "1",
         "$6.49 "
        ],
        [
         "[Coke]",
         "6 Pack Soft Drink",
         "1373",
         "1",
         "$6.49 "
        ],
        [
         "[Diet Coke]",
         "6 Pack Soft Drink",
         "230",
         "1",
         "$6.49 "
        ],
        [
         "[Diet Coke]",
         "6 Pack Soft Drink",
         "774",
         "1",
         "$6.49 "
        ],
        [
         "[Coke]",
         "6 Pack Soft Drink",
         "776",
         "1",
         "$6.49 "
        ],
        [
         "[Diet Coke]",
         "6 Pack Soft Drink",
         "784",
         "1",
         "$6.49 "
        ],
        [
         "[Coke]",
         "6 Pack Soft Drink",
         "1537",
         "1",
         "$6.49 "
        ],
        [
         "[Sprite]",
         "6 Pack Soft Drink",
         "129",
         "1",
         "$6.49 "
        ],
        [
         "[Diet Coke]",
         "6 Pack Soft Drink",
         "798",
         "1",
         "$6.49 "
        ],
        [
         "[Coke]",
         "6 Pack Soft Drink",
         "481",
         "1",
         "$6.49 "
        ],
        [
         "[Diet Coke]",
         "6 Pack Soft Drink",
         "1554",
         "1",
         "$6.49 "
        ],
        [
         "[Coke]",
         "6 Pack Soft Drink",
         "465",
         "1",
         "$6.49 "
        ],
        [
         "[Diet Coke]",
         "6 Pack Soft Drink",
         "1558",
         "1",
         "$6.49 "
        ],
        [
         "[Coke]",
         "6 Pack Soft Drink",
         "849",
         "1",
         "$6.49 "
        ],
        [
         "[Diet Coke]",
         "6 Pack Soft Drink",
         "1196",
         "1",
         "$6.49 "
        ],
        [
         "[Lemonade]",
         "6 Pack Soft Drink",
         "1803",
         "1",
         "$6.49 "
        ],
        [
         "[Diet Coke]",
         "6 Pack Soft Drink",
         "1664",
         "1",
         "$6.49 "
        ],
        [
         "[Coke]",
         "6 Pack Soft Drink",
         "1666",
         "1",
         "$6.49 "
        ],
        [
         "[Diet Coke]",
         "6 Pack Soft Drink",
         "1800",
         "1",
         "$6.49 "
        ],
        [
         "[Diet Coke]",
         "6 Pack Soft Drink",
         "1798",
         "1",
         "$6.49 "
        ],
        [
         "[Sprite]",
         "6 Pack Soft Drink",
         "1525",
         "1",
         "$6.49 "
        ],
        [
         "[Coke]",
         "6 Pack Soft Drink",
         "949",
         "1",
         "$6.49 "
        ],
        [
         "[Diet Coke]",
         "6 Pack Soft Drink",
         "1248",
         "1",
         "$6.49 "
        ],
        [
         "[Lemonade]",
         "6 Pack Soft Drink",
         "1253",
         "1",
         "$6.49 "
        ],
        [
         "[Diet Coke]",
         "6 Pack Soft Drink",
         "264",
         "1",
         "$6.49 "
        ],
        [
         "[Sprite]",
         "6 Pack Soft Drink",
         "422",
         "1",
         "$6.49 "
        ],
        [
         "[Coke]",
         "6 Pack Soft Drink",
         "432",
         "1",
         "$6.49 "
        ],
        [
         "[Coke]",
         "6 Pack Soft Drink",
         "899",
         "1",
         "$6.49 "
        ],
        [
         "[Sprite]",
         "6 Pack Soft Drink",
         "945",
         "1",
         "$6.49 "
        ],
        [
         "[Coke]",
         "6 Pack Soft Drink",
         "511",
         "1",
         "$6.49 "
        ],
        [
         "[Coke]",
         "6 Pack Soft Drink",
         "363",
         "1",
         "$6.49 "
        ],
        [
         "[Diet Coke]",
         "6 Pack Soft Drink",
         "1480",
         "1",
         "$6.49 "
        ],
        [
         "[Diet Coke]",
         "6 Pack Soft Drink",
         "1517",
         "1",
         "$6.49 "
        ],
        [
         "[Diet Coke]",
         "6 Pack Soft Drink",
         "1109",
         "1",
         "$6.49 "
        ],
        [
         "[Diet Coke]",
         "6 Pack Soft Drink",
         "1136",
         "1",
         "$6.49 "
        ],
        [
         "[Diet Coke]",
         "6 Pack Soft Drink",
         "566",
         "1",
         "$6.49 "
        ],
        [
         "[Coke]",
         "6 Pack Soft Drink",
         "1443",
         "1",
         "$6.49 "
        ],
        [
         "[Nestea]",
         "6 Pack Soft Drink",
         "1448",
         "1",
         "$6.49 "
        ],
        [
         "[Coke]",
         "6 Pack Soft Drink",
         "1741",
         "1",
         "$6.49 "
        ],
        [
         "[Diet Coke]",
         "6 Pack Soft Drink",
         "1742",
         "1",
         "$6.49 "
        ],
        [
         "[Coke]",
         "6 Pack Soft Drink",
         "1454",
         "1",
         "$6.49 "
        ],
        [
         "[Diet Coke]",
         "6 Pack Soft Drink",
         "168",
         "1",
         "$6.49 "
        ],
        [
         "[Nestea]",
         "6 Pack Soft Drink",
         "298",
         "1",
         "$6.49 "
        ],
        [
         "[Diet Coke]",
         "6 Pack Soft Drink",
         "182",
         "1",
         "$6.49 "
        ],
        [
         "[Diet Coke]",
         "6 Pack Soft Drink",
         "709",
         "1",
         "$6.49 "
        ],
        [
         "[Coke]",
         "6 Pack Soft Drink",
         "1508",
         "1",
         "$6.49 "
        ]
       ],
       "shape": {
        "columns": 4,
        "rows": 4622
       }
      },
      "text/html": [
       "<div>\n",
       "<style scoped>\n",
       "    .dataframe tbody tr th:only-of-type {\n",
       "        vertical-align: middle;\n",
       "    }\n",
       "\n",
       "    .dataframe tbody tr th {\n",
       "        vertical-align: top;\n",
       "    }\n",
       "\n",
       "    .dataframe thead th {\n",
       "        text-align: right;\n",
       "    }\n",
       "</style>\n",
       "<table border=\"1\" class=\"dataframe\">\n",
       "  <thead>\n",
       "    <tr style=\"text-align: right;\">\n",
       "      <th></th>\n",
       "      <th>item_name</th>\n",
       "      <th>order_id</th>\n",
       "      <th>quantity</th>\n",
       "      <th>item_price</th>\n",
       "    </tr>\n",
       "    <tr>\n",
       "      <th>choice_description</th>\n",
       "      <th></th>\n",
       "      <th></th>\n",
       "      <th></th>\n",
       "      <th></th>\n",
       "    </tr>\n",
       "  </thead>\n",
       "  <tbody>\n",
       "    <tr>\n",
       "      <th>[Diet Coke]</th>\n",
       "      <td>6 Pack Soft Drink</td>\n",
       "      <td>1360</td>\n",
       "      <td>2</td>\n",
       "      <td>$12.98</td>\n",
       "    </tr>\n",
       "    <tr>\n",
       "      <th>[Diet Coke]</th>\n",
       "      <td>6 Pack Soft Drink</td>\n",
       "      <td>148</td>\n",
       "      <td>1</td>\n",
       "      <td>$6.49</td>\n",
       "    </tr>\n",
       "    <tr>\n",
       "      <th>[Coke]</th>\n",
       "      <td>6 Pack Soft Drink</td>\n",
       "      <td>749</td>\n",
       "      <td>1</td>\n",
       "      <td>$6.49</td>\n",
       "    </tr>\n",
       "    <tr>\n",
       "      <th>[Diet Coke]</th>\n",
       "      <td>6 Pack Soft Drink</td>\n",
       "      <td>754</td>\n",
       "      <td>1</td>\n",
       "      <td>$6.49</td>\n",
       "    </tr>\n",
       "    <tr>\n",
       "      <th>[Coke]</th>\n",
       "      <td>6 Pack Soft Drink</td>\n",
       "      <td>1076</td>\n",
       "      <td>1</td>\n",
       "      <td>$6.49</td>\n",
       "    </tr>\n",
       "    <tr>\n",
       "      <th>...</th>\n",
       "      <td>...</td>\n",
       "      <td>...</td>\n",
       "      <td>...</td>\n",
       "      <td>...</td>\n",
       "    </tr>\n",
       "    <tr>\n",
       "      <th>[Roasted Chili Corn Salsa, [Fajita Vegetables, Black Beans, Pinto Beans, Cheese, Lettuce]]</th>\n",
       "      <td>Veggie Soft Tacos</td>\n",
       "      <td>948</td>\n",
       "      <td>1</td>\n",
       "      <td>$8.75</td>\n",
       "    </tr>\n",
       "    <tr>\n",
       "      <th>[Fresh Tomato Salsa, [Black Beans, Cheese, Sour Cream, Lettuce]]</th>\n",
       "      <td>Veggie Soft Tacos</td>\n",
       "      <td>322</td>\n",
       "      <td>1</td>\n",
       "      <td>$8.75</td>\n",
       "    </tr>\n",
       "    <tr>\n",
       "      <th>[Roasted Chili Corn Salsa (Medium), [Black Beans, Fajita Veggies, Cheese, Sour Cream, Lettuce]]</th>\n",
       "      <td>Veggie Soft Tacos</td>\n",
       "      <td>1132</td>\n",
       "      <td>1</td>\n",
       "      <td>$8.49</td>\n",
       "    </tr>\n",
       "    <tr>\n",
       "      <th>[Fresh Tomato Salsa, [Fajita Vegetables, Rice, Black Beans, Pinto Beans, Cheese, Sour Cream, Guacamole, Lettuce]]</th>\n",
       "      <td>Veggie Soft Tacos</td>\n",
       "      <td>688</td>\n",
       "      <td>1</td>\n",
       "      <td>$11.25</td>\n",
       "    </tr>\n",
       "    <tr>\n",
       "      <th>[Fresh Tomato Salsa (Mild), [Pinto Beans, Rice, Cheese, Sour Cream]]</th>\n",
       "      <td>Veggie Soft Tacos</td>\n",
       "      <td>567</td>\n",
       "      <td>1</td>\n",
       "      <td>$8.49</td>\n",
       "    </tr>\n",
       "  </tbody>\n",
       "</table>\n",
       "<p>4622 rows × 4 columns</p>\n",
       "</div>"
      ],
      "text/plain": [
       "                                                            item_name  \\\n",
       "choice_description                                                      \n",
       "[Diet Coke]                                         6 Pack Soft Drink   \n",
       "[Diet Coke]                                         6 Pack Soft Drink   \n",
       "[Coke]                                              6 Pack Soft Drink   \n",
       "[Diet Coke]                                         6 Pack Soft Drink   \n",
       "[Coke]                                              6 Pack Soft Drink   \n",
       "...                                                               ...   \n",
       "[Roasted Chili Corn Salsa, [Fajita Vegetables, ...  Veggie Soft Tacos   \n",
       "[Fresh Tomato Salsa, [Black Beans, Cheese, Sour...  Veggie Soft Tacos   \n",
       "[Roasted Chili Corn Salsa (Medium), [Black Bean...  Veggie Soft Tacos   \n",
       "[Fresh Tomato Salsa, [Fajita Vegetables, Rice, ...  Veggie Soft Tacos   \n",
       "[Fresh Tomato Salsa (Mild), [Pinto Beans, Rice,...  Veggie Soft Tacos   \n",
       "\n",
       "                                                    order_id  quantity  \\\n",
       "choice_description                                                       \n",
       "[Diet Coke]                                             1360         2   \n",
       "[Diet Coke]                                              148         1   \n",
       "[Coke]                                                   749         1   \n",
       "[Diet Coke]                                              754         1   \n",
       "[Coke]                                                  1076         1   \n",
       "...                                                      ...       ...   \n",
       "[Roasted Chili Corn Salsa, [Fajita Vegetables, ...       948         1   \n",
       "[Fresh Tomato Salsa, [Black Beans, Cheese, Sour...       322         1   \n",
       "[Roasted Chili Corn Salsa (Medium), [Black Bean...      1132         1   \n",
       "[Fresh Tomato Salsa, [Fajita Vegetables, Rice, ...       688         1   \n",
       "[Fresh Tomato Salsa (Mild), [Pinto Beans, Rice,...       567         1   \n",
       "\n",
       "                                                   item_price  \n",
       "choice_description                                             \n",
       "[Diet Coke]                                           $12.98   \n",
       "[Diet Coke]                                            $6.49   \n",
       "[Coke]                                                 $6.49   \n",
       "[Diet Coke]                                            $6.49   \n",
       "[Coke]                                                 $6.49   \n",
       "...                                                       ...  \n",
       "[Roasted Chili Corn Salsa, [Fajita Vegetables, ...     $8.75   \n",
       "[Fresh Tomato Salsa, [Black Beans, Cheese, Sour...     $8.75   \n",
       "[Roasted Chili Corn Salsa (Medium), [Black Bean...     $8.49   \n",
       "[Fresh Tomato Salsa, [Fajita Vegetables, Rice, ...    $11.25   \n",
       "[Fresh Tomato Salsa (Mild), [Pinto Beans, Rice,...     $8.49   \n",
       "\n",
       "[4622 rows x 4 columns]"
      ]
     },
     "execution_count": 10,
     "metadata": {},
     "output_type": "execute_result"
    }
   ],
   "source": [
    "chipo.set_index('choice_description', inplace=True)\n",
    "chipo"
   ]
  },
  {
   "cell_type": "markdown",
   "metadata": {},
   "source": [
    "### Step 12. "
   ]
  },
  {
   "cell_type": "code",
   "execution_count": 11,
   "metadata": {
    "collapsed": false
   },
   "outputs": [
    {
     "data": {
      "application/vnd.microsoft.datawrangler.viewer.v0+json": {
       "columns": [
        {
         "name": "choice_description",
         "rawType": "object",
         "type": "unknown"
        },
        {
         "name": "item_name",
         "rawType": "object",
         "type": "string"
        },
        {
         "name": "order_id",
         "rawType": "int64",
         "type": "integer"
        },
        {
         "name": "quantity",
         "rawType": "int64",
         "type": "integer"
        },
        {
         "name": "item_price",
         "rawType": "object",
         "type": "string"
        }
       ],
       "ref": "ff629ba8-7da1-40bd-b0da-ed3b953a0f63",
       "rows": [
        [
         "[Adobo-Marinated and Grilled Chicken, Pinto Beans, [Sour Cream, Salsa, Cheese, Cilantro-Lime Rice, Guacamole]]",
         "Burrito",
         "214",
         "1",
         "$7.40 "
        ],
        [
         "[Adobo-Marinated and Grilled Chicken, [Sour Cream, Cheese, Cilantro-Lime Rice]]",
         "Burrito",
         "279",
         "1",
         "$7.40 "
        ],
        [
         "[Adobo-Marinated and Grilled Chicken]",
         "Crispy Tacos",
         "217",
         "1",
         "$7.40 "
        ],
        [
         "[Adobo-Marinated and Grilled Steak, [Sour Cream, Salsa, Cheese, Cilantro-Lime Rice, Guacamole]]",
         "Bowl",
         "279",
         "1",
         "$7.40 "
        ],
        [
         "[Adobo-Marinated and Grilled Steak]",
         "Crispy Tacos",
         "217",
         "1",
         "$7.40 "
        ],
        [
         "[Apple]",
         "Nantucket Nectar",
         "1133",
         "1",
         "$3.39 "
        ],
        [
         "[Apple]",
         "Nantucket Nectar",
         "77",
         "1",
         "$3.39 "
        ],
        [
         "[Apple]",
         "Nantucket Nectar",
         "1118",
         "1",
         "$3.39 "
        ],
        [
         "[Apple]",
         "Nantucket Nectar",
         "1",
         "1",
         "$3.39 "
        ],
        [
         "[Apple]",
         "Nantucket Nectar",
         "690",
         "1",
         "$3.39 "
        ],
        [
         "[Apple]",
         "Nantucket Nectar",
         "947",
         "1",
         "$3.39 "
        ],
        [
         "[Blackberry]",
         "Izze",
         "651",
         "1",
         "$3.39 "
        ],
        [
         "[Blackberry]",
         "Izze",
         "21",
         "1",
         "$3.39 "
        ],
        [
         "[Blackberry]",
         "Izze",
         "1149",
         "1",
         "$3.39 "
        ],
        [
         "[Blackberry]",
         "Izze",
         "1468",
         "1",
         "$3.39 "
        ],
        [
         "[Blackberry]",
         "Izze",
         "1095",
         "1",
         "$3.39 "
        ],
        [
         "[Blackberry]",
         "Izze",
         "651",
         "1",
         "$3.39 "
        ],
        [
         "[Blackberry]",
         "Izze",
         "155",
         "1",
         "$3.39 "
        ],
        [
         "[Blackberry]",
         "Izze",
         "30",
         "1",
         "$3.39 "
        ],
        [
         "[Braised Barbacoa, Pinto Beans, [Sour Cream, Salsa, Cheese, Cilantro-Lime Rice, Guacamole]]",
         "Burrito",
         "217",
         "1",
         "$7.40 "
        ],
        [
         "[Braised Barbacoa, Vegetarian Black Beans, [Sour Cream, Salsa, Cheese, Cilantro-Lime Rice]]",
         "Burrito",
         "214",
         "1",
         "$7.40 "
        ],
        [
         "[Braised Carnitas, Pinto Beans, [Sour Cream, Cheese, Cilantro-Lime Rice]]",
         "Bowl",
         "193",
         "3",
         "$22.20 "
        ],
        [
         "[Brown Rice, Adobo-Marinated and Grilled Chicken, Vegetarian Black Beans]",
         "Salad",
         "575",
         "1",
         "$7.40 "
        ],
        [
         "[Brown Rice]",
         "Steak Burrito",
         "1793",
         "1",
         "$8.99 "
        ],
        [
         "[Clementine]",
         "Izze",
         "495",
         "1",
         "$3.39 "
        ],
        [
         "[Clementine]",
         "Izze",
         "680",
         "1",
         "$3.39 "
        ],
        [
         "[Clementine]",
         "Izze",
         "237",
         "1",
         "$3.39 "
        ],
        [
         "[Clementine]",
         "Izze",
         "1040",
         "1",
         "$3.39 "
        ],
        [
         "[Clementine]",
         "Izze",
         "436",
         "1",
         "$3.39 "
        ],
        [
         "[Clementine]",
         "Izze",
         "1",
         "1",
         "$3.39 "
        ],
        [
         "[Clementine]",
         "Izze",
         "842",
         "1",
         "$3.39 "
        ],
        [
         "[Clementine]",
         "Izze",
         "1046",
         "1",
         "$3.39 "
        ],
        [
         "[Coca Cola]",
         "Canned Soda",
         "188",
         "1",
         "$1.09 "
        ],
        [
         "[Coca Cola]",
         "Canned Soda",
         "287",
         "2",
         "$2.18 "
        ],
        [
         "[Coca Cola]",
         "Canned Soda",
         "1195",
         "1",
         "$1.09 "
        ],
        [
         "[Coca Cola]",
         "Canned Soda",
         "1001",
         "1",
         "$1.09 "
        ],
        [
         "[Coca Cola]",
         "Canned Soda",
         "392",
         "1",
         "$1.09 "
        ],
        [
         "[Coca Cola]",
         "Canned Soda",
         "122",
         "1",
         "$1.09 "
        ],
        [
         "[Coca Cola]",
         "Canned Soda",
         "338",
         "1",
         "$1.09 "
        ],
        [
         "[Coca Cola]",
         "Canned Soda",
         "990",
         "1",
         "$1.09 "
        ],
        [
         "[Coca Cola]",
         "Canned Soda",
         "1475",
         "1",
         "$1.09 "
        ],
        [
         "[Coca Cola]",
         "Canned Soda",
         "1349",
         "2",
         "$2.18 "
        ],
        [
         "[Coca Cola]",
         "Canned Soda",
         "971",
         "1",
         "$1.09 "
        ],
        [
         "[Coca Cola]",
         "Canned Soda",
         "55",
         "1",
         "$1.09 "
        ],
        [
         "[Coca Cola]",
         "Canned Soda",
         "787",
         "1",
         "$1.09 "
        ],
        [
         "[Coca Cola]",
         "Canned Soda",
         "450",
         "2",
         "$2.18 "
        ],
        [
         "[Coca Cola]",
         "Canned Soda",
         "1122",
         "1",
         "$1.09 "
        ],
        [
         "[Coca Cola]",
         "Canned Soda",
         "1396",
         "1",
         "$1.09 "
        ],
        [
         "[Coca Cola]",
         "Canned Soda",
         "151",
         "2",
         "$2.18 "
        ],
        [
         "[Coca Cola]",
         "Canned Soda",
         "1014",
         "1",
         "$1.09 "
        ]
       ],
       "shape": {
        "columns": 4,
        "rows": 4622
       }
      },
      "text/html": [
       "<div>\n",
       "<style scoped>\n",
       "    .dataframe tbody tr th:only-of-type {\n",
       "        vertical-align: middle;\n",
       "    }\n",
       "\n",
       "    .dataframe tbody tr th {\n",
       "        vertical-align: top;\n",
       "    }\n",
       "\n",
       "    .dataframe thead th {\n",
       "        text-align: right;\n",
       "    }\n",
       "</style>\n",
       "<table border=\"1\" class=\"dataframe\">\n",
       "  <thead>\n",
       "    <tr style=\"text-align: right;\">\n",
       "      <th></th>\n",
       "      <th>item_name</th>\n",
       "      <th>order_id</th>\n",
       "      <th>quantity</th>\n",
       "      <th>item_price</th>\n",
       "    </tr>\n",
       "    <tr>\n",
       "      <th>choice_description</th>\n",
       "      <th></th>\n",
       "      <th></th>\n",
       "      <th></th>\n",
       "      <th></th>\n",
       "    </tr>\n",
       "  </thead>\n",
       "  <tbody>\n",
       "    <tr>\n",
       "      <th>[Adobo-Marinated and Grilled Chicken, Pinto Beans, [Sour Cream, Salsa, Cheese, Cilantro-Lime Rice, Guacamole]]</th>\n",
       "      <td>Burrito</td>\n",
       "      <td>214</td>\n",
       "      <td>1</td>\n",
       "      <td>$7.40</td>\n",
       "    </tr>\n",
       "    <tr>\n",
       "      <th>[Adobo-Marinated and Grilled Chicken, [Sour Cream, Cheese, Cilantro-Lime Rice]]</th>\n",
       "      <td>Burrito</td>\n",
       "      <td>279</td>\n",
       "      <td>1</td>\n",
       "      <td>$7.40</td>\n",
       "    </tr>\n",
       "    <tr>\n",
       "      <th>[Adobo-Marinated and Grilled Chicken]</th>\n",
       "      <td>Crispy Tacos</td>\n",
       "      <td>217</td>\n",
       "      <td>1</td>\n",
       "      <td>$7.40</td>\n",
       "    </tr>\n",
       "    <tr>\n",
       "      <th>[Adobo-Marinated and Grilled Steak, [Sour Cream, Salsa, Cheese, Cilantro-Lime Rice, Guacamole]]</th>\n",
       "      <td>Bowl</td>\n",
       "      <td>279</td>\n",
       "      <td>1</td>\n",
       "      <td>$7.40</td>\n",
       "    </tr>\n",
       "    <tr>\n",
       "      <th>[Adobo-Marinated and Grilled Steak]</th>\n",
       "      <td>Crispy Tacos</td>\n",
       "      <td>217</td>\n",
       "      <td>1</td>\n",
       "      <td>$7.40</td>\n",
       "    </tr>\n",
       "    <tr>\n",
       "      <th>...</th>\n",
       "      <td>...</td>\n",
       "      <td>...</td>\n",
       "      <td>...</td>\n",
       "      <td>...</td>\n",
       "    </tr>\n",
       "    <tr>\n",
       "      <th>NaN</th>\n",
       "      <td>Side of Chips</td>\n",
       "      <td>825</td>\n",
       "      <td>1</td>\n",
       "      <td>$1.69</td>\n",
       "    </tr>\n",
       "    <tr>\n",
       "      <th>NaN</th>\n",
       "      <td>Side of Chips</td>\n",
       "      <td>875</td>\n",
       "      <td>1</td>\n",
       "      <td>$1.69</td>\n",
       "    </tr>\n",
       "    <tr>\n",
       "      <th>NaN</th>\n",
       "      <td>Side of Chips</td>\n",
       "      <td>67</td>\n",
       "      <td>1</td>\n",
       "      <td>$1.69</td>\n",
       "    </tr>\n",
       "    <tr>\n",
       "      <th>NaN</th>\n",
       "      <td>Side of Chips</td>\n",
       "      <td>122</td>\n",
       "      <td>1</td>\n",
       "      <td>$1.69</td>\n",
       "    </tr>\n",
       "    <tr>\n",
       "      <th>NaN</th>\n",
       "      <td>Side of Chips</td>\n",
       "      <td>1170</td>\n",
       "      <td>3</td>\n",
       "      <td>$5.07</td>\n",
       "    </tr>\n",
       "  </tbody>\n",
       "</table>\n",
       "<p>4622 rows × 4 columns</p>\n",
       "</div>"
      ],
      "text/plain": [
       "                                                        item_name  order_id  \\\n",
       "choice_description                                                            \n",
       "[Adobo-Marinated and Grilled Chicken, Pinto Bea...        Burrito       214   \n",
       "[Adobo-Marinated and Grilled Chicken, [Sour Cre...        Burrito       279   \n",
       "[Adobo-Marinated and Grilled Chicken]                Crispy Tacos       217   \n",
       "[Adobo-Marinated and Grilled Steak, [Sour Cream...           Bowl       279   \n",
       "[Adobo-Marinated and Grilled Steak]                  Crispy Tacos       217   \n",
       "...                                                           ...       ...   \n",
       "NaN                                                 Side of Chips       825   \n",
       "NaN                                                 Side of Chips       875   \n",
       "NaN                                                 Side of Chips        67   \n",
       "NaN                                                 Side of Chips       122   \n",
       "NaN                                                 Side of Chips      1170   \n",
       "\n",
       "                                                    quantity item_price  \n",
       "choice_description                                                       \n",
       "[Adobo-Marinated and Grilled Chicken, Pinto Bea...         1     $7.40   \n",
       "[Adobo-Marinated and Grilled Chicken, [Sour Cre...         1     $7.40   \n",
       "[Adobo-Marinated and Grilled Chicken]                      1     $7.40   \n",
       "[Adobo-Marinated and Grilled Steak, [Sour Cream...         1     $7.40   \n",
       "[Adobo-Marinated and Grilled Steak]                        1     $7.40   \n",
       "...                                                      ...        ...  \n",
       "NaN                                                        1     $1.69   \n",
       "NaN                                                        1     $1.69   \n",
       "NaN                                                        1     $1.69   \n",
       "NaN                                                        1     $1.69   \n",
       "NaN                                                        3     $5.07   \n",
       "\n",
       "[4622 rows x 4 columns]"
      ]
     },
     "execution_count": 11,
     "metadata": {},
     "output_type": "execute_result"
    }
   ],
   "source": [
    "chipo.sort_index(inplace=True)\n",
    "chipo"
   ]
  },
  {
   "cell_type": "markdown",
   "metadata": {},
   "source": [
    "### Step 13. "
   ]
  },
  {
   "cell_type": "code",
   "execution_count": 12,
   "metadata": {
    "collapsed": false
   },
   "outputs": [
    {
     "data": {
      "application/vnd.microsoft.datawrangler.viewer.v0+json": {
       "columns": [
        {
         "name": "index",
         "rawType": "int64",
         "type": "integer"
        },
        {
         "name": "choice_description",
         "rawType": "object",
         "type": "unknown"
        },
        {
         "name": "item_name",
         "rawType": "object",
         "type": "string"
        },
        {
         "name": "order_id",
         "rawType": "int64",
         "type": "integer"
        },
        {
         "name": "quantity",
         "rawType": "int64",
         "type": "integer"
        },
        {
         "name": "item_price",
         "rawType": "object",
         "type": "string"
        }
       ],
       "ref": "047f0826-ec84-4c43-b757-83e61bfa056d",
       "rows": [
        [
         "0",
         "[Adobo-Marinated and Grilled Chicken, Pinto Beans, [Sour Cream, Salsa, Cheese, Cilantro-Lime Rice, Guacamole]]",
         "Burrito",
         "214",
         "1",
         "$7.40 "
        ],
        [
         "1",
         "[Adobo-Marinated and Grilled Chicken, [Sour Cream, Cheese, Cilantro-Lime Rice]]",
         "Burrito",
         "279",
         "1",
         "$7.40 "
        ],
        [
         "2",
         "[Adobo-Marinated and Grilled Chicken]",
         "Crispy Tacos",
         "217",
         "1",
         "$7.40 "
        ],
        [
         "3",
         "[Adobo-Marinated and Grilled Steak, [Sour Cream, Salsa, Cheese, Cilantro-Lime Rice, Guacamole]]",
         "Bowl",
         "279",
         "1",
         "$7.40 "
        ],
        [
         "4",
         "[Adobo-Marinated and Grilled Steak]",
         "Crispy Tacos",
         "217",
         "1",
         "$7.40 "
        ],
        [
         "5",
         "[Apple]",
         "Nantucket Nectar",
         "1133",
         "1",
         "$3.39 "
        ],
        [
         "6",
         "[Apple]",
         "Nantucket Nectar",
         "77",
         "1",
         "$3.39 "
        ],
        [
         "7",
         "[Apple]",
         "Nantucket Nectar",
         "1118",
         "1",
         "$3.39 "
        ],
        [
         "8",
         "[Apple]",
         "Nantucket Nectar",
         "1",
         "1",
         "$3.39 "
        ],
        [
         "9",
         "[Apple]",
         "Nantucket Nectar",
         "690",
         "1",
         "$3.39 "
        ],
        [
         "10",
         "[Apple]",
         "Nantucket Nectar",
         "947",
         "1",
         "$3.39 "
        ],
        [
         "11",
         "[Blackberry]",
         "Izze",
         "651",
         "1",
         "$3.39 "
        ],
        [
         "12",
         "[Blackberry]",
         "Izze",
         "21",
         "1",
         "$3.39 "
        ],
        [
         "13",
         "[Blackberry]",
         "Izze",
         "1149",
         "1",
         "$3.39 "
        ],
        [
         "14",
         "[Blackberry]",
         "Izze",
         "1468",
         "1",
         "$3.39 "
        ],
        [
         "15",
         "[Blackberry]",
         "Izze",
         "1095",
         "1",
         "$3.39 "
        ],
        [
         "16",
         "[Blackberry]",
         "Izze",
         "651",
         "1",
         "$3.39 "
        ],
        [
         "17",
         "[Blackberry]",
         "Izze",
         "155",
         "1",
         "$3.39 "
        ],
        [
         "18",
         "[Blackberry]",
         "Izze",
         "30",
         "1",
         "$3.39 "
        ],
        [
         "19",
         "[Braised Barbacoa, Pinto Beans, [Sour Cream, Salsa, Cheese, Cilantro-Lime Rice, Guacamole]]",
         "Burrito",
         "217",
         "1",
         "$7.40 "
        ],
        [
         "20",
         "[Braised Barbacoa, Vegetarian Black Beans, [Sour Cream, Salsa, Cheese, Cilantro-Lime Rice]]",
         "Burrito",
         "214",
         "1",
         "$7.40 "
        ],
        [
         "21",
         "[Braised Carnitas, Pinto Beans, [Sour Cream, Cheese, Cilantro-Lime Rice]]",
         "Bowl",
         "193",
         "3",
         "$22.20 "
        ],
        [
         "22",
         "[Brown Rice, Adobo-Marinated and Grilled Chicken, Vegetarian Black Beans]",
         "Salad",
         "575",
         "1",
         "$7.40 "
        ],
        [
         "23",
         "[Brown Rice]",
         "Steak Burrito",
         "1793",
         "1",
         "$8.99 "
        ],
        [
         "24",
         "[Clementine]",
         "Izze",
         "495",
         "1",
         "$3.39 "
        ],
        [
         "25",
         "[Clementine]",
         "Izze",
         "680",
         "1",
         "$3.39 "
        ],
        [
         "26",
         "[Clementine]",
         "Izze",
         "237",
         "1",
         "$3.39 "
        ],
        [
         "27",
         "[Clementine]",
         "Izze",
         "1040",
         "1",
         "$3.39 "
        ],
        [
         "28",
         "[Clementine]",
         "Izze",
         "436",
         "1",
         "$3.39 "
        ],
        [
         "29",
         "[Clementine]",
         "Izze",
         "1",
         "1",
         "$3.39 "
        ],
        [
         "30",
         "[Clementine]",
         "Izze",
         "842",
         "1",
         "$3.39 "
        ],
        [
         "31",
         "[Clementine]",
         "Izze",
         "1046",
         "1",
         "$3.39 "
        ],
        [
         "32",
         "[Coca Cola]",
         "Canned Soda",
         "188",
         "1",
         "$1.09 "
        ],
        [
         "33",
         "[Coca Cola]",
         "Canned Soda",
         "287",
         "2",
         "$2.18 "
        ],
        [
         "34",
         "[Coca Cola]",
         "Canned Soda",
         "1195",
         "1",
         "$1.09 "
        ],
        [
         "35",
         "[Coca Cola]",
         "Canned Soda",
         "1001",
         "1",
         "$1.09 "
        ],
        [
         "36",
         "[Coca Cola]",
         "Canned Soda",
         "392",
         "1",
         "$1.09 "
        ],
        [
         "37",
         "[Coca Cola]",
         "Canned Soda",
         "122",
         "1",
         "$1.09 "
        ],
        [
         "38",
         "[Coca Cola]",
         "Canned Soda",
         "338",
         "1",
         "$1.09 "
        ],
        [
         "39",
         "[Coca Cola]",
         "Canned Soda",
         "990",
         "1",
         "$1.09 "
        ],
        [
         "40",
         "[Coca Cola]",
         "Canned Soda",
         "1475",
         "1",
         "$1.09 "
        ],
        [
         "41",
         "[Coca Cola]",
         "Canned Soda",
         "1349",
         "2",
         "$2.18 "
        ],
        [
         "42",
         "[Coca Cola]",
         "Canned Soda",
         "971",
         "1",
         "$1.09 "
        ],
        [
         "43",
         "[Coca Cola]",
         "Canned Soda",
         "55",
         "1",
         "$1.09 "
        ],
        [
         "44",
         "[Coca Cola]",
         "Canned Soda",
         "787",
         "1",
         "$1.09 "
        ],
        [
         "45",
         "[Coca Cola]",
         "Canned Soda",
         "450",
         "2",
         "$2.18 "
        ],
        [
         "46",
         "[Coca Cola]",
         "Canned Soda",
         "1122",
         "1",
         "$1.09 "
        ],
        [
         "47",
         "[Coca Cola]",
         "Canned Soda",
         "1396",
         "1",
         "$1.09 "
        ],
        [
         "48",
         "[Coca Cola]",
         "Canned Soda",
         "151",
         "2",
         "$2.18 "
        ],
        [
         "49",
         "[Coca Cola]",
         "Canned Soda",
         "1014",
         "1",
         "$1.09 "
        ]
       ],
       "shape": {
        "columns": 5,
        "rows": 4622
       }
      },
      "text/html": [
       "<div>\n",
       "<style scoped>\n",
       "    .dataframe tbody tr th:only-of-type {\n",
       "        vertical-align: middle;\n",
       "    }\n",
       "\n",
       "    .dataframe tbody tr th {\n",
       "        vertical-align: top;\n",
       "    }\n",
       "\n",
       "    .dataframe thead th {\n",
       "        text-align: right;\n",
       "    }\n",
       "</style>\n",
       "<table border=\"1\" class=\"dataframe\">\n",
       "  <thead>\n",
       "    <tr style=\"text-align: right;\">\n",
       "      <th></th>\n",
       "      <th>choice_description</th>\n",
       "      <th>item_name</th>\n",
       "      <th>order_id</th>\n",
       "      <th>quantity</th>\n",
       "      <th>item_price</th>\n",
       "    </tr>\n",
       "  </thead>\n",
       "  <tbody>\n",
       "    <tr>\n",
       "      <th>0</th>\n",
       "      <td>[Adobo-Marinated and Grilled Chicken, Pinto Be...</td>\n",
       "      <td>Burrito</td>\n",
       "      <td>214</td>\n",
       "      <td>1</td>\n",
       "      <td>$7.40</td>\n",
       "    </tr>\n",
       "    <tr>\n",
       "      <th>1</th>\n",
       "      <td>[Adobo-Marinated and Grilled Chicken, [Sour Cr...</td>\n",
       "      <td>Burrito</td>\n",
       "      <td>279</td>\n",
       "      <td>1</td>\n",
       "      <td>$7.40</td>\n",
       "    </tr>\n",
       "    <tr>\n",
       "      <th>2</th>\n",
       "      <td>[Adobo-Marinated and Grilled Chicken]</td>\n",
       "      <td>Crispy Tacos</td>\n",
       "      <td>217</td>\n",
       "      <td>1</td>\n",
       "      <td>$7.40</td>\n",
       "    </tr>\n",
       "    <tr>\n",
       "      <th>3</th>\n",
       "      <td>[Adobo-Marinated and Grilled Steak, [Sour Crea...</td>\n",
       "      <td>Bowl</td>\n",
       "      <td>279</td>\n",
       "      <td>1</td>\n",
       "      <td>$7.40</td>\n",
       "    </tr>\n",
       "    <tr>\n",
       "      <th>4</th>\n",
       "      <td>[Adobo-Marinated and Grilled Steak]</td>\n",
       "      <td>Crispy Tacos</td>\n",
       "      <td>217</td>\n",
       "      <td>1</td>\n",
       "      <td>$7.40</td>\n",
       "    </tr>\n",
       "    <tr>\n",
       "      <th>...</th>\n",
       "      <td>...</td>\n",
       "      <td>...</td>\n",
       "      <td>...</td>\n",
       "      <td>...</td>\n",
       "      <td>...</td>\n",
       "    </tr>\n",
       "    <tr>\n",
       "      <th>4617</th>\n",
       "      <td>NaN</td>\n",
       "      <td>Side of Chips</td>\n",
       "      <td>825</td>\n",
       "      <td>1</td>\n",
       "      <td>$1.69</td>\n",
       "    </tr>\n",
       "    <tr>\n",
       "      <th>4618</th>\n",
       "      <td>NaN</td>\n",
       "      <td>Side of Chips</td>\n",
       "      <td>875</td>\n",
       "      <td>1</td>\n",
       "      <td>$1.69</td>\n",
       "    </tr>\n",
       "    <tr>\n",
       "      <th>4619</th>\n",
       "      <td>NaN</td>\n",
       "      <td>Side of Chips</td>\n",
       "      <td>67</td>\n",
       "      <td>1</td>\n",
       "      <td>$1.69</td>\n",
       "    </tr>\n",
       "    <tr>\n",
       "      <th>4620</th>\n",
       "      <td>NaN</td>\n",
       "      <td>Side of Chips</td>\n",
       "      <td>122</td>\n",
       "      <td>1</td>\n",
       "      <td>$1.69</td>\n",
       "    </tr>\n",
       "    <tr>\n",
       "      <th>4621</th>\n",
       "      <td>NaN</td>\n",
       "      <td>Side of Chips</td>\n",
       "      <td>1170</td>\n",
       "      <td>3</td>\n",
       "      <td>$5.07</td>\n",
       "    </tr>\n",
       "  </tbody>\n",
       "</table>\n",
       "<p>4622 rows × 5 columns</p>\n",
       "</div>"
      ],
      "text/plain": [
       "                                     choice_description      item_name  \\\n",
       "0     [Adobo-Marinated and Grilled Chicken, Pinto Be...        Burrito   \n",
       "1     [Adobo-Marinated and Grilled Chicken, [Sour Cr...        Burrito   \n",
       "2                 [Adobo-Marinated and Grilled Chicken]   Crispy Tacos   \n",
       "3     [Adobo-Marinated and Grilled Steak, [Sour Crea...           Bowl   \n",
       "4                   [Adobo-Marinated and Grilled Steak]   Crispy Tacos   \n",
       "...                                                 ...            ...   \n",
       "4617                                                NaN  Side of Chips   \n",
       "4618                                                NaN  Side of Chips   \n",
       "4619                                                NaN  Side of Chips   \n",
       "4620                                                NaN  Side of Chips   \n",
       "4621                                                NaN  Side of Chips   \n",
       "\n",
       "      order_id  quantity item_price  \n",
       "0          214         1     $7.40   \n",
       "1          279         1     $7.40   \n",
       "2          217         1     $7.40   \n",
       "3          279         1     $7.40   \n",
       "4          217         1     $7.40   \n",
       "...        ...       ...        ...  \n",
       "4617       825         1     $1.69   \n",
       "4618       875         1     $1.69   \n",
       "4619        67         1     $1.69   \n",
       "4620       122         1     $1.69   \n",
       "4621      1170         3     $5.07   \n",
       "\n",
       "[4622 rows x 5 columns]"
      ]
     },
     "execution_count": 12,
     "metadata": {},
     "output_type": "execute_result"
    }
   ],
   "source": [
    "chipo.reset_index(inplace=True)\n",
    "chipo"
   ]
  },
  {
   "cell_type": "markdown",
   "metadata": {},
   "source": [
    "### Step 14. "
   ]
  },
  {
   "cell_type": "code",
   "execution_count": 13,
   "metadata": {
    "collapsed": true
   },
   "outputs": [
    {
     "data": {
      "application/vnd.microsoft.datawrangler.viewer.v0+json": {
       "columns": [
        {
         "name": "quantity",
         "rawType": "int64",
         "type": "integer"
        },
        {
         "name": "choice_description",
         "rawType": "object",
         "type": "unknown"
        },
        {
         "name": "item_name",
         "rawType": "object",
         "type": "string"
        },
        {
         "name": "order_id",
         "rawType": "int64",
         "type": "integer"
        },
        {
         "name": "item_price",
         "rawType": "object",
         "type": "string"
        }
       ],
       "ref": "80320393-4b44-4b02-b4da-70b6cfee1c08",
       "rows": [
        [
         "1",
         "[Adobo-Marinated and Grilled Chicken, Pinto Beans, [Sour Cream, Salsa, Cheese, Cilantro-Lime Rice, Guacamole]]",
         "Burrito",
         "214",
         "$7.40 "
        ],
        [
         "1",
         "[Adobo-Marinated and Grilled Chicken, [Sour Cream, Cheese, Cilantro-Lime Rice]]",
         "Burrito",
         "279",
         "$7.40 "
        ],
        [
         "1",
         "[Adobo-Marinated and Grilled Chicken]",
         "Crispy Tacos",
         "217",
         "$7.40 "
        ],
        [
         "1",
         "[Adobo-Marinated and Grilled Steak, [Sour Cream, Salsa, Cheese, Cilantro-Lime Rice, Guacamole]]",
         "Bowl",
         "279",
         "$7.40 "
        ],
        [
         "1",
         "[Adobo-Marinated and Grilled Steak]",
         "Crispy Tacos",
         "217",
         "$7.40 "
        ],
        [
         "1",
         "[Apple]",
         "Nantucket Nectar",
         "1133",
         "$3.39 "
        ],
        [
         "1",
         "[Apple]",
         "Nantucket Nectar",
         "77",
         "$3.39 "
        ],
        [
         "1",
         "[Apple]",
         "Nantucket Nectar",
         "1118",
         "$3.39 "
        ],
        [
         "1",
         "[Apple]",
         "Nantucket Nectar",
         "1",
         "$3.39 "
        ],
        [
         "1",
         "[Apple]",
         "Nantucket Nectar",
         "690",
         "$3.39 "
        ],
        [
         "1",
         "[Apple]",
         "Nantucket Nectar",
         "947",
         "$3.39 "
        ],
        [
         "1",
         "[Blackberry]",
         "Izze",
         "651",
         "$3.39 "
        ],
        [
         "1",
         "[Blackberry]",
         "Izze",
         "21",
         "$3.39 "
        ],
        [
         "1",
         "[Blackberry]",
         "Izze",
         "1149",
         "$3.39 "
        ],
        [
         "1",
         "[Blackberry]",
         "Izze",
         "1468",
         "$3.39 "
        ],
        [
         "1",
         "[Blackberry]",
         "Izze",
         "1095",
         "$3.39 "
        ],
        [
         "1",
         "[Blackberry]",
         "Izze",
         "651",
         "$3.39 "
        ],
        [
         "1",
         "[Blackberry]",
         "Izze",
         "155",
         "$3.39 "
        ],
        [
         "1",
         "[Blackberry]",
         "Izze",
         "30",
         "$3.39 "
        ],
        [
         "1",
         "[Braised Barbacoa, Pinto Beans, [Sour Cream, Salsa, Cheese, Cilantro-Lime Rice, Guacamole]]",
         "Burrito",
         "217",
         "$7.40 "
        ],
        [
         "1",
         "[Braised Barbacoa, Vegetarian Black Beans, [Sour Cream, Salsa, Cheese, Cilantro-Lime Rice]]",
         "Burrito",
         "214",
         "$7.40 "
        ],
        [
         "3",
         "[Braised Carnitas, Pinto Beans, [Sour Cream, Cheese, Cilantro-Lime Rice]]",
         "Bowl",
         "193",
         "$22.20 "
        ],
        [
         "1",
         "[Brown Rice, Adobo-Marinated and Grilled Chicken, Vegetarian Black Beans]",
         "Salad",
         "575",
         "$7.40 "
        ],
        [
         "1",
         "[Brown Rice]",
         "Steak Burrito",
         "1793",
         "$8.99 "
        ],
        [
         "1",
         "[Clementine]",
         "Izze",
         "495",
         "$3.39 "
        ],
        [
         "1",
         "[Clementine]",
         "Izze",
         "680",
         "$3.39 "
        ],
        [
         "1",
         "[Clementine]",
         "Izze",
         "237",
         "$3.39 "
        ],
        [
         "1",
         "[Clementine]",
         "Izze",
         "1040",
         "$3.39 "
        ],
        [
         "1",
         "[Clementine]",
         "Izze",
         "436",
         "$3.39 "
        ],
        [
         "1",
         "[Clementine]",
         "Izze",
         "1",
         "$3.39 "
        ],
        [
         "1",
         "[Clementine]",
         "Izze",
         "842",
         "$3.39 "
        ],
        [
         "1",
         "[Clementine]",
         "Izze",
         "1046",
         "$3.39 "
        ],
        [
         "1",
         "[Coca Cola]",
         "Canned Soda",
         "188",
         "$1.09 "
        ],
        [
         "2",
         "[Coca Cola]",
         "Canned Soda",
         "287",
         "$2.18 "
        ],
        [
         "1",
         "[Coca Cola]",
         "Canned Soda",
         "1195",
         "$1.09 "
        ],
        [
         "1",
         "[Coca Cola]",
         "Canned Soda",
         "1001",
         "$1.09 "
        ],
        [
         "1",
         "[Coca Cola]",
         "Canned Soda",
         "392",
         "$1.09 "
        ],
        [
         "1",
         "[Coca Cola]",
         "Canned Soda",
         "122",
         "$1.09 "
        ],
        [
         "1",
         "[Coca Cola]",
         "Canned Soda",
         "338",
         "$1.09 "
        ],
        [
         "1",
         "[Coca Cola]",
         "Canned Soda",
         "990",
         "$1.09 "
        ],
        [
         "1",
         "[Coca Cola]",
         "Canned Soda",
         "1475",
         "$1.09 "
        ],
        [
         "2",
         "[Coca Cola]",
         "Canned Soda",
         "1349",
         "$2.18 "
        ],
        [
         "1",
         "[Coca Cola]",
         "Canned Soda",
         "971",
         "$1.09 "
        ],
        [
         "1",
         "[Coca Cola]",
         "Canned Soda",
         "55",
         "$1.09 "
        ],
        [
         "1",
         "[Coca Cola]",
         "Canned Soda",
         "787",
         "$1.09 "
        ],
        [
         "2",
         "[Coca Cola]",
         "Canned Soda",
         "450",
         "$2.18 "
        ],
        [
         "1",
         "[Coca Cola]",
         "Canned Soda",
         "1122",
         "$1.09 "
        ],
        [
         "1",
         "[Coca Cola]",
         "Canned Soda",
         "1396",
         "$1.09 "
        ],
        [
         "2",
         "[Coca Cola]",
         "Canned Soda",
         "151",
         "$2.18 "
        ],
        [
         "1",
         "[Coca Cola]",
         "Canned Soda",
         "1014",
         "$1.09 "
        ]
       ],
       "shape": {
        "columns": 4,
        "rows": 4622
       }
      },
      "text/html": [
       "<div>\n",
       "<style scoped>\n",
       "    .dataframe tbody tr th:only-of-type {\n",
       "        vertical-align: middle;\n",
       "    }\n",
       "\n",
       "    .dataframe tbody tr th {\n",
       "        vertical-align: top;\n",
       "    }\n",
       "\n",
       "    .dataframe thead th {\n",
       "        text-align: right;\n",
       "    }\n",
       "</style>\n",
       "<table border=\"1\" class=\"dataframe\">\n",
       "  <thead>\n",
       "    <tr style=\"text-align: right;\">\n",
       "      <th></th>\n",
       "      <th>choice_description</th>\n",
       "      <th>item_name</th>\n",
       "      <th>order_id</th>\n",
       "      <th>item_price</th>\n",
       "    </tr>\n",
       "    <tr>\n",
       "      <th>quantity</th>\n",
       "      <th></th>\n",
       "      <th></th>\n",
       "      <th></th>\n",
       "      <th></th>\n",
       "    </tr>\n",
       "  </thead>\n",
       "  <tbody>\n",
       "    <tr>\n",
       "      <th>1</th>\n",
       "      <td>[Adobo-Marinated and Grilled Chicken, Pinto Be...</td>\n",
       "      <td>Burrito</td>\n",
       "      <td>214</td>\n",
       "      <td>$7.40</td>\n",
       "    </tr>\n",
       "    <tr>\n",
       "      <th>1</th>\n",
       "      <td>[Adobo-Marinated and Grilled Chicken, [Sour Cr...</td>\n",
       "      <td>Burrito</td>\n",
       "      <td>279</td>\n",
       "      <td>$7.40</td>\n",
       "    </tr>\n",
       "    <tr>\n",
       "      <th>1</th>\n",
       "      <td>[Adobo-Marinated and Grilled Chicken]</td>\n",
       "      <td>Crispy Tacos</td>\n",
       "      <td>217</td>\n",
       "      <td>$7.40</td>\n",
       "    </tr>\n",
       "    <tr>\n",
       "      <th>1</th>\n",
       "      <td>[Adobo-Marinated and Grilled Steak, [Sour Crea...</td>\n",
       "      <td>Bowl</td>\n",
       "      <td>279</td>\n",
       "      <td>$7.40</td>\n",
       "    </tr>\n",
       "    <tr>\n",
       "      <th>1</th>\n",
       "      <td>[Adobo-Marinated and Grilled Steak]</td>\n",
       "      <td>Crispy Tacos</td>\n",
       "      <td>217</td>\n",
       "      <td>$7.40</td>\n",
       "    </tr>\n",
       "    <tr>\n",
       "      <th>...</th>\n",
       "      <td>...</td>\n",
       "      <td>...</td>\n",
       "      <td>...</td>\n",
       "      <td>...</td>\n",
       "    </tr>\n",
       "    <tr>\n",
       "      <th>1</th>\n",
       "      <td>NaN</td>\n",
       "      <td>Side of Chips</td>\n",
       "      <td>825</td>\n",
       "      <td>$1.69</td>\n",
       "    </tr>\n",
       "    <tr>\n",
       "      <th>1</th>\n",
       "      <td>NaN</td>\n",
       "      <td>Side of Chips</td>\n",
       "      <td>875</td>\n",
       "      <td>$1.69</td>\n",
       "    </tr>\n",
       "    <tr>\n",
       "      <th>1</th>\n",
       "      <td>NaN</td>\n",
       "      <td>Side of Chips</td>\n",
       "      <td>67</td>\n",
       "      <td>$1.69</td>\n",
       "    </tr>\n",
       "    <tr>\n",
       "      <th>1</th>\n",
       "      <td>NaN</td>\n",
       "      <td>Side of Chips</td>\n",
       "      <td>122</td>\n",
       "      <td>$1.69</td>\n",
       "    </tr>\n",
       "    <tr>\n",
       "      <th>3</th>\n",
       "      <td>NaN</td>\n",
       "      <td>Side of Chips</td>\n",
       "      <td>1170</td>\n",
       "      <td>$5.07</td>\n",
       "    </tr>\n",
       "  </tbody>\n",
       "</table>\n",
       "<p>4622 rows × 4 columns</p>\n",
       "</div>"
      ],
      "text/plain": [
       "                                         choice_description      item_name  \\\n",
       "quantity                                                                     \n",
       "1         [Adobo-Marinated and Grilled Chicken, Pinto Be...        Burrito   \n",
       "1         [Adobo-Marinated and Grilled Chicken, [Sour Cr...        Burrito   \n",
       "1                     [Adobo-Marinated and Grilled Chicken]   Crispy Tacos   \n",
       "1         [Adobo-Marinated and Grilled Steak, [Sour Crea...           Bowl   \n",
       "1                       [Adobo-Marinated and Grilled Steak]   Crispy Tacos   \n",
       "...                                                     ...            ...   \n",
       "1                                                       NaN  Side of Chips   \n",
       "1                                                       NaN  Side of Chips   \n",
       "1                                                       NaN  Side of Chips   \n",
       "1                                                       NaN  Side of Chips   \n",
       "3                                                       NaN  Side of Chips   \n",
       "\n",
       "          order_id item_price  \n",
       "quantity                       \n",
       "1              214     $7.40   \n",
       "1              279     $7.40   \n",
       "1              217     $7.40   \n",
       "1              279     $7.40   \n",
       "1              217     $7.40   \n",
       "...            ...        ...  \n",
       "1              825     $1.69   \n",
       "1              875     $1.69   \n",
       "1               67     $1.69   \n",
       "1              122     $1.69   \n",
       "3             1170     $5.07   \n",
       "\n",
       "[4622 rows x 4 columns]"
      ]
     },
     "execution_count": 13,
     "metadata": {},
     "output_type": "execute_result"
    }
   ],
   "source": [
    "chipo.set_index('quantity', inplace=True)\n",
    "chipo"
   ]
  },
  {
   "cell_type": "markdown",
   "metadata": {},
   "source": [
    "### Step 15. "
   ]
  },
  {
   "cell_type": "code",
   "execution_count": 14,
   "metadata": {
    "collapsed": true
   },
   "outputs": [
    {
     "data": {
      "application/vnd.microsoft.datawrangler.viewer.v0+json": {
       "columns": [
        {
         "name": "quantity",
         "rawType": "int64",
         "type": "integer"
        },
        {
         "name": "choice_description",
         "rawType": "object",
         "type": "unknown"
        },
        {
         "name": "item_name",
         "rawType": "object",
         "type": "string"
        },
        {
         "name": "order_id",
         "rawType": "int64",
         "type": "integer"
        },
        {
         "name": "item_price",
         "rawType": "object",
         "type": "string"
        }
       ],
       "ref": "bc70a5f6-5164-44a4-9c40-15b2a174e601",
       "rows": [
        [
         "1",
         "[Adobo-Marinated and Grilled Chicken, Pinto Beans, [Sour Cream, Salsa, Cheese, Cilantro-Lime Rice, Guacamole]]",
         "Burrito",
         "214",
         "$7.40 "
        ],
        [
         "1",
         "[Tomatillo-Red Chili Salsa (Hot), Cheese]",
         "Chicken Soft Tacos",
         "381",
         "$8.49 "
        ],
        [
         "1",
         "[Tomatillo-Red Chili Salsa (Hot), Fajita Veggies]",
         "Chicken Soft Tacos",
         "136",
         "$8.49 "
        ],
        [
         "1",
         "[Tomatillo-Red Chili Salsa (Hot), Lettuce]",
         "Steak Soft Tacos",
         "130",
         "$8.99 "
        ],
        [
         "1",
         "[Tomatillo-Red Chili Salsa (Hot), Rice]",
         "Steak Burrito",
         "213",
         "$8.99 "
        ],
        [
         "1",
         "[Tomatillo-Red Chili Salsa (Hot), Rice]",
         "Chicken Bowl",
         "213",
         "$8.49 "
        ],
        [
         "1",
         "[Tomatillo-Red Chili Salsa (Hot), [Black Beans, Cheese, Lettuce]]",
         "Chicken Bowl",
         "988",
         "$8.49 "
        ],
        [
         "1",
         "[Tomatillo-Red Chili Salsa (Hot), [Black Beans, Cheese, Sour Cream, Lettuce]]",
         "Chicken Soft Tacos",
         "555",
         "$8.49 "
        ],
        [
         "1",
         "[Tomatillo-Red Chili Salsa (Hot), [Black Beans, Cheese, Sour Cream, Lettuce]]",
         "Barbacoa Crispy Tacos",
         "419",
         "$8.99 "
        ],
        [
         "1",
         "[Tomatillo-Red Chili Salsa (Hot), [Black Beans, Fajita Veggies, Cheese, Sour Cream, Guacamole, Lettuce]]",
         "Chicken Burrito",
         "30",
         "$10.98 "
        ],
        [
         "1",
         "[Tomatillo-Red Chili Salsa (Hot), [Black Beans, Fajita Veggies, Cheese, Sour Cream, Guacamole, Lettuce]]",
         "Chicken Burrito",
         "21",
         "$10.98 "
        ],
        [
         "1",
         "[Tomatillo-Red Chili Salsa (Hot), [Black Beans, Fajita Veggies, Cheese, Sour Cream, Lettuce]]",
         "Chicken Burrito",
         "1095",
         "$8.49 "
        ],
        [
         "1",
         "[Tomatillo-Red Chili Salsa (Hot), [Black Beans, Rice, Cheese, Lettuce]]",
         "Chicken Bowl",
         "752",
         "$8.49 "
        ],
        [
         "1",
         "[Tomatillo-Red Chili Salsa (Hot), [Black Beans, Rice, Cheese, Lettuce]]",
         "Chicken Soft Tacos",
         "744",
         "$8.49 "
        ],
        [
         "1",
         "[Tomatillo-Red Chili Salsa (Hot), [Black Beans, Rice, Cheese, Lettuce]]",
         "Chicken Bowl",
         "1117",
         "$8.49 "
        ],
        [
         "1",
         "[Tomatillo-Red Chili Salsa (Hot), [Black Beans, Rice, Cheese, Lettuce]]",
         "Steak Burrito",
         "1638",
         "$8.99 "
        ],
        [
         "1",
         "[Tomatillo-Red Chili Salsa (Hot), [Black Beans, Rice, Cheese, Lettuce]]",
         "Chicken Burrito",
         "477",
         "$8.49 "
        ],
        [
         "1",
         "[Tomatillo-Red Chili Salsa (Hot), [Black Beans, Rice, Cheese, Lettuce]]",
         "Chicken Bowl",
         "1405",
         "$8.49 "
        ],
        [
         "1",
         "[Tomatillo-Red Chili Salsa (Hot), [Black Beans, Rice, Cheese, Sour Cream, Lettuce]]",
         "Carnitas Crispy Tacos",
         "744",
         "$8.99 "
        ],
        [
         "1",
         "[Tomatillo-Red Chili Salsa (Hot), [Black Beans, Rice, Cheese, Sour Cream, Guacamole]]",
         "Chicken Burrito",
         "870",
         "$10.98 "
        ],
        [
         "1",
         "[Tomatillo-Red Chili Salsa (Hot), [Black Beans, Rice, Cheese, Sour Cream, Guacamole]]",
         "Chicken Burrito",
         "589",
         "$10.98 "
        ],
        [
         "1",
         "[Tomatillo-Red Chili Salsa (Hot), [Black Beans, Rice, Cheese, Sour Cream, Guacamole]]",
         "Chicken Burrito",
         "556",
         "$10.98 "
        ],
        [
         "1",
         "[Tomatillo-Red Chili Salsa (Hot), [Black Beans, Rice, Cheese, Sour Cream, Guacamole]]",
         "Chicken Burrito",
         "1589",
         "$10.98 "
        ],
        [
         "1",
         "[Tomatillo-Red Chili Salsa (Hot), [Black Beans, Rice, Cheese, Sour Cream, Guacamole, Lettuce]]",
         "Steak Burrito",
         "1233",
         "$11.48 "
        ],
        [
         "1",
         "[Tomatillo-Red Chili Salsa (Hot), Cheese]",
         "Chicken Soft Tacos",
         "381",
         "$8.49 "
        ],
        [
         "1",
         "[Tomatillo-Red Chili Salsa (Hot), [Black Beans, Rice, Cheese, Sour Cream, Guacamole, Lettuce]]",
         "Chicken Burrito",
         "1385",
         "$10.98 "
        ],
        [
         "1",
         "[Tomatillo-Red Chili Salsa (Hot), [Black Beans, Rice, Cheese, Lettuce]]",
         "Chicken Bowl",
         "671",
         "$8.49 "
        ],
        [
         "1",
         "[Tomatillo-Red Chili Salsa (Hot), [Black Beans, Rice, Cheese, Lettuce]]",
         "Chicken Bowl",
         "667",
         "$8.49 "
        ],
        [
         "1",
         "[Tomatillo-Red Chili Salsa (Hot), [Black Beans, Rice, Cheese, Lettuce]]",
         "Chicken Bowl",
         "1485",
         "$8.49 "
        ],
        [
         "1",
         "[Tomatillo-Red Chili Salsa (Hot), [Black Beans, Rice, Cheese, Lettuce]]",
         "Chicken Bowl",
         "1578",
         "$8.49 "
        ],
        [
         "1",
         "[Tomatillo-Red Chili Salsa (Hot), [Black Beans, Rice, Cheese, Lettuce]]",
         "Chicken Bowl",
         "955",
         "$8.49 "
        ],
        [
         "1",
         "[Tomatillo-Red Chili Salsa (Hot), [Black Beans, Rice, Cheese, Lettuce]]",
         "Chicken Bowl",
         "1009",
         "$8.49 "
        ],
        [
         "1",
         "[Tomatillo-Red Chili Salsa (Hot), [Black Beans, Rice, Cheese, Sour Cream, Guacamole, Lettuce]]",
         "Chicken Burrito",
         "256",
         "$10.98 "
        ],
        [
         "1",
         "[Tomatillo-Red Chili Salsa (Hot), [Black Beans, Rice, Cheese, Sour Cream, Lettuce]]",
         "Barbacoa Bowl",
         "310",
         "$8.99 "
        ],
        [
         "1",
         "[Tomatillo-Green Chili Salsa (Medium), [Rice, Pinto Beans, Cheese, Sour Cream, Lettuce]]",
         "Steak Bowl",
         "1182",
         "$8.99 "
        ],
        [
         "1",
         "[Tomatillo-Green Chili Salsa (Medium), [Rice, Fajita Veggies, Cheese, Sour Cream]]",
         "Chicken Burrito",
         "81",
         "$8.49 "
        ],
        [
         "1",
         "[Tomatillo-Green Chili Salsa (Medium), [Pinto Beans, Black Beans, Rice, Fajita Veggies, Sour Cream, Lettuce]]",
         "Chicken Bowl",
         "1362",
         "$8.49 "
        ],
        [
         "1",
         "[Tomatillo-Green Chili Salsa (Medium), [Pinto Beans, Cheese, Sour Cream, Lettuce]]",
         "Chicken Soft Tacos",
         "287",
         "$8.49 "
        ],
        [
         "1",
         "[Tomatillo-Green Chili Salsa (Medium), [Pinto Beans, Cheese, Sour Cream]]",
         "Chicken Burrito",
         "8",
         "$8.49 "
        ],
        [
         "1",
         "[Tomatillo-Green Chili Salsa (Medium), [Pinto Beans, Rice, Cheese, Sour Cream, Guacamole, Lettuce]]",
         "Chicken Burrito",
         "438",
         "$10.98 "
        ],
        [
         "1",
         "[Tomatillo-Green Chili Salsa (Medium), [Pinto Beans, Rice, Cheese, Sour Cream]]",
         "Chicken Burrito",
         "15",
         "$8.49 "
        ],
        [
         "1",
         "[Tomatillo-Green Chili Salsa (Medium), [Pinto Beans, Rice, Cheese, Sour Cream]]",
         "Chicken Burrito",
         "58",
         "$8.49 "
        ],
        [
         "1",
         "[Tomatillo-Green Chili Salsa (Medium), [Pinto Beans, Rice, Cheese, Sour Cream]]",
         "Steak Burrito",
         "471",
         "$8.99 "
        ],
        [
         "1",
         "[Tomatillo-Green Chili Salsa (Medium), [Pinto Beans, Rice, Cheese, Sour Cream]]",
         "Chicken Burrito",
         "118",
         "$8.49 "
        ],
        [
         "1",
         "[Tomatillo-Green Chili Salsa (Medium), [Pinto Beans, Rice, Cheese, Sour Cream]]",
         "Chicken Burrito",
         "1433",
         "$8.49 "
        ],
        [
         "1",
         "[Tomatillo-Green Chili Salsa (Medium), [Pinto Beans, Rice, Cheese, Sour Cream]]",
         "Chicken Burrito",
         "69",
         "$8.49 "
        ],
        [
         "1",
         "[Tomatillo-Green Chili Salsa (Medium), [Pinto Beans, Rice, Cheese, Sour Cream]]",
         "Chicken Burrito",
         "50",
         "$8.49 "
        ],
        [
         "1",
         "[Tomatillo-Green Chili Salsa (Medium), [Pinto Beans, Rice, Cheese, Sour Cream]]",
         "Chicken Burrito",
         "88",
         "$8.49 "
        ],
        [
         "1",
         "[Tomatillo-Green Chili Salsa (Medium), [Pinto Beans, Rice, Fajita Veggies, Cheese, Sour Cream, Lettuce]]",
         "Chicken Burrito",
         "595",
         "$8.49 "
        ],
        [
         "1",
         "[Tomatillo-Green Chili Salsa (Medium), [Pinto Beans, Rice, Fajita Veggies, Lettuce]]",
         "Chicken Bowl",
         "699",
         "$8.49 "
        ]
       ],
       "shape": {
        "columns": 4,
        "rows": 4622
       }
      },
      "text/html": [
       "<div>\n",
       "<style scoped>\n",
       "    .dataframe tbody tr th:only-of-type {\n",
       "        vertical-align: middle;\n",
       "    }\n",
       "\n",
       "    .dataframe tbody tr th {\n",
       "        vertical-align: top;\n",
       "    }\n",
       "\n",
       "    .dataframe thead th {\n",
       "        text-align: right;\n",
       "    }\n",
       "</style>\n",
       "<table border=\"1\" class=\"dataframe\">\n",
       "  <thead>\n",
       "    <tr style=\"text-align: right;\">\n",
       "      <th></th>\n",
       "      <th>choice_description</th>\n",
       "      <th>item_name</th>\n",
       "      <th>order_id</th>\n",
       "      <th>item_price</th>\n",
       "    </tr>\n",
       "    <tr>\n",
       "      <th>quantity</th>\n",
       "      <th></th>\n",
       "      <th></th>\n",
       "      <th></th>\n",
       "      <th></th>\n",
       "    </tr>\n",
       "  </thead>\n",
       "  <tbody>\n",
       "    <tr>\n",
       "      <th>1</th>\n",
       "      <td>[Adobo-Marinated and Grilled Chicken, Pinto Be...</td>\n",
       "      <td>Burrito</td>\n",
       "      <td>214</td>\n",
       "      <td>$7.40</td>\n",
       "    </tr>\n",
       "    <tr>\n",
       "      <th>1</th>\n",
       "      <td>[Tomatillo-Red Chili Salsa (Hot), Cheese]</td>\n",
       "      <td>Chicken Soft Tacos</td>\n",
       "      <td>381</td>\n",
       "      <td>$8.49</td>\n",
       "    </tr>\n",
       "    <tr>\n",
       "      <th>1</th>\n",
       "      <td>[Tomatillo-Red Chili Salsa (Hot), Fajita Veggies]</td>\n",
       "      <td>Chicken Soft Tacos</td>\n",
       "      <td>136</td>\n",
       "      <td>$8.49</td>\n",
       "    </tr>\n",
       "    <tr>\n",
       "      <th>1</th>\n",
       "      <td>[Tomatillo-Red Chili Salsa (Hot), Lettuce]</td>\n",
       "      <td>Steak Soft Tacos</td>\n",
       "      <td>130</td>\n",
       "      <td>$8.99</td>\n",
       "    </tr>\n",
       "    <tr>\n",
       "      <th>1</th>\n",
       "      <td>[Tomatillo-Red Chili Salsa (Hot), Rice]</td>\n",
       "      <td>Steak Burrito</td>\n",
       "      <td>213</td>\n",
       "      <td>$8.99</td>\n",
       "    </tr>\n",
       "    <tr>\n",
       "      <th>...</th>\n",
       "      <td>...</td>\n",
       "      <td>...</td>\n",
       "      <td>...</td>\n",
       "      <td>...</td>\n",
       "    </tr>\n",
       "    <tr>\n",
       "      <th>5</th>\n",
       "      <td>NaN</td>\n",
       "      <td>Bottled Water</td>\n",
       "      <td>970</td>\n",
       "      <td>$7.50</td>\n",
       "    </tr>\n",
       "    <tr>\n",
       "      <th>7</th>\n",
       "      <td>NaN</td>\n",
       "      <td>Bottled Water</td>\n",
       "      <td>1443</td>\n",
       "      <td>$10.50</td>\n",
       "    </tr>\n",
       "    <tr>\n",
       "      <th>8</th>\n",
       "      <td>NaN</td>\n",
       "      <td>Side of Chips</td>\n",
       "      <td>1559</td>\n",
       "      <td>$13.52</td>\n",
       "    </tr>\n",
       "    <tr>\n",
       "      <th>10</th>\n",
       "      <td>NaN</td>\n",
       "      <td>Bottled Water</td>\n",
       "      <td>1660</td>\n",
       "      <td>$15.00</td>\n",
       "    </tr>\n",
       "    <tr>\n",
       "      <th>15</th>\n",
       "      <td>NaN</td>\n",
       "      <td>Chips and Fresh Tomato Salsa</td>\n",
       "      <td>1443</td>\n",
       "      <td>$44.25</td>\n",
       "    </tr>\n",
       "  </tbody>\n",
       "</table>\n",
       "<p>4622 rows × 4 columns</p>\n",
       "</div>"
      ],
      "text/plain": [
       "                                         choice_description  \\\n",
       "quantity                                                      \n",
       "1         [Adobo-Marinated and Grilled Chicken, Pinto Be...   \n",
       "1                 [Tomatillo-Red Chili Salsa (Hot), Cheese]   \n",
       "1         [Tomatillo-Red Chili Salsa (Hot), Fajita Veggies]   \n",
       "1                [Tomatillo-Red Chili Salsa (Hot), Lettuce]   \n",
       "1                   [Tomatillo-Red Chili Salsa (Hot), Rice]   \n",
       "...                                                     ...   \n",
       "5                                                       NaN   \n",
       "7                                                       NaN   \n",
       "8                                                       NaN   \n",
       "10                                                      NaN   \n",
       "15                                                      NaN   \n",
       "\n",
       "                             item_name  order_id item_price  \n",
       "quantity                                                     \n",
       "1                              Burrito       214     $7.40   \n",
       "1                   Chicken Soft Tacos       381     $8.49   \n",
       "1                   Chicken Soft Tacos       136     $8.49   \n",
       "1                     Steak Soft Tacos       130     $8.99   \n",
       "1                        Steak Burrito       213     $8.99   \n",
       "...                                ...       ...        ...  \n",
       "5                        Bottled Water       970     $7.50   \n",
       "7                        Bottled Water      1443    $10.50   \n",
       "8                        Side of Chips      1559    $13.52   \n",
       "10                       Bottled Water      1660    $15.00   \n",
       "15        Chips and Fresh Tomato Salsa      1443    $44.25   \n",
       "\n",
       "[4622 rows x 4 columns]"
      ]
     },
     "execution_count": 14,
     "metadata": {},
     "output_type": "execute_result"
    }
   ],
   "source": [
    "chipo.sort_index(inplace=True)\n",
    "chipo"
   ]
  },
  {
   "cell_type": "markdown",
   "metadata": {},
   "source": [
    "### Step 16. "
   ]
  },
  {
   "cell_type": "code",
   "execution_count": 15,
   "metadata": {
    "collapsed": true
   },
   "outputs": [
    {
     "data": {
      "application/vnd.microsoft.datawrangler.viewer.v0+json": {
       "columns": [
        {
         "name": "index",
         "rawType": "int64",
         "type": "integer"
        },
        {
         "name": "quantity",
         "rawType": "int64",
         "type": "integer"
        },
        {
         "name": "choice_description",
         "rawType": "object",
         "type": "unknown"
        },
        {
         "name": "item_name",
         "rawType": "object",
         "type": "string"
        },
        {
         "name": "order_id",
         "rawType": "int64",
         "type": "integer"
        },
        {
         "name": "item_price",
         "rawType": "object",
         "type": "string"
        }
       ],
       "ref": "7da2877d-c338-481a-8ae3-5cb206d6122a",
       "rows": [
        [
         "0",
         "1",
         "[Adobo-Marinated and Grilled Chicken, Pinto Beans, [Sour Cream, Salsa, Cheese, Cilantro-Lime Rice, Guacamole]]",
         "Burrito",
         "214",
         "$7.40 "
        ],
        [
         "1",
         "1",
         "[Tomatillo-Red Chili Salsa (Hot), Cheese]",
         "Chicken Soft Tacos",
         "381",
         "$8.49 "
        ],
        [
         "2",
         "1",
         "[Tomatillo-Red Chili Salsa (Hot), Fajita Veggies]",
         "Chicken Soft Tacos",
         "136",
         "$8.49 "
        ],
        [
         "3",
         "1",
         "[Tomatillo-Red Chili Salsa (Hot), Lettuce]",
         "Steak Soft Tacos",
         "130",
         "$8.99 "
        ],
        [
         "4",
         "1",
         "[Tomatillo-Red Chili Salsa (Hot), Rice]",
         "Steak Burrito",
         "213",
         "$8.99 "
        ],
        [
         "5",
         "1",
         "[Tomatillo-Red Chili Salsa (Hot), Rice]",
         "Chicken Bowl",
         "213",
         "$8.49 "
        ],
        [
         "6",
         "1",
         "[Tomatillo-Red Chili Salsa (Hot), [Black Beans, Cheese, Lettuce]]",
         "Chicken Bowl",
         "988",
         "$8.49 "
        ],
        [
         "7",
         "1",
         "[Tomatillo-Red Chili Salsa (Hot), [Black Beans, Cheese, Sour Cream, Lettuce]]",
         "Chicken Soft Tacos",
         "555",
         "$8.49 "
        ],
        [
         "8",
         "1",
         "[Tomatillo-Red Chili Salsa (Hot), [Black Beans, Cheese, Sour Cream, Lettuce]]",
         "Barbacoa Crispy Tacos",
         "419",
         "$8.99 "
        ],
        [
         "9",
         "1",
         "[Tomatillo-Red Chili Salsa (Hot), [Black Beans, Fajita Veggies, Cheese, Sour Cream, Guacamole, Lettuce]]",
         "Chicken Burrito",
         "30",
         "$10.98 "
        ],
        [
         "10",
         "1",
         "[Tomatillo-Red Chili Salsa (Hot), [Black Beans, Fajita Veggies, Cheese, Sour Cream, Guacamole, Lettuce]]",
         "Chicken Burrito",
         "21",
         "$10.98 "
        ],
        [
         "11",
         "1",
         "[Tomatillo-Red Chili Salsa (Hot), [Black Beans, Fajita Veggies, Cheese, Sour Cream, Lettuce]]",
         "Chicken Burrito",
         "1095",
         "$8.49 "
        ],
        [
         "12",
         "1",
         "[Tomatillo-Red Chili Salsa (Hot), [Black Beans, Rice, Cheese, Lettuce]]",
         "Chicken Bowl",
         "752",
         "$8.49 "
        ],
        [
         "13",
         "1",
         "[Tomatillo-Red Chili Salsa (Hot), [Black Beans, Rice, Cheese, Lettuce]]",
         "Chicken Soft Tacos",
         "744",
         "$8.49 "
        ],
        [
         "14",
         "1",
         "[Tomatillo-Red Chili Salsa (Hot), [Black Beans, Rice, Cheese, Lettuce]]",
         "Chicken Bowl",
         "1117",
         "$8.49 "
        ],
        [
         "15",
         "1",
         "[Tomatillo-Red Chili Salsa (Hot), [Black Beans, Rice, Cheese, Lettuce]]",
         "Steak Burrito",
         "1638",
         "$8.99 "
        ],
        [
         "16",
         "1",
         "[Tomatillo-Red Chili Salsa (Hot), [Black Beans, Rice, Cheese, Lettuce]]",
         "Chicken Burrito",
         "477",
         "$8.49 "
        ],
        [
         "17",
         "1",
         "[Tomatillo-Red Chili Salsa (Hot), [Black Beans, Rice, Cheese, Lettuce]]",
         "Chicken Bowl",
         "1405",
         "$8.49 "
        ],
        [
         "18",
         "1",
         "[Tomatillo-Red Chili Salsa (Hot), [Black Beans, Rice, Cheese, Sour Cream, Lettuce]]",
         "Carnitas Crispy Tacos",
         "744",
         "$8.99 "
        ],
        [
         "19",
         "1",
         "[Tomatillo-Red Chili Salsa (Hot), [Black Beans, Rice, Cheese, Sour Cream, Guacamole]]",
         "Chicken Burrito",
         "870",
         "$10.98 "
        ],
        [
         "20",
         "1",
         "[Tomatillo-Red Chili Salsa (Hot), [Black Beans, Rice, Cheese, Sour Cream, Guacamole]]",
         "Chicken Burrito",
         "589",
         "$10.98 "
        ],
        [
         "21",
         "1",
         "[Tomatillo-Red Chili Salsa (Hot), [Black Beans, Rice, Cheese, Sour Cream, Guacamole]]",
         "Chicken Burrito",
         "556",
         "$10.98 "
        ],
        [
         "22",
         "1",
         "[Tomatillo-Red Chili Salsa (Hot), [Black Beans, Rice, Cheese, Sour Cream, Guacamole]]",
         "Chicken Burrito",
         "1589",
         "$10.98 "
        ],
        [
         "23",
         "1",
         "[Tomatillo-Red Chili Salsa (Hot), [Black Beans, Rice, Cheese, Sour Cream, Guacamole, Lettuce]]",
         "Steak Burrito",
         "1233",
         "$11.48 "
        ],
        [
         "24",
         "1",
         "[Tomatillo-Red Chili Salsa (Hot), Cheese]",
         "Chicken Soft Tacos",
         "381",
         "$8.49 "
        ],
        [
         "25",
         "1",
         "[Tomatillo-Red Chili Salsa (Hot), [Black Beans, Rice, Cheese, Sour Cream, Guacamole, Lettuce]]",
         "Chicken Burrito",
         "1385",
         "$10.98 "
        ],
        [
         "26",
         "1",
         "[Tomatillo-Red Chili Salsa (Hot), [Black Beans, Rice, Cheese, Lettuce]]",
         "Chicken Bowl",
         "671",
         "$8.49 "
        ],
        [
         "27",
         "1",
         "[Tomatillo-Red Chili Salsa (Hot), [Black Beans, Rice, Cheese, Lettuce]]",
         "Chicken Bowl",
         "667",
         "$8.49 "
        ],
        [
         "28",
         "1",
         "[Tomatillo-Red Chili Salsa (Hot), [Black Beans, Rice, Cheese, Lettuce]]",
         "Chicken Bowl",
         "1485",
         "$8.49 "
        ],
        [
         "29",
         "1",
         "[Tomatillo-Red Chili Salsa (Hot), [Black Beans, Rice, Cheese, Lettuce]]",
         "Chicken Bowl",
         "1578",
         "$8.49 "
        ],
        [
         "30",
         "1",
         "[Tomatillo-Red Chili Salsa (Hot), [Black Beans, Rice, Cheese, Lettuce]]",
         "Chicken Bowl",
         "955",
         "$8.49 "
        ],
        [
         "31",
         "1",
         "[Tomatillo-Red Chili Salsa (Hot), [Black Beans, Rice, Cheese, Lettuce]]",
         "Chicken Bowl",
         "1009",
         "$8.49 "
        ],
        [
         "32",
         "1",
         "[Tomatillo-Red Chili Salsa (Hot), [Black Beans, Rice, Cheese, Sour Cream, Guacamole, Lettuce]]",
         "Chicken Burrito",
         "256",
         "$10.98 "
        ],
        [
         "33",
         "1",
         "[Tomatillo-Red Chili Salsa (Hot), [Black Beans, Rice, Cheese, Sour Cream, Lettuce]]",
         "Barbacoa Bowl",
         "310",
         "$8.99 "
        ],
        [
         "34",
         "1",
         "[Tomatillo-Green Chili Salsa (Medium), [Rice, Pinto Beans, Cheese, Sour Cream, Lettuce]]",
         "Steak Bowl",
         "1182",
         "$8.99 "
        ],
        [
         "35",
         "1",
         "[Tomatillo-Green Chili Salsa (Medium), [Rice, Fajita Veggies, Cheese, Sour Cream]]",
         "Chicken Burrito",
         "81",
         "$8.49 "
        ],
        [
         "36",
         "1",
         "[Tomatillo-Green Chili Salsa (Medium), [Pinto Beans, Black Beans, Rice, Fajita Veggies, Sour Cream, Lettuce]]",
         "Chicken Bowl",
         "1362",
         "$8.49 "
        ],
        [
         "37",
         "1",
         "[Tomatillo-Green Chili Salsa (Medium), [Pinto Beans, Cheese, Sour Cream, Lettuce]]",
         "Chicken Soft Tacos",
         "287",
         "$8.49 "
        ],
        [
         "38",
         "1",
         "[Tomatillo-Green Chili Salsa (Medium), [Pinto Beans, Cheese, Sour Cream]]",
         "Chicken Burrito",
         "8",
         "$8.49 "
        ],
        [
         "39",
         "1",
         "[Tomatillo-Green Chili Salsa (Medium), [Pinto Beans, Rice, Cheese, Sour Cream, Guacamole, Lettuce]]",
         "Chicken Burrito",
         "438",
         "$10.98 "
        ],
        [
         "40",
         "1",
         "[Tomatillo-Green Chili Salsa (Medium), [Pinto Beans, Rice, Cheese, Sour Cream]]",
         "Chicken Burrito",
         "15",
         "$8.49 "
        ],
        [
         "41",
         "1",
         "[Tomatillo-Green Chili Salsa (Medium), [Pinto Beans, Rice, Cheese, Sour Cream]]",
         "Chicken Burrito",
         "58",
         "$8.49 "
        ],
        [
         "42",
         "1",
         "[Tomatillo-Green Chili Salsa (Medium), [Pinto Beans, Rice, Cheese, Sour Cream]]",
         "Steak Burrito",
         "471",
         "$8.99 "
        ],
        [
         "43",
         "1",
         "[Tomatillo-Green Chili Salsa (Medium), [Pinto Beans, Rice, Cheese, Sour Cream]]",
         "Chicken Burrito",
         "118",
         "$8.49 "
        ],
        [
         "44",
         "1",
         "[Tomatillo-Green Chili Salsa (Medium), [Pinto Beans, Rice, Cheese, Sour Cream]]",
         "Chicken Burrito",
         "1433",
         "$8.49 "
        ],
        [
         "45",
         "1",
         "[Tomatillo-Green Chili Salsa (Medium), [Pinto Beans, Rice, Cheese, Sour Cream]]",
         "Chicken Burrito",
         "69",
         "$8.49 "
        ],
        [
         "46",
         "1",
         "[Tomatillo-Green Chili Salsa (Medium), [Pinto Beans, Rice, Cheese, Sour Cream]]",
         "Chicken Burrito",
         "50",
         "$8.49 "
        ],
        [
         "47",
         "1",
         "[Tomatillo-Green Chili Salsa (Medium), [Pinto Beans, Rice, Cheese, Sour Cream]]",
         "Chicken Burrito",
         "88",
         "$8.49 "
        ],
        [
         "48",
         "1",
         "[Tomatillo-Green Chili Salsa (Medium), [Pinto Beans, Rice, Fajita Veggies, Cheese, Sour Cream, Lettuce]]",
         "Chicken Burrito",
         "595",
         "$8.49 "
        ],
        [
         "49",
         "1",
         "[Tomatillo-Green Chili Salsa (Medium), [Pinto Beans, Rice, Fajita Veggies, Lettuce]]",
         "Chicken Bowl",
         "699",
         "$8.49 "
        ]
       ],
       "shape": {
        "columns": 5,
        "rows": 4622
       }
      },
      "text/html": [
       "<div>\n",
       "<style scoped>\n",
       "    .dataframe tbody tr th:only-of-type {\n",
       "        vertical-align: middle;\n",
       "    }\n",
       "\n",
       "    .dataframe tbody tr th {\n",
       "        vertical-align: top;\n",
       "    }\n",
       "\n",
       "    .dataframe thead th {\n",
       "        text-align: right;\n",
       "    }\n",
       "</style>\n",
       "<table border=\"1\" class=\"dataframe\">\n",
       "  <thead>\n",
       "    <tr style=\"text-align: right;\">\n",
       "      <th></th>\n",
       "      <th>quantity</th>\n",
       "      <th>choice_description</th>\n",
       "      <th>item_name</th>\n",
       "      <th>order_id</th>\n",
       "      <th>item_price</th>\n",
       "    </tr>\n",
       "  </thead>\n",
       "  <tbody>\n",
       "    <tr>\n",
       "      <th>0</th>\n",
       "      <td>1</td>\n",
       "      <td>[Adobo-Marinated and Grilled Chicken, Pinto Be...</td>\n",
       "      <td>Burrito</td>\n",
       "      <td>214</td>\n",
       "      <td>$7.40</td>\n",
       "    </tr>\n",
       "    <tr>\n",
       "      <th>1</th>\n",
       "      <td>1</td>\n",
       "      <td>[Tomatillo-Red Chili Salsa (Hot), Cheese]</td>\n",
       "      <td>Chicken Soft Tacos</td>\n",
       "      <td>381</td>\n",
       "      <td>$8.49</td>\n",
       "    </tr>\n",
       "    <tr>\n",
       "      <th>2</th>\n",
       "      <td>1</td>\n",
       "      <td>[Tomatillo-Red Chili Salsa (Hot), Fajita Veggies]</td>\n",
       "      <td>Chicken Soft Tacos</td>\n",
       "      <td>136</td>\n",
       "      <td>$8.49</td>\n",
       "    </tr>\n",
       "    <tr>\n",
       "      <th>3</th>\n",
       "      <td>1</td>\n",
       "      <td>[Tomatillo-Red Chili Salsa (Hot), Lettuce]</td>\n",
       "      <td>Steak Soft Tacos</td>\n",
       "      <td>130</td>\n",
       "      <td>$8.99</td>\n",
       "    </tr>\n",
       "    <tr>\n",
       "      <th>4</th>\n",
       "      <td>1</td>\n",
       "      <td>[Tomatillo-Red Chili Salsa (Hot), Rice]</td>\n",
       "      <td>Steak Burrito</td>\n",
       "      <td>213</td>\n",
       "      <td>$8.99</td>\n",
       "    </tr>\n",
       "    <tr>\n",
       "      <th>...</th>\n",
       "      <td>...</td>\n",
       "      <td>...</td>\n",
       "      <td>...</td>\n",
       "      <td>...</td>\n",
       "      <td>...</td>\n",
       "    </tr>\n",
       "    <tr>\n",
       "      <th>4617</th>\n",
       "      <td>5</td>\n",
       "      <td>NaN</td>\n",
       "      <td>Bottled Water</td>\n",
       "      <td>970</td>\n",
       "      <td>$7.50</td>\n",
       "    </tr>\n",
       "    <tr>\n",
       "      <th>4618</th>\n",
       "      <td>7</td>\n",
       "      <td>NaN</td>\n",
       "      <td>Bottled Water</td>\n",
       "      <td>1443</td>\n",
       "      <td>$10.50</td>\n",
       "    </tr>\n",
       "    <tr>\n",
       "      <th>4619</th>\n",
       "      <td>8</td>\n",
       "      <td>NaN</td>\n",
       "      <td>Side of Chips</td>\n",
       "      <td>1559</td>\n",
       "      <td>$13.52</td>\n",
       "    </tr>\n",
       "    <tr>\n",
       "      <th>4620</th>\n",
       "      <td>10</td>\n",
       "      <td>NaN</td>\n",
       "      <td>Bottled Water</td>\n",
       "      <td>1660</td>\n",
       "      <td>$15.00</td>\n",
       "    </tr>\n",
       "    <tr>\n",
       "      <th>4621</th>\n",
       "      <td>15</td>\n",
       "      <td>NaN</td>\n",
       "      <td>Chips and Fresh Tomato Salsa</td>\n",
       "      <td>1443</td>\n",
       "      <td>$44.25</td>\n",
       "    </tr>\n",
       "  </tbody>\n",
       "</table>\n",
       "<p>4622 rows × 5 columns</p>\n",
       "</div>"
      ],
      "text/plain": [
       "      quantity                                 choice_description  \\\n",
       "0            1  [Adobo-Marinated and Grilled Chicken, Pinto Be...   \n",
       "1            1          [Tomatillo-Red Chili Salsa (Hot), Cheese]   \n",
       "2            1  [Tomatillo-Red Chili Salsa (Hot), Fajita Veggies]   \n",
       "3            1         [Tomatillo-Red Chili Salsa (Hot), Lettuce]   \n",
       "4            1            [Tomatillo-Red Chili Salsa (Hot), Rice]   \n",
       "...        ...                                                ...   \n",
       "4617         5                                                NaN   \n",
       "4618         7                                                NaN   \n",
       "4619         8                                                NaN   \n",
       "4620        10                                                NaN   \n",
       "4621        15                                                NaN   \n",
       "\n",
       "                         item_name  order_id item_price  \n",
       "0                          Burrito       214     $7.40   \n",
       "1               Chicken Soft Tacos       381     $8.49   \n",
       "2               Chicken Soft Tacos       136     $8.49   \n",
       "3                 Steak Soft Tacos       130     $8.99   \n",
       "4                    Steak Burrito       213     $8.99   \n",
       "...                            ...       ...        ...  \n",
       "4617                 Bottled Water       970     $7.50   \n",
       "4618                 Bottled Water      1443    $10.50   \n",
       "4619                 Side of Chips      1559    $13.52   \n",
       "4620                 Bottled Water      1660    $15.00   \n",
       "4621  Chips and Fresh Tomato Salsa      1443    $44.25   \n",
       "\n",
       "[4622 rows x 5 columns]"
      ]
     },
     "execution_count": 15,
     "metadata": {},
     "output_type": "execute_result"
    }
   ],
   "source": [
    "chipo.reset_index(inplace=True)\n",
    "chipo"
   ]
  },
  {
   "cell_type": "markdown",
   "metadata": {},
   "source": [
    "### BONUS: Create your own question and answer it."
   ]
  },
  {
   "cell_type": "code",
   "execution_count": 16,
   "metadata": {
    "collapsed": true
   },
   "outputs": [
    {
     "data": {
      "text/plain": [
       "'Chicken Bowl'"
      ]
     },
     "execution_count": 16,
     "metadata": {},
     "output_type": "execute_result"
    }
   ],
   "source": [
    "# BONUS: What is the most frequently ordered item?\n",
    "chipo['item_name'].value_counts().idxmax()"
   ]
  }
 ],
 "metadata": {
  "anaconda-cloud": {},
  "kernelspec": {
   "display_name": "base",
   "language": "python",
   "name": "python3"
  },
  "language_info": {
   "codemirror_mode": {
    "name": "ipython",
    "version": 3
   },
   "file_extension": ".py",
   "mimetype": "text/x-python",
   "name": "python",
   "nbconvert_exporter": "python",
   "pygments_lexer": "ipython3",
   "version": "3.12.4"
  }
 },
 "nbformat": 4,
 "nbformat_minor": 0
}
