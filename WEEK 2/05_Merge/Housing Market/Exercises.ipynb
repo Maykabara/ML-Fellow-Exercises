{
 "cells": [
  {
   "cell_type": "markdown",
   "metadata": {},
   "source": [
    "# Housing Market"
   ]
  },
  {
   "cell_type": "markdown",
   "metadata": {},
   "source": [
    "### Introduction:\n",
    "\n",
    "This time we will create our own dataset with fictional numbers to describe a house market. As we are going to create random data don't try to reason of the numbers.\n",
    "\n",
    "### Step 1. Import the necessary libraries"
   ]
  },
  {
   "cell_type": "code",
   "execution_count": 1,
   "metadata": {
    "collapsed": false
   },
   "outputs": [],
   "source": [
    "import pandas as pd\n",
    "import numpy as np"
   ]
  },
  {
   "cell_type": "markdown",
   "metadata": {},
   "source": [
    "### Step 2. Create 3 differents Series, each of length 100, as follows: \n",
    "1. The first a random number from 1 to 4 \n",
    "2. The second a random number from 1 to 3\n",
    "3. The third a random number from 10,000 to 30,000"
   ]
  },
  {
   "cell_type": "code",
   "execution_count": 2,
   "metadata": {
    "collapsed": false
   },
   "outputs": [
    {
     "data": {
      "application/vnd.microsoft.datawrangler.viewer.v0+json": {
       "columns": [
        {
         "name": "index",
         "rawType": "int64",
         "type": "integer"
        },
        {
         "name": "0",
         "rawType": "int32",
         "type": "integer"
        }
       ],
       "ref": "c6c850d7-1426-43a9-8e14-8285ddd64acf",
       "rows": [
        [
         "0",
         "11752"
        ],
        [
         "1",
         "26261"
        ],
        [
         "2",
         "27549"
        ],
        [
         "3",
         "21807"
        ],
        [
         "4",
         "18677"
        ],
        [
         "5",
         "10064"
        ],
        [
         "6",
         "16475"
        ],
        [
         "7",
         "28296"
        ],
        [
         "8",
         "22229"
        ],
        [
         "9",
         "22275"
        ],
        [
         "10",
         "22057"
        ],
        [
         "11",
         "24124"
        ],
        [
         "12",
         "10231"
        ],
        [
         "13",
         "13045"
        ],
        [
         "14",
         "26922"
        ],
        [
         "15",
         "28341"
        ],
        [
         "16",
         "11953"
        ],
        [
         "17",
         "25317"
        ],
        [
         "18",
         "21693"
        ],
        [
         "19",
         "22935"
        ],
        [
         "20",
         "29529"
        ],
        [
         "21",
         "10524"
        ],
        [
         "22",
         "19914"
        ],
        [
         "23",
         "21726"
        ],
        [
         "24",
         "23115"
        ],
        [
         "25",
         "24847"
        ],
        [
         "26",
         "24440"
        ],
        [
         "27",
         "19934"
        ],
        [
         "28",
         "10148"
        ],
        [
         "29",
         "29472"
        ],
        [
         "30",
         "23282"
        ],
        [
         "31",
         "15180"
        ],
        [
         "32",
         "27734"
        ],
        [
         "33",
         "11427"
        ],
        [
         "34",
         "25036"
        ],
        [
         "35",
         "19093"
        ],
        [
         "36",
         "11069"
        ],
        [
         "37",
         "18308"
        ],
        [
         "38",
         "25020"
        ],
        [
         "39",
         "14182"
        ],
        [
         "40",
         "11163"
        ],
        [
         "41",
         "28554"
        ],
        [
         "42",
         "18267"
        ],
        [
         "43",
         "21851"
        ],
        [
         "44",
         "20151"
        ],
        [
         "45",
         "27420"
        ],
        [
         "46",
         "20376"
        ],
        [
         "47",
         "21994"
        ],
        [
         "48",
         "16742"
        ],
        [
         "49",
         "11502"
        ]
       ],
       "shape": {
        "columns": 1,
        "rows": 100
       }
      },
      "text/plain": [
       "0     11752\n",
       "1     26261\n",
       "2     27549\n",
       "3     21807\n",
       "4     18677\n",
       "      ...  \n",
       "95    25576\n",
       "96    13905\n",
       "97    24123\n",
       "98    15298\n",
       "99    15298\n",
       "Length: 100, dtype: int32"
      ]
     },
     "execution_count": 2,
     "metadata": {},
     "output_type": "execute_result"
    }
   ],
   "source": [
    "pd.Series(np.random.randint(1, 5, 100))\n",
    "pd.Series(np.random.randint(1, 4, 100))\n",
    "pd.Series(np.random.randint(10000, 30001, 100))"
   ]
  },
  {
   "cell_type": "markdown",
   "metadata": {},
   "source": [
    "### Step 3. Let's create a DataFrame by joinning the Series by column"
   ]
  },
  {
   "cell_type": "code",
   "execution_count": 3,
   "metadata": {
    "collapsed": false
   },
   "outputs": [
    {
     "data": {
      "application/vnd.microsoft.datawrangler.viewer.v0+json": {
       "columns": [
        {
         "name": "index",
         "rawType": "int64",
         "type": "integer"
        },
        {
         "name": "0",
         "rawType": "int32",
         "type": "integer"
        },
        {
         "name": "1",
         "rawType": "int32",
         "type": "integer"
        },
        {
         "name": "2",
         "rawType": "int32",
         "type": "integer"
        }
       ],
       "ref": "a8f76b0d-d32a-4ee2-af71-b879669735fb",
       "rows": [
        [
         "0",
         "3",
         "2",
         "20826"
        ],
        [
         "1",
         "1",
         "1",
         "16992"
        ],
        [
         "2",
         "4",
         "2",
         "16864"
        ],
        [
         "3",
         "3",
         "3",
         "12068"
        ],
        [
         "4",
         "2",
         "1",
         "24615"
        ],
        [
         "5",
         "3",
         "3",
         "13163"
        ],
        [
         "6",
         "2",
         "3",
         "12083"
        ],
        [
         "7",
         "1",
         "3",
         "28627"
        ],
        [
         "8",
         "4",
         "1",
         "16081"
        ],
        [
         "9",
         "1",
         "3",
         "20592"
        ],
        [
         "10",
         "2",
         "3",
         "22570"
        ],
        [
         "11",
         "1",
         "1",
         "28774"
        ],
        [
         "12",
         "1",
         "3",
         "11083"
        ],
        [
         "13",
         "4",
         "1",
         "13869"
        ],
        [
         "14",
         "1",
         "2",
         "16117"
        ],
        [
         "15",
         "2",
         "1",
         "23295"
        ],
        [
         "16",
         "4",
         "2",
         "12891"
        ],
        [
         "17",
         "3",
         "3",
         "13287"
        ],
        [
         "18",
         "1",
         "1",
         "13030"
        ],
        [
         "19",
         "3",
         "3",
         "13177"
        ],
        [
         "20",
         "3",
         "3",
         "22948"
        ],
        [
         "21",
         "1",
         "2",
         "18788"
        ],
        [
         "22",
         "1",
         "1",
         "25502"
        ],
        [
         "23",
         "4",
         "1",
         "13831"
        ],
        [
         "24",
         "1",
         "1",
         "21200"
        ],
        [
         "25",
         "3",
         "2",
         "29028"
        ],
        [
         "26",
         "4",
         "2",
         "14455"
        ],
        [
         "27",
         "3",
         "2",
         "12038"
        ],
        [
         "28",
         "4",
         "2",
         "15138"
        ],
        [
         "29",
         "3",
         "3",
         "27813"
        ],
        [
         "30",
         "3",
         "2",
         "19591"
        ],
        [
         "31",
         "4",
         "2",
         "24636"
        ],
        [
         "32",
         "2",
         "1",
         "13124"
        ],
        [
         "33",
         "4",
         "1",
         "24017"
        ],
        [
         "34",
         "2",
         "1",
         "16324"
        ],
        [
         "35",
         "3",
         "2",
         "16500"
        ],
        [
         "36",
         "2",
         "1",
         "21798"
        ],
        [
         "37",
         "3",
         "2",
         "18337"
        ],
        [
         "38",
         "2",
         "2",
         "13251"
        ],
        [
         "39",
         "2",
         "2",
         "15564"
        ],
        [
         "40",
         "3",
         "3",
         "28168"
        ],
        [
         "41",
         "4",
         "3",
         "19944"
        ],
        [
         "42",
         "3",
         "1",
         "28448"
        ],
        [
         "43",
         "3",
         "1",
         "25003"
        ],
        [
         "44",
         "4",
         "1",
         "29904"
        ],
        [
         "45",
         "3",
         "1",
         "20377"
        ],
        [
         "46",
         "1",
         "2",
         "10506"
        ],
        [
         "47",
         "4",
         "1",
         "14244"
        ],
        [
         "48",
         "1",
         "2",
         "17516"
        ],
        [
         "49",
         "1",
         "1",
         "20198"
        ]
       ],
       "shape": {
        "columns": 3,
        "rows": 100
       }
      },
      "text/html": [
       "<div>\n",
       "<style scoped>\n",
       "    .dataframe tbody tr th:only-of-type {\n",
       "        vertical-align: middle;\n",
       "    }\n",
       "\n",
       "    .dataframe tbody tr th {\n",
       "        vertical-align: top;\n",
       "    }\n",
       "\n",
       "    .dataframe thead th {\n",
       "        text-align: right;\n",
       "    }\n",
       "</style>\n",
       "<table border=\"1\" class=\"dataframe\">\n",
       "  <thead>\n",
       "    <tr style=\"text-align: right;\">\n",
       "      <th></th>\n",
       "      <th>0</th>\n",
       "      <th>1</th>\n",
       "      <th>2</th>\n",
       "    </tr>\n",
       "  </thead>\n",
       "  <tbody>\n",
       "    <tr>\n",
       "      <th>0</th>\n",
       "      <td>3</td>\n",
       "      <td>2</td>\n",
       "      <td>20826</td>\n",
       "    </tr>\n",
       "    <tr>\n",
       "      <th>1</th>\n",
       "      <td>1</td>\n",
       "      <td>1</td>\n",
       "      <td>16992</td>\n",
       "    </tr>\n",
       "    <tr>\n",
       "      <th>2</th>\n",
       "      <td>4</td>\n",
       "      <td>2</td>\n",
       "      <td>16864</td>\n",
       "    </tr>\n",
       "    <tr>\n",
       "      <th>3</th>\n",
       "      <td>3</td>\n",
       "      <td>3</td>\n",
       "      <td>12068</td>\n",
       "    </tr>\n",
       "    <tr>\n",
       "      <th>4</th>\n",
       "      <td>2</td>\n",
       "      <td>1</td>\n",
       "      <td>24615</td>\n",
       "    </tr>\n",
       "    <tr>\n",
       "      <th>...</th>\n",
       "      <td>...</td>\n",
       "      <td>...</td>\n",
       "      <td>...</td>\n",
       "    </tr>\n",
       "    <tr>\n",
       "      <th>95</th>\n",
       "      <td>4</td>\n",
       "      <td>3</td>\n",
       "      <td>23935</td>\n",
       "    </tr>\n",
       "    <tr>\n",
       "      <th>96</th>\n",
       "      <td>4</td>\n",
       "      <td>2</td>\n",
       "      <td>26711</td>\n",
       "    </tr>\n",
       "    <tr>\n",
       "      <th>97</th>\n",
       "      <td>2</td>\n",
       "      <td>3</td>\n",
       "      <td>25278</td>\n",
       "    </tr>\n",
       "    <tr>\n",
       "      <th>98</th>\n",
       "      <td>4</td>\n",
       "      <td>2</td>\n",
       "      <td>25571</td>\n",
       "    </tr>\n",
       "    <tr>\n",
       "      <th>99</th>\n",
       "      <td>3</td>\n",
       "      <td>1</td>\n",
       "      <td>25275</td>\n",
       "    </tr>\n",
       "  </tbody>\n",
       "</table>\n",
       "<p>100 rows × 3 columns</p>\n",
       "</div>"
      ],
      "text/plain": [
       "    0  1      2\n",
       "0   3  2  20826\n",
       "1   1  1  16992\n",
       "2   4  2  16864\n",
       "3   3  3  12068\n",
       "4   2  1  24615\n",
       ".. .. ..    ...\n",
       "95  4  3  23935\n",
       "96  4  2  26711\n",
       "97  2  3  25278\n",
       "98  4  2  25571\n",
       "99  3  1  25275\n",
       "\n",
       "[100 rows x 3 columns]"
      ]
     },
     "execution_count": 3,
     "metadata": {},
     "output_type": "execute_result"
    }
   ],
   "source": [
    "pd.concat([pd.Series(np.random.randint(1, 5, 100)), pd.Series(np.random.randint(1, 4, 100)), pd.Series(np.random.randint(10000, 30001, 100))], axis=1)"
   ]
  },
  {
   "cell_type": "markdown",
   "metadata": {},
   "source": [
    "### Step 4. Change the name of the columns to bedrs, bathrs, price_sqr_meter"
   ]
  },
  {
   "cell_type": "code",
   "execution_count": 4,
   "metadata": {
    "collapsed": false
   },
   "outputs": [
    {
     "data": {
      "application/vnd.microsoft.datawrangler.viewer.v0+json": {
       "columns": [
        {
         "name": "index",
         "rawType": "int64",
         "type": "integer"
        },
        {
         "name": "bedrs",
         "rawType": "int32",
         "type": "integer"
        },
        {
         "name": "bathrs",
         "rawType": "int32",
         "type": "integer"
        },
        {
         "name": "price_sqr_meter",
         "rawType": "int32",
         "type": "integer"
        }
       ],
       "ref": "ab827a65-1d4d-485b-87de-b15b399ea76e",
       "rows": [
        [
         "0",
         "2",
         "1",
         "17559"
        ],
        [
         "1",
         "3",
         "1",
         "18314"
        ],
        [
         "2",
         "2",
         "3",
         "24176"
        ],
        [
         "3",
         "3",
         "1",
         "11485"
        ],
        [
         "4",
         "2",
         "2",
         "21840"
        ],
        [
         "5",
         "2",
         "1",
         "22817"
        ],
        [
         "6",
         "2",
         "3",
         "19070"
        ],
        [
         "7",
         "4",
         "1",
         "16674"
        ],
        [
         "8",
         "4",
         "2",
         "14289"
        ],
        [
         "9",
         "4",
         "1",
         "11428"
        ],
        [
         "10",
         "3",
         "1",
         "27589"
        ],
        [
         "11",
         "1",
         "1",
         "19688"
        ],
        [
         "12",
         "2",
         "3",
         "17634"
        ],
        [
         "13",
         "4",
         "3",
         "24719"
        ],
        [
         "14",
         "2",
         "1",
         "23511"
        ],
        [
         "15",
         "4",
         "3",
         "29849"
        ],
        [
         "16",
         "1",
         "3",
         "13318"
        ],
        [
         "17",
         "3",
         "3",
         "22807"
        ],
        [
         "18",
         "4",
         "1",
         "21669"
        ],
        [
         "19",
         "3",
         "2",
         "25494"
        ],
        [
         "20",
         "2",
         "3",
         "27165"
        ],
        [
         "21",
         "4",
         "1",
         "14814"
        ],
        [
         "22",
         "3",
         "3",
         "20658"
        ],
        [
         "23",
         "3",
         "1",
         "14263"
        ],
        [
         "24",
         "2",
         "1",
         "21104"
        ],
        [
         "25",
         "4",
         "1",
         "13348"
        ],
        [
         "26",
         "1",
         "1",
         "18302"
        ],
        [
         "27",
         "4",
         "1",
         "19853"
        ],
        [
         "28",
         "3",
         "3",
         "15375"
        ],
        [
         "29",
         "3",
         "3",
         "18403"
        ],
        [
         "30",
         "4",
         "2",
         "16958"
        ],
        [
         "31",
         "2",
         "1",
         "20022"
        ],
        [
         "32",
         "4",
         "1",
         "27837"
        ],
        [
         "33",
         "3",
         "3",
         "12155"
        ],
        [
         "34",
         "1",
         "1",
         "24397"
        ],
        [
         "35",
         "1",
         "1",
         "19558"
        ],
        [
         "36",
         "2",
         "1",
         "24490"
        ],
        [
         "37",
         "2",
         "3",
         "25714"
        ],
        [
         "38",
         "4",
         "1",
         "13877"
        ],
        [
         "39",
         "4",
         "3",
         "10787"
        ],
        [
         "40",
         "1",
         "1",
         "25588"
        ],
        [
         "41",
         "4",
         "1",
         "24900"
        ],
        [
         "42",
         "4",
         "1",
         "11526"
        ],
        [
         "43",
         "1",
         "1",
         "28219"
        ],
        [
         "44",
         "3",
         "2",
         "11974"
        ],
        [
         "45",
         "2",
         "1",
         "10793"
        ],
        [
         "46",
         "3",
         "3",
         "12586"
        ],
        [
         "47",
         "4",
         "1",
         "20494"
        ],
        [
         "48",
         "1",
         "1",
         "12955"
        ],
        [
         "49",
         "4",
         "1",
         "21877"
        ]
       ],
       "shape": {
        "columns": 3,
        "rows": 100
       }
      },
      "text/html": [
       "<div>\n",
       "<style scoped>\n",
       "    .dataframe tbody tr th:only-of-type {\n",
       "        vertical-align: middle;\n",
       "    }\n",
       "\n",
       "    .dataframe tbody tr th {\n",
       "        vertical-align: top;\n",
       "    }\n",
       "\n",
       "    .dataframe thead th {\n",
       "        text-align: right;\n",
       "    }\n",
       "</style>\n",
       "<table border=\"1\" class=\"dataframe\">\n",
       "  <thead>\n",
       "    <tr style=\"text-align: right;\">\n",
       "      <th></th>\n",
       "      <th>bedrs</th>\n",
       "      <th>bathrs</th>\n",
       "      <th>price_sqr_meter</th>\n",
       "    </tr>\n",
       "  </thead>\n",
       "  <tbody>\n",
       "    <tr>\n",
       "      <th>0</th>\n",
       "      <td>2</td>\n",
       "      <td>1</td>\n",
       "      <td>17559</td>\n",
       "    </tr>\n",
       "    <tr>\n",
       "      <th>1</th>\n",
       "      <td>3</td>\n",
       "      <td>1</td>\n",
       "      <td>18314</td>\n",
       "    </tr>\n",
       "    <tr>\n",
       "      <th>2</th>\n",
       "      <td>2</td>\n",
       "      <td>3</td>\n",
       "      <td>24176</td>\n",
       "    </tr>\n",
       "    <tr>\n",
       "      <th>3</th>\n",
       "      <td>3</td>\n",
       "      <td>1</td>\n",
       "      <td>11485</td>\n",
       "    </tr>\n",
       "    <tr>\n",
       "      <th>4</th>\n",
       "      <td>2</td>\n",
       "      <td>2</td>\n",
       "      <td>21840</td>\n",
       "    </tr>\n",
       "    <tr>\n",
       "      <th>...</th>\n",
       "      <td>...</td>\n",
       "      <td>...</td>\n",
       "      <td>...</td>\n",
       "    </tr>\n",
       "    <tr>\n",
       "      <th>95</th>\n",
       "      <td>1</td>\n",
       "      <td>2</td>\n",
       "      <td>15104</td>\n",
       "    </tr>\n",
       "    <tr>\n",
       "      <th>96</th>\n",
       "      <td>2</td>\n",
       "      <td>1</td>\n",
       "      <td>27500</td>\n",
       "    </tr>\n",
       "    <tr>\n",
       "      <th>97</th>\n",
       "      <td>3</td>\n",
       "      <td>3</td>\n",
       "      <td>23462</td>\n",
       "    </tr>\n",
       "    <tr>\n",
       "      <th>98</th>\n",
       "      <td>3</td>\n",
       "      <td>1</td>\n",
       "      <td>25781</td>\n",
       "    </tr>\n",
       "    <tr>\n",
       "      <th>99</th>\n",
       "      <td>3</td>\n",
       "      <td>2</td>\n",
       "      <td>27380</td>\n",
       "    </tr>\n",
       "  </tbody>\n",
       "</table>\n",
       "<p>100 rows × 3 columns</p>\n",
       "</div>"
      ],
      "text/plain": [
       "    bedrs  bathrs  price_sqr_meter\n",
       "0       2       1            17559\n",
       "1       3       1            18314\n",
       "2       2       3            24176\n",
       "3       3       1            11485\n",
       "4       2       2            21840\n",
       "..    ...     ...              ...\n",
       "95      1       2            15104\n",
       "96      2       1            27500\n",
       "97      3       3            23462\n",
       "98      3       1            25781\n",
       "99      3       2            27380\n",
       "\n",
       "[100 rows x 3 columns]"
      ]
     },
     "execution_count": 4,
     "metadata": {},
     "output_type": "execute_result"
    }
   ],
   "source": [
    "df = pd.concat([pd.Series(np.random.randint(1, 5, 100)), pd.Series(np.random.randint(1, 4, 100)), pd.Series(np.random.randint(10000, 30001, 100))], axis=1)\n",
    "df.columns = ['bedrs', 'bathrs', 'price_sqr_meter']\n",
    "df"
   ]
  },
  {
   "cell_type": "markdown",
   "metadata": {},
   "source": [
    "### Step 5. Create a one column DataFrame with the values of the 3 Series and assign it to 'bigcolumn'"
   ]
  },
  {
   "cell_type": "code",
   "execution_count": 5,
   "metadata": {
    "collapsed": false
   },
   "outputs": [
    {
     "data": {
      "application/vnd.microsoft.datawrangler.viewer.v0+json": {
       "columns": [
        {
         "name": "index",
         "rawType": "int64",
         "type": "integer"
        },
        {
         "name": "0",
         "rawType": "int32",
         "type": "integer"
        }
       ],
       "ref": "7ffda41a-5231-4cdd-b59d-2a9eb91ad26a",
       "rows": [
        [
         "0",
         "3"
        ],
        [
         "1",
         "1"
        ],
        [
         "2",
         "2"
        ],
        [
         "3",
         "1"
        ],
        [
         "4",
         "1"
        ],
        [
         "5",
         "1"
        ],
        [
         "6",
         "2"
        ],
        [
         "7",
         "4"
        ],
        [
         "8",
         "2"
        ],
        [
         "9",
         "4"
        ],
        [
         "10",
         "1"
        ],
        [
         "11",
         "4"
        ],
        [
         "12",
         "4"
        ],
        [
         "13",
         "4"
        ],
        [
         "14",
         "4"
        ],
        [
         "15",
         "4"
        ],
        [
         "16",
         "3"
        ],
        [
         "17",
         "1"
        ],
        [
         "18",
         "3"
        ],
        [
         "19",
         "3"
        ],
        [
         "20",
         "2"
        ],
        [
         "21",
         "2"
        ],
        [
         "22",
         "3"
        ],
        [
         "23",
         "1"
        ],
        [
         "24",
         "1"
        ],
        [
         "25",
         "4"
        ],
        [
         "26",
         "3"
        ],
        [
         "27",
         "2"
        ],
        [
         "28",
         "2"
        ],
        [
         "29",
         "4"
        ],
        [
         "30",
         "2"
        ],
        [
         "31",
         "1"
        ],
        [
         "32",
         "2"
        ],
        [
         "33",
         "1"
        ],
        [
         "34",
         "1"
        ],
        [
         "35",
         "2"
        ],
        [
         "36",
         "3"
        ],
        [
         "37",
         "3"
        ],
        [
         "38",
         "2"
        ],
        [
         "39",
         "2"
        ],
        [
         "40",
         "4"
        ],
        [
         "41",
         "2"
        ],
        [
         "42",
         "4"
        ],
        [
         "43",
         "3"
        ],
        [
         "44",
         "3"
        ],
        [
         "45",
         "1"
        ],
        [
         "46",
         "1"
        ],
        [
         "47",
         "3"
        ],
        [
         "48",
         "1"
        ],
        [
         "49",
         "1"
        ]
       ],
       "shape": {
        "columns": 1,
        "rows": 300
       }
      },
      "text/html": [
       "<div>\n",
       "<style scoped>\n",
       "    .dataframe tbody tr th:only-of-type {\n",
       "        vertical-align: middle;\n",
       "    }\n",
       "\n",
       "    .dataframe tbody tr th {\n",
       "        vertical-align: top;\n",
       "    }\n",
       "\n",
       "    .dataframe thead th {\n",
       "        text-align: right;\n",
       "    }\n",
       "</style>\n",
       "<table border=\"1\" class=\"dataframe\">\n",
       "  <thead>\n",
       "    <tr style=\"text-align: right;\">\n",
       "      <th></th>\n",
       "      <th>0</th>\n",
       "    </tr>\n",
       "  </thead>\n",
       "  <tbody>\n",
       "    <tr>\n",
       "      <th>0</th>\n",
       "      <td>3</td>\n",
       "    </tr>\n",
       "    <tr>\n",
       "      <th>1</th>\n",
       "      <td>1</td>\n",
       "    </tr>\n",
       "    <tr>\n",
       "      <th>2</th>\n",
       "      <td>2</td>\n",
       "    </tr>\n",
       "    <tr>\n",
       "      <th>3</th>\n",
       "      <td>1</td>\n",
       "    </tr>\n",
       "    <tr>\n",
       "      <th>4</th>\n",
       "      <td>1</td>\n",
       "    </tr>\n",
       "    <tr>\n",
       "      <th>...</th>\n",
       "      <td>...</td>\n",
       "    </tr>\n",
       "    <tr>\n",
       "      <th>95</th>\n",
       "      <td>26052</td>\n",
       "    </tr>\n",
       "    <tr>\n",
       "      <th>96</th>\n",
       "      <td>13708</td>\n",
       "    </tr>\n",
       "    <tr>\n",
       "      <th>97</th>\n",
       "      <td>22157</td>\n",
       "    </tr>\n",
       "    <tr>\n",
       "      <th>98</th>\n",
       "      <td>20310</td>\n",
       "    </tr>\n",
       "    <tr>\n",
       "      <th>99</th>\n",
       "      <td>16969</td>\n",
       "    </tr>\n",
       "  </tbody>\n",
       "</table>\n",
       "<p>300 rows × 1 columns</p>\n",
       "</div>"
      ],
      "text/plain": [
       "        0\n",
       "0       3\n",
       "1       1\n",
       "2       2\n",
       "3       1\n",
       "4       1\n",
       "..    ...\n",
       "95  26052\n",
       "96  13708\n",
       "97  22157\n",
       "98  20310\n",
       "99  16969\n",
       "\n",
       "[300 rows x 1 columns]"
      ]
     },
     "execution_count": 5,
     "metadata": {},
     "output_type": "execute_result"
    }
   ],
   "source": [
    "bigcolumn = pd.concat([pd.Series(np.random.randint(1, 5, 100)), pd.Series(np.random.randint(1, 4, 100)), pd.Series(np.random.randint(10000, 30001, 100))], axis=0).to_frame()\n",
    "bigcolumn"
   ]
  },
  {
   "cell_type": "markdown",
   "metadata": {},
   "source": [
    "### Step 6. Oops, it seems it is going only until index 99. Is it true?"
   ]
  },
  {
   "cell_type": "code",
   "execution_count": 6,
   "metadata": {
    "collapsed": false
   },
   "outputs": [
    {
     "data": {
      "text/plain": [
       "Index([ 0,  1,  2,  3,  4,  5,  6,  7,  8,  9,\n",
       "       ...\n",
       "       90, 91, 92, 93, 94, 95, 96, 97, 98, 99],\n",
       "      dtype='int64', length=300)"
      ]
     },
     "execution_count": 6,
     "metadata": {},
     "output_type": "execute_result"
    }
   ],
   "source": [
    "bigcolumn.index"
   ]
  },
  {
   "cell_type": "markdown",
   "metadata": {},
   "source": [
    "### Step 7. Reindex the DataFrame so it goes from 0 to 299"
   ]
  },
  {
   "cell_type": "code",
   "execution_count": 7,
   "metadata": {
    "collapsed": false
   },
   "outputs": [
    {
     "data": {
      "application/vnd.microsoft.datawrangler.viewer.v0+json": {
       "columns": [
        {
         "name": "index",
         "rawType": "int64",
         "type": "integer"
        },
        {
         "name": "0",
         "rawType": "int32",
         "type": "integer"
        }
       ],
       "ref": "deee45da-b858-4615-af4e-5df40a243d72",
       "rows": [
        [
         "0",
         "3"
        ],
        [
         "1",
         "1"
        ],
        [
         "2",
         "2"
        ],
        [
         "3",
         "1"
        ],
        [
         "4",
         "1"
        ],
        [
         "5",
         "1"
        ],
        [
         "6",
         "2"
        ],
        [
         "7",
         "4"
        ],
        [
         "8",
         "2"
        ],
        [
         "9",
         "4"
        ],
        [
         "10",
         "1"
        ],
        [
         "11",
         "4"
        ],
        [
         "12",
         "4"
        ],
        [
         "13",
         "4"
        ],
        [
         "14",
         "4"
        ],
        [
         "15",
         "4"
        ],
        [
         "16",
         "3"
        ],
        [
         "17",
         "1"
        ],
        [
         "18",
         "3"
        ],
        [
         "19",
         "3"
        ],
        [
         "20",
         "2"
        ],
        [
         "21",
         "2"
        ],
        [
         "22",
         "3"
        ],
        [
         "23",
         "1"
        ],
        [
         "24",
         "1"
        ],
        [
         "25",
         "4"
        ],
        [
         "26",
         "3"
        ],
        [
         "27",
         "2"
        ],
        [
         "28",
         "2"
        ],
        [
         "29",
         "4"
        ],
        [
         "30",
         "2"
        ],
        [
         "31",
         "1"
        ],
        [
         "32",
         "2"
        ],
        [
         "33",
         "1"
        ],
        [
         "34",
         "1"
        ],
        [
         "35",
         "2"
        ],
        [
         "36",
         "3"
        ],
        [
         "37",
         "3"
        ],
        [
         "38",
         "2"
        ],
        [
         "39",
         "2"
        ],
        [
         "40",
         "4"
        ],
        [
         "41",
         "2"
        ],
        [
         "42",
         "4"
        ],
        [
         "43",
         "3"
        ],
        [
         "44",
         "3"
        ],
        [
         "45",
         "1"
        ],
        [
         "46",
         "1"
        ],
        [
         "47",
         "3"
        ],
        [
         "48",
         "1"
        ],
        [
         "49",
         "1"
        ]
       ],
       "shape": {
        "columns": 1,
        "rows": 300
       }
      },
      "text/html": [
       "<div>\n",
       "<style scoped>\n",
       "    .dataframe tbody tr th:only-of-type {\n",
       "        vertical-align: middle;\n",
       "    }\n",
       "\n",
       "    .dataframe tbody tr th {\n",
       "        vertical-align: top;\n",
       "    }\n",
       "\n",
       "    .dataframe thead th {\n",
       "        text-align: right;\n",
       "    }\n",
       "</style>\n",
       "<table border=\"1\" class=\"dataframe\">\n",
       "  <thead>\n",
       "    <tr style=\"text-align: right;\">\n",
       "      <th></th>\n",
       "      <th>0</th>\n",
       "    </tr>\n",
       "  </thead>\n",
       "  <tbody>\n",
       "    <tr>\n",
       "      <th>0</th>\n",
       "      <td>3</td>\n",
       "    </tr>\n",
       "    <tr>\n",
       "      <th>1</th>\n",
       "      <td>1</td>\n",
       "    </tr>\n",
       "    <tr>\n",
       "      <th>2</th>\n",
       "      <td>2</td>\n",
       "    </tr>\n",
       "    <tr>\n",
       "      <th>3</th>\n",
       "      <td>1</td>\n",
       "    </tr>\n",
       "    <tr>\n",
       "      <th>4</th>\n",
       "      <td>1</td>\n",
       "    </tr>\n",
       "    <tr>\n",
       "      <th>...</th>\n",
       "      <td>...</td>\n",
       "    </tr>\n",
       "    <tr>\n",
       "      <th>295</th>\n",
       "      <td>26052</td>\n",
       "    </tr>\n",
       "    <tr>\n",
       "      <th>296</th>\n",
       "      <td>13708</td>\n",
       "    </tr>\n",
       "    <tr>\n",
       "      <th>297</th>\n",
       "      <td>22157</td>\n",
       "    </tr>\n",
       "    <tr>\n",
       "      <th>298</th>\n",
       "      <td>20310</td>\n",
       "    </tr>\n",
       "    <tr>\n",
       "      <th>299</th>\n",
       "      <td>16969</td>\n",
       "    </tr>\n",
       "  </tbody>\n",
       "</table>\n",
       "<p>300 rows × 1 columns</p>\n",
       "</div>"
      ],
      "text/plain": [
       "         0\n",
       "0        3\n",
       "1        1\n",
       "2        2\n",
       "3        1\n",
       "4        1\n",
       "..     ...\n",
       "295  26052\n",
       "296  13708\n",
       "297  22157\n",
       "298  20310\n",
       "299  16969\n",
       "\n",
       "[300 rows x 1 columns]"
      ]
     },
     "execution_count": 7,
     "metadata": {},
     "output_type": "execute_result"
    }
   ],
   "source": [
    "bigcolumn.reset_index(drop=True, inplace=True)\n",
    "bigcolumn"
   ]
  }
 ],
 "metadata": {
  "kernelspec": {
   "display_name": "base",
   "language": "python",
   "name": "python3"
  },
  "language_info": {
   "codemirror_mode": {
    "name": "ipython",
    "version": 3
   },
   "file_extension": ".py",
   "mimetype": "text/x-python",
   "name": "python",
   "nbconvert_exporter": "python",
   "pygments_lexer": "ipython3",
   "version": "3.12.4"
  }
 },
 "nbformat": 4,
 "nbformat_minor": 0
}
