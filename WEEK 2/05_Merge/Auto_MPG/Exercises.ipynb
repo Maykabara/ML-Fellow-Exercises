{
 "cells": [
  {
   "cell_type": "markdown",
   "metadata": {},
   "source": [
    "# MPG Cars"
   ]
  },
  {
   "cell_type": "markdown",
   "metadata": {},
   "source": [
    "### Introduction:\n",
    "\n",
    "The following exercise utilizes data from [UC Irvine Machine Learning Repository](https://archive.ics.uci.edu/ml/datasets/Auto+MPG)\n",
    "\n",
    "### Step 1. Import the necessary libraries"
   ]
  },
  {
   "cell_type": "code",
   "execution_count": 1,
   "metadata": {
    "collapsed": false
   },
   "outputs": [],
   "source": [
    "import pandas as pd\n",
    "import numpy as np"
   ]
  },
  {
   "cell_type": "markdown",
   "metadata": {},
   "source": [
    "### Step 2. Import the first dataset [cars1](https://raw.githubusercontent.com/guipsamora/pandas_exercises/master/05_Merge/Auto_MPG/cars1.csv) and [cars2](https://raw.githubusercontent.com/guipsamora/pandas_exercises/master/05_Merge/Auto_MPG/cars2.csv).  "
   ]
  },
  {
   "cell_type": "markdown",
   "metadata": {},
   "source": [
    "   ### Step 3. Assign each to a variable called cars1 and cars2"
   ]
  },
  {
   "cell_type": "code",
   "execution_count": 2,
   "metadata": {
    "collapsed": false
   },
   "outputs": [],
   "source": [
    "cars1 = pd.read_csv('https://raw.githubusercontent.com/guipsamora/pandas_exercises/master/05_Merge/Auto_MPG/cars1.csv')\n",
    "cars2 = pd.read_csv('https://raw.githubusercontent.com/guipsamora/pandas_exercises/master/05_Merge/Auto_MPG/cars2.csv')"
   ]
  },
  {
   "cell_type": "markdown",
   "metadata": {},
   "source": [
    "### Step 4. Oops, it seems our first dataset has some unnamed blank columns, fix cars1"
   ]
  },
  {
   "cell_type": "code",
   "execution_count": 3,
   "metadata": {
    "collapsed": false
   },
   "outputs": [],
   "source": [
    "cars1 = cars1.loc[:, ~cars1.columns.str.contains('^Unnamed')]"
   ]
  },
  {
   "cell_type": "markdown",
   "metadata": {},
   "source": [
    "### Step 5. What is the number of observations in each dataset?"
   ]
  },
  {
   "cell_type": "code",
   "execution_count": 4,
   "metadata": {
    "collapsed": false
   },
   "outputs": [
    {
     "name": "stdout",
     "output_type": "stream",
     "text": [
      "198\n",
      "200\n"
     ]
    }
   ],
   "source": [
    "print(cars1.shape[0])\n",
    "print(cars2.shape[0])"
   ]
  },
  {
   "cell_type": "markdown",
   "metadata": {},
   "source": [
    "### Step 6. Join cars1 and cars2 into a single DataFrame called cars"
   ]
  },
  {
   "cell_type": "code",
   "execution_count": 5,
   "metadata": {
    "collapsed": false
   },
   "outputs": [
    {
     "name": "stdout",
     "output_type": "stream",
     "text": [
      "(398, 9)\n"
     ]
    }
   ],
   "source": [
    "cars = pd.concat([cars1, cars2], ignore_index=True)\n",
    "print(cars.shape)"
   ]
  },
  {
   "cell_type": "markdown",
   "metadata": {},
   "source": [
    "### Step 7. Oops, there is a column missing, called owners. Create a random number Series from 15,000 to 73,000."
   ]
  },
  {
   "cell_type": "code",
   "execution_count": 6,
   "metadata": {
    "collapsed": false
   },
   "outputs": [
    {
     "name": "stdout",
     "output_type": "stream",
     "text": [
      "[50632 37908 21722 40094 26493 19490 53742 38271 37096 22619 35340 22322\n",
      " 16140 31653 71166 64902 45815 23896 40718 18388 42014 20029 25586 56280\n",
      " 25472 51767 41786 34551 40945 37625 24433 27503 61397 65746 23341 54014\n",
      " 38312 48011 58167 66214 68111 56999 47016 32274 28269 72573 59241 70308\n",
      " 27190 38430 32623 50277 53059 67343 61613 53438 60142 21767 42401 59952\n",
      " 72171 57012 22912 52336 60400 51364 42588 31595 42096 26879 48427 49491\n",
      " 46851 60424 68499 32514 69612 25609 65985 45921 21132 65009 70935 69612\n",
      " 72092 54555 54721 39579 21025 31883 38218 41994 58426 61489 68749 47397\n",
      " 41937 37169 50576 40466 69701 46137 51033 55475 23001 31175 60303 18000\n",
      " 67557 50281 53574 38402 38846 32416 16347 29672 63125 62842 40441 60599\n",
      " 58581 63286 48910 22554 29845 20113 72739 41502 67451 41068 22788 58216\n",
      " 25845 65222 69281 27308 54040 54262 17942 52798 20149 66684 40126 41042\n",
      " 38319 54626 58710 15549 56393 17299 53761 44461 57623 39367 49252 64400\n",
      " 64573 18411 37662 28441 16484 50869 36226 26890 45372 29279 68675 32857\n",
      " 72022 30576 62405 54931 37553 58432 67092 32227 64566 39409 61096 52500\n",
      " 31519 40727 16112 55792 46061 62383 45844 29912 66399 43048 36254 40187\n",
      " 60014 30218 59341 44590 36065 29373 43232 71746 36493 20677 53051 27697\n",
      " 47476 42721 50535 72735 33089 58761 28112 49650 44886 38875 20767 42562\n",
      " 24428 69175 59089 36593 35096 25803 35918 72496 30770 67826 23303 50302\n",
      " 28519 42403 60948 68492 50365 35847 46200 53648 62816 24074 30410 37765\n",
      " 55755 50276 49767 22842 36979 20385 52183 29630 41661 46969 22274 70119\n",
      " 51597 53238 23096 56633 28285 29915 39417 54270 71390 32482 70851 39551\n",
      " 71370 61802 31947 54540 61602 61204 42901 52726 20308 68522 35304 32101\n",
      " 20072 48952 20440 71811 47411 55003 36670 17676 57807 71211 71858 30569\n",
      " 21847 70842 66959 65373 22556 71294 59221 16539 34668 41142 51478 29694\n",
      " 16351 63683 39046 44860 50882 69907 18166 65774 40263 68298 67755 35300\n",
      " 21256 57759 20363 51222 22163 26811 44028 24512 30442 19572 51804 57430\n",
      " 30369 19462 72824 49692 70324 32581 62797 53539 62735 29401 19642 55056\n",
      " 33024 39881 52448 19527 56525 61092 18105 53720 67451 33790 30397 32559\n",
      " 27470 54689 40462 53128 51718 33387 41297 33594 49041 37569 70967 70026\n",
      " 33450 50258 72024 60359 26743 63134 42635 72664 33935 43869 18648 32712\n",
      " 59142 24004 24091 43412 45095 41633 58737 32193 18673 71726 31663 59521\n",
      " 68893 36794 49246 44196 34543 19896 59319 47104 52602 29629 56787 58555\n",
      " 36224 61706]\n"
     ]
    }
   ],
   "source": [
    "owners = np.random.randint(15000, 73001, size=cars.shape[0])\n",
    "print(owners)"
   ]
  },
  {
   "cell_type": "markdown",
   "metadata": {},
   "source": [
    "### Step 8. Add the column owners to cars"
   ]
  },
  {
   "cell_type": "code",
   "execution_count": 7,
   "metadata": {
    "collapsed": false
   },
   "outputs": [
    {
     "name": "stdout",
     "output_type": "stream",
     "text": [
      "    mpg  cylinders  displacement horsepower  weight  acceleration  model  \\\n",
      "0  18.0          8           307        130    3504          12.0     70   \n",
      "1  15.0          8           350        165    3693          11.5     70   \n",
      "2  18.0          8           318        150    3436          11.0     70   \n",
      "3  16.0          8           304        150    3433          12.0     70   \n",
      "4  17.0          8           302        140    3449          10.5     70   \n",
      "\n",
      "   origin                        car  owners  \n",
      "0       1  chevrolet chevelle malibu   50632  \n",
      "1       1          buick skylark 320   37908  \n",
      "2       1         plymouth satellite   21722  \n",
      "3       1              amc rebel sst   40094  \n",
      "4       1                ford torino   26493  \n"
     ]
    }
   ],
   "source": [
    "cars['owners'] = owners\n",
    "print(cars.head())"
   ]
  }
 ],
 "metadata": {
  "anaconda-cloud": {},
  "kernelspec": {
   "display_name": "base",
   "language": "python",
   "name": "python3"
  },
  "language_info": {
   "codemirror_mode": {
    "name": "ipython",
    "version": 3
   },
   "file_extension": ".py",
   "mimetype": "text/x-python",
   "name": "python",
   "nbconvert_exporter": "python",
   "pygments_lexer": "ipython3",
   "version": "3.12.4"
  }
 },
 "nbformat": 4,
 "nbformat_minor": 0
}
