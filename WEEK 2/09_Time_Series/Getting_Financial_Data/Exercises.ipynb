{
 "cells": [
  {
   "cell_type": "markdown",
   "metadata": {},
   "source": [
    "# Getting Financial Data - Pandas Datareader"
   ]
  },
  {
   "cell_type": "markdown",
   "metadata": {},
   "source": [
    "### Introduction:\n",
    "\n",
    "This time you will get data from a website.\n",
    "\n",
    "\n",
    "### Step 1. Import the necessary libraries"
   ]
  },
  {
   "cell_type": "code",
   "execution_count": 2,
   "metadata": {},
   "outputs": [
    {
     "name": "stdout",
     "output_type": "stream",
     "text": [
      "Collecting pandas_datareader\n",
      "  Downloading pandas_datareader-0.10.0-py3-none-any.whl.metadata (2.9 kB)\n",
      "Requirement already satisfied: lxml in c:\\users\\dell\\anaconda3\\lib\\site-packages (from pandas_datareader) (5.2.1)\n",
      "Requirement already satisfied: pandas>=0.23 in c:\\users\\dell\\anaconda3\\lib\\site-packages (from pandas_datareader) (2.2.2)\n",
      "Requirement already satisfied: requests>=2.19.0 in c:\\users\\dell\\anaconda3\\lib\\site-packages (from pandas_datareader) (2.32.2)\n",
      "Requirement already satisfied: numpy>=1.26.0 in c:\\users\\dell\\anaconda3\\lib\\site-packages (from pandas>=0.23->pandas_datareader) (1.26.4)\n",
      "Requirement already satisfied: python-dateutil>=2.8.2 in c:\\users\\dell\\anaconda3\\lib\\site-packages (from pandas>=0.23->pandas_datareader) (2.9.0.post0)\n",
      "Requirement already satisfied: pytz>=2020.1 in c:\\users\\dell\\anaconda3\\lib\\site-packages (from pandas>=0.23->pandas_datareader) (2024.1)\n",
      "Requirement already satisfied: tzdata>=2022.7 in c:\\users\\dell\\anaconda3\\lib\\site-packages (from pandas>=0.23->pandas_datareader) (2023.3)\n",
      "Requirement already satisfied: charset-normalizer<4,>=2 in c:\\users\\dell\\anaconda3\\lib\\site-packages (from requests>=2.19.0->pandas_datareader) (2.0.4)\n",
      "Requirement already satisfied: idna<4,>=2.5 in c:\\users\\dell\\anaconda3\\lib\\site-packages (from requests>=2.19.0->pandas_datareader) (3.7)\n",
      "Requirement already satisfied: urllib3<3,>=1.21.1 in c:\\users\\dell\\anaconda3\\lib\\site-packages (from requests>=2.19.0->pandas_datareader) (2.2.2)\n",
      "Requirement already satisfied: certifi>=2017.4.17 in c:\\users\\dell\\anaconda3\\lib\\site-packages (from requests>=2.19.0->pandas_datareader) (2025.6.15)\n",
      "Requirement already satisfied: six>=1.5 in c:\\users\\dell\\anaconda3\\lib\\site-packages (from python-dateutil>=2.8.2->pandas>=0.23->pandas_datareader) (1.16.0)\n",
      "Downloading pandas_datareader-0.10.0-py3-none-any.whl (109 kB)\n",
      "   ---------------------------------------- 0.0/109.5 kB ? eta -:--:--\n",
      "   ---------------------------------------- 0.0/109.5 kB ? eta -:--:--\n",
      "   --- ------------------------------------ 10.2/109.5 kB ? eta -:--:--\n",
      "   --- ------------------------------------ 10.2/109.5 kB ? eta -:--:--\n",
      "   ---------- ---------------------------- 30.7/109.5 kB 186.2 kB/s eta 0:00:01\n",
      "   -------------- ------------------------ 41.0/109.5 kB 163.4 kB/s eta 0:00:01\n",
      "   ------------------------- ------------- 71.7/109.5 kB 261.4 kB/s eta 0:00:01\n",
      "   ----------------------------------- -- 102.4/109.5 kB 310.3 kB/s eta 0:00:01\n",
      "   -------------------------------------- 109.5/109.5 kB 317.0 kB/s eta 0:00:00\n",
      "Installing collected packages: pandas_datareader\n",
      "Successfully installed pandas_datareader-0.10.0\n"
     ]
    }
   ],
   "source": [
    "!pip install pandas_datareader"
   ]
  },
  {
   "cell_type": "code",
   "execution_count": 3,
   "metadata": {},
   "outputs": [],
   "source": [
    "import pandas as pd\n",
    "import pandas_datareader.data as web\n",
    "from datetime import datetime"
   ]
  },
  {
   "cell_type": "markdown",
   "metadata": {},
   "source": [
    "### Step 2. Create your time range (start and end variables). The start date should be 01/01/2015 and the end should today (whatever your today is)."
   ]
  },
  {
   "cell_type": "code",
   "execution_count": 4,
   "metadata": {},
   "outputs": [
    {
     "data": {
      "text/plain": [
       "('2015-01-01', '2025-07-09')"
      ]
     },
     "execution_count": 4,
     "metadata": {},
     "output_type": "execute_result"
    }
   ],
   "source": [
    "start = '2015-01-01'\n",
    "end = datetime.today().strftime('%Y-%m-%d')\n",
    "start, end"
   ]
  },
  {
   "cell_type": "markdown",
   "metadata": {},
   "source": [
    "### Step 3. Get an API key for one of the APIs that are supported by Pandas Datareader, preferably for AlphaVantage.\n",
    "\n",
    "If you do not have an API key for any of the supported APIs, it is easiest to get one for [AlphaVantage](https://www.alphavantage.co/support/#api-key). (Note that the API key is shown directly after the signup. You do *not* receive it via e-mail.)\n",
    "\n",
    "(For a full list of the APIs that are supported by Pandas Datareader, [see here](https://pydata.github.io/pandas-datareader/readers/index.html). As the APIs are provided by third parties, this list may change.)"
   ]
  },
  {
   "cell_type": "markdown",
   "metadata": {},
   "source": [
    "### Step 4. Use Pandas Datarader to read the daily time series for the Apple stock (ticker symbol AAPL) between 01/01/2015 and today, assign it to df_apple and print it."
   ]
  },
  {
   "cell_type": "code",
   "execution_count": 5,
   "metadata": {},
   "outputs": [
    {
     "data": {
      "application/vnd.microsoft.datawrangler.viewer.v0+json": {
       "columns": [
        {
         "name": "index",
         "rawType": "object",
         "type": "string"
        },
        {
         "name": "open",
         "rawType": "float64",
         "type": "float"
        },
        {
         "name": "high",
         "rawType": "float64",
         "type": "float"
        },
        {
         "name": "low",
         "rawType": "float64",
         "type": "float"
        },
        {
         "name": "close",
         "rawType": "float64",
         "type": "float"
        },
        {
         "name": "volume",
         "rawType": "int64",
         "type": "integer"
        },
        {
         "name": "stock",
         "rawType": "object",
         "type": "string"
        }
       ],
       "ref": "19ba19a8-ce31-41ab-bf92-15972a734cf0",
       "rows": [
        [
         "2015-01-02",
         "111.39",
         "111.44",
         "107.35",
         "109.33",
         "53204626",
         "AAPL"
        ],
        [
         "2015-01-05",
         "108.29",
         "108.65",
         "105.41",
         "106.25",
         "64285491",
         "AAPL"
        ],
        [
         "2015-01-06",
         "106.54",
         "107.43",
         "104.63",
         "106.26",
         "65797116",
         "AAPL"
        ],
        [
         "2015-01-07",
         "107.2",
         "108.2",
         "106.695",
         "107.75",
         "40105934",
         "AAPL"
        ],
        [
         "2015-01-08",
         "109.23",
         "112.15",
         "108.7",
         "111.89",
         "59364547",
         "AAPL"
        ],
        [
         "2015-01-09",
         "112.67",
         "113.25",
         "110.21",
         "112.01",
         "53315099",
         "AAPL"
        ],
        [
         "2015-01-12",
         "112.6",
         "112.63",
         "108.8",
         "109.25",
         "49650790",
         "AAPL"
        ],
        [
         "2015-01-13",
         "111.43",
         "112.8",
         "108.91",
         "110.22",
         "67091928",
         "AAPL"
        ],
        [
         "2015-01-14",
         "109.04",
         "110.49",
         "108.5",
         "109.8",
         "48956588",
         "AAPL"
        ],
        [
         "2015-01-15",
         "110.0",
         "110.06",
         "106.66",
         "106.82",
         "60013996",
         "AAPL"
        ],
        [
         "2015-01-16",
         "107.03",
         "107.58",
         "105.2",
         "105.99",
         "78513345",
         "AAPL"
        ],
        [
         "2015-01-20",
         "107.84",
         "108.9667",
         "106.5",
         "108.72",
         "49899907",
         "AAPL"
        ],
        [
         "2015-01-21",
         "108.95",
         "111.06",
         "108.27",
         "109.55",
         "48575897",
         "AAPL"
        ],
        [
         "2015-01-22",
         "110.26",
         "112.47",
         "109.72",
         "112.4",
         "53796409",
         "AAPL"
        ],
        [
         "2015-01-23",
         "112.3",
         "113.75",
         "111.53",
         "112.98",
         "46464828",
         "AAPL"
        ],
        [
         "2015-01-26",
         "113.74",
         "114.3626",
         "112.8",
         "113.1",
         "55614979",
         "AAPL"
        ],
        [
         "2015-01-27",
         "112.42",
         "112.48",
         "109.03",
         "109.14",
         "95568749",
         "AAPL"
        ],
        [
         "2015-01-28",
         "117.625",
         "118.12",
         "115.31",
         "115.31",
         "146477063",
         "AAPL"
        ],
        [
         "2015-01-29",
         "116.32",
         "119.19",
         "115.56",
         "118.9",
         "84436432",
         "AAPL"
        ],
        [
         "2015-01-30",
         "118.4",
         "120.0",
         "116.85",
         "117.16",
         "83745461",
         "AAPL"
        ],
        [
         "2015-02-02",
         "118.05",
         "119.17",
         "116.08",
         "118.63",
         "62739100",
         "AAPL"
        ],
        [
         "2015-02-03",
         "118.5",
         "119.09",
         "117.61",
         "118.65",
         "51915749",
         "AAPL"
        ],
        [
         "2015-02-04",
         "118.5",
         "120.51",
         "118.309",
         "119.56",
         "70149743",
         "AAPL"
        ],
        [
         "2015-02-05",
         "120.02",
         "120.23",
         "119.25",
         "119.94",
         "42246245",
         "AAPL"
        ],
        [
         "2015-02-06",
         "120.02",
         "120.25",
         "118.45",
         "118.93",
         "43706567",
         "AAPL"
        ],
        [
         "2015-02-09",
         "118.55",
         "119.84",
         "118.43",
         "119.72",
         "38889797",
         "AAPL"
        ],
        [
         "2015-02-10",
         "120.17",
         "122.15",
         "120.16",
         "122.02",
         "62008506",
         "AAPL"
        ],
        [
         "2015-02-11",
         "122.77",
         "124.92",
         "122.5",
         "124.88",
         "73561797",
         "AAPL"
        ],
        [
         "2015-02-12",
         "126.06",
         "127.48",
         "125.57",
         "126.46",
         "74474466",
         "AAPL"
        ],
        [
         "2015-02-13",
         "127.28",
         "127.28",
         "125.65",
         "127.08",
         "54272219",
         "AAPL"
        ],
        [
         "2015-02-17",
         "127.49",
         "128.88",
         "126.92",
         "127.83",
         "63152405",
         "AAPL"
        ],
        [
         "2015-02-18",
         "127.625",
         "128.78",
         "127.45",
         "128.715",
         "44891737",
         "AAPL"
        ],
        [
         "2015-02-19",
         "128.48",
         "129.03",
         "128.33",
         "128.45",
         "37362381",
         "AAPL"
        ],
        [
         "2015-02-20",
         "128.62",
         "129.5",
         "128.05",
         "129.495",
         "48948419",
         "AAPL"
        ],
        [
         "2015-02-23",
         "130.02",
         "133.0",
         "129.66",
         "133.0",
         "70974110",
         "AAPL"
        ],
        [
         "2015-02-24",
         "132.94",
         "133.6",
         "131.17",
         "132.17",
         "69228130",
         "AAPL"
        ],
        [
         "2015-02-25",
         "131.56",
         "131.6",
         "128.15",
         "128.79",
         "74711746",
         "AAPL"
        ],
        [
         "2015-02-26",
         "128.785",
         "130.87",
         "126.61",
         "130.415",
         "91287529",
         "AAPL"
        ],
        [
         "2015-02-27",
         "130.0",
         "130.57",
         "128.24",
         "128.46",
         "62014847",
         "AAPL"
        ],
        [
         "2015-03-02",
         "129.25",
         "130.28",
         "128.3",
         "129.09",
         "48096663",
         "AAPL"
        ],
        [
         "2015-03-03",
         "128.96",
         "129.52",
         "128.09",
         "129.36",
         "37816283",
         "AAPL"
        ],
        [
         "2015-03-04",
         "129.1",
         "129.56",
         "128.32",
         "128.54",
         "31666340",
         "AAPL"
        ],
        [
         "2015-03-05",
         "128.58",
         "128.75",
         "125.76",
         "126.41",
         "56517146",
         "AAPL"
        ],
        [
         "2015-03-06",
         "128.4",
         "129.37",
         "126.26",
         "126.6",
         "72842060",
         "AAPL"
        ],
        [
         "2015-03-09",
         "127.96",
         "129.57",
         "125.06",
         "127.14",
         "88528487",
         "AAPL"
        ],
        [
         "2015-03-10",
         "126.41",
         "127.22",
         "123.8",
         "124.51",
         "68856582",
         "AAPL"
        ],
        [
         "2015-03-11",
         "124.75",
         "124.77",
         "122.11",
         "122.24",
         "68938974",
         "AAPL"
        ],
        [
         "2015-03-12",
         "122.31",
         "124.9",
         "121.63",
         "124.45",
         "48362719",
         "AAPL"
        ],
        [
         "2015-03-13",
         "124.4",
         "125.3951",
         "122.58",
         "123.59",
         "51827283",
         "AAPL"
        ],
        [
         "2015-03-16",
         "123.88",
         "124.95",
         "122.87",
         "124.95",
         "35874300",
         "AAPL"
        ]
       ],
       "shape": {
        "columns": 6,
        "rows": 2643
       }
      },
      "text/html": [
       "<div>\n",
       "<style scoped>\n",
       "    .dataframe tbody tr th:only-of-type {\n",
       "        vertical-align: middle;\n",
       "    }\n",
       "\n",
       "    .dataframe tbody tr th {\n",
       "        vertical-align: top;\n",
       "    }\n",
       "\n",
       "    .dataframe thead th {\n",
       "        text-align: right;\n",
       "    }\n",
       "</style>\n",
       "<table border=\"1\" class=\"dataframe\">\n",
       "  <thead>\n",
       "    <tr style=\"text-align: right;\">\n",
       "      <th></th>\n",
       "      <th>open</th>\n",
       "      <th>high</th>\n",
       "      <th>low</th>\n",
       "      <th>close</th>\n",
       "      <th>volume</th>\n",
       "      <th>stock</th>\n",
       "    </tr>\n",
       "  </thead>\n",
       "  <tbody>\n",
       "    <tr>\n",
       "      <th>2015-01-02</th>\n",
       "      <td>111.390</td>\n",
       "      <td>111.4400</td>\n",
       "      <td>107.3500</td>\n",
       "      <td>109.33</td>\n",
       "      <td>53204626</td>\n",
       "      <td>AAPL</td>\n",
       "    </tr>\n",
       "    <tr>\n",
       "      <th>2015-01-05</th>\n",
       "      <td>108.290</td>\n",
       "      <td>108.6500</td>\n",
       "      <td>105.4100</td>\n",
       "      <td>106.25</td>\n",
       "      <td>64285491</td>\n",
       "      <td>AAPL</td>\n",
       "    </tr>\n",
       "    <tr>\n",
       "      <th>2015-01-06</th>\n",
       "      <td>106.540</td>\n",
       "      <td>107.4300</td>\n",
       "      <td>104.6300</td>\n",
       "      <td>106.26</td>\n",
       "      <td>65797116</td>\n",
       "      <td>AAPL</td>\n",
       "    </tr>\n",
       "    <tr>\n",
       "      <th>2015-01-07</th>\n",
       "      <td>107.200</td>\n",
       "      <td>108.2000</td>\n",
       "      <td>106.6950</td>\n",
       "      <td>107.75</td>\n",
       "      <td>40105934</td>\n",
       "      <td>AAPL</td>\n",
       "    </tr>\n",
       "    <tr>\n",
       "      <th>2015-01-08</th>\n",
       "      <td>109.230</td>\n",
       "      <td>112.1500</td>\n",
       "      <td>108.7000</td>\n",
       "      <td>111.89</td>\n",
       "      <td>59364547</td>\n",
       "      <td>AAPL</td>\n",
       "    </tr>\n",
       "    <tr>\n",
       "      <th>...</th>\n",
       "      <td>...</td>\n",
       "      <td>...</td>\n",
       "      <td>...</td>\n",
       "      <td>...</td>\n",
       "      <td>...</td>\n",
       "      <td>...</td>\n",
       "    </tr>\n",
       "    <tr>\n",
       "      <th>2025-07-01</th>\n",
       "      <td>206.665</td>\n",
       "      <td>210.1865</td>\n",
       "      <td>206.1401</td>\n",
       "      <td>207.82</td>\n",
       "      <td>78788867</td>\n",
       "      <td>AAPL</td>\n",
       "    </tr>\n",
       "    <tr>\n",
       "      <th>2025-07-02</th>\n",
       "      <td>208.910</td>\n",
       "      <td>213.3400</td>\n",
       "      <td>208.1400</td>\n",
       "      <td>212.44</td>\n",
       "      <td>67941811</td>\n",
       "      <td>AAPL</td>\n",
       "    </tr>\n",
       "    <tr>\n",
       "      <th>2025-07-03</th>\n",
       "      <td>212.145</td>\n",
       "      <td>214.6500</td>\n",
       "      <td>211.8101</td>\n",
       "      <td>213.55</td>\n",
       "      <td>34955836</td>\n",
       "      <td>AAPL</td>\n",
       "    </tr>\n",
       "    <tr>\n",
       "      <th>2025-07-07</th>\n",
       "      <td>212.680</td>\n",
       "      <td>216.2300</td>\n",
       "      <td>208.8000</td>\n",
       "      <td>209.95</td>\n",
       "      <td>50228984</td>\n",
       "      <td>AAPL</td>\n",
       "    </tr>\n",
       "    <tr>\n",
       "      <th>2025-07-08</th>\n",
       "      <td>210.100</td>\n",
       "      <td>211.4300</td>\n",
       "      <td>208.4500</td>\n",
       "      <td>210.01</td>\n",
       "      <td>42848928</td>\n",
       "      <td>AAPL</td>\n",
       "    </tr>\n",
       "  </tbody>\n",
       "</table>\n",
       "<p>2643 rows × 6 columns</p>\n",
       "</div>"
      ],
      "text/plain": [
       "               open      high       low   close    volume stock\n",
       "2015-01-02  111.390  111.4400  107.3500  109.33  53204626  AAPL\n",
       "2015-01-05  108.290  108.6500  105.4100  106.25  64285491  AAPL\n",
       "2015-01-06  106.540  107.4300  104.6300  106.26  65797116  AAPL\n",
       "2015-01-07  107.200  108.2000  106.6950  107.75  40105934  AAPL\n",
       "2015-01-08  109.230  112.1500  108.7000  111.89  59364547  AAPL\n",
       "...             ...       ...       ...     ...       ...   ...\n",
       "2025-07-01  206.665  210.1865  206.1401  207.82  78788867  AAPL\n",
       "2025-07-02  208.910  213.3400  208.1400  212.44  67941811  AAPL\n",
       "2025-07-03  212.145  214.6500  211.8101  213.55  34955836  AAPL\n",
       "2025-07-07  212.680  216.2300  208.8000  209.95  50228984  AAPL\n",
       "2025-07-08  210.100  211.4300  208.4500  210.01  42848928  AAPL\n",
       "\n",
       "[2643 rows x 6 columns]"
      ]
     },
     "execution_count": 5,
     "metadata": {},
     "output_type": "execute_result"
    }
   ],
   "source": [
    "df_apple = web.DataReader('AAPL', 'av-daily', start, end, api_key='CKP3XGQDWAJT4QP3')\n",
    "df_apple['stock'] = 'AAPL'\n",
    "df_apple"
   ]
  },
  {
   "cell_type": "markdown",
   "metadata": {},
   "source": [
    "### Step 5. Add a new column \"stock\" to the dataframe and add the ticker symbol"
   ]
  },
  {
   "cell_type": "code",
   "execution_count": 6,
   "metadata": {
    "vscode": {
     "languageId": "markdown"
    }
   },
   "outputs": [
    {
     "data": {
      "application/vnd.microsoft.datawrangler.viewer.v0+json": {
       "columns": [
        {
         "name": "index",
         "rawType": "object",
         "type": "string"
        },
        {
         "name": "open",
         "rawType": "float64",
         "type": "float"
        },
        {
         "name": "high",
         "rawType": "float64",
         "type": "float"
        },
        {
         "name": "low",
         "rawType": "float64",
         "type": "float"
        },
        {
         "name": "close",
         "rawType": "float64",
         "type": "float"
        },
        {
         "name": "volume",
         "rawType": "int64",
         "type": "integer"
        },
        {
         "name": "stock",
         "rawType": "object",
         "type": "string"
        }
       ],
       "ref": "649ee3c3-e7de-4dea-b2d1-565727249bb3",
       "rows": [
        [
         "2015-01-02",
         "111.39",
         "111.44",
         "107.35",
         "109.33",
         "53204626",
         "AAPL"
        ],
        [
         "2015-01-05",
         "108.29",
         "108.65",
         "105.41",
         "106.25",
         "64285491",
         "AAPL"
        ],
        [
         "2015-01-06",
         "106.54",
         "107.43",
         "104.63",
         "106.26",
         "65797116",
         "AAPL"
        ],
        [
         "2015-01-07",
         "107.2",
         "108.2",
         "106.695",
         "107.75",
         "40105934",
         "AAPL"
        ],
        [
         "2015-01-08",
         "109.23",
         "112.15",
         "108.7",
         "111.89",
         "59364547",
         "AAPL"
        ]
       ],
       "shape": {
        "columns": 6,
        "rows": 5
       }
      },
      "text/html": [
       "<div>\n",
       "<style scoped>\n",
       "    .dataframe tbody tr th:only-of-type {\n",
       "        vertical-align: middle;\n",
       "    }\n",
       "\n",
       "    .dataframe tbody tr th {\n",
       "        vertical-align: top;\n",
       "    }\n",
       "\n",
       "    .dataframe thead th {\n",
       "        text-align: right;\n",
       "    }\n",
       "</style>\n",
       "<table border=\"1\" class=\"dataframe\">\n",
       "  <thead>\n",
       "    <tr style=\"text-align: right;\">\n",
       "      <th></th>\n",
       "      <th>open</th>\n",
       "      <th>high</th>\n",
       "      <th>low</th>\n",
       "      <th>close</th>\n",
       "      <th>volume</th>\n",
       "      <th>stock</th>\n",
       "    </tr>\n",
       "  </thead>\n",
       "  <tbody>\n",
       "    <tr>\n",
       "      <th>2015-01-02</th>\n",
       "      <td>111.39</td>\n",
       "      <td>111.44</td>\n",
       "      <td>107.350</td>\n",
       "      <td>109.33</td>\n",
       "      <td>53204626</td>\n",
       "      <td>AAPL</td>\n",
       "    </tr>\n",
       "    <tr>\n",
       "      <th>2015-01-05</th>\n",
       "      <td>108.29</td>\n",
       "      <td>108.65</td>\n",
       "      <td>105.410</td>\n",
       "      <td>106.25</td>\n",
       "      <td>64285491</td>\n",
       "      <td>AAPL</td>\n",
       "    </tr>\n",
       "    <tr>\n",
       "      <th>2015-01-06</th>\n",
       "      <td>106.54</td>\n",
       "      <td>107.43</td>\n",
       "      <td>104.630</td>\n",
       "      <td>106.26</td>\n",
       "      <td>65797116</td>\n",
       "      <td>AAPL</td>\n",
       "    </tr>\n",
       "    <tr>\n",
       "      <th>2015-01-07</th>\n",
       "      <td>107.20</td>\n",
       "      <td>108.20</td>\n",
       "      <td>106.695</td>\n",
       "      <td>107.75</td>\n",
       "      <td>40105934</td>\n",
       "      <td>AAPL</td>\n",
       "    </tr>\n",
       "    <tr>\n",
       "      <th>2015-01-08</th>\n",
       "      <td>109.23</td>\n",
       "      <td>112.15</td>\n",
       "      <td>108.700</td>\n",
       "      <td>111.89</td>\n",
       "      <td>59364547</td>\n",
       "      <td>AAPL</td>\n",
       "    </tr>\n",
       "  </tbody>\n",
       "</table>\n",
       "</div>"
      ],
      "text/plain": [
       "              open    high      low   close    volume stock\n",
       "2015-01-02  111.39  111.44  107.350  109.33  53204626  AAPL\n",
       "2015-01-05  108.29  108.65  105.410  106.25  64285491  AAPL\n",
       "2015-01-06  106.54  107.43  104.630  106.26  65797116  AAPL\n",
       "2015-01-07  107.20  108.20  106.695  107.75  40105934  AAPL\n",
       "2015-01-08  109.23  112.15  108.700  111.89  59364547  AAPL"
      ]
     },
     "execution_count": 6,
     "metadata": {},
     "output_type": "execute_result"
    }
   ],
   "source": [
    "# The \"stock\" column has already been added to df_apple in the previous cell.\n",
    "# If you want to confirm, you can display the dataframe:\n",
    "df_apple.head()"
   ]
  },
  {
   "cell_type": "code",
   "execution_count": 7,
   "metadata": {},
   "outputs": [
    {
     "data": {
      "application/vnd.microsoft.datawrangler.viewer.v0+json": {
       "columns": [
        {
         "name": "index",
         "rawType": "object",
         "type": "string"
        },
        {
         "name": "open",
         "rawType": "float64",
         "type": "float"
        },
        {
         "name": "high",
         "rawType": "float64",
         "type": "float"
        },
        {
         "name": "low",
         "rawType": "float64",
         "type": "float"
        },
        {
         "name": "close",
         "rawType": "float64",
         "type": "float"
        },
        {
         "name": "volume",
         "rawType": "int64",
         "type": "integer"
        },
        {
         "name": "stock",
         "rawType": "object",
         "type": "string"
        }
       ],
       "ref": "11f812e6-0ebc-43b6-ab75-fcca535a55bd",
       "rows": [
        [
         "2015-01-02",
         "111.39",
         "111.44",
         "107.35",
         "109.33",
         "53204626",
         "AAPL"
        ],
        [
         "2015-01-05",
         "108.29",
         "108.65",
         "105.41",
         "106.25",
         "64285491",
         "AAPL"
        ],
        [
         "2015-01-06",
         "106.54",
         "107.43",
         "104.63",
         "106.26",
         "65797116",
         "AAPL"
        ],
        [
         "2015-01-07",
         "107.2",
         "108.2",
         "106.695",
         "107.75",
         "40105934",
         "AAPL"
        ],
        [
         "2015-01-08",
         "109.23",
         "112.15",
         "108.7",
         "111.89",
         "59364547",
         "AAPL"
        ],
        [
         "2015-01-09",
         "112.67",
         "113.25",
         "110.21",
         "112.01",
         "53315099",
         "AAPL"
        ],
        [
         "2015-01-12",
         "112.6",
         "112.63",
         "108.8",
         "109.25",
         "49650790",
         "AAPL"
        ],
        [
         "2015-01-13",
         "111.43",
         "112.8",
         "108.91",
         "110.22",
         "67091928",
         "AAPL"
        ],
        [
         "2015-01-14",
         "109.04",
         "110.49",
         "108.5",
         "109.8",
         "48956588",
         "AAPL"
        ],
        [
         "2015-01-15",
         "110.0",
         "110.06",
         "106.66",
         "106.82",
         "60013996",
         "AAPL"
        ],
        [
         "2015-01-16",
         "107.03",
         "107.58",
         "105.2",
         "105.99",
         "78513345",
         "AAPL"
        ],
        [
         "2015-01-20",
         "107.84",
         "108.9667",
         "106.5",
         "108.72",
         "49899907",
         "AAPL"
        ],
        [
         "2015-01-21",
         "108.95",
         "111.06",
         "108.27",
         "109.55",
         "48575897",
         "AAPL"
        ],
        [
         "2015-01-22",
         "110.26",
         "112.47",
         "109.72",
         "112.4",
         "53796409",
         "AAPL"
        ],
        [
         "2015-01-23",
         "112.3",
         "113.75",
         "111.53",
         "112.98",
         "46464828",
         "AAPL"
        ],
        [
         "2015-01-26",
         "113.74",
         "114.3626",
         "112.8",
         "113.1",
         "55614979",
         "AAPL"
        ],
        [
         "2015-01-27",
         "112.42",
         "112.48",
         "109.03",
         "109.14",
         "95568749",
         "AAPL"
        ],
        [
         "2015-01-28",
         "117.625",
         "118.12",
         "115.31",
         "115.31",
         "146477063",
         "AAPL"
        ],
        [
         "2015-01-29",
         "116.32",
         "119.19",
         "115.56",
         "118.9",
         "84436432",
         "AAPL"
        ],
        [
         "2015-01-30",
         "118.4",
         "120.0",
         "116.85",
         "117.16",
         "83745461",
         "AAPL"
        ],
        [
         "2015-02-02",
         "118.05",
         "119.17",
         "116.08",
         "118.63",
         "62739100",
         "AAPL"
        ],
        [
         "2015-02-03",
         "118.5",
         "119.09",
         "117.61",
         "118.65",
         "51915749",
         "AAPL"
        ],
        [
         "2015-02-04",
         "118.5",
         "120.51",
         "118.309",
         "119.56",
         "70149743",
         "AAPL"
        ],
        [
         "2015-02-05",
         "120.02",
         "120.23",
         "119.25",
         "119.94",
         "42246245",
         "AAPL"
        ],
        [
         "2015-02-06",
         "120.02",
         "120.25",
         "118.45",
         "118.93",
         "43706567",
         "AAPL"
        ],
        [
         "2015-02-09",
         "118.55",
         "119.84",
         "118.43",
         "119.72",
         "38889797",
         "AAPL"
        ],
        [
         "2015-02-10",
         "120.17",
         "122.15",
         "120.16",
         "122.02",
         "62008506",
         "AAPL"
        ],
        [
         "2015-02-11",
         "122.77",
         "124.92",
         "122.5",
         "124.88",
         "73561797",
         "AAPL"
        ],
        [
         "2015-02-12",
         "126.06",
         "127.48",
         "125.57",
         "126.46",
         "74474466",
         "AAPL"
        ],
        [
         "2015-02-13",
         "127.28",
         "127.28",
         "125.65",
         "127.08",
         "54272219",
         "AAPL"
        ],
        [
         "2015-02-17",
         "127.49",
         "128.88",
         "126.92",
         "127.83",
         "63152405",
         "AAPL"
        ],
        [
         "2015-02-18",
         "127.625",
         "128.78",
         "127.45",
         "128.715",
         "44891737",
         "AAPL"
        ],
        [
         "2015-02-19",
         "128.48",
         "129.03",
         "128.33",
         "128.45",
         "37362381",
         "AAPL"
        ],
        [
         "2015-02-20",
         "128.62",
         "129.5",
         "128.05",
         "129.495",
         "48948419",
         "AAPL"
        ],
        [
         "2015-02-23",
         "130.02",
         "133.0",
         "129.66",
         "133.0",
         "70974110",
         "AAPL"
        ],
        [
         "2015-02-24",
         "132.94",
         "133.6",
         "131.17",
         "132.17",
         "69228130",
         "AAPL"
        ],
        [
         "2015-02-25",
         "131.56",
         "131.6",
         "128.15",
         "128.79",
         "74711746",
         "AAPL"
        ],
        [
         "2015-02-26",
         "128.785",
         "130.87",
         "126.61",
         "130.415",
         "91287529",
         "AAPL"
        ],
        [
         "2015-02-27",
         "130.0",
         "130.57",
         "128.24",
         "128.46",
         "62014847",
         "AAPL"
        ],
        [
         "2015-03-02",
         "129.25",
         "130.28",
         "128.3",
         "129.09",
         "48096663",
         "AAPL"
        ],
        [
         "2015-03-03",
         "128.96",
         "129.52",
         "128.09",
         "129.36",
         "37816283",
         "AAPL"
        ],
        [
         "2015-03-04",
         "129.1",
         "129.56",
         "128.32",
         "128.54",
         "31666340",
         "AAPL"
        ],
        [
         "2015-03-05",
         "128.58",
         "128.75",
         "125.76",
         "126.41",
         "56517146",
         "AAPL"
        ],
        [
         "2015-03-06",
         "128.4",
         "129.37",
         "126.26",
         "126.6",
         "72842060",
         "AAPL"
        ],
        [
         "2015-03-09",
         "127.96",
         "129.57",
         "125.06",
         "127.14",
         "88528487",
         "AAPL"
        ],
        [
         "2015-03-10",
         "126.41",
         "127.22",
         "123.8",
         "124.51",
         "68856582",
         "AAPL"
        ],
        [
         "2015-03-11",
         "124.75",
         "124.77",
         "122.11",
         "122.24",
         "68938974",
         "AAPL"
        ],
        [
         "2015-03-12",
         "122.31",
         "124.9",
         "121.63",
         "124.45",
         "48362719",
         "AAPL"
        ],
        [
         "2015-03-13",
         "124.4",
         "125.3951",
         "122.58",
         "123.59",
         "51827283",
         "AAPL"
        ],
        [
         "2015-03-16",
         "123.88",
         "124.95",
         "122.87",
         "124.95",
         "35874300",
         "AAPL"
        ]
       ],
       "shape": {
        "columns": 6,
        "rows": 2643
       }
      },
      "text/html": [
       "<div>\n",
       "<style scoped>\n",
       "    .dataframe tbody tr th:only-of-type {\n",
       "        vertical-align: middle;\n",
       "    }\n",
       "\n",
       "    .dataframe tbody tr th {\n",
       "        vertical-align: top;\n",
       "    }\n",
       "\n",
       "    .dataframe thead th {\n",
       "        text-align: right;\n",
       "    }\n",
       "</style>\n",
       "<table border=\"1\" class=\"dataframe\">\n",
       "  <thead>\n",
       "    <tr style=\"text-align: right;\">\n",
       "      <th></th>\n",
       "      <th>open</th>\n",
       "      <th>high</th>\n",
       "      <th>low</th>\n",
       "      <th>close</th>\n",
       "      <th>volume</th>\n",
       "      <th>stock</th>\n",
       "    </tr>\n",
       "  </thead>\n",
       "  <tbody>\n",
       "    <tr>\n",
       "      <th>2015-01-02</th>\n",
       "      <td>111.390</td>\n",
       "      <td>111.4400</td>\n",
       "      <td>107.3500</td>\n",
       "      <td>109.33</td>\n",
       "      <td>53204626</td>\n",
       "      <td>AAPL</td>\n",
       "    </tr>\n",
       "    <tr>\n",
       "      <th>2015-01-05</th>\n",
       "      <td>108.290</td>\n",
       "      <td>108.6500</td>\n",
       "      <td>105.4100</td>\n",
       "      <td>106.25</td>\n",
       "      <td>64285491</td>\n",
       "      <td>AAPL</td>\n",
       "    </tr>\n",
       "    <tr>\n",
       "      <th>2015-01-06</th>\n",
       "      <td>106.540</td>\n",
       "      <td>107.4300</td>\n",
       "      <td>104.6300</td>\n",
       "      <td>106.26</td>\n",
       "      <td>65797116</td>\n",
       "      <td>AAPL</td>\n",
       "    </tr>\n",
       "    <tr>\n",
       "      <th>2015-01-07</th>\n",
       "      <td>107.200</td>\n",
       "      <td>108.2000</td>\n",
       "      <td>106.6950</td>\n",
       "      <td>107.75</td>\n",
       "      <td>40105934</td>\n",
       "      <td>AAPL</td>\n",
       "    </tr>\n",
       "    <tr>\n",
       "      <th>2015-01-08</th>\n",
       "      <td>109.230</td>\n",
       "      <td>112.1500</td>\n",
       "      <td>108.7000</td>\n",
       "      <td>111.89</td>\n",
       "      <td>59364547</td>\n",
       "      <td>AAPL</td>\n",
       "    </tr>\n",
       "    <tr>\n",
       "      <th>...</th>\n",
       "      <td>...</td>\n",
       "      <td>...</td>\n",
       "      <td>...</td>\n",
       "      <td>...</td>\n",
       "      <td>...</td>\n",
       "      <td>...</td>\n",
       "    </tr>\n",
       "    <tr>\n",
       "      <th>2025-07-01</th>\n",
       "      <td>206.665</td>\n",
       "      <td>210.1865</td>\n",
       "      <td>206.1401</td>\n",
       "      <td>207.82</td>\n",
       "      <td>78788867</td>\n",
       "      <td>AAPL</td>\n",
       "    </tr>\n",
       "    <tr>\n",
       "      <th>2025-07-02</th>\n",
       "      <td>208.910</td>\n",
       "      <td>213.3400</td>\n",
       "      <td>208.1400</td>\n",
       "      <td>212.44</td>\n",
       "      <td>67941811</td>\n",
       "      <td>AAPL</td>\n",
       "    </tr>\n",
       "    <tr>\n",
       "      <th>2025-07-03</th>\n",
       "      <td>212.145</td>\n",
       "      <td>214.6500</td>\n",
       "      <td>211.8101</td>\n",
       "      <td>213.55</td>\n",
       "      <td>34955836</td>\n",
       "      <td>AAPL</td>\n",
       "    </tr>\n",
       "    <tr>\n",
       "      <th>2025-07-07</th>\n",
       "      <td>212.680</td>\n",
       "      <td>216.2300</td>\n",
       "      <td>208.8000</td>\n",
       "      <td>209.95</td>\n",
       "      <td>50228984</td>\n",
       "      <td>AAPL</td>\n",
       "    </tr>\n",
       "    <tr>\n",
       "      <th>2025-07-08</th>\n",
       "      <td>210.100</td>\n",
       "      <td>211.4300</td>\n",
       "      <td>208.4500</td>\n",
       "      <td>210.01</td>\n",
       "      <td>42848928</td>\n",
       "      <td>AAPL</td>\n",
       "    </tr>\n",
       "  </tbody>\n",
       "</table>\n",
       "<p>2643 rows × 6 columns</p>\n",
       "</div>"
      ],
      "text/plain": [
       "               open      high       low   close    volume stock\n",
       "2015-01-02  111.390  111.4400  107.3500  109.33  53204626  AAPL\n",
       "2015-01-05  108.290  108.6500  105.4100  106.25  64285491  AAPL\n",
       "2015-01-06  106.540  107.4300  104.6300  106.26  65797116  AAPL\n",
       "2015-01-07  107.200  108.2000  106.6950  107.75  40105934  AAPL\n",
       "2015-01-08  109.230  112.1500  108.7000  111.89  59364547  AAPL\n",
       "...             ...       ...       ...     ...       ...   ...\n",
       "2025-07-01  206.665  210.1865  206.1401  207.82  78788867  AAPL\n",
       "2025-07-02  208.910  213.3400  208.1400  212.44  67941811  AAPL\n",
       "2025-07-03  212.145  214.6500  211.8101  213.55  34955836  AAPL\n",
       "2025-07-07  212.680  216.2300  208.8000  209.95  50228984  AAPL\n",
       "2025-07-08  210.100  211.4300  208.4500  210.01  42848928  AAPL\n",
       "\n",
       "[2643 rows x 6 columns]"
      ]
     },
     "execution_count": 7,
     "metadata": {},
     "output_type": "execute_result"
    }
   ],
   "source": [
    "\n",
    "df_ = web.DataReader('AAPL', 'av-daily', start, end, api_key='CKP3XGQDWAJT4QP3')\n",
    "df_apple['stock'] = 'AAPL'\n",
    "df_apple"
   ]
  },
  {
   "cell_type": "markdown",
   "metadata": {},
   "source": [
    "### Step 6. Repeat the two previous steps for a few other stocks, always creating a new dataframe: Tesla, IBM and Microsoft. (Ticker symbols TSLA, IBM and MSFT.)"
   ]
  },
  {
   "cell_type": "code",
   "execution_count": 8,
   "metadata": {},
   "outputs": [],
   "source": [
    "df_tsla = web.DataReader('TSLA', 'av-daily', start, end, api_key='YOUR_API_KEY')\n",
    "df_tsla['stock'] = 'TSLA'\n",
    "df_ibm = web.DataReader('IBM', 'av-daily', start, end, api_key='YOUR_API_KEY')\n",
    "df_ibm['stock'] = 'IBM'\n",
    "df_msft = web.DataReader('MSFT', 'av-daily', start, end, api_key='YOUR_API_KEY')\n",
    "df_msft['stock'] = 'MSFT'"
   ]
  },
  {
   "cell_type": "markdown",
   "metadata": {},
   "source": [
    "### Step 7. Combine the four separate dataFrames into one combined dataFrame df that holds the information for all four stocks"
   ]
  },
  {
   "cell_type": "code",
   "execution_count": 9,
   "metadata": {},
   "outputs": [
    {
     "data": {
      "application/vnd.microsoft.datawrangler.viewer.v0+json": {
       "columns": [
        {
         "name": "index",
         "rawType": "object",
         "type": "string"
        },
        {
         "name": "open",
         "rawType": "float64",
         "type": "float"
        },
        {
         "name": "high",
         "rawType": "float64",
         "type": "float"
        },
        {
         "name": "low",
         "rawType": "float64",
         "type": "float"
        },
        {
         "name": "close",
         "rawType": "float64",
         "type": "float"
        },
        {
         "name": "volume",
         "rawType": "int64",
         "type": "integer"
        },
        {
         "name": "stock",
         "rawType": "object",
         "type": "string"
        }
       ],
       "ref": "2800bdd7-0f9d-4df3-8c12-6d6b7b64a4b9",
       "rows": [
        [
         "2015-01-02",
         "111.39",
         "111.44",
         "107.35",
         "109.33",
         "53204626",
         "AAPL"
        ],
        [
         "2015-01-05",
         "108.29",
         "108.65",
         "105.41",
         "106.25",
         "64285491",
         "AAPL"
        ],
        [
         "2015-01-06",
         "106.54",
         "107.43",
         "104.63",
         "106.26",
         "65797116",
         "AAPL"
        ],
        [
         "2015-01-07",
         "107.2",
         "108.2",
         "106.695",
         "107.75",
         "40105934",
         "AAPL"
        ],
        [
         "2015-01-08",
         "109.23",
         "112.15",
         "108.7",
         "111.89",
         "59364547",
         "AAPL"
        ],
        [
         "2015-01-09",
         "112.67",
         "113.25",
         "110.21",
         "112.01",
         "53315099",
         "AAPL"
        ],
        [
         "2015-01-12",
         "112.6",
         "112.63",
         "108.8",
         "109.25",
         "49650790",
         "AAPL"
        ],
        [
         "2015-01-13",
         "111.43",
         "112.8",
         "108.91",
         "110.22",
         "67091928",
         "AAPL"
        ],
        [
         "2015-01-14",
         "109.04",
         "110.49",
         "108.5",
         "109.8",
         "48956588",
         "AAPL"
        ],
        [
         "2015-01-15",
         "110.0",
         "110.06",
         "106.66",
         "106.82",
         "60013996",
         "AAPL"
        ],
        [
         "2015-01-16",
         "107.03",
         "107.58",
         "105.2",
         "105.99",
         "78513345",
         "AAPL"
        ],
        [
         "2015-01-20",
         "107.84",
         "108.9667",
         "106.5",
         "108.72",
         "49899907",
         "AAPL"
        ],
        [
         "2015-01-21",
         "108.95",
         "111.06",
         "108.27",
         "109.55",
         "48575897",
         "AAPL"
        ],
        [
         "2015-01-22",
         "110.26",
         "112.47",
         "109.72",
         "112.4",
         "53796409",
         "AAPL"
        ],
        [
         "2015-01-23",
         "112.3",
         "113.75",
         "111.53",
         "112.98",
         "46464828",
         "AAPL"
        ],
        [
         "2015-01-26",
         "113.74",
         "114.3626",
         "112.8",
         "113.1",
         "55614979",
         "AAPL"
        ],
        [
         "2015-01-27",
         "112.42",
         "112.48",
         "109.03",
         "109.14",
         "95568749",
         "AAPL"
        ],
        [
         "2015-01-28",
         "117.625",
         "118.12",
         "115.31",
         "115.31",
         "146477063",
         "AAPL"
        ],
        [
         "2015-01-29",
         "116.32",
         "119.19",
         "115.56",
         "118.9",
         "84436432",
         "AAPL"
        ],
        [
         "2015-01-30",
         "118.4",
         "120.0",
         "116.85",
         "117.16",
         "83745461",
         "AAPL"
        ],
        [
         "2015-02-02",
         "118.05",
         "119.17",
         "116.08",
         "118.63",
         "62739100",
         "AAPL"
        ],
        [
         "2015-02-03",
         "118.5",
         "119.09",
         "117.61",
         "118.65",
         "51915749",
         "AAPL"
        ],
        [
         "2015-02-04",
         "118.5",
         "120.51",
         "118.309",
         "119.56",
         "70149743",
         "AAPL"
        ],
        [
         "2015-02-05",
         "120.02",
         "120.23",
         "119.25",
         "119.94",
         "42246245",
         "AAPL"
        ],
        [
         "2015-02-06",
         "120.02",
         "120.25",
         "118.45",
         "118.93",
         "43706567",
         "AAPL"
        ],
        [
         "2015-02-09",
         "118.55",
         "119.84",
         "118.43",
         "119.72",
         "38889797",
         "AAPL"
        ],
        [
         "2015-02-10",
         "120.17",
         "122.15",
         "120.16",
         "122.02",
         "62008506",
         "AAPL"
        ],
        [
         "2015-02-11",
         "122.77",
         "124.92",
         "122.5",
         "124.88",
         "73561797",
         "AAPL"
        ],
        [
         "2015-02-12",
         "126.06",
         "127.48",
         "125.57",
         "126.46",
         "74474466",
         "AAPL"
        ],
        [
         "2015-02-13",
         "127.28",
         "127.28",
         "125.65",
         "127.08",
         "54272219",
         "AAPL"
        ],
        [
         "2015-02-17",
         "127.49",
         "128.88",
         "126.92",
         "127.83",
         "63152405",
         "AAPL"
        ],
        [
         "2015-02-18",
         "127.625",
         "128.78",
         "127.45",
         "128.715",
         "44891737",
         "AAPL"
        ],
        [
         "2015-02-19",
         "128.48",
         "129.03",
         "128.33",
         "128.45",
         "37362381",
         "AAPL"
        ],
        [
         "2015-02-20",
         "128.62",
         "129.5",
         "128.05",
         "129.495",
         "48948419",
         "AAPL"
        ],
        [
         "2015-02-23",
         "130.02",
         "133.0",
         "129.66",
         "133.0",
         "70974110",
         "AAPL"
        ],
        [
         "2015-02-24",
         "132.94",
         "133.6",
         "131.17",
         "132.17",
         "69228130",
         "AAPL"
        ],
        [
         "2015-02-25",
         "131.56",
         "131.6",
         "128.15",
         "128.79",
         "74711746",
         "AAPL"
        ],
        [
         "2015-02-26",
         "128.785",
         "130.87",
         "126.61",
         "130.415",
         "91287529",
         "AAPL"
        ],
        [
         "2015-02-27",
         "130.0",
         "130.57",
         "128.24",
         "128.46",
         "62014847",
         "AAPL"
        ],
        [
         "2015-03-02",
         "129.25",
         "130.28",
         "128.3",
         "129.09",
         "48096663",
         "AAPL"
        ],
        [
         "2015-03-03",
         "128.96",
         "129.52",
         "128.09",
         "129.36",
         "37816283",
         "AAPL"
        ],
        [
         "2015-03-04",
         "129.1",
         "129.56",
         "128.32",
         "128.54",
         "31666340",
         "AAPL"
        ],
        [
         "2015-03-05",
         "128.58",
         "128.75",
         "125.76",
         "126.41",
         "56517146",
         "AAPL"
        ],
        [
         "2015-03-06",
         "128.4",
         "129.37",
         "126.26",
         "126.6",
         "72842060",
         "AAPL"
        ],
        [
         "2015-03-09",
         "127.96",
         "129.57",
         "125.06",
         "127.14",
         "88528487",
         "AAPL"
        ],
        [
         "2015-03-10",
         "126.41",
         "127.22",
         "123.8",
         "124.51",
         "68856582",
         "AAPL"
        ],
        [
         "2015-03-11",
         "124.75",
         "124.77",
         "122.11",
         "122.24",
         "68938974",
         "AAPL"
        ],
        [
         "2015-03-12",
         "122.31",
         "124.9",
         "121.63",
         "124.45",
         "48362719",
         "AAPL"
        ],
        [
         "2015-03-13",
         "124.4",
         "125.3951",
         "122.58",
         "123.59",
         "51827283",
         "AAPL"
        ],
        [
         "2015-03-16",
         "123.88",
         "124.95",
         "122.87",
         "124.95",
         "35874300",
         "AAPL"
        ]
       ],
       "shape": {
        "columns": 6,
        "rows": 10572
       }
      },
      "text/html": [
       "<div>\n",
       "<style scoped>\n",
       "    .dataframe tbody tr th:only-of-type {\n",
       "        vertical-align: middle;\n",
       "    }\n",
       "\n",
       "    .dataframe tbody tr th {\n",
       "        vertical-align: top;\n",
       "    }\n",
       "\n",
       "    .dataframe thead th {\n",
       "        text-align: right;\n",
       "    }\n",
       "</style>\n",
       "<table border=\"1\" class=\"dataframe\">\n",
       "  <thead>\n",
       "    <tr style=\"text-align: right;\">\n",
       "      <th></th>\n",
       "      <th>open</th>\n",
       "      <th>high</th>\n",
       "      <th>low</th>\n",
       "      <th>close</th>\n",
       "      <th>volume</th>\n",
       "      <th>stock</th>\n",
       "    </tr>\n",
       "  </thead>\n",
       "  <tbody>\n",
       "    <tr>\n",
       "      <th>2015-01-02</th>\n",
       "      <td>111.39</td>\n",
       "      <td>111.44</td>\n",
       "      <td>107.350</td>\n",
       "      <td>109.33</td>\n",
       "      <td>53204626</td>\n",
       "      <td>AAPL</td>\n",
       "    </tr>\n",
       "    <tr>\n",
       "      <th>2015-01-05</th>\n",
       "      <td>108.29</td>\n",
       "      <td>108.65</td>\n",
       "      <td>105.410</td>\n",
       "      <td>106.25</td>\n",
       "      <td>64285491</td>\n",
       "      <td>AAPL</td>\n",
       "    </tr>\n",
       "    <tr>\n",
       "      <th>2015-01-06</th>\n",
       "      <td>106.54</td>\n",
       "      <td>107.43</td>\n",
       "      <td>104.630</td>\n",
       "      <td>106.26</td>\n",
       "      <td>65797116</td>\n",
       "      <td>AAPL</td>\n",
       "    </tr>\n",
       "    <tr>\n",
       "      <th>2015-01-07</th>\n",
       "      <td>107.20</td>\n",
       "      <td>108.20</td>\n",
       "      <td>106.695</td>\n",
       "      <td>107.75</td>\n",
       "      <td>40105934</td>\n",
       "      <td>AAPL</td>\n",
       "    </tr>\n",
       "    <tr>\n",
       "      <th>2015-01-08</th>\n",
       "      <td>109.23</td>\n",
       "      <td>112.15</td>\n",
       "      <td>108.700</td>\n",
       "      <td>111.89</td>\n",
       "      <td>59364547</td>\n",
       "      <td>AAPL</td>\n",
       "    </tr>\n",
       "    <tr>\n",
       "      <th>...</th>\n",
       "      <td>...</td>\n",
       "      <td>...</td>\n",
       "      <td>...</td>\n",
       "      <td>...</td>\n",
       "      <td>...</td>\n",
       "      <td>...</td>\n",
       "    </tr>\n",
       "    <tr>\n",
       "      <th>2025-07-01</th>\n",
       "      <td>496.47</td>\n",
       "      <td>498.05</td>\n",
       "      <td>490.980</td>\n",
       "      <td>492.05</td>\n",
       "      <td>19945375</td>\n",
       "      <td>MSFT</td>\n",
       "    </tr>\n",
       "    <tr>\n",
       "      <th>2025-07-02</th>\n",
       "      <td>489.99</td>\n",
       "      <td>493.50</td>\n",
       "      <td>488.700</td>\n",
       "      <td>491.09</td>\n",
       "      <td>16319641</td>\n",
       "      <td>MSFT</td>\n",
       "    </tr>\n",
       "    <tr>\n",
       "      <th>2025-07-03</th>\n",
       "      <td>493.81</td>\n",
       "      <td>500.13</td>\n",
       "      <td>493.440</td>\n",
       "      <td>498.84</td>\n",
       "      <td>13984829</td>\n",
       "      <td>MSFT</td>\n",
       "    </tr>\n",
       "    <tr>\n",
       "      <th>2025-07-07</th>\n",
       "      <td>497.38</td>\n",
       "      <td>498.75</td>\n",
       "      <td>495.225</td>\n",
       "      <td>497.72</td>\n",
       "      <td>13981605</td>\n",
       "      <td>MSFT</td>\n",
       "    </tr>\n",
       "    <tr>\n",
       "      <th>2025-07-08</th>\n",
       "      <td>497.24</td>\n",
       "      <td>498.20</td>\n",
       "      <td>494.110</td>\n",
       "      <td>496.62</td>\n",
       "      <td>11846586</td>\n",
       "      <td>MSFT</td>\n",
       "    </tr>\n",
       "  </tbody>\n",
       "</table>\n",
       "<p>10572 rows × 6 columns</p>\n",
       "</div>"
      ],
      "text/plain": [
       "              open    high      low   close    volume stock\n",
       "2015-01-02  111.39  111.44  107.350  109.33  53204626  AAPL\n",
       "2015-01-05  108.29  108.65  105.410  106.25  64285491  AAPL\n",
       "2015-01-06  106.54  107.43  104.630  106.26  65797116  AAPL\n",
       "2015-01-07  107.20  108.20  106.695  107.75  40105934  AAPL\n",
       "2015-01-08  109.23  112.15  108.700  111.89  59364547  AAPL\n",
       "...            ...     ...      ...     ...       ...   ...\n",
       "2025-07-01  496.47  498.05  490.980  492.05  19945375  MSFT\n",
       "2025-07-02  489.99  493.50  488.700  491.09  16319641  MSFT\n",
       "2025-07-03  493.81  500.13  493.440  498.84  13984829  MSFT\n",
       "2025-07-07  497.38  498.75  495.225  497.72  13981605  MSFT\n",
       "2025-07-08  497.24  498.20  494.110  496.62  11846586  MSFT\n",
       "\n",
       "[10572 rows x 6 columns]"
      ]
     },
     "execution_count": 9,
     "metadata": {},
     "output_type": "execute_result"
    }
   ],
   "source": [
    "df = pd.concat([df_apple, df_tsla, df_ibm, df_msft])\n",
    "df"
   ]
  },
  {
   "cell_type": "markdown",
   "metadata": {},
   "source": [
    "### Step 8. Shift the stock column into the index (making it a multi-level index consisting of the ticker symbol and the date)."
   ]
  },
  {
   "cell_type": "code",
   "execution_count": 10,
   "metadata": {},
   "outputs": [
    {
     "data": {
      "application/vnd.microsoft.datawrangler.viewer.v0+json": {
       "columns": [
        {
         "name": "('stock', None)",
         "rawType": "object",
         "type": "unknown"
        },
        {
         "name": "open",
         "rawType": "float64",
         "type": "float"
        },
        {
         "name": "high",
         "rawType": "float64",
         "type": "float"
        },
        {
         "name": "low",
         "rawType": "float64",
         "type": "float"
        },
        {
         "name": "close",
         "rawType": "float64",
         "type": "float"
        },
        {
         "name": "volume",
         "rawType": "int64",
         "type": "integer"
        }
       ],
       "ref": "e8a75c96-40dc-4c3b-893a-587360a709a5",
       "rows": [
        [
         "('AAPL', '2015-01-02')",
         "111.39",
         "111.44",
         "107.35",
         "109.33",
         "53204626"
        ],
        [
         "('AAPL', '2015-01-05')",
         "108.29",
         "108.65",
         "105.41",
         "106.25",
         "64285491"
        ],
        [
         "('AAPL', '2015-01-06')",
         "106.54",
         "107.43",
         "104.63",
         "106.26",
         "65797116"
        ],
        [
         "('AAPL', '2015-01-07')",
         "107.2",
         "108.2",
         "106.695",
         "107.75",
         "40105934"
        ],
        [
         "('AAPL', '2015-01-08')",
         "109.23",
         "112.15",
         "108.7",
         "111.89",
         "59364547"
        ],
        [
         "('AAPL', '2015-01-09')",
         "112.67",
         "113.25",
         "110.21",
         "112.01",
         "53315099"
        ],
        [
         "('AAPL', '2015-01-12')",
         "112.6",
         "112.63",
         "108.8",
         "109.25",
         "49650790"
        ],
        [
         "('AAPL', '2015-01-13')",
         "111.43",
         "112.8",
         "108.91",
         "110.22",
         "67091928"
        ],
        [
         "('AAPL', '2015-01-14')",
         "109.04",
         "110.49",
         "108.5",
         "109.8",
         "48956588"
        ],
        [
         "('AAPL', '2015-01-15')",
         "110.0",
         "110.06",
         "106.66",
         "106.82",
         "60013996"
        ],
        [
         "('AAPL', '2015-01-16')",
         "107.03",
         "107.58",
         "105.2",
         "105.99",
         "78513345"
        ],
        [
         "('AAPL', '2015-01-20')",
         "107.84",
         "108.9667",
         "106.5",
         "108.72",
         "49899907"
        ],
        [
         "('AAPL', '2015-01-21')",
         "108.95",
         "111.06",
         "108.27",
         "109.55",
         "48575897"
        ],
        [
         "('AAPL', '2015-01-22')",
         "110.26",
         "112.47",
         "109.72",
         "112.4",
         "53796409"
        ],
        [
         "('AAPL', '2015-01-23')",
         "112.3",
         "113.75",
         "111.53",
         "112.98",
         "46464828"
        ],
        [
         "('AAPL', '2015-01-26')",
         "113.74",
         "114.3626",
         "112.8",
         "113.1",
         "55614979"
        ],
        [
         "('AAPL', '2015-01-27')",
         "112.42",
         "112.48",
         "109.03",
         "109.14",
         "95568749"
        ],
        [
         "('AAPL', '2015-01-28')",
         "117.625",
         "118.12",
         "115.31",
         "115.31",
         "146477063"
        ],
        [
         "('AAPL', '2015-01-29')",
         "116.32",
         "119.19",
         "115.56",
         "118.9",
         "84436432"
        ],
        [
         "('AAPL', '2015-01-30')",
         "118.4",
         "120.0",
         "116.85",
         "117.16",
         "83745461"
        ],
        [
         "('AAPL', '2015-02-02')",
         "118.05",
         "119.17",
         "116.08",
         "118.63",
         "62739100"
        ],
        [
         "('AAPL', '2015-02-03')",
         "118.5",
         "119.09",
         "117.61",
         "118.65",
         "51915749"
        ],
        [
         "('AAPL', '2015-02-04')",
         "118.5",
         "120.51",
         "118.309",
         "119.56",
         "70149743"
        ],
        [
         "('AAPL', '2015-02-05')",
         "120.02",
         "120.23",
         "119.25",
         "119.94",
         "42246245"
        ],
        [
         "('AAPL', '2015-02-06')",
         "120.02",
         "120.25",
         "118.45",
         "118.93",
         "43706567"
        ],
        [
         "('AAPL', '2015-02-09')",
         "118.55",
         "119.84",
         "118.43",
         "119.72",
         "38889797"
        ],
        [
         "('AAPL', '2015-02-10')",
         "120.17",
         "122.15",
         "120.16",
         "122.02",
         "62008506"
        ],
        [
         "('AAPL', '2015-02-11')",
         "122.77",
         "124.92",
         "122.5",
         "124.88",
         "73561797"
        ],
        [
         "('AAPL', '2015-02-12')",
         "126.06",
         "127.48",
         "125.57",
         "126.46",
         "74474466"
        ],
        [
         "('AAPL', '2015-02-13')",
         "127.28",
         "127.28",
         "125.65",
         "127.08",
         "54272219"
        ],
        [
         "('AAPL', '2015-02-17')",
         "127.49",
         "128.88",
         "126.92",
         "127.83",
         "63152405"
        ],
        [
         "('AAPL', '2015-02-18')",
         "127.625",
         "128.78",
         "127.45",
         "128.715",
         "44891737"
        ],
        [
         "('AAPL', '2015-02-19')",
         "128.48",
         "129.03",
         "128.33",
         "128.45",
         "37362381"
        ],
        [
         "('AAPL', '2015-02-20')",
         "128.62",
         "129.5",
         "128.05",
         "129.495",
         "48948419"
        ],
        [
         "('AAPL', '2015-02-23')",
         "130.02",
         "133.0",
         "129.66",
         "133.0",
         "70974110"
        ],
        [
         "('AAPL', '2015-02-24')",
         "132.94",
         "133.6",
         "131.17",
         "132.17",
         "69228130"
        ],
        [
         "('AAPL', '2015-02-25')",
         "131.56",
         "131.6",
         "128.15",
         "128.79",
         "74711746"
        ],
        [
         "('AAPL', '2015-02-26')",
         "128.785",
         "130.87",
         "126.61",
         "130.415",
         "91287529"
        ],
        [
         "('AAPL', '2015-02-27')",
         "130.0",
         "130.57",
         "128.24",
         "128.46",
         "62014847"
        ],
        [
         "('AAPL', '2015-03-02')",
         "129.25",
         "130.28",
         "128.3",
         "129.09",
         "48096663"
        ],
        [
         "('AAPL', '2015-03-03')",
         "128.96",
         "129.52",
         "128.09",
         "129.36",
         "37816283"
        ],
        [
         "('AAPL', '2015-03-04')",
         "129.1",
         "129.56",
         "128.32",
         "128.54",
         "31666340"
        ],
        [
         "('AAPL', '2015-03-05')",
         "128.58",
         "128.75",
         "125.76",
         "126.41",
         "56517146"
        ],
        [
         "('AAPL', '2015-03-06')",
         "128.4",
         "129.37",
         "126.26",
         "126.6",
         "72842060"
        ],
        [
         "('AAPL', '2015-03-09')",
         "127.96",
         "129.57",
         "125.06",
         "127.14",
         "88528487"
        ],
        [
         "('AAPL', '2015-03-10')",
         "126.41",
         "127.22",
         "123.8",
         "124.51",
         "68856582"
        ],
        [
         "('AAPL', '2015-03-11')",
         "124.75",
         "124.77",
         "122.11",
         "122.24",
         "68938974"
        ],
        [
         "('AAPL', '2015-03-12')",
         "122.31",
         "124.9",
         "121.63",
         "124.45",
         "48362719"
        ],
        [
         "('AAPL', '2015-03-13')",
         "124.4",
         "125.3951",
         "122.58",
         "123.59",
         "51827283"
        ],
        [
         "('AAPL', '2015-03-16')",
         "123.88",
         "124.95",
         "122.87",
         "124.95",
         "35874300"
        ]
       ],
       "shape": {
        "columns": 5,
        "rows": 10572
       }
      },
      "text/html": [
       "<div>\n",
       "<style scoped>\n",
       "    .dataframe tbody tr th:only-of-type {\n",
       "        vertical-align: middle;\n",
       "    }\n",
       "\n",
       "    .dataframe tbody tr th {\n",
       "        vertical-align: top;\n",
       "    }\n",
       "\n",
       "    .dataframe thead th {\n",
       "        text-align: right;\n",
       "    }\n",
       "</style>\n",
       "<table border=\"1\" class=\"dataframe\">\n",
       "  <thead>\n",
       "    <tr style=\"text-align: right;\">\n",
       "      <th></th>\n",
       "      <th></th>\n",
       "      <th>open</th>\n",
       "      <th>high</th>\n",
       "      <th>low</th>\n",
       "      <th>close</th>\n",
       "      <th>volume</th>\n",
       "    </tr>\n",
       "    <tr>\n",
       "      <th>stock</th>\n",
       "      <th></th>\n",
       "      <th></th>\n",
       "      <th></th>\n",
       "      <th></th>\n",
       "      <th></th>\n",
       "      <th></th>\n",
       "    </tr>\n",
       "  </thead>\n",
       "  <tbody>\n",
       "    <tr>\n",
       "      <th rowspan=\"5\" valign=\"top\">AAPL</th>\n",
       "      <th>2015-01-02</th>\n",
       "      <td>111.39</td>\n",
       "      <td>111.44</td>\n",
       "      <td>107.350</td>\n",
       "      <td>109.33</td>\n",
       "      <td>53204626</td>\n",
       "    </tr>\n",
       "    <tr>\n",
       "      <th>2015-01-05</th>\n",
       "      <td>108.29</td>\n",
       "      <td>108.65</td>\n",
       "      <td>105.410</td>\n",
       "      <td>106.25</td>\n",
       "      <td>64285491</td>\n",
       "    </tr>\n",
       "    <tr>\n",
       "      <th>2015-01-06</th>\n",
       "      <td>106.54</td>\n",
       "      <td>107.43</td>\n",
       "      <td>104.630</td>\n",
       "      <td>106.26</td>\n",
       "      <td>65797116</td>\n",
       "    </tr>\n",
       "    <tr>\n",
       "      <th>2015-01-07</th>\n",
       "      <td>107.20</td>\n",
       "      <td>108.20</td>\n",
       "      <td>106.695</td>\n",
       "      <td>107.75</td>\n",
       "      <td>40105934</td>\n",
       "    </tr>\n",
       "    <tr>\n",
       "      <th>2015-01-08</th>\n",
       "      <td>109.23</td>\n",
       "      <td>112.15</td>\n",
       "      <td>108.700</td>\n",
       "      <td>111.89</td>\n",
       "      <td>59364547</td>\n",
       "    </tr>\n",
       "    <tr>\n",
       "      <th>...</th>\n",
       "      <th>...</th>\n",
       "      <td>...</td>\n",
       "      <td>...</td>\n",
       "      <td>...</td>\n",
       "      <td>...</td>\n",
       "      <td>...</td>\n",
       "    </tr>\n",
       "    <tr>\n",
       "      <th rowspan=\"5\" valign=\"top\">MSFT</th>\n",
       "      <th>2025-07-01</th>\n",
       "      <td>496.47</td>\n",
       "      <td>498.05</td>\n",
       "      <td>490.980</td>\n",
       "      <td>492.05</td>\n",
       "      <td>19945375</td>\n",
       "    </tr>\n",
       "    <tr>\n",
       "      <th>2025-07-02</th>\n",
       "      <td>489.99</td>\n",
       "      <td>493.50</td>\n",
       "      <td>488.700</td>\n",
       "      <td>491.09</td>\n",
       "      <td>16319641</td>\n",
       "    </tr>\n",
       "    <tr>\n",
       "      <th>2025-07-03</th>\n",
       "      <td>493.81</td>\n",
       "      <td>500.13</td>\n",
       "      <td>493.440</td>\n",
       "      <td>498.84</td>\n",
       "      <td>13984829</td>\n",
       "    </tr>\n",
       "    <tr>\n",
       "      <th>2025-07-07</th>\n",
       "      <td>497.38</td>\n",
       "      <td>498.75</td>\n",
       "      <td>495.225</td>\n",
       "      <td>497.72</td>\n",
       "      <td>13981605</td>\n",
       "    </tr>\n",
       "    <tr>\n",
       "      <th>2025-07-08</th>\n",
       "      <td>497.24</td>\n",
       "      <td>498.20</td>\n",
       "      <td>494.110</td>\n",
       "      <td>496.62</td>\n",
       "      <td>11846586</td>\n",
       "    </tr>\n",
       "  </tbody>\n",
       "</table>\n",
       "<p>10572 rows × 5 columns</p>\n",
       "</div>"
      ],
      "text/plain": [
       "                    open    high      low   close    volume\n",
       "stock                                                      \n",
       "AAPL  2015-01-02  111.39  111.44  107.350  109.33  53204626\n",
       "      2015-01-05  108.29  108.65  105.410  106.25  64285491\n",
       "      2015-01-06  106.54  107.43  104.630  106.26  65797116\n",
       "      2015-01-07  107.20  108.20  106.695  107.75  40105934\n",
       "      2015-01-08  109.23  112.15  108.700  111.89  59364547\n",
       "...                  ...     ...      ...     ...       ...\n",
       "MSFT  2025-07-01  496.47  498.05  490.980  492.05  19945375\n",
       "      2025-07-02  489.99  493.50  488.700  491.09  16319641\n",
       "      2025-07-03  493.81  500.13  493.440  498.84  13984829\n",
       "      2025-07-07  497.38  498.75  495.225  497.72  13981605\n",
       "      2025-07-08  497.24  498.20  494.110  496.62  11846586\n",
       "\n",
       "[10572 rows x 5 columns]"
      ]
     },
     "execution_count": 10,
     "metadata": {},
     "output_type": "execute_result"
    }
   ],
   "source": [
    "df.set_index('stock', append=True, inplace=True)\n",
    "df = df.reorder_levels(['stock', df.index.names[0]])\n",
    "df"
   ]
  },
  {
   "cell_type": "markdown",
   "metadata": {},
   "source": [
    "### Step 7. Create a dataFrame called vol, with the volume values."
   ]
  },
  {
   "cell_type": "code",
   "execution_count": 11,
   "metadata": {},
   "outputs": [
    {
     "data": {
      "application/vnd.microsoft.datawrangler.viewer.v0+json": {
       "columns": [
        {
         "name": "index",
         "rawType": "object",
         "type": "string"
        },
        {
         "name": "AAPL",
         "rawType": "int64",
         "type": "integer"
        },
        {
         "name": "IBM",
         "rawType": "int64",
         "type": "integer"
        },
        {
         "name": "MSFT",
         "rawType": "int64",
         "type": "integer"
        },
        {
         "name": "TSLA",
         "rawType": "int64",
         "type": "integer"
        }
       ],
       "ref": "e4c097cc-c821-4138-afa0-2e5e76f0dd26",
       "rows": [
        [
         "2015-01-02",
         "53204626",
         "5525341",
         "27913852",
         "4764443"
        ],
        [
         "2015-01-05",
         "64285491",
         "4880389",
         "39673865",
         "5368477"
        ],
        [
         "2015-01-06",
         "65797116",
         "6145670",
         "36447854",
         "6261936"
        ],
        [
         "2015-01-07",
         "40105934",
         "4701015",
         "29114061",
         "2968390"
        ],
        [
         "2015-01-08",
         "59364547",
         "4240585",
         "29645202",
         "3442509"
        ],
        [
         "2015-01-09",
         "53315099",
         "4472701",
         "23715642",
         "4580722"
        ],
        [
         "2015-01-12",
         "49650790",
         "4187588",
         "23651887",
         "5950280"
        ],
        [
         "2015-01-13",
         "67091928",
         "4386989",
         "35270601",
         "4477320"
        ],
        [
         "2015-01-14",
         "48956588",
         "4689740",
         "29719580",
         "11551855"
        ],
        [
         "2015-01-15",
         "60013996",
         "4251698",
         "32750779",
         "5216524"
        ],
        [
         "2015-01-16",
         "78513345",
         "5756041",
         "35695289",
         "3603158"
        ],
        [
         "2015-01-20",
         "49899907",
         "8380815",
         "36161860",
         "4503182"
        ],
        [
         "2015-01-21",
         "48575897",
         "11896012",
         "39081143",
         "4153043"
        ],
        [
         "2015-01-22",
         "53796409",
         "6119523",
         "35898035",
         "4116905"
        ],
        [
         "2015-01-23",
         "46464828",
         "4834447",
         "26211594",
         "3442371"
        ],
        [
         "2015-01-26",
         "55614979",
         "7888037",
         "42525530",
         "3234522"
        ],
        [
         "2015-01-27",
         "95568749",
         "5659568",
         "169163953",
         "2781024"
        ],
        [
         "2015-01-28",
         "146477063",
         "4495633",
         "84507078",
         "3149606"
        ],
        [
         "2015-01-29",
         "84436432",
         "8320622",
         "63585273",
         "3548106"
        ],
        [
         "2015-01-30",
         "83745461",
         "6563447",
         "78004944",
         "3006959"
        ],
        [
         "2015-02-02",
         "62739100",
         "4712017",
         "50352532",
         "4149186"
        ],
        [
         "2015-02-03",
         "51915749",
         "5539406",
         "52082448",
         "4826244"
        ],
        [
         "2015-02-04",
         "70149743",
         "3678339",
         "41614812",
         "3305377"
        ],
        [
         "2015-02-05",
         "42246245",
         "5253628",
         "36548168",
         "3522947"
        ],
        [
         "2015-02-06",
         "43706567",
         "3256440",
         "34616554",
         "3243931"
        ],
        [
         "2015-02-09",
         "38889797",
         "3057502",
         "31381061",
         "3472423"
        ],
        [
         "2015-02-10",
         "62008506",
         "4440614",
         "29670676",
         "5390542"
        ],
        [
         "2015-02-11",
         "73561797",
         "3626658",
         "38262509",
         "9769102"
        ],
        [
         "2015-02-12",
         "74474466",
         "3333063",
         "33268831",
         "15649607"
        ],
        [
         "2015-02-13",
         "54272219",
         "3706919",
         "40264887",
         "6191003"
        ],
        [
         "2015-02-17",
         "63152405",
         "2893590",
         "33695749",
         "3979647"
        ],
        [
         "2015-02-18",
         "44891737",
         "4358252",
         "27111657",
         "2713598"
        ],
        [
         "2015-02-19",
         "37362381",
         "3504269",
         "27603420",
         "5154148"
        ],
        [
         "2015-02-20",
         "48948419",
         "3352781",
         "29721133",
         "5982089"
        ],
        [
         "2015-02-23",
         "70974110",
         "2714434",
         "32518754",
         "8499775"
        ],
        [
         "2015-02-24",
         "69228130",
         "4701626",
         "25271747",
         "6603560"
        ],
        [
         "2015-02-25",
         "74711746",
         "4004559",
         "29759820",
         "3909520"
        ],
        [
         "2015-02-26",
         "91287529",
         "7110571",
         "28957329",
         "6472855"
        ],
        [
         "2015-02-27",
         "62014847",
         "4410037",
         "33807740",
         "3882084"
        ],
        [
         "2015-03-02",
         "48096663",
         "5917812",
         "31924049",
         "7922065"
        ],
        [
         "2015-03-03",
         "37816283",
         "3234068",
         "31748648",
         "4432329"
        ],
        [
         "2015-03-04",
         "31666340",
         "3633335",
         "25748692",
         "4221962"
        ],
        [
         "2015-03-05",
         "56517146",
         "3791660",
         "23193541",
         "4877015"
        ],
        [
         "2015-03-06",
         "72842060",
         "4540174",
         "36248785",
         "6712438"
        ],
        [
         "2015-03-09",
         "88528487",
         "5193874",
         "32107957",
         "6736724"
        ],
        [
         "2015-03-10",
         "68856582",
         "4600968",
         "39159730",
         "5579691"
        ],
        [
         "2015-03-11",
         "68938974",
         "5709290",
         "32215314",
         "4974871"
        ],
        [
         "2015-03-12",
         "48362719",
         "4567346",
         "59992502",
         "4149294"
        ],
        [
         "2015-03-13",
         "51827283",
         "6063970",
         "58007705",
         "5434298"
        ],
        [
         "2015-03-16",
         "35874300",
         "3749638",
         "35273452",
         "5628783"
        ]
       ],
       "shape": {
        "columns": 4,
        "rows": 2643
       }
      },
      "text/html": [
       "<div>\n",
       "<style scoped>\n",
       "    .dataframe tbody tr th:only-of-type {\n",
       "        vertical-align: middle;\n",
       "    }\n",
       "\n",
       "    .dataframe tbody tr th {\n",
       "        vertical-align: top;\n",
       "    }\n",
       "\n",
       "    .dataframe thead th {\n",
       "        text-align: right;\n",
       "    }\n",
       "</style>\n",
       "<table border=\"1\" class=\"dataframe\">\n",
       "  <thead>\n",
       "    <tr style=\"text-align: right;\">\n",
       "      <th>stock</th>\n",
       "      <th>AAPL</th>\n",
       "      <th>IBM</th>\n",
       "      <th>MSFT</th>\n",
       "      <th>TSLA</th>\n",
       "    </tr>\n",
       "  </thead>\n",
       "  <tbody>\n",
       "    <tr>\n",
       "      <th>2015-01-02</th>\n",
       "      <td>53204626</td>\n",
       "      <td>5525341</td>\n",
       "      <td>27913852</td>\n",
       "      <td>4764443</td>\n",
       "    </tr>\n",
       "    <tr>\n",
       "      <th>2015-01-05</th>\n",
       "      <td>64285491</td>\n",
       "      <td>4880389</td>\n",
       "      <td>39673865</td>\n",
       "      <td>5368477</td>\n",
       "    </tr>\n",
       "    <tr>\n",
       "      <th>2015-01-06</th>\n",
       "      <td>65797116</td>\n",
       "      <td>6145670</td>\n",
       "      <td>36447854</td>\n",
       "      <td>6261936</td>\n",
       "    </tr>\n",
       "    <tr>\n",
       "      <th>2015-01-07</th>\n",
       "      <td>40105934</td>\n",
       "      <td>4701015</td>\n",
       "      <td>29114061</td>\n",
       "      <td>2968390</td>\n",
       "    </tr>\n",
       "    <tr>\n",
       "      <th>2015-01-08</th>\n",
       "      <td>59364547</td>\n",
       "      <td>4240585</td>\n",
       "      <td>29645202</td>\n",
       "      <td>3442509</td>\n",
       "    </tr>\n",
       "    <tr>\n",
       "      <th>...</th>\n",
       "      <td>...</td>\n",
       "      <td>...</td>\n",
       "      <td>...</td>\n",
       "      <td>...</td>\n",
       "    </tr>\n",
       "    <tr>\n",
       "      <th>2025-07-01</th>\n",
       "      <td>78788867</td>\n",
       "      <td>3272797</td>\n",
       "      <td>19945375</td>\n",
       "      <td>145085665</td>\n",
       "    </tr>\n",
       "    <tr>\n",
       "      <th>2025-07-02</th>\n",
       "      <td>67941811</td>\n",
       "      <td>3257515</td>\n",
       "      <td>16319641</td>\n",
       "      <td>119483730</td>\n",
       "    </tr>\n",
       "    <tr>\n",
       "      <th>2025-07-03</th>\n",
       "      <td>34955836</td>\n",
       "      <td>1853289</td>\n",
       "      <td>13984829</td>\n",
       "      <td>58042302</td>\n",
       "    </tr>\n",
       "    <tr>\n",
       "      <th>2025-07-07</th>\n",
       "      <td>50228984</td>\n",
       "      <td>4488064</td>\n",
       "      <td>13981605</td>\n",
       "      <td>131177949</td>\n",
       "    </tr>\n",
       "    <tr>\n",
       "      <th>2025-07-08</th>\n",
       "      <td>42848928</td>\n",
       "      <td>2925329</td>\n",
       "      <td>11846586</td>\n",
       "      <td>103246742</td>\n",
       "    </tr>\n",
       "  </tbody>\n",
       "</table>\n",
       "<p>2643 rows × 4 columns</p>\n",
       "</div>"
      ],
      "text/plain": [
       "stock           AAPL      IBM      MSFT       TSLA\n",
       "2015-01-02  53204626  5525341  27913852    4764443\n",
       "2015-01-05  64285491  4880389  39673865    5368477\n",
       "2015-01-06  65797116  6145670  36447854    6261936\n",
       "2015-01-07  40105934  4701015  29114061    2968390\n",
       "2015-01-08  59364547  4240585  29645202    3442509\n",
       "...              ...      ...       ...        ...\n",
       "2025-07-01  78788867  3272797  19945375  145085665\n",
       "2025-07-02  67941811  3257515  16319641  119483730\n",
       "2025-07-03  34955836  1853289  13984829   58042302\n",
       "2025-07-07  50228984  4488064  13981605  131177949\n",
       "2025-07-08  42848928  2925329  11846586  103246742\n",
       "\n",
       "[2643 rows x 4 columns]"
      ]
     },
     "execution_count": 11,
     "metadata": {},
     "output_type": "execute_result"
    }
   ],
   "source": [
    "vol = df['volume'].unstack(level=0)\n",
    "vol"
   ]
  },
  {
   "cell_type": "markdown",
   "metadata": {},
   "source": [
    "### Step 8. Aggregate the data of volume to weekly.\n",
    "Hint: Be careful to not sum data from the same week of 2015 and other years."
   ]
  },
  {
   "cell_type": "code",
   "execution_count": 13,
   "metadata": {},
   "outputs": [
    {
     "data": {
      "application/vnd.microsoft.datawrangler.viewer.v0+json": {
       "columns": [
        {
         "name": "index",
         "rawType": "datetime64[ns]",
         "type": "datetime"
        },
        {
         "name": "AAPL",
         "rawType": "int64",
         "type": "integer"
        },
        {
         "name": "IBM",
         "rawType": "int64",
         "type": "integer"
        },
        {
         "name": "MSFT",
         "rawType": "int64",
         "type": "integer"
        },
        {
         "name": "TSLA",
         "rawType": "int64",
         "type": "integer"
        }
       ],
       "ref": "978984d6-7adb-4cac-b419-793388e2e177",
       "rows": [
        [
         "2015-01-04 00:00:00",
         "53204626",
         "5525341",
         "27913852",
         "4764443"
        ],
        [
         "2015-01-11 00:00:00",
         "282868187",
         "24440360",
         "158596624",
         "22622034"
        ],
        [
         "2015-01-18 00:00:00",
         "304226647",
         "23272056",
         "157088136",
         "30799137"
        ],
        [
         "2015-01-25 00:00:00",
         "198737041",
         "31230797",
         "137352632",
         "16215501"
        ],
        [
         "2015-02-01 00:00:00",
         "465842684",
         "32927307",
         "437786778",
         "15720217"
        ],
        [
         "2015-02-08 00:00:00",
         "270757404",
         "22439830",
         "215214514",
         "19047685"
        ],
        [
         "2015-02-15 00:00:00",
         "303206785",
         "18164756",
         "172847964",
         "40472677"
        ],
        [
         "2015-02-22 00:00:00",
         "194354942",
         "14108892",
         "118131959",
         "17829482"
        ],
        [
         "2015-03-01 00:00:00",
         "368216362",
         "22941227",
         "150315390",
         "29367794"
        ],
        [
         "2015-03-08 00:00:00",
         "246938492",
         "21117049",
         "148863715",
         "28165809"
        ],
        [
         "2015-03-15 00:00:00",
         "326514045",
         "26135448",
         "221483208",
         "26874878"
        ],
        [
         "2015-03-22 00:00:00",
         "266672975",
         "25684872",
         "216925266",
         "28088482"
        ],
        [
         "2015-03-29 00:00:00",
         "209326175",
         "23569213",
         "167126270",
         "24744778"
        ],
        [
         "2015-04-05 00:00:00",
         "162031791",
         "16765545",
         "144289679",
         "23921074"
        ],
        [
         "2015-04-12 00:00:00",
         "182207413",
         "13917063",
         "146532368",
         "30974693"
        ],
        [
         "2015-04-19 00:00:00",
         "171186168",
         "17532781",
         "146761915",
         "12865556"
        ],
        [
         "2015-04-26 00:00:00",
         "207440679",
         "35436301",
         "274379045",
         "20693856"
        ],
        [
         "2015-05-03 00:00:00",
         "420972321",
         "21874751",
         "271446305",
         "30887629"
        ],
        [
         "2015-05-10 00:00:00",
         "271891981",
         "16793441",
         "205178261",
         "29626547"
        ],
        [
         "2015-05-17 00:00:00",
         "208301514",
         "13435074",
         "150345879",
         "24899355"
        ],
        [
         "2015-05-24 00:00:00",
         "217297426",
         "11939607",
         "125890515",
         "14976744"
        ],
        [
         "2015-05-31 00:00:00",
         "198148567",
         "12435919",
         "112720759",
         "14343448"
        ],
        [
         "2015-06-07 00:00:00",
         "170840884",
         "13868111",
         "131521410",
         "11897012"
        ],
        [
         "2015-06-14 00:00:00",
         "220114589",
         "18364270",
         "126223826",
         "14548989"
        ],
        [
         "2015-06-21 00:00:00",
         "198525255",
         "20761376",
         "185524263",
         "14929489"
        ],
        [
         "2015-06-28 00:00:00",
         "195594004",
         "20939777",
         "151556711",
         "17531828"
        ],
        [
         "2015-07-05 00:00:00",
         "150981872",
         "12979210",
         "120123050",
         "15830998"
        ],
        [
         "2015-07-12 00:00:00",
         "275718368",
         "18143986",
         "157146118",
         "22393071"
        ],
        [
         "2015-07-19 00:00:00",
         "189245034",
         "17138495",
         "133426984",
         "13509641"
        ],
        [
         "2015-07-26 00:00:00",
         "344269021",
         "37075256",
         "198833485",
         "19255837"
        ],
        [
         "2015-08-02 00:00:00",
         "191598511",
         "15380412",
         "185955595",
         "15637207"
        ],
        [
         "2015-08-09 00:00:00",
         "384072497",
         "20138504",
         "130800424",
         "29401206"
        ],
        [
         "2015-08-16 00:00:00",
         "345185326",
         "17165086",
         "126616447",
         "21243948"
        ],
        [
         "2015-08-23 00:00:00",
         "320509056",
         "19846207",
         "182450672",
         "26471998"
        ],
        [
         "2015-08-30 00:00:00",
         "500362965",
         "32508092",
         "301968189",
         "32041553"
        ],
        [
         "2015-09-06 00:00:00",
         "298194194",
         "21421138",
         "187226056",
         "22668096"
        ],
        [
         "2015-09-13 00:00:00",
         "252662734",
         "13916382",
         "124438408",
         "11588887"
        ],
        [
         "2015-09-20 00:00:00",
         "277276007",
         "20721826",
         "171822261",
         "17590274"
        ],
        [
         "2015-09-27 00:00:00",
         "242696241",
         "16815584",
         "128698573",
         "19606869"
        ],
        [
         "2015-10-04 00:00:00",
         "311138027",
         "19914471",
         "163532824",
         "22461718"
        ],
        [
         "2015-10-11 00:00:00",
         "262432987",
         "19465122",
         "151964927",
         "28031307"
        ],
        [
         "2015-10-18 00:00:00",
         "184884970",
         "17455488",
         "118094352",
         "19291010"
        ],
        [
         "2015-10-25 00:00:00",
         "222074893",
         "42068316",
         "277318659",
         "28652034"
        ],
        [
         "2015-11-01 00:00:00",
         "322362121",
         "34698762",
         "239455823",
         "15883413"
        ],
        [
         "2015-11-08 00:00:00",
         "195203256",
         "21526383",
         "168289451",
         "31928932"
        ],
        [
         "2015-11-15 00:00:00",
         "216555289",
         "25069755",
         "196522294",
         "18161900"
        ],
        [
         "2015-11-22 00:00:00",
         "189947415",
         "21083793",
         "158718818",
         "14790718"
        ],
        [
         "2015-11-29 00:00:00",
         "109720453",
         "13199481",
         "82850240",
         "10946624"
        ],
        [
         "2015-12-06 00:00:00",
         "206765745",
         "22935841",
         "226060572",
         "14888403"
        ],
        [
         "2015-12-13 00:00:00",
         "188853944",
         "21354563",
         "171286323",
         "14230030"
        ]
       ],
       "shape": {
        "columns": 4,
        "rows": 550
       }
      },
      "text/html": [
       "<div>\n",
       "<style scoped>\n",
       "    .dataframe tbody tr th:only-of-type {\n",
       "        vertical-align: middle;\n",
       "    }\n",
       "\n",
       "    .dataframe tbody tr th {\n",
       "        vertical-align: top;\n",
       "    }\n",
       "\n",
       "    .dataframe thead th {\n",
       "        text-align: right;\n",
       "    }\n",
       "</style>\n",
       "<table border=\"1\" class=\"dataframe\">\n",
       "  <thead>\n",
       "    <tr style=\"text-align: right;\">\n",
       "      <th>stock</th>\n",
       "      <th>AAPL</th>\n",
       "      <th>IBM</th>\n",
       "      <th>MSFT</th>\n",
       "      <th>TSLA</th>\n",
       "    </tr>\n",
       "  </thead>\n",
       "  <tbody>\n",
       "    <tr>\n",
       "      <th>2015-01-04</th>\n",
       "      <td>53204626</td>\n",
       "      <td>5525341</td>\n",
       "      <td>27913852</td>\n",
       "      <td>4764443</td>\n",
       "    </tr>\n",
       "    <tr>\n",
       "      <th>2015-01-11</th>\n",
       "      <td>282868187</td>\n",
       "      <td>24440360</td>\n",
       "      <td>158596624</td>\n",
       "      <td>22622034</td>\n",
       "    </tr>\n",
       "    <tr>\n",
       "      <th>2015-01-18</th>\n",
       "      <td>304226647</td>\n",
       "      <td>23272056</td>\n",
       "      <td>157088136</td>\n",
       "      <td>30799137</td>\n",
       "    </tr>\n",
       "    <tr>\n",
       "      <th>2015-01-25</th>\n",
       "      <td>198737041</td>\n",
       "      <td>31230797</td>\n",
       "      <td>137352632</td>\n",
       "      <td>16215501</td>\n",
       "    </tr>\n",
       "    <tr>\n",
       "      <th>2015-02-01</th>\n",
       "      <td>465842684</td>\n",
       "      <td>32927307</td>\n",
       "      <td>437786778</td>\n",
       "      <td>15720217</td>\n",
       "    </tr>\n",
       "    <tr>\n",
       "      <th>...</th>\n",
       "      <td>...</td>\n",
       "      <td>...</td>\n",
       "      <td>...</td>\n",
       "      <td>...</td>\n",
       "    </tr>\n",
       "    <tr>\n",
       "      <th>2025-06-15</th>\n",
       "      <td>283877006</td>\n",
       "      <td>20812836</td>\n",
       "      <td>84010090</td>\n",
       "      <td>648868571</td>\n",
       "    </tr>\n",
       "    <tr>\n",
       "      <th>2025-06-22</th>\n",
       "      <td>224085074</td>\n",
       "      <td>17965949</td>\n",
       "      <td>86142890</td>\n",
       "      <td>376034221</td>\n",
       "    </tr>\n",
       "    <tr>\n",
       "      <th>2025-06-29</th>\n",
       "      <td>273391727</td>\n",
       "      <td>19051199</td>\n",
       "      <td>120782782</td>\n",
       "      <td>594806066</td>\n",
       "    </tr>\n",
       "    <tr>\n",
       "      <th>2025-07-06</th>\n",
       "      <td>273599330</td>\n",
       "      <td>11878987</td>\n",
       "      <td>78618836</td>\n",
       "      <td>399306778</td>\n",
       "    </tr>\n",
       "    <tr>\n",
       "      <th>2025-07-13</th>\n",
       "      <td>93077912</td>\n",
       "      <td>7413393</td>\n",
       "      <td>25828191</td>\n",
       "      <td>234424691</td>\n",
       "    </tr>\n",
       "  </tbody>\n",
       "</table>\n",
       "<p>550 rows × 4 columns</p>\n",
       "</div>"
      ],
      "text/plain": [
       "stock            AAPL       IBM       MSFT       TSLA\n",
       "2015-01-04   53204626   5525341   27913852    4764443\n",
       "2015-01-11  282868187  24440360  158596624   22622034\n",
       "2015-01-18  304226647  23272056  157088136   30799137\n",
       "2015-01-25  198737041  31230797  137352632   16215501\n",
       "2015-02-01  465842684  32927307  437786778   15720217\n",
       "...               ...       ...        ...        ...\n",
       "2025-06-15  283877006  20812836   84010090  648868571\n",
       "2025-06-22  224085074  17965949   86142890  376034221\n",
       "2025-06-29  273391727  19051199  120782782  594806066\n",
       "2025-07-06  273599330  11878987   78618836  399306778\n",
       "2025-07-13   93077912   7413393   25828191  234424691\n",
       "\n",
       "[550 rows x 4 columns]"
      ]
     },
     "execution_count": 13,
     "metadata": {},
     "output_type": "execute_result"
    }
   ],
   "source": [
    "vol.index = pd.to_datetime(vol.index)\n",
    "vol_weekly = vol.resample('W').sum()\n",
    "vol_weekly"
   ]
  },
  {
   "cell_type": "markdown",
   "metadata": {},
   "source": [
    "### Step 9. Find all the volume traded in the year of 2015"
   ]
  },
  {
   "cell_type": "code",
   "execution_count": 15,
   "metadata": {},
   "outputs": [
    {
     "data": {
      "application/vnd.microsoft.datawrangler.viewer.v0+json": {
       "columns": [
        {
         "name": "stock",
         "rawType": "object",
         "type": "string"
        },
        {
         "name": "0",
         "rawType": "int64",
         "type": "integer"
        }
       ],
       "ref": "84c3a7b0-056b-4cb5-a35f-aefd926a76e7",
       "rows": [
        [
         "AAPL",
         "13064316775"
        ],
        [
         "IBM",
         "1105545521"
        ],
        [
         "MSFT",
         "9057582311"
        ],
        [
         "TSLA",
         "1086708380"
        ]
       ],
       "shape": {
        "columns": 1,
        "rows": 4
       }
      },
      "text/plain": [
       "stock\n",
       "AAPL    13064316775\n",
       "IBM      1105545521\n",
       "MSFT     9057582311\n",
       "TSLA     1086708380\n",
       "dtype: int64"
      ]
     },
     "execution_count": 15,
     "metadata": {},
     "output_type": "execute_result"
    }
   ],
   "source": [
    "vol_2015 = vol.loc['2015']\n",
    "vol_2015.sum()"
   ]
  }
 ],
 "metadata": {
  "kernelspec": {
   "display_name": "base",
   "language": "python",
   "name": "python3"
  },
  "language_info": {
   "codemirror_mode": {
    "name": "ipython",
    "version": 3
   },
   "file_extension": ".py",
   "mimetype": "text/x-python",
   "name": "python",
   "nbconvert_exporter": "python",
   "pygments_lexer": "ipython3",
   "version": "3.12.4"
  }
 },
 "nbformat": 4,
 "nbformat_minor": 1
}
