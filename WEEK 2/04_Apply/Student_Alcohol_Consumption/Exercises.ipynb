{
 "cells": [
  {
   "cell_type": "markdown",
   "metadata": {},
   "source": [
    "# Student Alcohol Consumption"
   ]
  },
  {
   "cell_type": "markdown",
   "metadata": {},
   "source": [
    "### Introduction:\n",
    "\n",
    "This time you will download a dataset from the UCI.\n",
    "\n",
    "### Step 1. Import the necessary libraries"
   ]
  },
  {
   "cell_type": "code",
   "execution_count": 1,
   "metadata": {
    "collapsed": false
   },
   "outputs": [],
   "source": [
    "import pandas as pd"
   ]
  },
  {
   "cell_type": "markdown",
   "metadata": {},
   "source": [
    "### Step 2. Import the dataset from this [address](https://raw.githubusercontent.com/guipsamora/pandas_exercises/master/04_Apply/Students_Alcohol_Consumption/student-mat.csv)."
   ]
  },
  {
   "cell_type": "markdown",
   "metadata": {},
   "source": [
    "### Step 3. Assign it to a variable called df."
   ]
  },
  {
   "cell_type": "code",
   "execution_count": 2,
   "metadata": {
    "collapsed": false
   },
   "outputs": [],
   "source": [
    "df = pd.read_csv('https://raw.githubusercontent.com/guipsamora/pandas_exercises/master/04_Apply/Students_Alcohol_Consumption/student-mat.csv')"
   ]
  },
  {
   "cell_type": "markdown",
   "metadata": {},
   "source": [
    "### Step 4. For the purpose of this exercise slice the dataframe from 'school' until the 'guardian' column"
   ]
  },
  {
   "cell_type": "code",
   "execution_count": 3,
   "metadata": {
    "collapsed": false
   },
   "outputs": [
    {
     "name": "stdout",
     "output_type": "stream",
     "text": [
      "    school sex  age address famsize Pstatus  Medu  Fedu      Mjob      Fjob  \\\n",
      "0       GP   F   18       U     GT3       A     4     4   at_home   teacher   \n",
      "1       GP   F   17       U     GT3       T     1     1   at_home     other   \n",
      "2       GP   F   15       U     LE3       T     1     1   at_home     other   \n",
      "3       GP   F   15       U     GT3       T     4     2    health  services   \n",
      "4       GP   F   16       U     GT3       T     3     3     other     other   \n",
      "..     ...  ..  ...     ...     ...     ...   ...   ...       ...       ...   \n",
      "390     MS   M   20       U     LE3       A     2     2  services  services   \n",
      "391     MS   M   17       U     LE3       T     3     1  services  services   \n",
      "392     MS   M   21       R     GT3       T     1     1     other     other   \n",
      "393     MS   M   18       R     LE3       T     3     2  services     other   \n",
      "394     MS   M   19       U     LE3       T     1     1     other   at_home   \n",
      "\n",
      "     reason guardian  \n",
      "0    course   mother  \n",
      "1    course   father  \n",
      "2     other   mother  \n",
      "3      home   mother  \n",
      "4      home   father  \n",
      "..      ...      ...  \n",
      "390  course    other  \n",
      "391  course   mother  \n",
      "392  course    other  \n",
      "393  course   mother  \n",
      "394  course   father  \n",
      "\n",
      "[395 rows x 12 columns]\n"
     ]
    }
   ],
   "source": [
    "print(df.loc[:, 'school':'guardian'])"
   ]
  },
  {
   "cell_type": "markdown",
   "metadata": {},
   "source": [
    "### Step 5. Create a lambda function that will capitalize strings."
   ]
  },
  {
   "cell_type": "code",
   "execution_count": 4,
   "metadata": {
    "collapsed": false
   },
   "outputs": [],
   "source": [
    "capitalize = lambda x: x.capitalize() if isinstance(x, str) else x"
   ]
  },
  {
   "cell_type": "markdown",
   "metadata": {},
   "source": [
    "### Step 6. Capitalize both Mjob and Fjob"
   ]
  },
  {
   "cell_type": "code",
   "execution_count": 5,
   "metadata": {
    "collapsed": false
   },
   "outputs": [
    {
     "name": "stdout",
     "output_type": "stream",
     "text": [
      "0       At_home\n",
      "1       At_home\n",
      "2       At_home\n",
      "3        Health\n",
      "4         Other\n",
      "         ...   \n",
      "390    Services\n",
      "391    Services\n",
      "392       Other\n",
      "393    Services\n",
      "394       Other\n",
      "Name: Mjob, Length: 395, dtype: object\n",
      "0       Teacher\n",
      "1         Other\n",
      "2         Other\n",
      "3      Services\n",
      "4         Other\n",
      "         ...   \n",
      "390    Services\n",
      "391    Services\n",
      "392       Other\n",
      "393       Other\n",
      "394     At_home\n",
      "Name: Fjob, Length: 395, dtype: object\n"
     ]
    }
   ],
   "source": [
    "print(df['Mjob'].apply(lambda x: x.capitalize()))\n",
    "print(df['Fjob'].apply(lambda x: x.capitalize()))"
   ]
  },
  {
   "cell_type": "markdown",
   "metadata": {},
   "source": [
    "### Step 7. Print the last elements of the data set."
   ]
  },
  {
   "cell_type": "code",
   "execution_count": 6,
   "metadata": {
    "collapsed": false
   },
   "outputs": [
    {
     "name": "stdout",
     "output_type": "stream",
     "text": [
      "    school sex  age address famsize Pstatus  Medu  Fedu      Mjob      Fjob  \\\n",
      "390     MS   M   20       U     LE3       A     2     2  services  services   \n",
      "391     MS   M   17       U     LE3       T     3     1  services  services   \n",
      "392     MS   M   21       R     GT3       T     1     1     other     other   \n",
      "393     MS   M   18       R     LE3       T     3     2  services     other   \n",
      "394     MS   M   19       U     LE3       T     1     1     other   at_home   \n",
      "\n",
      "     ... famrel freetime  goout  Dalc  Walc health absences  G1  G2  G3  \n",
      "390  ...      5        5      4     4     5      4       11   9   9   9  \n",
      "391  ...      2        4      5     3     4      2        3  14  16  16  \n",
      "392  ...      5        5      3     3     3      3        3  10   8   7  \n",
      "393  ...      4        4      1     3     4      5        0  11  12  10  \n",
      "394  ...      3        2      3     3     3      5        5   8   9   9  \n",
      "\n",
      "[5 rows x 33 columns]\n"
     ]
    }
   ],
   "source": [
    "print(df.tail())"
   ]
  },
  {
   "cell_type": "markdown",
   "metadata": {},
   "source": [
    "### Step 8. Did you notice the original dataframe is still lowercase? Why is that? Fix it and capitalize Mjob and Fjob."
   ]
  },
  {
   "cell_type": "code",
   "execution_count": 7,
   "metadata": {
    "collapsed": false
   },
   "outputs": [
    {
     "name": "stdout",
     "output_type": "stream",
     "text": [
      "      Mjob      Fjob\n",
      "0  At_home   Teacher\n",
      "1  At_home     Other\n",
      "2  At_home     Other\n",
      "3   Health  Services\n",
      "4    Other     Other\n"
     ]
    }
   ],
   "source": [
    "df['Mjob'] = df['Mjob'].apply(lambda x: x.capitalize())\n",
    "df['Fjob'] = df['Fjob'].apply(lambda x: x.capitalize())\n",
    "print(df[['Mjob', 'Fjob']].head())"
   ]
  },
  {
   "cell_type": "markdown",
   "metadata": {},
   "source": [
    "### Step 9. Create a function called majority that returns a boolean value to a new column called legal_drinker (Consider majority as older than 17 years old)"
   ]
  },
  {
   "cell_type": "code",
   "execution_count": 8,
   "metadata": {
    "collapsed": false
   },
   "outputs": [],
   "source": [
    "def majority(age):\n",
    "    return age > 17\n",
    "df['legal_drinker'] = df['age'].apply(majority)"
   ]
  },
  {
   "cell_type": "code",
   "execution_count": 9,
   "metadata": {
    "collapsed": false
   },
   "outputs": [
    {
     "name": "stdout",
     "output_type": "stream",
     "text": [
      "   age  legal_drinker\n",
      "0   18           True\n",
      "1   17          False\n",
      "2   15          False\n",
      "3   15          False\n",
      "4   16          False\n"
     ]
    }
   ],
   "source": [
    "print(df[['age', 'legal_drinker']].head())"
   ]
  },
  {
   "cell_type": "markdown",
   "metadata": {},
   "source": [
    "### Step 10. Multiply every number of the dataset by 10. \n",
    "##### I know this makes no sense, don't forget it is just an exercise"
   ]
  },
  {
   "cell_type": "code",
   "execution_count": 10,
   "metadata": {
    "collapsed": false
   },
   "outputs": [
    {
     "name": "stdout",
     "output_type": "stream",
     "text": [
      "     age  Medu  Fedu  traveltime  studytime  failures  famrel  freetime  \\\n",
      "0    180    40    40          20         20         0      40        30   \n",
      "1    170    10    10          10         20         0      50        30   \n",
      "2    150    10    10          10         20        30      40        30   \n",
      "3    150    40    20          10         30         0      30        20   \n",
      "4    160    30    30          10         20         0      40        30   \n",
      "..   ...   ...   ...         ...        ...       ...     ...       ...   \n",
      "390  200    20    20          10         20        20      50        50   \n",
      "391  170    30    10          20         10         0      20        40   \n",
      "392  210    10    10          10         10        30      50        50   \n",
      "393  180    30    20          30         10         0      40        40   \n",
      "394  190    10    10          10         10         0      30        20   \n",
      "\n",
      "     goout  Dalc  Walc  health  absences   G1   G2   G3  \n",
      "0       40    10    10      30        60   50   60   60  \n",
      "1       30    10    10      30        40   50   50   60  \n",
      "2       20    20    30      30       100   70   80  100  \n",
      "3       20    10    10      50        20  150  140  150  \n",
      "4       20    10    20      50        40   60  100  100  \n",
      "..     ...   ...   ...     ...       ...  ...  ...  ...  \n",
      "390     40    40    50      40       110   90   90   90  \n",
      "391     50    30    40      20        30  140  160  160  \n",
      "392     30    30    30      30        30  100   80   70  \n",
      "393     10    30    40      50         0  110  120  100  \n",
      "394     30    30    30      50        50   80   90   90  \n",
      "\n",
      "[395 rows x 16 columns]\n"
     ]
    },
    {
     "name": "stderr",
     "output_type": "stream",
     "text": [
      "C:\\Users\\Dell\\AppData\\Local\\Temp\\ipykernel_19228\\2459465726.py:1: FutureWarning: DataFrame.applymap has been deprecated. Use DataFrame.map instead.\n",
      "  print(df.select_dtypes(include='number').applymap(lambda x: x * 10))\n"
     ]
    }
   ],
   "source": [
    "print(df.select_dtypes(include='number').applymap(lambda x: x * 10))"
   ]
  },
  {
   "cell_type": "code",
   "execution_count": 11,
   "metadata": {
    "collapsed": false
   },
   "outputs": [
    {
     "name": "stdout",
     "output_type": "stream",
     "text": [
      "  school sex  age address famsize Pstatus  Medu  Fedu     Mjob      Fjob  ...  \\\n",
      "0     GP   F   18       U     GT3       A     4     4  At_home   Teacher  ...   \n",
      "1     GP   F   17       U     GT3       T     1     1  At_home     Other  ...   \n",
      "2     GP   F   15       U     LE3       T     1     1  At_home     Other  ...   \n",
      "3     GP   F   15       U     GT3       T     4     2   Health  Services  ...   \n",
      "4     GP   F   16       U     GT3       T     3     3    Other     Other  ...   \n",
      "\n",
      "  freetime goout  Dalc  Walc  health absences  G1  G2  G3 legal_drinker  \n",
      "0        3     4     1     1       3        6   5   6   6          True  \n",
      "1        3     3     1     1       3        4   5   5   6         False  \n",
      "2        3     2     2     3       3       10   7   8  10         False  \n",
      "3        2     2     1     1       5        2  15  14  15         False  \n",
      "4        3     2     1     2       5        4   6  10  10         False  \n",
      "\n",
      "[5 rows x 34 columns]\n"
     ]
    }
   ],
   "source": [
    "print(df.head())"
   ]
  }
 ],
 "metadata": {
  "anaconda-cloud": {},
  "kernelspec": {
   "display_name": "base",
   "language": "python",
   "name": "python3"
  },
  "language_info": {
   "codemirror_mode": {
    "name": "ipython",
    "version": 3
   },
   "file_extension": ".py",
   "mimetype": "text/x-python",
   "name": "python",
   "nbconvert_exporter": "python",
   "pygments_lexer": "ipython3",
   "version": "3.12.4"
  }
 },
 "nbformat": 4,
 "nbformat_minor": 0
}
