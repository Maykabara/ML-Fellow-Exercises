{
 "cells": [
  {
   "cell_type": "markdown",
   "metadata": {},
   "source": [
    "# United States - Crime Rates - 1960 - 2014"
   ]
  },
  {
   "cell_type": "markdown",
   "metadata": {},
   "source": [
    "### Introduction:\n",
    "\n",
    "This time you will create a data \n",
    "\n",
    "Special thanks to: https://github.com/justmarkham for sharing the dataset and materials.\n",
    "\n",
    "### Step 1. Import the necessary libraries"
   ]
  },
  {
   "cell_type": "code",
   "execution_count": 1,
   "metadata": {
    "collapsed": false
   },
   "outputs": [],
   "source": [
    "import pandas as pd"
   ]
  },
  {
   "cell_type": "markdown",
   "metadata": {},
   "source": [
    "### Step 2. Import the dataset from this [address](https://raw.githubusercontent.com/guipsamora/pandas_exercises/master/04_Apply/US_Crime_Rates/US_Crime_Rates_1960_2014.csv). "
   ]
  },
  {
   "cell_type": "markdown",
   "metadata": {},
   "source": [
    "### Step 3. Assign it to a variable called crime."
   ]
  },
  {
   "cell_type": "code",
   "execution_count": 2,
   "metadata": {
    "collapsed": false
   },
   "outputs": [],
   "source": [
    "crime = pd.read_csv('https://raw.githubusercontent.com/guipsamora/pandas_exercises/master/04_Apply/US_Crime_Rates/US_Crime_Rates_1960_2014.csv')"
   ]
  },
  {
   "cell_type": "markdown",
   "metadata": {},
   "source": [
    "### Step 4. What is the type of the columns?"
   ]
  },
  {
   "cell_type": "code",
   "execution_count": 3,
   "metadata": {
    "collapsed": false
   },
   "outputs": [
    {
     "name": "stdout",
     "output_type": "stream",
     "text": [
      "Year                  int64\n",
      "Population            int64\n",
      "Total                 int64\n",
      "Violent               int64\n",
      "Property              int64\n",
      "Murder                int64\n",
      "Forcible_Rape         int64\n",
      "Robbery               int64\n",
      "Aggravated_assault    int64\n",
      "Burglary              int64\n",
      "Larceny_Theft         int64\n",
      "Vehicle_Theft         int64\n",
      "dtype: object\n"
     ]
    }
   ],
   "source": [
    "print(crime.dtypes)"
   ]
  },
  {
   "cell_type": "markdown",
   "metadata": {},
   "source": [
    "##### Have you noticed that the type of Year is int64. But pandas has a different type to work with Time Series. Let's see it now.\n",
    "\n",
    "### Step 5. Convert the type of the column Year to datetime64"
   ]
  },
  {
   "cell_type": "code",
   "execution_count": 4,
   "metadata": {
    "collapsed": false
   },
   "outputs": [
    {
     "name": "stdout",
     "output_type": "stream",
     "text": [
      "Year                  datetime64[ns]\n",
      "Population                     int64\n",
      "Total                          int64\n",
      "Violent                        int64\n",
      "Property                       int64\n",
      "Murder                         int64\n",
      "Forcible_Rape                  int64\n",
      "Robbery                        int64\n",
      "Aggravated_assault             int64\n",
      "Burglary                       int64\n",
      "Larceny_Theft                  int64\n",
      "Vehicle_Theft                  int64\n",
      "dtype: object\n"
     ]
    }
   ],
   "source": [
    "crime['Year'] = pd.to_datetime(crime['Year'], format='%Y')\n",
    "print(crime.dtypes)"
   ]
  },
  {
   "cell_type": "markdown",
   "metadata": {},
   "source": [
    "### Step 6. Set the Year column as the index of the dataframe"
   ]
  },
  {
   "cell_type": "code",
   "execution_count": 5,
   "metadata": {
    "collapsed": false
   },
   "outputs": [
    {
     "name": "stdout",
     "output_type": "stream",
     "text": [
      "            Population    Total  Violent  Property  Murder  Forcible_Rape  \\\n",
      "Year                                                                        \n",
      "1960-01-01   179323175  3384200   288460   3095700    9110          17190   \n",
      "1961-01-01   182992000  3488000   289390   3198600    8740          17220   \n",
      "1962-01-01   185771000  3752200   301510   3450700    8530          17550   \n",
      "1963-01-01   188483000  4109500   316970   3792500    8640          17650   \n",
      "1964-01-01   191141000  4564600   364220   4200400    9360          21420   \n",
      "\n",
      "            Robbery  Aggravated_assault  Burglary  Larceny_Theft  \\\n",
      "Year                                                               \n",
      "1960-01-01   107840              154320    912100        1855400   \n",
      "1961-01-01   106670              156760    949600        1913000   \n",
      "1962-01-01   110860              164570    994300        2089600   \n",
      "1963-01-01   116470              174210   1086400        2297800   \n",
      "1964-01-01   130390              203050   1213200        2514400   \n",
      "\n",
      "            Vehicle_Theft  \n",
      "Year                       \n",
      "1960-01-01         328200  \n",
      "1961-01-01         336000  \n",
      "1962-01-01         366800  \n",
      "1963-01-01         408300  \n",
      "1964-01-01         472800  \n"
     ]
    }
   ],
   "source": [
    "crime = crime.set_index('Year')\n",
    "print(crime.head())"
   ]
  },
  {
   "cell_type": "markdown",
   "metadata": {},
   "source": [
    "### Step 7. Delete the Total column"
   ]
  },
  {
   "cell_type": "code",
   "execution_count": 6,
   "metadata": {
    "collapsed": false
   },
   "outputs": [
    {
     "name": "stdout",
     "output_type": "stream",
     "text": [
      "            Population  Violent  Property  Murder  Forcible_Rape  Robbery  \\\n",
      "Year                                                                        \n",
      "1960-01-01   179323175   288460   3095700    9110          17190   107840   \n",
      "1961-01-01   182992000   289390   3198600    8740          17220   106670   \n",
      "1962-01-01   185771000   301510   3450700    8530          17550   110860   \n",
      "1963-01-01   188483000   316970   3792500    8640          17650   116470   \n",
      "1964-01-01   191141000   364220   4200400    9360          21420   130390   \n",
      "\n",
      "            Aggravated_assault  Burglary  Larceny_Theft  Vehicle_Theft  \n",
      "Year                                                                    \n",
      "1960-01-01              154320    912100        1855400         328200  \n",
      "1961-01-01              156760    949600        1913000         336000  \n",
      "1962-01-01              164570    994300        2089600         366800  \n",
      "1963-01-01              174210   1086400        2297800         408300  \n",
      "1964-01-01              203050   1213200        2514400         472800  \n"
     ]
    }
   ],
   "source": [
    "crime = crime.drop('Total', axis=1)\n",
    "print(crime.head())"
   ]
  },
  {
   "cell_type": "markdown",
   "metadata": {},
   "source": [
    "### Step 8. Group the year by decades and sum the values\n",
    "\n",
    "#### Pay attention to the Population column number, summing this column is a mistake"
   ]
  },
  {
   "cell_type": "code",
   "execution_count": 7,
   "metadata": {
    "collapsed": false,
    "scrolled": true
   },
   "outputs": [
    {
     "name": "stdout",
     "output_type": "stream",
     "text": [
      "         Violent   Property  Murder  Forcible_Rape  Robbery  \\\n",
      "decade                                                        \n",
      "1960s    4134930   45160900  106180         236720  1633510   \n",
      "1970s    9607930   91383800  192230         554570  4159020   \n",
      "1980s   14074328  117048900  206439         865639  5383109   \n",
      "1990s   17527048  119053499  211664         998827  5748930   \n",
      "2000s   13968056  100944369  163068         922499  4230366   \n",
      "2010s    6072017   44095950   72867         421059  1749809   \n",
      "\n",
      "        Aggravated_assault  Burglary  Larceny_Theft  Vehicle_Theft  Population  \n",
      "decade                                                                          \n",
      "1960s              2158520  13321100       26547700        5292100   201385000  \n",
      "1970s              4702120  28486000       53157800        9739900   220099000  \n",
      "1980s              7619130  33073494       72040253       11935411   248239000  \n",
      "1990s             10568963  26750015       77679366       14624418   272690813  \n",
      "2000s              8652124  21565176       67970291       11412834   307006550  \n",
      "2010s              3764142  10125170       30401698        3569080   318857056  \n",
      "\n"
     ]
    }
   ],
   "source": [
    "def decade(dt):\n",
    "    return f\"{dt.year//10*10}s\"\n",
    "crime_grouped = crime.copy()\n",
    "crime_grouped['decade'] = crime_grouped.index.to_series().apply(decade)\n",
    "agg_dict = {col: 'sum' for col in crime_grouped.columns if col not in ['Population', 'decade']}\n",
    "agg_dict['Population'] = 'last'\n",
    "print(crime_grouped.groupby('decade').agg(agg_dict))"
   ]
  },
  {
   "cell_type": "markdown",
   "metadata": {},
   "source": [
    "### Step 9. What is the most dangerous decade to live in the US?"
   ]
  },
  {
   "cell_type": "code",
   "execution_count": 8,
   "metadata": {
    "collapsed": false
   },
   "outputs": [
    {
     "name": "stdout",
     "output_type": "stream",
     "text": [
      "1990s\n"
     ]
    }
   ],
   "source": [
    "crime_grouped = crime.copy()\n",
    "crime_grouped['decade'] = crime_grouped.index.to_series().apply(lambda dt: f\"{dt.year//10*10}s\")\n",
    "agg_dict = {col: 'sum' for col in crime_grouped.columns if col not in ['Population', 'decade']}\n",
    "agg_dict['Population'] = 'last'\n",
    "decade_crime = crime_grouped.groupby('decade').agg(agg_dict)\n",
    "print(decade_crime.sum(axis=1).idxmax())"
   ]
  }
 ],
 "metadata": {
  "anaconda-cloud": {},
  "kernelspec": {
   "display_name": "base",
   "language": "python",
   "name": "python3"
  },
  "language_info": {
   "codemirror_mode": {
    "name": "ipython",
    "version": 3
   },
   "file_extension": ".py",
   "mimetype": "text/x-python",
   "name": "python",
   "nbconvert_exporter": "python",
   "pygments_lexer": "ipython3",
   "version": "3.12.4"
  }
 },
 "nbformat": 4,
 "nbformat_minor": 0
}
